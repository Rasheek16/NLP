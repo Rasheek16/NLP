{
 "cells": [
  {
   "cell_type": "code",
   "execution_count": 126,
   "metadata": {},
   "outputs": [
    {
     "name": "stdout",
     "output_type": "stream",
     "text": [
      "Thu Sep 12 11:13:37 2024       \n",
      "+---------------------------------------------------------------------------------------+\n",
      "| NVIDIA-SMI 535.183.01             Driver Version: 535.183.01   CUDA Version: 12.2     |\n",
      "|-----------------------------------------+----------------------+----------------------+\n",
      "| GPU  Name                 Persistence-M | Bus-Id        Disp.A | Volatile Uncorr. ECC |\n",
      "| Fan  Temp   Perf          Pwr:Usage/Cap |         Memory-Usage | GPU-Util  Compute M. |\n",
      "|                                         |                      |               MIG M. |\n",
      "|=========================================+======================+======================|\n",
      "|   0  NVIDIA GeForce GTX 1660 ...    Off | 00000000:01:00.0 Off |                  N/A |\n",
      "| N/A   45C    P8               4W /  30W |      8MiB /  6144MiB |      0%      Default |\n",
      "|                                         |                      |                  N/A |\n",
      "+-----------------------------------------+----------------------+----------------------+\n",
      "                                                                                         \n",
      "+---------------------------------------------------------------------------------------+\n",
      "| Processes:                                                                            |\n",
      "|  GPU   GI   CI        PID   Type   Process name                            GPU Memory |\n",
      "|        ID   ID                                                             Usage      |\n",
      "|=======================================================================================|\n",
      "|    0   N/A  N/A      2907      G   /usr/lib/xorg/Xorg                            4MiB |\n",
      "+---------------------------------------------------------------------------------------+\n"
     ]
    }
   ],
   "source": [
    "!nvidia-smi"
   ]
  },
  {
   "cell_type": "code",
   "execution_count": 127,
   "metadata": {},
   "outputs": [],
   "source": [
    "import tensorflow as tf\n",
    "from helper_functions import unzip_data, create_tensorboard_callback,plot_loss_curves,compare_historys"
   ]
  },
  {
   "cell_type": "code",
   "execution_count": 128,
   "metadata": {},
   "outputs": [],
   "source": [
    "unzip_data('nlp-getting-started.zip')"
   ]
  },
  {
   "cell_type": "code",
   "execution_count": 129,
   "metadata": {},
   "outputs": [],
   "source": [
    "import pandas as pd"
   ]
  },
  {
   "cell_type": "code",
   "execution_count": 130,
   "metadata": {},
   "outputs": [
    {
     "data": {
      "text/plain": [
       "'Forest fire near La Ronge Sask. Canada'"
      ]
     },
     "execution_count": 130,
     "metadata": {},
     "output_type": "execute_result"
    }
   ],
   "source": [
    "train_df = pd.read_csv('train.csv')\n",
    "test_df = pd.read_csv('test.csv')\n",
    "train_df.head()\n",
    "train_df[\"text\"][1]\n"
   ]
  },
  {
   "cell_type": "code",
   "execution_count": 131,
   "metadata": {},
   "outputs": [],
   "source": [
    "train_df_shuffled = train_df.sample(frac=1,random_state=42)"
   ]
  },
  {
   "cell_type": "code",
   "execution_count": 132,
   "metadata": {},
   "outputs": [
    {
     "data": {
      "text/html": [
       "<div>\n",
       "<style scoped>\n",
       "    .dataframe tbody tr th:only-of-type {\n",
       "        vertical-align: middle;\n",
       "    }\n",
       "\n",
       "    .dataframe tbody tr th {\n",
       "        vertical-align: top;\n",
       "    }\n",
       "\n",
       "    .dataframe thead th {\n",
       "        text-align: right;\n",
       "    }\n",
       "</style>\n",
       "<table border=\"1\" class=\"dataframe\">\n",
       "  <thead>\n",
       "    <tr style=\"text-align: right;\">\n",
       "      <th></th>\n",
       "      <th>id</th>\n",
       "      <th>keyword</th>\n",
       "      <th>location</th>\n",
       "      <th>text</th>\n",
       "    </tr>\n",
       "  </thead>\n",
       "  <tbody>\n",
       "    <tr>\n",
       "      <th>0</th>\n",
       "      <td>0</td>\n",
       "      <td>NaN</td>\n",
       "      <td>NaN</td>\n",
       "      <td>Just happened a terrible car crash</td>\n",
       "    </tr>\n",
       "    <tr>\n",
       "      <th>1</th>\n",
       "      <td>2</td>\n",
       "      <td>NaN</td>\n",
       "      <td>NaN</td>\n",
       "      <td>Heard about #earthquake is different cities, s...</td>\n",
       "    </tr>\n",
       "    <tr>\n",
       "      <th>2</th>\n",
       "      <td>3</td>\n",
       "      <td>NaN</td>\n",
       "      <td>NaN</td>\n",
       "      <td>there is a forest fire at spot pond, geese are...</td>\n",
       "    </tr>\n",
       "    <tr>\n",
       "      <th>3</th>\n",
       "      <td>9</td>\n",
       "      <td>NaN</td>\n",
       "      <td>NaN</td>\n",
       "      <td>Apocalypse lighting. #Spokane #wildfires</td>\n",
       "    </tr>\n",
       "    <tr>\n",
       "      <th>4</th>\n",
       "      <td>11</td>\n",
       "      <td>NaN</td>\n",
       "      <td>NaN</td>\n",
       "      <td>Typhoon Soudelor kills 28 in China and Taiwan</td>\n",
       "    </tr>\n",
       "  </tbody>\n",
       "</table>\n",
       "</div>"
      ],
      "text/plain": [
       "   id keyword location                                               text\n",
       "0   0     NaN      NaN                 Just happened a terrible car crash\n",
       "1   2     NaN      NaN  Heard about #earthquake is different cities, s...\n",
       "2   3     NaN      NaN  there is a forest fire at spot pond, geese are...\n",
       "3   9     NaN      NaN           Apocalypse lighting. #Spokane #wildfires\n",
       "4  11     NaN      NaN      Typhoon Soudelor kills 28 in China and Taiwan"
      ]
     },
     "execution_count": 132,
     "metadata": {},
     "output_type": "execute_result"
    }
   ],
   "source": [
    "test_df.head()"
   ]
  },
  {
   "cell_type": "code",
   "execution_count": 133,
   "metadata": {},
   "outputs": [
    {
     "data": {
      "text/plain": [
       "target\n",
       "0    4342\n",
       "1    3271\n",
       "Name: count, dtype: int64"
      ]
     },
     "execution_count": 133,
     "metadata": {},
     "output_type": "execute_result"
    }
   ],
   "source": [
    "train_df.target.value_counts()"
   ]
  },
  {
   "cell_type": "code",
   "execution_count": 134,
   "metadata": {},
   "outputs": [
    {
     "data": {
      "text/plain": [
       "(7613, 3263)"
      ]
     },
     "execution_count": 134,
     "metadata": {},
     "output_type": "execute_result"
    }
   ],
   "source": [
    "len(train_df),len(test_df)"
   ]
  },
  {
   "cell_type": "code",
   "execution_count": 135,
   "metadata": {},
   "outputs": [
    {
     "name": "stdout",
     "output_type": "stream",
     "text": [
      "Target:1 (real disaster)\n",
      "Text :Today (August 6th) is the 70th anniversary of A-Bomb 'Little Boy' been dropped on Hiroshima.70000 killed outright as the city was flattened\n",
      "\n",
      "\n",
      "Target:1 (real disaster)\n",
      "Text :ÛÏRichmond Coaches were devastated to hear of the death of their second driver Mr Chance who was sittingÛ_: Jam... http://t.co/y5Yhbb0hkf\n",
      "\n",
      "\n",
      "Target:1 (real disaster)\n",
      "Text :Legionnaires' Disease: What's Being Done to Stop Deadly Outbreak: The worst-ever outbreak of Legio... http://t.co/0ubG9wFyge #losangeles\n",
      "\n",
      "\n",
      "Target:1 (real disaster)\n",
      "Text :CTD arrest three vital criminals from Orangi: KARACHI: Counter-Terrorism Department (CTD) of the Sindh Police ... http://t.co/Le4brduau9\n",
      "\n",
      "\n",
      "Target:1 (real disaster)\n",
      "Text :when a monster truck racer catches on fire at the fair\n",
      "\n",
      "\n"
     ]
    }
   ],
   "source": [
    "import random\n",
    "random_index = random.randint(0,len(train_df)-5)\n",
    "for row in train_df_shuffled[[\"text\",\"target\"]][random_index:random_index+5].itertuples():\n",
    "    _,text,target = row\n",
    "    print(f\"Target:{target}\",\"(real disaster)\" if target>0 else \"(not rela disaster)\")\n",
    "    print(f\"Text :{text}\")\n",
    "    print('\\n')\n",
    "    "
   ]
  },
  {
   "cell_type": "code",
   "execution_count": 136,
   "metadata": {},
   "outputs": [],
   "source": [
    "from sklearn.model_selection import train_test_split\n",
    "\n",
    "train_sentences,val_sentences,train_labels,val_labels=train_test_split(train_df_shuffled[\"text\"].to_numpy(),\n",
    "                                                                       train_df_shuffled[\"target\"].to_numpy(),\n",
    "                                                                       test_size = 0.1,\n",
    "                                                                       random_state=42)\n"
   ]
  },
  {
   "cell_type": "code",
   "execution_count": 137,
   "metadata": {},
   "outputs": [
    {
     "data": {
      "text/plain": [
       "(array(['@mogacola @zamtriossu i screamed after hitting tweet',\n",
       "        'Imagine getting flattened by Kurt Zouma',\n",
       "        '@Gurmeetramrahim #MSGDoing111WelfareWorks Green S welfare force ke appx 65000 members har time disaster victim ki help ke liye tyar hai....',\n",
       "        \"@shakjn @C7 @Magnums im shaking in fear he's gonna hack the planet\",\n",
       "        'Somehow find you and I collide http://t.co/Ee8RpOahPk',\n",
       "        '@EvaHanderek @MarleyKnysh great times until the bus driver held us hostage in the mall parking lot lmfao',\n",
       "        'destroy the free fandom honestly',\n",
       "        'Weapons stolen from National Guard Armory in New Albany still missing #Gunsense http://t.co/lKNU8902JE',\n",
       "        '@wfaaweather Pete when will the heat wave pass? Is it really going to be mid month? Frisco Boy Scouts have a canoe trip in Okla.',\n",
       "        'Patient-reported outcomes in long-term survivors of metastatic colorectal cancer - British Journal of Surgery http://t.co/5Yl4DC1Tqt'],\n",
       "       dtype=object),\n",
       " array([0, 0, 1, 0, 0, 1, 1, 0, 1, 1]))"
      ]
     },
     "execution_count": 137,
     "metadata": {},
     "output_type": "execute_result"
    }
   ],
   "source": [
    "train_sentences[:10],train_labels[:10]"
   ]
  },
  {
   "cell_type": "code",
   "execution_count": 138,
   "metadata": {},
   "outputs": [
    {
     "data": {
      "text/plain": [
       "array(['@mogacola @zamtriossu i screamed after hitting tweet',\n",
       "       'Imagine getting flattened by Kurt Zouma',\n",
       "       '@Gurmeetramrahim #MSGDoing111WelfareWorks Green S welfare force ke appx 65000 members har time disaster victim ki help ke liye tyar hai....',\n",
       "       ...,\n",
       "       'Near them on the sand half sunk a shattered visage lies... http://t.co/0kCCG1BT06',\n",
       "       \"kesabaran membuahkan hasil indah pada saat tepat! life isn't about waiting for the storm to pass it's about learning to dance in the rain.\",\n",
       "       \"@ScottDPierce @billharris_tv @HarrisGle @Beezersun I'm forfeiting this years fantasy football pool out of fear I may win n get my ass kicked\"],\n",
       "      dtype=object)"
      ]
     },
     "execution_count": 138,
     "metadata": {},
     "output_type": "execute_result"
    }
   ],
   "source": [
    "train_sentences"
   ]
  },
  {
   "cell_type": "code",
   "execution_count": 139,
   "metadata": {},
   "outputs": [],
   "source": [
    "from tensorflow.keras.layers import TextVectorization"
   ]
  },
  {
   "cell_type": "code",
   "execution_count": 140,
   "metadata": {},
   "outputs": [
    {
     "data": {
      "text/plain": [
       "15"
      ]
     },
     "execution_count": 140,
     "metadata": {},
     "output_type": "execute_result"
    }
   ],
   "source": [
    "round(sum([len(i.split()) for i in train_sentences])/len(train_sentences))"
   ]
  },
  {
   "cell_type": "code",
   "execution_count": 141,
   "metadata": {},
   "outputs": [],
   "source": [
    "max_vocab_length = 10000\n",
    "max_length = 15\n",
    "\n",
    "text_vectorizer = TextVectorization(\n",
    "    max_tokens=max_vocab_length,\n",
    "    standardize=\"lower_and_strip_punctuation\",\n",
    "    split = \"whitespace\",\n",
    "    ngrams= None,\n",
    "    output_mode = 'int',\n",
    "    output_sequence_length = max_length,\n",
    "    pad_to_max_tokens = True,\n",
    ")\n"
   ]
  },
  {
   "cell_type": "code",
   "execution_count": 142,
   "metadata": {},
   "outputs": [],
   "source": [
    "text_vectorizer.adapt(train_sentences)"
   ]
  },
  {
   "cell_type": "code",
   "execution_count": 143,
   "metadata": {},
   "outputs": [
    {
     "data": {
      "text/plain": [
       "<tf.Tensor: shape=(1, 15), dtype=int64, numpy=\n",
       "array([[1400,  107,    0,    0,    0,    0,    0,    0,    0,    0,    0,\n",
       "           0,    0,    0,    0]])>"
      ]
     },
     "execution_count": 143,
     "metadata": {},
     "output_type": "execute_result"
    }
   ],
   "source": [
    "sample_sentence = \"hello world\"\n",
    "text_vectorizer([sample_sentence])"
   ]
  },
  {
   "cell_type": "code",
   "execution_count": 144,
   "metadata": {},
   "outputs": [
    {
     "name": "stdout",
     "output_type": "stream",
     "text": [
      "@emaaalay thank you. ?? now I don't have a city wide curfew. ????\n"
     ]
    },
    {
     "data": {
      "text/plain": [
       "<tf.Tensor: shape=(15,), dtype=int64, numpy=\n",
       "array([   1,  449,   12,   48,    8,   63,   24,    3,  182, 4248,  378,\n",
       "          0,    0,    0,    0])>"
      ]
     },
     "execution_count": 144,
     "metadata": {},
     "output_type": "execute_result"
    }
   ],
   "source": [
    "random_sentence = random.choice(train_sentences)\n",
    "print(random_sentence)\n",
    "text_vectorizer(random_sentence)"
   ]
  },
  {
   "cell_type": "code",
   "execution_count": 145,
   "metadata": {},
   "outputs": [
    {
     "data": {
      "text/plain": [
       "(10000,\n",
       " ['', '[UNK]', 'the', 'a', 'in'],\n",
       " ['pages', 'paeds', 'pads', 'padres', 'paddytomlinson1'])"
      ]
     },
     "execution_count": 145,
     "metadata": {},
     "output_type": "execute_result"
    }
   ],
   "source": [
    "words_in_vocabulary =  text_vectorizer.get_vocabulary()\n",
    "top_5_words = words_in_vocabulary[:5]\n",
    "bottom_5_words = words_in_vocabulary[-5:]\n",
    "len(words_in_vocabulary),top_5_words,bottom_5_words"
   ]
  },
  {
   "cell_type": "code",
   "execution_count": 146,
   "metadata": {},
   "outputs": [
    {
     "name": "stderr",
     "output_type": "stream",
     "text": [
      "/home/rasheek/Desktop/Github/NLP/NLP_fundamentals/tf/lib/python3.12/site-packages/keras/src/layers/core/embedding.py:90: UserWarning: Argument `input_length` is deprecated. Just remove it.\n",
      "  warnings.warn(\n"
     ]
    },
    {
     "data": {
      "text/plain": [
       "<Embedding name=embedding_1, built=False>"
      ]
     },
     "execution_count": 146,
     "metadata": {},
     "output_type": "execute_result"
    }
   ],
   "source": [
    "# from tensorflow.keras import layers\n",
    "\n",
    "tf.random.set_seed(42)\n",
    "from tensorflow.keras import layers\n",
    "\n",
    "embeddings = layers.Embedding(input_dim=max_vocab_length, # set input shape\n",
    "                             output_dim=128, # set size of embedding vector\n",
    "                             embeddings_initializer=\"uniform\", # default, intialize randomly\n",
    "                             input_length=max_length, # how long is each input\n",
    "                             name=\"embedding_1\") \n",
    "\n",
    "embeddings"
   ]
  },
  {
   "cell_type": "code",
   "execution_count": 147,
   "metadata": {},
   "outputs": [
    {
     "name": "stdout",
     "output_type": "stream",
     "text": [
      "@Snazzychipz OMG... WHAT IS THE SUB WEAPON\n",
      "\n",
      "\n",
      "embedded version\n"
     ]
    },
    {
     "data": {
      "text/plain": [
       "<tf.Tensor: shape=(1, 15, 128), dtype=float32, numpy=\n",
       "array([[[ 3.6066536e-02,  9.4766840e-03, -8.3900988e-05, ...,\n",
       "         -4.6096217e-02,  1.6818214e-02, -4.9287498e-02],\n",
       "        [ 2.5978807e-02,  3.2574307e-02, -2.5332797e-02, ...,\n",
       "          4.8150767e-02,  3.5608839e-02, -1.5054025e-02],\n",
       "        [ 3.6931325e-02, -2.2440804e-02, -2.9876292e-02, ...,\n",
       "          2.4503138e-02,  4.2801116e-02, -2.9451836e-02],\n",
       "        ...,\n",
       "        [-3.9189767e-02, -4.3304324e-02, -6.4241886e-04, ...,\n",
       "         -5.7606697e-03,  1.8675353e-02, -1.8110514e-02],\n",
       "        [-3.9189767e-02, -4.3304324e-02, -6.4241886e-04, ...,\n",
       "         -5.7606697e-03,  1.8675353e-02, -1.8110514e-02],\n",
       "        [-3.9189767e-02, -4.3304324e-02, -6.4241886e-04, ...,\n",
       "         -5.7606697e-03,  1.8675353e-02, -1.8110514e-02]]], dtype=float32)>"
      ]
     },
     "execution_count": 147,
     "metadata": {},
     "output_type": "execute_result"
    }
   ],
   "source": [
    "random_sentence = random.choice(train_sentences)\n",
    "print(random_sentence)\n",
    "print(\"\\n\")\n",
    "print(\"embedded version\")\n",
    "embeddings(text_vectorizer([random_sentence]))"
   ]
  },
  {
   "cell_type": "code",
   "execution_count": 148,
   "metadata": {},
   "outputs": [
    {
     "data": {
      "text/html": [
       "<style>#sk-container-id-3 {\n",
       "  /* Definition of color scheme common for light and dark mode */\n",
       "  --sklearn-color-text: black;\n",
       "  --sklearn-color-line: gray;\n",
       "  /* Definition of color scheme for unfitted estimators */\n",
       "  --sklearn-color-unfitted-level-0: #fff5e6;\n",
       "  --sklearn-color-unfitted-level-1: #f6e4d2;\n",
       "  --sklearn-color-unfitted-level-2: #ffe0b3;\n",
       "  --sklearn-color-unfitted-level-3: chocolate;\n",
       "  /* Definition of color scheme for fitted estimators */\n",
       "  --sklearn-color-fitted-level-0: #f0f8ff;\n",
       "  --sklearn-color-fitted-level-1: #d4ebff;\n",
       "  --sklearn-color-fitted-level-2: #b3dbfd;\n",
       "  --sklearn-color-fitted-level-3: cornflowerblue;\n",
       "\n",
       "  /* Specific color for light theme */\n",
       "  --sklearn-color-text-on-default-background: var(--sg-text-color, var(--theme-code-foreground, var(--jp-content-font-color1, black)));\n",
       "  --sklearn-color-background: var(--sg-background-color, var(--theme-background, var(--jp-layout-color0, white)));\n",
       "  --sklearn-color-border-box: var(--sg-text-color, var(--theme-code-foreground, var(--jp-content-font-color1, black)));\n",
       "  --sklearn-color-icon: #696969;\n",
       "\n",
       "  @media (prefers-color-scheme: dark) {\n",
       "    /* Redefinition of color scheme for dark theme */\n",
       "    --sklearn-color-text-on-default-background: var(--sg-text-color, var(--theme-code-foreground, var(--jp-content-font-color1, white)));\n",
       "    --sklearn-color-background: var(--sg-background-color, var(--theme-background, var(--jp-layout-color0, #111)));\n",
       "    --sklearn-color-border-box: var(--sg-text-color, var(--theme-code-foreground, var(--jp-content-font-color1, white)));\n",
       "    --sklearn-color-icon: #878787;\n",
       "  }\n",
       "}\n",
       "\n",
       "#sk-container-id-3 {\n",
       "  color: var(--sklearn-color-text);\n",
       "}\n",
       "\n",
       "#sk-container-id-3 pre {\n",
       "  padding: 0;\n",
       "}\n",
       "\n",
       "#sk-container-id-3 input.sk-hidden--visually {\n",
       "  border: 0;\n",
       "  clip: rect(1px 1px 1px 1px);\n",
       "  clip: rect(1px, 1px, 1px, 1px);\n",
       "  height: 1px;\n",
       "  margin: -1px;\n",
       "  overflow: hidden;\n",
       "  padding: 0;\n",
       "  position: absolute;\n",
       "  width: 1px;\n",
       "}\n",
       "\n",
       "#sk-container-id-3 div.sk-dashed-wrapped {\n",
       "  border: 1px dashed var(--sklearn-color-line);\n",
       "  margin: 0 0.4em 0.5em 0.4em;\n",
       "  box-sizing: border-box;\n",
       "  padding-bottom: 0.4em;\n",
       "  background-color: var(--sklearn-color-background);\n",
       "}\n",
       "\n",
       "#sk-container-id-3 div.sk-container {\n",
       "  /* jupyter's `normalize.less` sets `[hidden] { display: none; }`\n",
       "     but bootstrap.min.css set `[hidden] { display: none !important; }`\n",
       "     so we also need the `!important` here to be able to override the\n",
       "     default hidden behavior on the sphinx rendered scikit-learn.org.\n",
       "     See: https://github.com/scikit-learn/scikit-learn/issues/21755 */\n",
       "  display: inline-block !important;\n",
       "  position: relative;\n",
       "}\n",
       "\n",
       "#sk-container-id-3 div.sk-text-repr-fallback {\n",
       "  display: none;\n",
       "}\n",
       "\n",
       "div.sk-parallel-item,\n",
       "div.sk-serial,\n",
       "div.sk-item {\n",
       "  /* draw centered vertical line to link estimators */\n",
       "  background-image: linear-gradient(var(--sklearn-color-text-on-default-background), var(--sklearn-color-text-on-default-background));\n",
       "  background-size: 2px 100%;\n",
       "  background-repeat: no-repeat;\n",
       "  background-position: center center;\n",
       "}\n",
       "\n",
       "/* Parallel-specific style estimator block */\n",
       "\n",
       "#sk-container-id-3 div.sk-parallel-item::after {\n",
       "  content: \"\";\n",
       "  width: 100%;\n",
       "  border-bottom: 2px solid var(--sklearn-color-text-on-default-background);\n",
       "  flex-grow: 1;\n",
       "}\n",
       "\n",
       "#sk-container-id-3 div.sk-parallel {\n",
       "  display: flex;\n",
       "  align-items: stretch;\n",
       "  justify-content: center;\n",
       "  background-color: var(--sklearn-color-background);\n",
       "  position: relative;\n",
       "}\n",
       "\n",
       "#sk-container-id-3 div.sk-parallel-item {\n",
       "  display: flex;\n",
       "  flex-direction: column;\n",
       "}\n",
       "\n",
       "#sk-container-id-3 div.sk-parallel-item:first-child::after {\n",
       "  align-self: flex-end;\n",
       "  width: 50%;\n",
       "}\n",
       "\n",
       "#sk-container-id-3 div.sk-parallel-item:last-child::after {\n",
       "  align-self: flex-start;\n",
       "  width: 50%;\n",
       "}\n",
       "\n",
       "#sk-container-id-3 div.sk-parallel-item:only-child::after {\n",
       "  width: 0;\n",
       "}\n",
       "\n",
       "/* Serial-specific style estimator block */\n",
       "\n",
       "#sk-container-id-3 div.sk-serial {\n",
       "  display: flex;\n",
       "  flex-direction: column;\n",
       "  align-items: center;\n",
       "  background-color: var(--sklearn-color-background);\n",
       "  padding-right: 1em;\n",
       "  padding-left: 1em;\n",
       "}\n",
       "\n",
       "\n",
       "/* Toggleable style: style used for estimator/Pipeline/ColumnTransformer box that is\n",
       "clickable and can be expanded/collapsed.\n",
       "- Pipeline and ColumnTransformer use this feature and define the default style\n",
       "- Estimators will overwrite some part of the style using the `sk-estimator` class\n",
       "*/\n",
       "\n",
       "/* Pipeline and ColumnTransformer style (default) */\n",
       "\n",
       "#sk-container-id-3 div.sk-toggleable {\n",
       "  /* Default theme specific background. It is overwritten whether we have a\n",
       "  specific estimator or a Pipeline/ColumnTransformer */\n",
       "  background-color: var(--sklearn-color-background);\n",
       "}\n",
       "\n",
       "/* Toggleable label */\n",
       "#sk-container-id-3 label.sk-toggleable__label {\n",
       "  cursor: pointer;\n",
       "  display: block;\n",
       "  width: 100%;\n",
       "  margin-bottom: 0;\n",
       "  padding: 0.5em;\n",
       "  box-sizing: border-box;\n",
       "  text-align: center;\n",
       "}\n",
       "\n",
       "#sk-container-id-3 label.sk-toggleable__label-arrow:before {\n",
       "  /* Arrow on the left of the label */\n",
       "  content: \"▸\";\n",
       "  float: left;\n",
       "  margin-right: 0.25em;\n",
       "  color: var(--sklearn-color-icon);\n",
       "}\n",
       "\n",
       "#sk-container-id-3 label.sk-toggleable__label-arrow:hover:before {\n",
       "  color: var(--sklearn-color-text);\n",
       "}\n",
       "\n",
       "/* Toggleable content - dropdown */\n",
       "\n",
       "#sk-container-id-3 div.sk-toggleable__content {\n",
       "  max-height: 0;\n",
       "  max-width: 0;\n",
       "  overflow: hidden;\n",
       "  text-align: left;\n",
       "  /* unfitted */\n",
       "  background-color: var(--sklearn-color-unfitted-level-0);\n",
       "}\n",
       "\n",
       "#sk-container-id-3 div.sk-toggleable__content.fitted {\n",
       "  /* fitted */\n",
       "  background-color: var(--sklearn-color-fitted-level-0);\n",
       "}\n",
       "\n",
       "#sk-container-id-3 div.sk-toggleable__content pre {\n",
       "  margin: 0.2em;\n",
       "  border-radius: 0.25em;\n",
       "  color: var(--sklearn-color-text);\n",
       "  /* unfitted */\n",
       "  background-color: var(--sklearn-color-unfitted-level-0);\n",
       "}\n",
       "\n",
       "#sk-container-id-3 div.sk-toggleable__content.fitted pre {\n",
       "  /* unfitted */\n",
       "  background-color: var(--sklearn-color-fitted-level-0);\n",
       "}\n",
       "\n",
       "#sk-container-id-3 input.sk-toggleable__control:checked~div.sk-toggleable__content {\n",
       "  /* Expand drop-down */\n",
       "  max-height: 200px;\n",
       "  max-width: 100%;\n",
       "  overflow: auto;\n",
       "}\n",
       "\n",
       "#sk-container-id-3 input.sk-toggleable__control:checked~label.sk-toggleable__label-arrow:before {\n",
       "  content: \"▾\";\n",
       "}\n",
       "\n",
       "/* Pipeline/ColumnTransformer-specific style */\n",
       "\n",
       "#sk-container-id-3 div.sk-label input.sk-toggleable__control:checked~label.sk-toggleable__label {\n",
       "  color: var(--sklearn-color-text);\n",
       "  background-color: var(--sklearn-color-unfitted-level-2);\n",
       "}\n",
       "\n",
       "#sk-container-id-3 div.sk-label.fitted input.sk-toggleable__control:checked~label.sk-toggleable__label {\n",
       "  background-color: var(--sklearn-color-fitted-level-2);\n",
       "}\n",
       "\n",
       "/* Estimator-specific style */\n",
       "\n",
       "/* Colorize estimator box */\n",
       "#sk-container-id-3 div.sk-estimator input.sk-toggleable__control:checked~label.sk-toggleable__label {\n",
       "  /* unfitted */\n",
       "  background-color: var(--sklearn-color-unfitted-level-2);\n",
       "}\n",
       "\n",
       "#sk-container-id-3 div.sk-estimator.fitted input.sk-toggleable__control:checked~label.sk-toggleable__label {\n",
       "  /* fitted */\n",
       "  background-color: var(--sklearn-color-fitted-level-2);\n",
       "}\n",
       "\n",
       "#sk-container-id-3 div.sk-label label.sk-toggleable__label,\n",
       "#sk-container-id-3 div.sk-label label {\n",
       "  /* The background is the default theme color */\n",
       "  color: var(--sklearn-color-text-on-default-background);\n",
       "}\n",
       "\n",
       "/* On hover, darken the color of the background */\n",
       "#sk-container-id-3 div.sk-label:hover label.sk-toggleable__label {\n",
       "  color: var(--sklearn-color-text);\n",
       "  background-color: var(--sklearn-color-unfitted-level-2);\n",
       "}\n",
       "\n",
       "/* Label box, darken color on hover, fitted */\n",
       "#sk-container-id-3 div.sk-label.fitted:hover label.sk-toggleable__label.fitted {\n",
       "  color: var(--sklearn-color-text);\n",
       "  background-color: var(--sklearn-color-fitted-level-2);\n",
       "}\n",
       "\n",
       "/* Estimator label */\n",
       "\n",
       "#sk-container-id-3 div.sk-label label {\n",
       "  font-family: monospace;\n",
       "  font-weight: bold;\n",
       "  display: inline-block;\n",
       "  line-height: 1.2em;\n",
       "}\n",
       "\n",
       "#sk-container-id-3 div.sk-label-container {\n",
       "  text-align: center;\n",
       "}\n",
       "\n",
       "/* Estimator-specific */\n",
       "#sk-container-id-3 div.sk-estimator {\n",
       "  font-family: monospace;\n",
       "  border: 1px dotted var(--sklearn-color-border-box);\n",
       "  border-radius: 0.25em;\n",
       "  box-sizing: border-box;\n",
       "  margin-bottom: 0.5em;\n",
       "  /* unfitted */\n",
       "  background-color: var(--sklearn-color-unfitted-level-0);\n",
       "}\n",
       "\n",
       "#sk-container-id-3 div.sk-estimator.fitted {\n",
       "  /* fitted */\n",
       "  background-color: var(--sklearn-color-fitted-level-0);\n",
       "}\n",
       "\n",
       "/* on hover */\n",
       "#sk-container-id-3 div.sk-estimator:hover {\n",
       "  /* unfitted */\n",
       "  background-color: var(--sklearn-color-unfitted-level-2);\n",
       "}\n",
       "\n",
       "#sk-container-id-3 div.sk-estimator.fitted:hover {\n",
       "  /* fitted */\n",
       "  background-color: var(--sklearn-color-fitted-level-2);\n",
       "}\n",
       "\n",
       "/* Specification for estimator info (e.g. \"i\" and \"?\") */\n",
       "\n",
       "/* Common style for \"i\" and \"?\" */\n",
       "\n",
       ".sk-estimator-doc-link,\n",
       "a:link.sk-estimator-doc-link,\n",
       "a:visited.sk-estimator-doc-link {\n",
       "  float: right;\n",
       "  font-size: smaller;\n",
       "  line-height: 1em;\n",
       "  font-family: monospace;\n",
       "  background-color: var(--sklearn-color-background);\n",
       "  border-radius: 1em;\n",
       "  height: 1em;\n",
       "  width: 1em;\n",
       "  text-decoration: none !important;\n",
       "  margin-left: 1ex;\n",
       "  /* unfitted */\n",
       "  border: var(--sklearn-color-unfitted-level-1) 1pt solid;\n",
       "  color: var(--sklearn-color-unfitted-level-1);\n",
       "}\n",
       "\n",
       ".sk-estimator-doc-link.fitted,\n",
       "a:link.sk-estimator-doc-link.fitted,\n",
       "a:visited.sk-estimator-doc-link.fitted {\n",
       "  /* fitted */\n",
       "  border: var(--sklearn-color-fitted-level-1) 1pt solid;\n",
       "  color: var(--sklearn-color-fitted-level-1);\n",
       "}\n",
       "\n",
       "/* On hover */\n",
       "div.sk-estimator:hover .sk-estimator-doc-link:hover,\n",
       ".sk-estimator-doc-link:hover,\n",
       "div.sk-label-container:hover .sk-estimator-doc-link:hover,\n",
       ".sk-estimator-doc-link:hover {\n",
       "  /* unfitted */\n",
       "  background-color: var(--sklearn-color-unfitted-level-3);\n",
       "  color: var(--sklearn-color-background);\n",
       "  text-decoration: none;\n",
       "}\n",
       "\n",
       "div.sk-estimator.fitted:hover .sk-estimator-doc-link.fitted:hover,\n",
       ".sk-estimator-doc-link.fitted:hover,\n",
       "div.sk-label-container:hover .sk-estimator-doc-link.fitted:hover,\n",
       ".sk-estimator-doc-link.fitted:hover {\n",
       "  /* fitted */\n",
       "  background-color: var(--sklearn-color-fitted-level-3);\n",
       "  color: var(--sklearn-color-background);\n",
       "  text-decoration: none;\n",
       "}\n",
       "\n",
       "/* Span, style for the box shown on hovering the info icon */\n",
       ".sk-estimator-doc-link span {\n",
       "  display: none;\n",
       "  z-index: 9999;\n",
       "  position: relative;\n",
       "  font-weight: normal;\n",
       "  right: .2ex;\n",
       "  padding: .5ex;\n",
       "  margin: .5ex;\n",
       "  width: min-content;\n",
       "  min-width: 20ex;\n",
       "  max-width: 50ex;\n",
       "  color: var(--sklearn-color-text);\n",
       "  box-shadow: 2pt 2pt 4pt #999;\n",
       "  /* unfitted */\n",
       "  background: var(--sklearn-color-unfitted-level-0);\n",
       "  border: .5pt solid var(--sklearn-color-unfitted-level-3);\n",
       "}\n",
       "\n",
       ".sk-estimator-doc-link.fitted span {\n",
       "  /* fitted */\n",
       "  background: var(--sklearn-color-fitted-level-0);\n",
       "  border: var(--sklearn-color-fitted-level-3);\n",
       "}\n",
       "\n",
       ".sk-estimator-doc-link:hover span {\n",
       "  display: block;\n",
       "}\n",
       "\n",
       "/* \"?\"-specific style due to the `<a>` HTML tag */\n",
       "\n",
       "#sk-container-id-3 a.estimator_doc_link {\n",
       "  float: right;\n",
       "  font-size: 1rem;\n",
       "  line-height: 1em;\n",
       "  font-family: monospace;\n",
       "  background-color: var(--sklearn-color-background);\n",
       "  border-radius: 1rem;\n",
       "  height: 1rem;\n",
       "  width: 1rem;\n",
       "  text-decoration: none;\n",
       "  /* unfitted */\n",
       "  color: var(--sklearn-color-unfitted-level-1);\n",
       "  border: var(--sklearn-color-unfitted-level-1) 1pt solid;\n",
       "}\n",
       "\n",
       "#sk-container-id-3 a.estimator_doc_link.fitted {\n",
       "  /* fitted */\n",
       "  border: var(--sklearn-color-fitted-level-1) 1pt solid;\n",
       "  color: var(--sklearn-color-fitted-level-1);\n",
       "}\n",
       "\n",
       "/* On hover */\n",
       "#sk-container-id-3 a.estimator_doc_link:hover {\n",
       "  /* unfitted */\n",
       "  background-color: var(--sklearn-color-unfitted-level-3);\n",
       "  color: var(--sklearn-color-background);\n",
       "  text-decoration: none;\n",
       "}\n",
       "\n",
       "#sk-container-id-3 a.estimator_doc_link.fitted:hover {\n",
       "  /* fitted */\n",
       "  background-color: var(--sklearn-color-fitted-level-3);\n",
       "}\n",
       "</style><div id=\"sk-container-id-3\" class=\"sk-top-container\"><div class=\"sk-text-repr-fallback\"><pre>Pipeline(steps=[(&#x27;tfidf&#x27;, TfidfVectorizer()), (&#x27;clf&#x27;, MultinomialNB())])</pre><b>In a Jupyter environment, please rerun this cell to show the HTML representation or trust the notebook. <br />On GitHub, the HTML representation is unable to render, please try loading this page with nbviewer.org.</b></div><div class=\"sk-container\" hidden><div class=\"sk-item sk-dashed-wrapped\"><div class=\"sk-label-container\"><div class=\"sk-label fitted sk-toggleable\"><input class=\"sk-toggleable__control sk-hidden--visually\" id=\"sk-estimator-id-7\" type=\"checkbox\" ><label for=\"sk-estimator-id-7\" class=\"sk-toggleable__label fitted sk-toggleable__label-arrow fitted\">&nbsp;&nbsp;Pipeline<a class=\"sk-estimator-doc-link fitted\" rel=\"noreferrer\" target=\"_blank\" href=\"https://scikit-learn.org/1.5/modules/generated/sklearn.pipeline.Pipeline.html\">?<span>Documentation for Pipeline</span></a><span class=\"sk-estimator-doc-link fitted\">i<span>Fitted</span></span></label><div class=\"sk-toggleable__content fitted\"><pre>Pipeline(steps=[(&#x27;tfidf&#x27;, TfidfVectorizer()), (&#x27;clf&#x27;, MultinomialNB())])</pre></div> </div></div><div class=\"sk-serial\"><div class=\"sk-item\"><div class=\"sk-estimator fitted sk-toggleable\"><input class=\"sk-toggleable__control sk-hidden--visually\" id=\"sk-estimator-id-8\" type=\"checkbox\" ><label for=\"sk-estimator-id-8\" class=\"sk-toggleable__label fitted sk-toggleable__label-arrow fitted\">&nbsp;TfidfVectorizer<a class=\"sk-estimator-doc-link fitted\" rel=\"noreferrer\" target=\"_blank\" href=\"https://scikit-learn.org/1.5/modules/generated/sklearn.feature_extraction.text.TfidfVectorizer.html\">?<span>Documentation for TfidfVectorizer</span></a></label><div class=\"sk-toggleable__content fitted\"><pre>TfidfVectorizer()</pre></div> </div></div><div class=\"sk-item\"><div class=\"sk-estimator fitted sk-toggleable\"><input class=\"sk-toggleable__control sk-hidden--visually\" id=\"sk-estimator-id-9\" type=\"checkbox\" ><label for=\"sk-estimator-id-9\" class=\"sk-toggleable__label fitted sk-toggleable__label-arrow fitted\">&nbsp;MultinomialNB<a class=\"sk-estimator-doc-link fitted\" rel=\"noreferrer\" target=\"_blank\" href=\"https://scikit-learn.org/1.5/modules/generated/sklearn.naive_bayes.MultinomialNB.html\">?<span>Documentation for MultinomialNB</span></a></label><div class=\"sk-toggleable__content fitted\"><pre>MultinomialNB()</pre></div> </div></div></div></div></div></div>"
      ],
      "text/plain": [
       "Pipeline(steps=[('tfidf', TfidfVectorizer()), ('clf', MultinomialNB())])"
      ]
     },
     "execution_count": 148,
     "metadata": {},
     "output_type": "execute_result"
    }
   ],
   "source": [
    "from sklearn.feature_extraction.text import TfidfVectorizer\n",
    "from sklearn.naive_bayes import MultinomialNB\n",
    "from sklearn.pipeline import Pipeline\n",
    "\n",
    "model_0 = Pipeline([\n",
    "    (\"tfidf\",TfidfVectorizer()),\n",
    "    (\"clf\",MultinomialNB()),\n",
    "])\n",
    "\n",
    "model_0.fit(train_sentences,train_labels)"
   ]
  },
  {
   "cell_type": "code",
   "execution_count": 149,
   "metadata": {},
   "outputs": [
    {
     "data": {
      "text/plain": [
       "0.7926509186351706"
      ]
     },
     "execution_count": 149,
     "metadata": {},
     "output_type": "execute_result"
    }
   ],
   "source": [
    "baseline_score=model_0.score(val_sentences,val_labels)\n",
    "baseline_score"
   ]
  },
  {
   "cell_type": "code",
   "execution_count": 150,
   "metadata": {},
   "outputs": [],
   "source": [
    "baseline_preds=model_0.predict(val_sentences)"
   ]
  },
  {
   "cell_type": "code",
   "execution_count": 151,
   "metadata": {},
   "outputs": [
    {
     "data": {
      "text/plain": [
       "array([1, 1, 1, 0, 0, 1, 1, 1, 1, 0, 0, 1, 0, 0, 0, 0, 0, 0, 0, 1])"
      ]
     },
     "execution_count": 151,
     "metadata": {},
     "output_type": "execute_result"
    }
   ],
   "source": [
    "baseline_preds[:20]"
   ]
  },
  {
   "cell_type": "code",
   "execution_count": 152,
   "metadata": {},
   "outputs": [],
   "source": [
    "from sklearn.metrics import accuracy_score,precision_recall_fscore_support"
   ]
  },
  {
   "cell_type": "code",
   "execution_count": 153,
   "metadata": {},
   "outputs": [],
   "source": [
    "def calculate_results(y_true,y_pred):\n",
    "    model_accuaracy = accuracy_score(y_true,y_pred) *100\n",
    "    model_precision,model_recall,model_f1,_=precision_recall_fscore_support(y_true,y_pred,average=\"weighted\")\n",
    "    model_results={\n",
    "        \"accuracy\":model_accuaracy,\n",
    "        \"precision\":model_precision,\n",
    "        \"recall\":model_recall,\n",
    "        \"f1\":model_f1\n",
    "    }\n",
    "    return model_results"
   ]
  },
  {
   "cell_type": "code",
   "execution_count": 154,
   "metadata": {},
   "outputs": [
    {
     "data": {
      "text/plain": [
       "{'accuracy': 79.26509186351706,\n",
       " 'precision': 0.8111390004213173,\n",
       " 'recall': 0.7926509186351706,\n",
       " 'f1': 0.7862189758049549}"
      ]
     },
     "execution_count": 154,
     "metadata": {},
     "output_type": "execute_result"
    }
   ],
   "source": [
    "baseline_results=calculate_results(val_labels,baseline_preds)\n",
    "baseline_results"
   ]
  },
  {
   "cell_type": "code",
   "execution_count": 155,
   "metadata": {},
   "outputs": [],
   "source": [
    "from helper_functions import create_tensorboard_callback"
   ]
  },
  {
   "cell_type": "code",
   "execution_count": 156,
   "metadata": {},
   "outputs": [],
   "source": [
    "SAVE_DIR='model_logs'"
   ]
  },
  {
   "cell_type": "code",
   "execution_count": 157,
   "metadata": {},
   "outputs": [],
   "source": [
    "from tensorflow.keras import  layers\n",
    "inputs=layers.Input(shape=(1,),dtype=tf.string)\n",
    "x=text_vectorizer(inputs)\n",
    "x=embeddings(x)\n",
    "x = layers.GlobalAveragePooling1D()(x) # lower the dimensionality of the embedding (try running the model without this layer and see what happens)\n",
    "outputs = layers.Dense(1,activation=\"sigmoid\")(x)\n",
    "model_1 = tf.keras.Model(inputs,outputs,name=\"model_1_dense\")"
   ]
  },
  {
   "cell_type": "code",
   "execution_count": 158,
   "metadata": {},
   "outputs": [
    {
     "data": {
      "text/html": [
       "<pre style=\"white-space:pre;overflow-x:auto;line-height:normal;font-family:Menlo,'DejaVu Sans Mono',consolas,'Courier New',monospace\"><span style=\"font-weight: bold\">Model: \"model_1_dense\"</span>\n",
       "</pre>\n"
      ],
      "text/plain": [
       "\u001b[1mModel: \"model_1_dense\"\u001b[0m\n"
      ]
     },
     "metadata": {},
     "output_type": "display_data"
    },
    {
     "data": {
      "text/html": [
       "<pre style=\"white-space:pre;overflow-x:auto;line-height:normal;font-family:Menlo,'DejaVu Sans Mono',consolas,'Courier New',monospace\">┏━━━━━━━━━━━━━━━━━━━━━━━━━━━━━━━━━┳━━━━━━━━━━━━━━━━━━━━━━━━┳━━━━━━━━━━━━━━━┓\n",
       "┃<span style=\"font-weight: bold\"> Layer (type)                    </span>┃<span style=\"font-weight: bold\"> Output Shape           </span>┃<span style=\"font-weight: bold\">       Param # </span>┃\n",
       "┡━━━━━━━━━━━━━━━━━━━━━━━━━━━━━━━━━╇━━━━━━━━━━━━━━━━━━━━━━━━╇━━━━━━━━━━━━━━━┩\n",
       "│ input_layer_14 (<span style=\"color: #0087ff; text-decoration-color: #0087ff\">InputLayer</span>)     │ (<span style=\"color: #00d7ff; text-decoration-color: #00d7ff\">None</span>, <span style=\"color: #00af00; text-decoration-color: #00af00\">1</span>)              │             <span style=\"color: #00af00; text-decoration-color: #00af00\">0</span> │\n",
       "├─────────────────────────────────┼────────────────────────┼───────────────┤\n",
       "│ text_vectorization_1            │ (<span style=\"color: #00d7ff; text-decoration-color: #00d7ff\">None</span>, <span style=\"color: #00af00; text-decoration-color: #00af00\">15</span>)             │             <span style=\"color: #00af00; text-decoration-color: #00af00\">0</span> │\n",
       "│ (<span style=\"color: #0087ff; text-decoration-color: #0087ff\">TextVectorization</span>)             │                        │               │\n",
       "├─────────────────────────────────┼────────────────────────┼───────────────┤\n",
       "│ embedding_1 (<span style=\"color: #0087ff; text-decoration-color: #0087ff\">Embedding</span>)         │ (<span style=\"color: #00d7ff; text-decoration-color: #00d7ff\">None</span>, <span style=\"color: #00af00; text-decoration-color: #00af00\">15</span>, <span style=\"color: #00af00; text-decoration-color: #00af00\">128</span>)        │     <span style=\"color: #00af00; text-decoration-color: #00af00\">1,280,000</span> │\n",
       "├─────────────────────────────────┼────────────────────────┼───────────────┤\n",
       "│ global_average_pooling1d_3      │ (<span style=\"color: #00d7ff; text-decoration-color: #00d7ff\">None</span>, <span style=\"color: #00af00; text-decoration-color: #00af00\">128</span>)            │             <span style=\"color: #00af00; text-decoration-color: #00af00\">0</span> │\n",
       "│ (<span style=\"color: #0087ff; text-decoration-color: #0087ff\">GlobalAveragePooling1D</span>)        │                        │               │\n",
       "├─────────────────────────────────┼────────────────────────┼───────────────┤\n",
       "│ dense_12 (<span style=\"color: #0087ff; text-decoration-color: #0087ff\">Dense</span>)                │ (<span style=\"color: #00d7ff; text-decoration-color: #00d7ff\">None</span>, <span style=\"color: #00af00; text-decoration-color: #00af00\">1</span>)              │           <span style=\"color: #00af00; text-decoration-color: #00af00\">129</span> │\n",
       "└─────────────────────────────────┴────────────────────────┴───────────────┘\n",
       "</pre>\n"
      ],
      "text/plain": [
       "┏━━━━━━━━━━━━━━━━━━━━━━━━━━━━━━━━━┳━━━━━━━━━━━━━━━━━━━━━━━━┳━━━━━━━━━━━━━━━┓\n",
       "┃\u001b[1m \u001b[0m\u001b[1mLayer (type)                   \u001b[0m\u001b[1m \u001b[0m┃\u001b[1m \u001b[0m\u001b[1mOutput Shape          \u001b[0m\u001b[1m \u001b[0m┃\u001b[1m \u001b[0m\u001b[1m      Param #\u001b[0m\u001b[1m \u001b[0m┃\n",
       "┡━━━━━━━━━━━━━━━━━━━━━━━━━━━━━━━━━╇━━━━━━━━━━━━━━━━━━━━━━━━╇━━━━━━━━━━━━━━━┩\n",
       "│ input_layer_14 (\u001b[38;5;33mInputLayer\u001b[0m)     │ (\u001b[38;5;45mNone\u001b[0m, \u001b[38;5;34m1\u001b[0m)              │             \u001b[38;5;34m0\u001b[0m │\n",
       "├─────────────────────────────────┼────────────────────────┼───────────────┤\n",
       "│ text_vectorization_1            │ (\u001b[38;5;45mNone\u001b[0m, \u001b[38;5;34m15\u001b[0m)             │             \u001b[38;5;34m0\u001b[0m │\n",
       "│ (\u001b[38;5;33mTextVectorization\u001b[0m)             │                        │               │\n",
       "├─────────────────────────────────┼────────────────────────┼───────────────┤\n",
       "│ embedding_1 (\u001b[38;5;33mEmbedding\u001b[0m)         │ (\u001b[38;5;45mNone\u001b[0m, \u001b[38;5;34m15\u001b[0m, \u001b[38;5;34m128\u001b[0m)        │     \u001b[38;5;34m1,280,000\u001b[0m │\n",
       "├─────────────────────────────────┼────────────────────────┼───────────────┤\n",
       "│ global_average_pooling1d_3      │ (\u001b[38;5;45mNone\u001b[0m, \u001b[38;5;34m128\u001b[0m)            │             \u001b[38;5;34m0\u001b[0m │\n",
       "│ (\u001b[38;5;33mGlobalAveragePooling1D\u001b[0m)        │                        │               │\n",
       "├─────────────────────────────────┼────────────────────────┼───────────────┤\n",
       "│ dense_12 (\u001b[38;5;33mDense\u001b[0m)                │ (\u001b[38;5;45mNone\u001b[0m, \u001b[38;5;34m1\u001b[0m)              │           \u001b[38;5;34m129\u001b[0m │\n",
       "└─────────────────────────────────┴────────────────────────┴───────────────┘\n"
      ]
     },
     "metadata": {},
     "output_type": "display_data"
    },
    {
     "data": {
      "text/html": [
       "<pre style=\"white-space:pre;overflow-x:auto;line-height:normal;font-family:Menlo,'DejaVu Sans Mono',consolas,'Courier New',monospace\"><span style=\"font-weight: bold\"> Total params: </span><span style=\"color: #00af00; text-decoration-color: #00af00\">1,280,129</span> (4.88 MB)\n",
       "</pre>\n"
      ],
      "text/plain": [
       "\u001b[1m Total params: \u001b[0m\u001b[38;5;34m1,280,129\u001b[0m (4.88 MB)\n"
      ]
     },
     "metadata": {},
     "output_type": "display_data"
    },
    {
     "data": {
      "text/html": [
       "<pre style=\"white-space:pre;overflow-x:auto;line-height:normal;font-family:Menlo,'DejaVu Sans Mono',consolas,'Courier New',monospace\"><span style=\"font-weight: bold\"> Trainable params: </span><span style=\"color: #00af00; text-decoration-color: #00af00\">1,280,129</span> (4.88 MB)\n",
       "</pre>\n"
      ],
      "text/plain": [
       "\u001b[1m Trainable params: \u001b[0m\u001b[38;5;34m1,280,129\u001b[0m (4.88 MB)\n"
      ]
     },
     "metadata": {},
     "output_type": "display_data"
    },
    {
     "data": {
      "text/html": [
       "<pre style=\"white-space:pre;overflow-x:auto;line-height:normal;font-family:Menlo,'DejaVu Sans Mono',consolas,'Courier New',monospace\"><span style=\"font-weight: bold\"> Non-trainable params: </span><span style=\"color: #00af00; text-decoration-color: #00af00\">0</span> (0.00 B)\n",
       "</pre>\n"
      ],
      "text/plain": [
       "\u001b[1m Non-trainable params: \u001b[0m\u001b[38;5;34m0\u001b[0m (0.00 B)\n"
      ]
     },
     "metadata": {},
     "output_type": "display_data"
    }
   ],
   "source": [
    "model_1.summary()"
   ]
  },
  {
   "cell_type": "code",
   "execution_count": 159,
   "metadata": {},
   "outputs": [],
   "source": [
    "model_1.compile(\n",
    "    loss='binary_crossentropy',\n",
    "    optimizer=tf.keras.optimizers.Adam(),\n",
    "    metrics=['accuracy']\n",
    ")"
   ]
  },
  {
   "cell_type": "code",
   "execution_count": 160,
   "metadata": {},
   "outputs": [
    {
     "name": "stdout",
     "output_type": "stream",
     "text": [
      "Saving TensorBoard log files to: model_logs/model_1_dense/20240912-111340\n",
      "Epoch 1/5\n"
     ]
    },
    {
     "name": "stdout",
     "output_type": "stream",
     "text": [
      "\u001b[1m215/215\u001b[0m \u001b[32m━━━━━━━━━━━━━━━━━━━━\u001b[0m\u001b[37m\u001b[0m \u001b[1m5s\u001b[0m 15ms/step - accuracy: 0.6341 - loss: 0.6490 - val_accuracy: 0.7638 - val_loss: 0.5333\n",
      "Epoch 2/5\n",
      "\u001b[1m215/215\u001b[0m \u001b[32m━━━━━━━━━━━━━━━━━━━━\u001b[0m\u001b[37m\u001b[0m \u001b[1m3s\u001b[0m 14ms/step - accuracy: 0.8093 - loss: 0.4656 - val_accuracy: 0.7900 - val_loss: 0.4735\n",
      "Epoch 3/5\n",
      "\u001b[1m215/215\u001b[0m \u001b[32m━━━━━━━━━━━━━━━━━━━━\u001b[0m\u001b[37m\u001b[0m \u001b[1m3s\u001b[0m 15ms/step - accuracy: 0.8527 - loss: 0.3617 - val_accuracy: 0.7966 - val_loss: 0.4614\n",
      "Epoch 4/5\n",
      "\u001b[1m215/215\u001b[0m \u001b[32m━━━━━━━━━━━━━━━━━━━━\u001b[0m\u001b[37m\u001b[0m \u001b[1m3s\u001b[0m 15ms/step - accuracy: 0.8873 - loss: 0.2954 - val_accuracy: 0.7887 - val_loss: 0.4676\n",
      "Epoch 5/5\n",
      "\u001b[1m215/215\u001b[0m \u001b[32m━━━━━━━━━━━━━━━━━━━━\u001b[0m\u001b[37m\u001b[0m \u001b[1m3s\u001b[0m 14ms/step - accuracy: 0.9075 - loss: 0.2467 - val_accuracy: 0.7822 - val_loss: 0.4832\n"
     ]
    }
   ],
   "source": [
    "model_1.history = model_1.fit(x=train_sentences,\n",
    "                              y=train_labels,\n",
    "                              epochs=5,\n",
    "                              validation_data=(val_sentences,val_labels),callbacks=[create_tensorboard_callback(SAVE_DIR,'model_1_dense')])"
   ]
  },
  {
   "cell_type": "code",
   "execution_count": 161,
   "metadata": {},
   "outputs": [
    {
     "data": {
      "text/plain": [
       "{'accuracy': 79.26509186351706,\n",
       " 'precision': 0.8111390004213173,\n",
       " 'recall': 0.7926509186351706,\n",
       " 'f1': 0.7862189758049549}"
      ]
     },
     "execution_count": 161,
     "metadata": {},
     "output_type": "execute_result"
    }
   ],
   "source": [
    "baseline_results"
   ]
  },
  {
   "cell_type": "code",
   "execution_count": 162,
   "metadata": {},
   "outputs": [
    {
     "name": "stdout",
     "output_type": "stream",
     "text": [
      "\u001b[1m24/24\u001b[0m \u001b[32m━━━━━━━━━━━━━━━━━━━━\u001b[0m\u001b[37m\u001b[0m \u001b[1m0s\u001b[0m 3ms/step - accuracy: 0.7695 - loss: 0.5149\n"
     ]
    },
    {
     "data": {
      "text/plain": [
       "[0.48323386907577515, 0.7821522355079651]"
      ]
     },
     "execution_count": 162,
     "metadata": {},
     "output_type": "execute_result"
    }
   ],
   "source": [
    "model_1.evaluate(val_sentences,val_labels)"
   ]
  },
  {
   "cell_type": "code",
   "execution_count": 163,
   "metadata": {},
   "outputs": [
    {
     "name": "stdout",
     "output_type": "stream",
     "text": [
      "\u001b[1m24/24\u001b[0m \u001b[32m━━━━━━━━━━━━━━━━━━━━\u001b[0m\u001b[37m\u001b[0m \u001b[1m0s\u001b[0m 10ms/step\n"
     ]
    },
    {
     "data": {
      "text/plain": [
       "(762, 1)"
      ]
     },
     "execution_count": 163,
     "metadata": {},
     "output_type": "execute_result"
    }
   ],
   "source": [
    "model_1_pred_probs=model_1.predict(val_sentences)\n",
    "model_1_pred_probs.shape"
   ]
  },
  {
   "cell_type": "code",
   "execution_count": 164,
   "metadata": {},
   "outputs": [
    {
     "data": {
      "text/plain": [
       "array([0.3369913], dtype=float32)"
      ]
     },
     "execution_count": 164,
     "metadata": {},
     "output_type": "execute_result"
    }
   ],
   "source": [
    "model_1_pred_probs[0]"
   ]
  },
  {
   "cell_type": "code",
   "execution_count": 165,
   "metadata": {},
   "outputs": [
    {
     "data": {
      "text/plain": [
       "array([[3.36991310e-01],\n",
       "       [7.34024525e-01],\n",
       "       [9.97574091e-01],\n",
       "       [1.88334242e-01],\n",
       "       [1.03878140e-01],\n",
       "       [9.41557109e-01],\n",
       "       [8.86982739e-01],\n",
       "       [9.94287610e-01],\n",
       "       [9.62175429e-01],\n",
       "       [3.89513403e-01],\n",
       "       [1.18733764e-01],\n",
       "       [7.18412817e-01],\n",
       "       [3.77492942e-02],\n",
       "       [2.47215092e-01],\n",
       "       [4.55935858e-03],\n",
       "       [1.51755691e-01],\n",
       "       [2.17685066e-02],\n",
       "       [7.59515017e-02],\n",
       "       [2.67087579e-01],\n",
       "       [5.31628609e-01],\n",
       "       [8.98761272e-01],\n",
       "       [4.28090654e-02],\n",
       "       [3.66759896e-01],\n",
       "       [1.06901385e-01],\n",
       "       [9.44217622e-01],\n",
       "       [9.98816550e-01],\n",
       "       [4.39224839e-02],\n",
       "       [6.29978105e-02],\n",
       "       [2.41327807e-02],\n",
       "       [1.84399903e-01],\n",
       "       [6.05541468e-01],\n",
       "       [3.32586139e-01],\n",
       "       [5.21996021e-01],\n",
       "       [1.56354606e-01],\n",
       "       [4.27458912e-01],\n",
       "       [6.39995411e-02],\n",
       "       [9.96223450e-01],\n",
       "       [2.14407921e-01],\n",
       "       [3.45602781e-02],\n",
       "       [9.98741031e-01],\n",
       "       [2.30663851e-01],\n",
       "       [1.87558811e-02],\n",
       "       [3.47099453e-01],\n",
       "       [5.36145903e-02],\n",
       "       [6.69644713e-01],\n",
       "       [9.85808015e-01],\n",
       "       [3.94944370e-01],\n",
       "       [9.02913511e-01],\n",
       "       [2.52739221e-01],\n",
       "       [5.90061009e-01],\n",
       "       [5.36610819e-02],\n",
       "       [6.29536211e-01],\n",
       "       [4.74785089e-01],\n",
       "       [3.18327434e-02],\n",
       "       [1.30540580e-01],\n",
       "       [3.29995230e-02],\n",
       "       [2.10789531e-01],\n",
       "       [9.55716312e-01],\n",
       "       [1.00170709e-01],\n",
       "       [3.26437433e-03],\n",
       "       [2.21330523e-01],\n",
       "       [9.66668904e-01],\n",
       "       [9.00176346e-01],\n",
       "       [1.64430782e-01],\n",
       "       [9.28141952e-01],\n",
       "       [9.76512134e-01],\n",
       "       [7.12854803e-01],\n",
       "       [3.50687474e-01],\n",
       "       [1.25033841e-01],\n",
       "       [1.86380327e-01],\n",
       "       [1.05935097e-01],\n",
       "       [3.94186676e-02],\n",
       "       [9.31459546e-01],\n",
       "       [1.99881703e-01],\n",
       "       [1.33199975e-01],\n",
       "       [4.55311835e-01],\n",
       "       [4.91363913e-01],\n",
       "       [8.19152534e-01],\n",
       "       [3.12153131e-01],\n",
       "       [5.39919555e-01],\n",
       "       [5.36216378e-01],\n",
       "       [3.47056031e-01],\n",
       "       [9.96652484e-01],\n",
       "       [1.22451000e-01],\n",
       "       [1.99922666e-01],\n",
       "       [9.37427729e-02],\n",
       "       [3.04730181e-02],\n",
       "       [9.75798368e-02],\n",
       "       [6.65804148e-01],\n",
       "       [8.73960555e-01],\n",
       "       [9.93656754e-01],\n",
       "       [7.55539862e-03],\n",
       "       [5.27792454e-01],\n",
       "       [2.32353136e-02],\n",
       "       [9.82516706e-01],\n",
       "       [7.36200035e-01],\n",
       "       [8.46715868e-01],\n",
       "       [9.69417572e-01],\n",
       "       [9.11103070e-01],\n",
       "       [9.48234677e-01],\n",
       "       [9.99273658e-01],\n",
       "       [2.12949678e-01],\n",
       "       [1.68677997e-02],\n",
       "       [9.07647550e-01],\n",
       "       [9.21718657e-01],\n",
       "       [9.69537944e-02],\n",
       "       [8.57260406e-01],\n",
       "       [9.82153893e-01],\n",
       "       [6.62158877e-02],\n",
       "       [4.20402706e-01],\n",
       "       [6.60135925e-01],\n",
       "       [3.96037661e-02],\n",
       "       [3.12663108e-01],\n",
       "       [1.59127548e-01],\n",
       "       [1.40977517e-01],\n",
       "       [4.26990300e-01],\n",
       "       [4.88513678e-01],\n",
       "       [6.82232082e-01],\n",
       "       [7.58724928e-01],\n",
       "       [8.13547224e-02],\n",
       "       [9.99790668e-01],\n",
       "       [8.70978534e-02],\n",
       "       [1.05166592e-01],\n",
       "       [7.78336823e-01],\n",
       "       [4.27950561e-01],\n",
       "       [3.63822281e-01],\n",
       "       [8.36934447e-01],\n",
       "       [1.05940308e-02],\n",
       "       [9.61680487e-02],\n",
       "       [8.75855982e-01],\n",
       "       [1.21853888e-01],\n",
       "       [9.99790668e-01],\n",
       "       [9.99752760e-01],\n",
       "       [9.98816550e-01],\n",
       "       [9.87082422e-01],\n",
       "       [7.37825260e-02],\n",
       "       [9.76815164e-01],\n",
       "       [2.06462070e-01],\n",
       "       [3.37314606e-01],\n",
       "       [8.01744983e-02],\n",
       "       [9.97227132e-01],\n",
       "       [4.33033615e-01],\n",
       "       [2.47215092e-01],\n",
       "       [9.64967251e-01],\n",
       "       [3.65145832e-01],\n",
       "       [5.62859297e-01],\n",
       "       [3.50293331e-02],\n",
       "       [9.08272527e-03],\n",
       "       [1.89449847e-01],\n",
       "       [9.78277385e-01],\n",
       "       [2.87282228e-01],\n",
       "       [7.92903602e-02],\n",
       "       [4.92037386e-01],\n",
       "       [1.89674616e-01],\n",
       "       [2.66062409e-01],\n",
       "       [9.91722226e-01],\n",
       "       [7.32921422e-01],\n",
       "       [3.90349895e-01],\n",
       "       [9.90260422e-01],\n",
       "       [2.26786137e-02],\n",
       "       [9.75567222e-01],\n",
       "       [4.22944911e-02],\n",
       "       [2.68938512e-01],\n",
       "       [9.93577421e-01],\n",
       "       [3.02427918e-01],\n",
       "       [6.46945164e-02],\n",
       "       [9.98634934e-01],\n",
       "       [4.39191639e-01],\n",
       "       [9.85295355e-01],\n",
       "       [2.85604745e-01],\n",
       "       [9.93757725e-01],\n",
       "       [8.49667907e-01],\n",
       "       [8.30331326e-01],\n",
       "       [2.16175839e-02],\n",
       "       [9.98172760e-01],\n",
       "       [1.05014890e-01],\n",
       "       [3.57124001e-01],\n",
       "       [4.61980641e-01],\n",
       "       [8.01434398e-01],\n",
       "       [9.93618667e-01],\n",
       "       [1.77767240e-02],\n",
       "       [7.45274782e-01],\n",
       "       [7.03817964e-01],\n",
       "       [9.62218344e-01],\n",
       "       [9.69552755e-01],\n",
       "       [3.82014543e-01],\n",
       "       [1.38751611e-01],\n",
       "       [9.99804497e-01],\n",
       "       [1.71426758e-02],\n",
       "       [2.60344036e-02],\n",
       "       [9.44283158e-02],\n",
       "       [9.41630185e-01],\n",
       "       [6.73362836e-02],\n",
       "       [2.78226376e-01],\n",
       "       [1.51945008e-02],\n",
       "       [7.55892694e-02],\n",
       "       [5.50083965e-02],\n",
       "       [2.67761022e-01],\n",
       "       [7.38443077e-01],\n",
       "       [6.36465922e-02],\n",
       "       [3.65899086e-01],\n",
       "       [8.74909759e-01],\n",
       "       [9.70143437e-01],\n",
       "       [3.22343886e-01],\n",
       "       [1.11184523e-01],\n",
       "       [9.99865353e-01],\n",
       "       [5.33720374e-01],\n",
       "       [9.20800149e-01],\n",
       "       [6.79239154e-01],\n",
       "       [8.35747242e-01],\n",
       "       [3.79743516e-01],\n",
       "       [9.86572683e-01],\n",
       "       [1.82582699e-02],\n",
       "       [1.68467656e-01],\n",
       "       [7.11678481e-03],\n",
       "       [5.72990905e-03],\n",
       "       [9.41297591e-01],\n",
       "       [8.19493413e-01],\n",
       "       [8.97694349e-01],\n",
       "       [2.00666785e-01],\n",
       "       [6.79352045e-01],\n",
       "       [8.02582204e-02],\n",
       "       [2.41164938e-02],\n",
       "       [1.51723579e-01],\n",
       "       [9.85143781e-01],\n",
       "       [1.55978084e-01],\n",
       "       [5.14108062e-01],\n",
       "       [9.95383680e-01],\n",
       "       [6.44561350e-01],\n",
       "       [5.56541741e-01],\n",
       "       [1.03323378e-01],\n",
       "       [1.86762825e-01],\n",
       "       [8.52043211e-01],\n",
       "       [3.29782277e-01],\n",
       "       [6.57710314e-01],\n",
       "       [2.05153301e-01],\n",
       "       [5.60227633e-01],\n",
       "       [3.47193867e-01],\n",
       "       [1.27820626e-01],\n",
       "       [8.78403485e-02],\n",
       "       [4.35328335e-01],\n",
       "       [2.19113395e-01],\n",
       "       [9.99882281e-01],\n",
       "       [9.89901841e-01],\n",
       "       [9.32246670e-02],\n",
       "       [2.13926658e-02],\n",
       "       [8.77901614e-01],\n",
       "       [1.02800816e-01],\n",
       "       [9.66096371e-02],\n",
       "       [3.94262016e-01],\n",
       "       [5.34947589e-02],\n",
       "       [6.02370441e-01],\n",
       "       [7.61517673e-04],\n",
       "       [4.09683198e-01],\n",
       "       [9.20609295e-01],\n",
       "       [3.42219412e-01],\n",
       "       [9.74731624e-01],\n",
       "       [9.98794138e-01],\n",
       "       [3.02424133e-01],\n",
       "       [1.47975191e-01],\n",
       "       [3.07580739e-01],\n",
       "       [4.08941656e-02],\n",
       "       [4.66346880e-03],\n",
       "       [9.82794762e-01],\n",
       "       [9.64282095e-01],\n",
       "       [6.49337173e-01],\n",
       "       [9.67448890e-01],\n",
       "       [6.68826401e-02],\n",
       "       [1.75093412e-01],\n",
       "       [8.62270407e-03],\n",
       "       [1.51834205e-01],\n",
       "       [2.61382535e-02],\n",
       "       [9.65793252e-01],\n",
       "       [8.60758647e-02],\n",
       "       [9.02267173e-03],\n",
       "       [9.82951939e-01],\n",
       "       [7.36026419e-03],\n",
       "       [9.98448059e-02],\n",
       "       [9.88262951e-01],\n",
       "       [4.09460217e-02],\n",
       "       [1.14305146e-01],\n",
       "       [5.91062801e-03],\n",
       "       [9.71583307e-01],\n",
       "       [6.17487073e-01],\n",
       "       [7.91903079e-01],\n",
       "       [7.11809516e-01],\n",
       "       [4.66639042e-01],\n",
       "       [7.10651800e-02],\n",
       "       [9.32876647e-01],\n",
       "       [5.04660644e-02],\n",
       "       [7.76968241e-01],\n",
       "       [4.35229033e-01],\n",
       "       [4.02995706e-01],\n",
       "       [3.52958471e-01],\n",
       "       [1.68255985e-01],\n",
       "       [7.62212336e-01],\n",
       "       [2.23086596e-01],\n",
       "       [7.17666864e-01],\n",
       "       [1.25596970e-01],\n",
       "       [7.63729036e-01],\n",
       "       [3.10200099e-02],\n",
       "       [7.96268061e-02],\n",
       "       [2.34816149e-01],\n",
       "       [9.85831320e-01],\n",
       "       [2.02657849e-01],\n",
       "       [1.24707960e-01],\n",
       "       [2.95745045e-01],\n",
       "       [3.08417052e-01],\n",
       "       [1.07948050e-01],\n",
       "       [3.97650488e-02],\n",
       "       [3.41387466e-02],\n",
       "       [9.82104242e-01],\n",
       "       [4.43799704e-01],\n",
       "       [2.75691479e-01],\n",
       "       [9.99812126e-01],\n",
       "       [4.74374592e-02],\n",
       "       [6.73474014e-01],\n",
       "       [2.76983410e-01],\n",
       "       [4.06732857e-02],\n",
       "       [2.38814801e-01],\n",
       "       [1.86510995e-01],\n",
       "       [1.61427766e-01],\n",
       "       [9.38193142e-01],\n",
       "       [2.94330120e-01],\n",
       "       [9.88919795e-01],\n",
       "       [1.19181752e-01],\n",
       "       [3.44438441e-02],\n",
       "       [9.96659815e-01],\n",
       "       [1.87667459e-02],\n",
       "       [9.96183097e-01],\n",
       "       [1.35436550e-01],\n",
       "       [4.76790555e-02],\n",
       "       [9.66877043e-01],\n",
       "       [4.82398085e-02],\n",
       "       [3.45270224e-02],\n",
       "       [9.80114937e-01],\n",
       "       [7.95879401e-03],\n",
       "       [2.11457759e-01],\n",
       "       [7.11870790e-01],\n",
       "       [9.12492573e-01],\n",
       "       [5.81208523e-03],\n",
       "       [1.67896658e-01],\n",
       "       [9.82817113e-01],\n",
       "       [9.68505621e-01],\n",
       "       [7.62188017e-01],\n",
       "       [4.72037047e-01],\n",
       "       [5.11997044e-01],\n",
       "       [4.07781214e-01],\n",
       "       [6.85999990e-02],\n",
       "       [9.07048807e-02],\n",
       "       [1.54023468e-01],\n",
       "       [7.98472941e-01],\n",
       "       [3.40613239e-02],\n",
       "       [3.94326746e-01],\n",
       "       [3.77444983e-01],\n",
       "       [1.40919657e-02],\n",
       "       [9.80147123e-01],\n",
       "       [9.98816550e-01],\n",
       "       [9.92713213e-01],\n",
       "       [3.51801291e-02],\n",
       "       [2.82268792e-01],\n",
       "       [1.25463337e-01],\n",
       "       [3.77516806e-01],\n",
       "       [7.72825181e-01],\n",
       "       [2.19773918e-01],\n",
       "       [2.19669510e-02],\n",
       "       [1.05241604e-01],\n",
       "       [3.74833904e-02],\n",
       "       [5.37855089e-01],\n",
       "       [1.03493063e-02],\n",
       "       [1.84807852e-01],\n",
       "       [4.44314256e-02],\n",
       "       [3.26960564e-01],\n",
       "       [3.03285897e-01],\n",
       "       [4.63863283e-01],\n",
       "       [2.71357447e-01],\n",
       "       [5.46418466e-02],\n",
       "       [3.06839049e-01],\n",
       "       [6.82346225e-02],\n",
       "       [9.97253418e-01],\n",
       "       [9.20355499e-01],\n",
       "       [5.41461110e-01],\n",
       "       [7.31264532e-01],\n",
       "       [2.25123763e-02],\n",
       "       [5.37456751e-01],\n",
       "       [9.91575360e-01],\n",
       "       [7.03084886e-01],\n",
       "       [2.57488877e-01],\n",
       "       [9.87055659e-01],\n",
       "       [1.82429284e-01],\n",
       "       [9.47509706e-01],\n",
       "       [2.89158881e-01],\n",
       "       [2.94174906e-02],\n",
       "       [5.06690443e-01],\n",
       "       [5.00378847e-01],\n",
       "       [9.96202290e-01],\n",
       "       [1.47028059e-01],\n",
       "       [4.95794155e-02],\n",
       "       [7.14882836e-02],\n",
       "       [2.19773918e-01],\n",
       "       [9.99230027e-01],\n",
       "       [2.35450082e-02],\n",
       "       [7.53039837e-01],\n",
       "       [9.72846985e-01],\n",
       "       [7.38955736e-02],\n",
       "       [9.99790668e-01],\n",
       "       [3.28210928e-02],\n",
       "       [4.09705311e-01],\n",
       "       [5.85440174e-02],\n",
       "       [7.53375828e-01],\n",
       "       [8.99118304e-01],\n",
       "       [7.64209479e-02],\n",
       "       [1.52940780e-03],\n",
       "       [2.55249977e-01],\n",
       "       [9.90014017e-01],\n",
       "       [9.07522261e-01],\n",
       "       [1.37008801e-01],\n",
       "       [3.82809609e-01],\n",
       "       [6.54828846e-01],\n",
       "       [3.90179530e-02],\n",
       "       [9.89630520e-01],\n",
       "       [4.60893750e-01],\n",
       "       [9.98903215e-01],\n",
       "       [9.19456482e-01],\n",
       "       [9.63299647e-02],\n",
       "       [3.24117273e-01],\n",
       "       [9.59178731e-02],\n",
       "       [9.46077764e-01],\n",
       "       [7.63055325e-01],\n",
       "       [3.62994552e-01],\n",
       "       [4.96084727e-02],\n",
       "       [3.14636230e-01],\n",
       "       [4.42762934e-02],\n",
       "       [8.33656192e-02],\n",
       "       [1.27500489e-01],\n",
       "       [3.74739766e-01],\n",
       "       [5.32965124e-01],\n",
       "       [1.82233527e-01],\n",
       "       [9.99026299e-01],\n",
       "       [9.85569596e-01],\n",
       "       [2.78044254e-01],\n",
       "       [7.34024525e-01],\n",
       "       [1.95787281e-01],\n",
       "       [3.38801704e-02],\n",
       "       [3.96002263e-01],\n",
       "       [6.21809185e-01],\n",
       "       [9.34115574e-02],\n",
       "       [2.50777364e-01],\n",
       "       [2.21252162e-02],\n",
       "       [4.98040020e-01],\n",
       "       [1.74374413e-03],\n",
       "       [9.41185415e-01],\n",
       "       [9.73013461e-01],\n",
       "       [9.95110035e-01],\n",
       "       [9.74768996e-01],\n",
       "       [8.36619139e-01],\n",
       "       [1.24561988e-01],\n",
       "       [5.80146238e-02],\n",
       "       [6.89386547e-01],\n",
       "       [9.02605534e-01],\n",
       "       [9.98527288e-01],\n",
       "       [3.21718864e-03],\n",
       "       [1.37192324e-01],\n",
       "       [1.57065198e-01],\n",
       "       [9.99146879e-01],\n",
       "       [9.99499261e-01],\n",
       "       [3.11875850e-01],\n",
       "       [1.29843399e-01],\n",
       "       [9.96996880e-01],\n",
       "       [6.92839399e-02],\n",
       "       [4.31502581e-01],\n",
       "       [9.85189199e-01],\n",
       "       [1.60365105e-01],\n",
       "       [8.47996101e-02],\n",
       "       [9.46466386e-01],\n",
       "       [3.36813927e-01],\n",
       "       [4.47378933e-01],\n",
       "       [9.72580552e-01],\n",
       "       [1.38200633e-02],\n",
       "       [5.94700426e-02],\n",
       "       [1.08535802e-02],\n",
       "       [2.13731695e-02],\n",
       "       [8.81945193e-02],\n",
       "       [9.71661866e-01],\n",
       "       [2.88449395e-02],\n",
       "       [4.30949956e-01],\n",
       "       [5.08249760e-01],\n",
       "       [1.00604013e-01],\n",
       "       [3.03684562e-01],\n",
       "       [8.81979391e-02],\n",
       "       [3.21235925e-01],\n",
       "       [9.97172236e-01],\n",
       "       [6.38984144e-01],\n",
       "       [1.17773987e-01],\n",
       "       [1.44810975e-01],\n",
       "       [1.37389049e-01],\n",
       "       [8.65059197e-02],\n",
       "       [7.18496203e-01],\n",
       "       [1.69181731e-02],\n",
       "       [9.20952022e-01],\n",
       "       [7.71444798e-01],\n",
       "       [6.01459682e-01],\n",
       "       [6.75031960e-01],\n",
       "       [7.56630480e-01],\n",
       "       [1.08130559e-01],\n",
       "       [3.96801770e-01],\n",
       "       [4.23793286e-01],\n",
       "       [8.84910405e-01],\n",
       "       [2.29663253e-01],\n",
       "       [3.29886764e-01],\n",
       "       [3.82676035e-01],\n",
       "       [1.62332263e-02],\n",
       "       [1.45948336e-01],\n",
       "       [4.36777055e-01],\n",
       "       [7.59850979e-01],\n",
       "       [1.90370813e-01],\n",
       "       [9.87993658e-01],\n",
       "       [9.19493496e-01],\n",
       "       [7.36200035e-01],\n",
       "       [9.86590743e-01],\n",
       "       [1.71311975e-01],\n",
       "       [1.08948387e-01],\n",
       "       [8.99999082e-01],\n",
       "       [1.90056279e-01],\n",
       "       [2.51888670e-02],\n",
       "       [5.28541245e-02],\n",
       "       [9.72769335e-02],\n",
       "       [1.22022326e-03],\n",
       "       [8.49726260e-01],\n",
       "       [8.21050167e-01],\n",
       "       [8.41548324e-01],\n",
       "       [9.42291856e-01],\n",
       "       [6.73142597e-02],\n",
       "       [2.00624898e-01],\n",
       "       [7.38797545e-01],\n",
       "       [1.35335624e-02],\n",
       "       [3.10028553e-01],\n",
       "       [1.70310557e-01],\n",
       "       [6.23744130e-01],\n",
       "       [5.36473215e-01],\n",
       "       [5.39232641e-02],\n",
       "       [6.59742579e-02],\n",
       "       [6.20971143e-01],\n",
       "       [1.47844508e-01],\n",
       "       [1.57543987e-01],\n",
       "       [1.24207638e-01],\n",
       "       [2.24522844e-01],\n",
       "       [9.98974919e-01],\n",
       "       [9.77977455e-01],\n",
       "       [3.19847882e-01],\n",
       "       [8.57776105e-01],\n",
       "       [9.91732419e-01],\n",
       "       [1.02944544e-03],\n",
       "       [9.66739178e-01],\n",
       "       [2.73830593e-01],\n",
       "       [4.52751756e-01],\n",
       "       [3.33094239e-01],\n",
       "       [1.20998569e-01],\n",
       "       [1.33142710e-01],\n",
       "       [3.14639583e-02],\n",
       "       [8.31522271e-02],\n",
       "       [6.41315952e-02],\n",
       "       [7.01228559e-01],\n",
       "       [2.38377497e-01],\n",
       "       [9.95199561e-01],\n",
       "       [6.76062107e-02],\n",
       "       [6.18110597e-01],\n",
       "       [5.68381190e-01],\n",
       "       [1.74212083e-02],\n",
       "       [5.53343296e-02],\n",
       "       [9.66881633e-01],\n",
       "       [7.36547351e-01],\n",
       "       [9.67668831e-01],\n",
       "       [1.49004981e-01],\n",
       "       [7.83301592e-02],\n",
       "       [3.89763296e-01],\n",
       "       [3.28684717e-01],\n",
       "       [3.93423676e-01],\n",
       "       [9.91732419e-01],\n",
       "       [1.52750872e-02],\n",
       "       [4.93246242e-02],\n",
       "       [1.62003458e-01],\n",
       "       [9.97488618e-01],\n",
       "       [1.80204719e-01],\n",
       "       [6.28748909e-02],\n",
       "       [8.14345241e-01],\n",
       "       [6.36793599e-02],\n",
       "       [3.20504308e-02],\n",
       "       [1.69346273e-01],\n",
       "       [2.56861538e-01],\n",
       "       [1.59502864e-01],\n",
       "       [3.46006811e-01],\n",
       "       [3.37275505e-01],\n",
       "       [2.10916981e-01],\n",
       "       [9.92455557e-02],\n",
       "       [4.24481332e-01],\n",
       "       [1.43048503e-02],\n",
       "       [9.39890265e-01],\n",
       "       [8.20692658e-01],\n",
       "       [5.59321165e-01],\n",
       "       [3.85727547e-02],\n",
       "       [2.34882422e-02],\n",
       "       [9.81036365e-01],\n",
       "       [5.42877972e-01],\n",
       "       [9.99529183e-01],\n",
       "       [3.35676253e-01],\n",
       "       [8.92845273e-01],\n",
       "       [1.66145727e-01],\n",
       "       [5.75001717e-01],\n",
       "       [7.72791564e-01],\n",
       "       [2.27962453e-02],\n",
       "       [9.78438735e-01],\n",
       "       [1.48920059e-01],\n",
       "       [5.32485723e-01],\n",
       "       [9.98396337e-01],\n",
       "       [1.59273848e-01],\n",
       "       [3.11844647e-02],\n",
       "       [3.11101586e-01],\n",
       "       [1.56875700e-02],\n",
       "       [5.01009643e-01],\n",
       "       [9.99865353e-01],\n",
       "       [3.48469019e-01],\n",
       "       [9.39480960e-01],\n",
       "       [2.87368357e-01],\n",
       "       [8.04894865e-01],\n",
       "       [2.89736480e-01],\n",
       "       [3.75080913e-01],\n",
       "       [2.25188266e-02],\n",
       "       [5.70804536e-01],\n",
       "       [1.65294185e-02],\n",
       "       [2.62531400e-01],\n",
       "       [9.54611182e-01],\n",
       "       [9.63040888e-01],\n",
       "       [9.96134996e-01],\n",
       "       [7.64636219e-01],\n",
       "       [4.07767557e-02],\n",
       "       [3.71055990e-01],\n",
       "       [2.42479593e-02],\n",
       "       [5.51947117e-01],\n",
       "       [3.64001811e-01],\n",
       "       [9.29730058e-01],\n",
       "       [3.31174321e-02],\n",
       "       [8.05344820e-01],\n",
       "       [8.48462224e-01],\n",
       "       [2.76526988e-01],\n",
       "       [2.66147941e-01],\n",
       "       [3.29886764e-01],\n",
       "       [2.06153452e-01],\n",
       "       [5.26446581e-01],\n",
       "       [6.32768631e-01],\n",
       "       [9.98828232e-01],\n",
       "       [9.05079693e-02],\n",
       "       [8.03759694e-03],\n",
       "       [1.64149590e-02],\n",
       "       [2.93786287e-01],\n",
       "       [2.29330927e-01],\n",
       "       [2.74802092e-02],\n",
       "       [8.54943573e-01],\n",
       "       [9.91577134e-02],\n",
       "       [2.33826682e-01],\n",
       "       [2.22235814e-01],\n",
       "       [2.72547692e-01],\n",
       "       [9.32695568e-01],\n",
       "       [1.66329414e-01],\n",
       "       [4.84018803e-01],\n",
       "       [3.09745073e-01],\n",
       "       [1.18490197e-02],\n",
       "       [1.04905166e-01],\n",
       "       [9.99688089e-01],\n",
       "       [8.31214964e-01],\n",
       "       [4.22876142e-03],\n",
       "       [3.31293583e-01],\n",
       "       [2.10956886e-01],\n",
       "       [6.18070029e-02],\n",
       "       [8.87546957e-01],\n",
       "       [4.98211056e-01],\n",
       "       [6.57720387e-01],\n",
       "       [3.49165678e-01],\n",
       "       [2.08374947e-01],\n",
       "       [6.63629353e-01],\n",
       "       [2.09457576e-01],\n",
       "       [5.15863784e-02],\n",
       "       [8.82571340e-01],\n",
       "       [1.94065571e-01],\n",
       "       [4.00734901e-01],\n",
       "       [9.88632739e-01],\n",
       "       [3.30215067e-01],\n",
       "       [5.08525372e-01],\n",
       "       [1.22022326e-03],\n",
       "       [3.80392849e-01],\n",
       "       [8.28115821e-01],\n",
       "       [9.99790668e-01],\n",
       "       [7.12010562e-01],\n",
       "       [4.78111245e-02],\n",
       "       [9.93537605e-01],\n",
       "       [3.86676967e-01],\n",
       "       [8.76610637e-01],\n",
       "       [3.86676967e-01],\n",
       "       [9.92851436e-01],\n",
       "       [1.06194429e-02],\n",
       "       [4.78266090e-01],\n",
       "       [1.10018708e-01],\n",
       "       [9.68562365e-01],\n",
       "       [2.39855185e-01],\n",
       "       [4.07806873e-01],\n",
       "       [6.15665093e-02],\n",
       "       [3.33292693e-01],\n",
       "       [1.18091114e-01],\n",
       "       [1.64493192e-02],\n",
       "       [2.55655557e-01],\n",
       "       [5.73573187e-02],\n",
       "       [1.52773768e-01],\n",
       "       [7.91361630e-01],\n",
       "       [3.14693637e-02],\n",
       "       [1.74957708e-01],\n",
       "       [3.86068299e-02],\n",
       "       [1.15157105e-02],\n",
       "       [1.15285002e-01],\n",
       "       [6.09008729e-01],\n",
       "       [7.19815418e-02],\n",
       "       [5.83427548e-01],\n",
       "       [1.22678138e-01],\n",
       "       [2.01522753e-01],\n",
       "       [9.03606951e-01],\n",
       "       [1.58219889e-01],\n",
       "       [4.14255634e-02],\n",
       "       [5.59794270e-02],\n",
       "       [4.57080780e-03],\n",
       "       [9.88000631e-01],\n",
       "       [1.15157105e-02],\n",
       "       [3.24678272e-01],\n",
       "       [9.93776560e-01],\n",
       "       [9.94909585e-01],\n",
       "       [9.97886837e-01],\n",
       "       [9.99897242e-01],\n",
       "       [9.99449492e-01],\n",
       "       [2.30198056e-01],\n",
       "       [1.01597697e-01],\n",
       "       [3.12746167e-01],\n",
       "       [5.56499481e-01],\n",
       "       [9.97375250e-01],\n",
       "       [5.21122336e-01],\n",
       "       [2.59252876e-01],\n",
       "       [5.15893936e-01],\n",
       "       [7.16666937e-01],\n",
       "       [2.86655426e-02],\n",
       "       [8.14756379e-03],\n",
       "       [1.14380248e-01],\n",
       "       [3.73602778e-01],\n",
       "       [7.56179588e-03],\n",
       "       [9.97617617e-02],\n",
       "       [3.55534971e-01],\n",
       "       [9.89301860e-01],\n",
       "       [2.78900713e-02],\n",
       "       [8.84462655e-01],\n",
       "       [7.91093111e-01],\n",
       "       [8.87086466e-02],\n",
       "       [3.41198683e-01],\n",
       "       [1.18464731e-01],\n",
       "       [7.60779977e-01],\n",
       "       [4.26133573e-01],\n",
       "       [1.02618197e-02]], dtype=float32)"
      ]
     },
     "execution_count": 165,
     "metadata": {},
     "output_type": "execute_result"
    }
   ],
   "source": [
    "model_1_pred_probs"
   ]
  },
  {
   "cell_type": "code",
   "execution_count": 166,
   "metadata": {},
   "outputs": [
    {
     "data": {
      "text/plain": [
       "array([[0.3369913 ],\n",
       "       [0.7340245 ],\n",
       "       [0.9975741 ],\n",
       "       [0.18833424],\n",
       "       [0.10387814],\n",
       "       [0.9415571 ],\n",
       "       [0.88698274],\n",
       "       [0.9942876 ],\n",
       "       [0.9621754 ],\n",
       "       [0.3895134 ]], dtype=float32)"
      ]
     },
     "execution_count": 166,
     "metadata": {},
     "output_type": "execute_result"
    }
   ],
   "source": [
    "model_1_pred_probs[:10] "
   ]
  },
  {
   "cell_type": "code",
   "execution_count": 167,
   "metadata": {},
   "outputs": [],
   "source": [
    "model_1_preds=tf.squeeze(tf.round(model_1_pred_probs))"
   ]
  },
  {
   "cell_type": "code",
   "execution_count": 168,
   "metadata": {},
   "outputs": [
    {
     "data": {
      "text/plain": [
       "<tf.Tensor: shape=(20,), dtype=float32, numpy=\n",
       "array([0., 1., 1., 0., 0., 1., 1., 1., 1., 0., 0., 1., 0., 0., 0., 0., 0.,\n",
       "       0., 0., 1.], dtype=float32)>"
      ]
     },
     "execution_count": 168,
     "metadata": {},
     "output_type": "execute_result"
    }
   ],
   "source": [
    "model_1_preds[:20]"
   ]
  },
  {
   "cell_type": "code",
   "execution_count": 169,
   "metadata": {},
   "outputs": [],
   "source": [
    "model_1_results = calculate_results(val_labels,model_1_preds)"
   ]
  },
  {
   "cell_type": "code",
   "execution_count": 170,
   "metadata": {},
   "outputs": [
    {
     "data": {
      "text/plain": [
       "{'accuracy': 78.21522309711287,\n",
       " 'precision': 0.7849731976577976,\n",
       " 'recall': 0.7821522309711286,\n",
       " 'f1': 0.7797935460636591}"
      ]
     },
     "execution_count": 170,
     "metadata": {},
     "output_type": "execute_result"
    }
   ],
   "source": [
    "model_1_results"
   ]
  },
  {
   "cell_type": "code",
   "execution_count": 171,
   "metadata": {},
   "outputs": [
    {
     "data": {
      "text/plain": [
       "{'accuracy': 79.26509186351706,\n",
       " 'precision': 0.8111390004213173,\n",
       " 'recall': 0.7926509186351706,\n",
       " 'f1': 0.7862189758049549}"
      ]
     },
     "execution_count": 171,
     "metadata": {},
     "output_type": "execute_result"
    }
   ],
   "source": [
    "baseline_results"
   ]
  },
  {
   "cell_type": "code",
   "execution_count": 172,
   "metadata": {},
   "outputs": [
    {
     "data": {
      "text/plain": [
       "array([False, False, False, False])"
      ]
     },
     "execution_count": 172,
     "metadata": {},
     "output_type": "execute_result"
    }
   ],
   "source": [
    "import numpy as np \n",
    "np.array(list(model_1_results.values())) > np.array(list(baseline_results.values()))"
   ]
  },
  {
   "cell_type": "code",
   "execution_count": 173,
   "metadata": {},
   "outputs": [
    {
     "data": {
      "text/plain": [
       "(10000, ['', '[UNK]', 'the', 'a', 'in', 'to', 'of', 'and', 'i', 'is'])"
      ]
     },
     "execution_count": 173,
     "metadata": {},
     "output_type": "execute_result"
    }
   ],
   "source": [
    "words_in_vocab = text_vectorizer.get_vocabulary()\n",
    "len(words_in_vocab),words_in_vocab[:10]"
   ]
  },
  {
   "cell_type": "code",
   "execution_count": 174,
   "metadata": {},
   "outputs": [
    {
     "data": {
      "text/html": [
       "<pre style=\"white-space:pre;overflow-x:auto;line-height:normal;font-family:Menlo,'DejaVu Sans Mono',consolas,'Courier New',monospace\"><span style=\"font-weight: bold\">Model: \"model_1_dense\"</span>\n",
       "</pre>\n"
      ],
      "text/plain": [
       "\u001b[1mModel: \"model_1_dense\"\u001b[0m\n"
      ]
     },
     "metadata": {},
     "output_type": "display_data"
    },
    {
     "data": {
      "text/html": [
       "<pre style=\"white-space:pre;overflow-x:auto;line-height:normal;font-family:Menlo,'DejaVu Sans Mono',consolas,'Courier New',monospace\">┏━━━━━━━━━━━━━━━━━━━━━━━━━━━━━━━━━┳━━━━━━━━━━━━━━━━━━━━━━━━┳━━━━━━━━━━━━━━━┓\n",
       "┃<span style=\"font-weight: bold\"> Layer (type)                    </span>┃<span style=\"font-weight: bold\"> Output Shape           </span>┃<span style=\"font-weight: bold\">       Param # </span>┃\n",
       "┡━━━━━━━━━━━━━━━━━━━━━━━━━━━━━━━━━╇━━━━━━━━━━━━━━━━━━━━━━━━╇━━━━━━━━━━━━━━━┩\n",
       "│ input_layer_14 (<span style=\"color: #0087ff; text-decoration-color: #0087ff\">InputLayer</span>)     │ (<span style=\"color: #00d7ff; text-decoration-color: #00d7ff\">None</span>, <span style=\"color: #00af00; text-decoration-color: #00af00\">1</span>)              │             <span style=\"color: #00af00; text-decoration-color: #00af00\">0</span> │\n",
       "├─────────────────────────────────┼────────────────────────┼───────────────┤\n",
       "│ text_vectorization_1            │ (<span style=\"color: #00d7ff; text-decoration-color: #00d7ff\">None</span>, <span style=\"color: #00af00; text-decoration-color: #00af00\">15</span>)             │             <span style=\"color: #00af00; text-decoration-color: #00af00\">0</span> │\n",
       "│ (<span style=\"color: #0087ff; text-decoration-color: #0087ff\">TextVectorization</span>)             │                        │               │\n",
       "├─────────────────────────────────┼────────────────────────┼───────────────┤\n",
       "│ embedding_1 (<span style=\"color: #0087ff; text-decoration-color: #0087ff\">Embedding</span>)         │ (<span style=\"color: #00d7ff; text-decoration-color: #00d7ff\">None</span>, <span style=\"color: #00af00; text-decoration-color: #00af00\">15</span>, <span style=\"color: #00af00; text-decoration-color: #00af00\">128</span>)        │     <span style=\"color: #00af00; text-decoration-color: #00af00\">1,280,000</span> │\n",
       "├─────────────────────────────────┼────────────────────────┼───────────────┤\n",
       "│ global_average_pooling1d_3      │ (<span style=\"color: #00d7ff; text-decoration-color: #00d7ff\">None</span>, <span style=\"color: #00af00; text-decoration-color: #00af00\">128</span>)            │             <span style=\"color: #00af00; text-decoration-color: #00af00\">0</span> │\n",
       "│ (<span style=\"color: #0087ff; text-decoration-color: #0087ff\">GlobalAveragePooling1D</span>)        │                        │               │\n",
       "├─────────────────────────────────┼────────────────────────┼───────────────┤\n",
       "│ dense_12 (<span style=\"color: #0087ff; text-decoration-color: #0087ff\">Dense</span>)                │ (<span style=\"color: #00d7ff; text-decoration-color: #00d7ff\">None</span>, <span style=\"color: #00af00; text-decoration-color: #00af00\">1</span>)              │           <span style=\"color: #00af00; text-decoration-color: #00af00\">129</span> │\n",
       "└─────────────────────────────────┴────────────────────────┴───────────────┘\n",
       "</pre>\n"
      ],
      "text/plain": [
       "┏━━━━━━━━━━━━━━━━━━━━━━━━━━━━━━━━━┳━━━━━━━━━━━━━━━━━━━━━━━━┳━━━━━━━━━━━━━━━┓\n",
       "┃\u001b[1m \u001b[0m\u001b[1mLayer (type)                   \u001b[0m\u001b[1m \u001b[0m┃\u001b[1m \u001b[0m\u001b[1mOutput Shape          \u001b[0m\u001b[1m \u001b[0m┃\u001b[1m \u001b[0m\u001b[1m      Param #\u001b[0m\u001b[1m \u001b[0m┃\n",
       "┡━━━━━━━━━━━━━━━━━━━━━━━━━━━━━━━━━╇━━━━━━━━━━━━━━━━━━━━━━━━╇━━━━━━━━━━━━━━━┩\n",
       "│ input_layer_14 (\u001b[38;5;33mInputLayer\u001b[0m)     │ (\u001b[38;5;45mNone\u001b[0m, \u001b[38;5;34m1\u001b[0m)              │             \u001b[38;5;34m0\u001b[0m │\n",
       "├─────────────────────────────────┼────────────────────────┼───────────────┤\n",
       "│ text_vectorization_1            │ (\u001b[38;5;45mNone\u001b[0m, \u001b[38;5;34m15\u001b[0m)             │             \u001b[38;5;34m0\u001b[0m │\n",
       "│ (\u001b[38;5;33mTextVectorization\u001b[0m)             │                        │               │\n",
       "├─────────────────────────────────┼────────────────────────┼───────────────┤\n",
       "│ embedding_1 (\u001b[38;5;33mEmbedding\u001b[0m)         │ (\u001b[38;5;45mNone\u001b[0m, \u001b[38;5;34m15\u001b[0m, \u001b[38;5;34m128\u001b[0m)        │     \u001b[38;5;34m1,280,000\u001b[0m │\n",
       "├─────────────────────────────────┼────────────────────────┼───────────────┤\n",
       "│ global_average_pooling1d_3      │ (\u001b[38;5;45mNone\u001b[0m, \u001b[38;5;34m128\u001b[0m)            │             \u001b[38;5;34m0\u001b[0m │\n",
       "│ (\u001b[38;5;33mGlobalAveragePooling1D\u001b[0m)        │                        │               │\n",
       "├─────────────────────────────────┼────────────────────────┼───────────────┤\n",
       "│ dense_12 (\u001b[38;5;33mDense\u001b[0m)                │ (\u001b[38;5;45mNone\u001b[0m, \u001b[38;5;34m1\u001b[0m)              │           \u001b[38;5;34m129\u001b[0m │\n",
       "└─────────────────────────────────┴────────────────────────┴───────────────┘\n"
      ]
     },
     "metadata": {},
     "output_type": "display_data"
    },
    {
     "data": {
      "text/html": [
       "<pre style=\"white-space:pre;overflow-x:auto;line-height:normal;font-family:Menlo,'DejaVu Sans Mono',consolas,'Courier New',monospace\"><span style=\"font-weight: bold\"> Total params: </span><span style=\"color: #00af00; text-decoration-color: #00af00\">3,840,389</span> (14.65 MB)\n",
       "</pre>\n"
      ],
      "text/plain": [
       "\u001b[1m Total params: \u001b[0m\u001b[38;5;34m3,840,389\u001b[0m (14.65 MB)\n"
      ]
     },
     "metadata": {},
     "output_type": "display_data"
    },
    {
     "data": {
      "text/html": [
       "<pre style=\"white-space:pre;overflow-x:auto;line-height:normal;font-family:Menlo,'DejaVu Sans Mono',consolas,'Courier New',monospace\"><span style=\"font-weight: bold\"> Trainable params: </span><span style=\"color: #00af00; text-decoration-color: #00af00\">1,280,129</span> (4.88 MB)\n",
       "</pre>\n"
      ],
      "text/plain": [
       "\u001b[1m Trainable params: \u001b[0m\u001b[38;5;34m1,280,129\u001b[0m (4.88 MB)\n"
      ]
     },
     "metadata": {},
     "output_type": "display_data"
    },
    {
     "data": {
      "text/html": [
       "<pre style=\"white-space:pre;overflow-x:auto;line-height:normal;font-family:Menlo,'DejaVu Sans Mono',consolas,'Courier New',monospace\"><span style=\"font-weight: bold\"> Non-trainable params: </span><span style=\"color: #00af00; text-decoration-color: #00af00\">0</span> (0.00 B)\n",
       "</pre>\n"
      ],
      "text/plain": [
       "\u001b[1m Non-trainable params: \u001b[0m\u001b[38;5;34m0\u001b[0m (0.00 B)\n"
      ]
     },
     "metadata": {},
     "output_type": "display_data"
    },
    {
     "data": {
      "text/html": [
       "<pre style=\"white-space:pre;overflow-x:auto;line-height:normal;font-family:Menlo,'DejaVu Sans Mono',consolas,'Courier New',monospace\"><span style=\"font-weight: bold\"> Optimizer params: </span><span style=\"color: #00af00; text-decoration-color: #00af00\">2,560,260</span> (9.77 MB)\n",
       "</pre>\n"
      ],
      "text/plain": [
       "\u001b[1m Optimizer params: \u001b[0m\u001b[38;5;34m2,560,260\u001b[0m (9.77 MB)\n"
      ]
     },
     "metadata": {},
     "output_type": "display_data"
    }
   ],
   "source": [
    "model_1.summary()"
   ]
  },
  {
   "cell_type": "code",
   "execution_count": 175,
   "metadata": {},
   "outputs": [],
   "source": [
    "embed_weights = model_1.get_layer(\"embedding_1\").get_weights()[0]"
   ]
  },
  {
   "cell_type": "code",
   "execution_count": 176,
   "metadata": {},
   "outputs": [
    {
     "data": {
      "text/plain": [
       "array([[-0.02935853, -0.04213534, -0.0051817 , ..., -0.00036777,\n",
       "         0.00797984, -0.01514507],\n",
       "       [ 0.05743232, -0.00693309, -0.05185055, ...,  0.05595633,\n",
       "        -0.01801711, -0.00992973],\n",
       "       [ 0.0326535 ,  0.01988475,  0.00592827, ..., -0.01490699,\n",
       "        -0.03524092, -0.01868843],\n",
       "       ...,\n",
       "       [-0.04538136, -0.04546374, -0.02472192, ...,  0.01657373,\n",
       "         0.03870112,  0.04251558],\n",
       "       [ 0.05804038,  0.0020533 , -0.08560403, ...,  0.07715129,\n",
       "        -0.04442613, -0.08638147],\n",
       "       [ 0.04104766,  0.07099049, -0.06452668, ...,  0.04843402,\n",
       "        -0.01841608, -0.07279117]], dtype=float32)"
      ]
     },
     "execution_count": 176,
     "metadata": {},
     "output_type": "execute_result"
    }
   ],
   "source": [
    "embed_weights"
   ]
  },
  {
   "cell_type": "code",
   "execution_count": 177,
   "metadata": {},
   "outputs": [
    {
     "data": {
      "text/plain": [
       "(10000, 128)"
      ]
     },
     "execution_count": 177,
     "metadata": {},
     "output_type": "execute_result"
    }
   ],
   "source": [
    "embed_weights.shape"
   ]
  },
  {
   "cell_type": "code",
   "execution_count": 178,
   "metadata": {},
   "outputs": [],
   "source": [
    "import io\n",
    "out_v = io.open('vectors.tsv', 'w', encoding='utf-8')\n",
    "out_m = io.open('metadata.tsv', 'w', encoding='utf-8')\n",
    "\n",
    "for index, word in enumerate(words_in_vocab):\n",
    "  if index == 0:\n",
    "    continue  # skip 0, it's padding.\n",
    "  vec = embed_weights[index]\n",
    "  out_v.write('\\t'.join([str(x) for x in vec]) + \"\\n\")\n",
    "  out_m.write(word + \"\\n\")\n",
    "out_v.close()\n",
    "out_m.close()"
   ]
  },
  {
   "cell_type": "code",
   "execution_count": 179,
   "metadata": {},
   "outputs": [],
   "source": [
    "from tensorflow.keras import  layers"
   ]
  },
  {
   "cell_type": "code",
   "execution_count": 180,
   "metadata": {},
   "outputs": [],
   "source": [
    "inputs = layers.Input(shape=(1,),dtype=tf.string)\n",
    "x=text_vectorizer(inputs)\n",
    "x=embeddings(x)\n",
    "# x=layers.LSTM(64,return_sequences=True)(x)\n",
    "x=layers.LSTM(64)(x)\n",
    "outputs=layers.Dense(1,activation=\"sigmoid\")(x)\n",
    "model_2=tf.keras.Model(inputs,outputs,name=\"model_2_LTSM\")\n",
    "\n",
    " "
   ]
  },
  {
   "cell_type": "code",
   "execution_count": 181,
   "metadata": {},
   "outputs": [
    {
     "data": {
      "text/html": [
       "<pre style=\"white-space:pre;overflow-x:auto;line-height:normal;font-family:Menlo,'DejaVu Sans Mono',consolas,'Courier New',monospace\"><span style=\"font-weight: bold\">Model: \"model_2_LTSM\"</span>\n",
       "</pre>\n"
      ],
      "text/plain": [
       "\u001b[1mModel: \"model_2_LTSM\"\u001b[0m\n"
      ]
     },
     "metadata": {},
     "output_type": "display_data"
    },
    {
     "data": {
      "text/html": [
       "<pre style=\"white-space:pre;overflow-x:auto;line-height:normal;font-family:Menlo,'DejaVu Sans Mono',consolas,'Courier New',monospace\">┏━━━━━━━━━━━━━━━━━━━━━━━━━━━━━━━━━┳━━━━━━━━━━━━━━━━━━━━━━━━┳━━━━━━━━━━━━━━━┓\n",
       "┃<span style=\"font-weight: bold\"> Layer (type)                    </span>┃<span style=\"font-weight: bold\"> Output Shape           </span>┃<span style=\"font-weight: bold\">       Param # </span>┃\n",
       "┡━━━━━━━━━━━━━━━━━━━━━━━━━━━━━━━━━╇━━━━━━━━━━━━━━━━━━━━━━━━╇━━━━━━━━━━━━━━━┩\n",
       "│ input_layer_15 (<span style=\"color: #0087ff; text-decoration-color: #0087ff\">InputLayer</span>)     │ (<span style=\"color: #00d7ff; text-decoration-color: #00d7ff\">None</span>, <span style=\"color: #00af00; text-decoration-color: #00af00\">1</span>)              │             <span style=\"color: #00af00; text-decoration-color: #00af00\">0</span> │\n",
       "├─────────────────────────────────┼────────────────────────┼───────────────┤\n",
       "│ text_vectorization_1            │ (<span style=\"color: #00d7ff; text-decoration-color: #00d7ff\">None</span>, <span style=\"color: #00af00; text-decoration-color: #00af00\">15</span>)             │             <span style=\"color: #00af00; text-decoration-color: #00af00\">0</span> │\n",
       "│ (<span style=\"color: #0087ff; text-decoration-color: #0087ff\">TextVectorization</span>)             │                        │               │\n",
       "├─────────────────────────────────┼────────────────────────┼───────────────┤\n",
       "│ embedding_1 (<span style=\"color: #0087ff; text-decoration-color: #0087ff\">Embedding</span>)         │ (<span style=\"color: #00d7ff; text-decoration-color: #00d7ff\">None</span>, <span style=\"color: #00af00; text-decoration-color: #00af00\">15</span>, <span style=\"color: #00af00; text-decoration-color: #00af00\">128</span>)        │     <span style=\"color: #00af00; text-decoration-color: #00af00\">1,280,000</span> │\n",
       "├─────────────────────────────────┼────────────────────────┼───────────────┤\n",
       "│ lstm_6 (<span style=\"color: #0087ff; text-decoration-color: #0087ff\">LSTM</span>)                   │ (<span style=\"color: #00d7ff; text-decoration-color: #00d7ff\">None</span>, <span style=\"color: #00af00; text-decoration-color: #00af00\">64</span>)             │        <span style=\"color: #00af00; text-decoration-color: #00af00\">49,408</span> │\n",
       "├─────────────────────────────────┼────────────────────────┼───────────────┤\n",
       "│ dense_13 (<span style=\"color: #0087ff; text-decoration-color: #0087ff\">Dense</span>)                │ (<span style=\"color: #00d7ff; text-decoration-color: #00d7ff\">None</span>, <span style=\"color: #00af00; text-decoration-color: #00af00\">1</span>)              │            <span style=\"color: #00af00; text-decoration-color: #00af00\">65</span> │\n",
       "└─────────────────────────────────┴────────────────────────┴───────────────┘\n",
       "</pre>\n"
      ],
      "text/plain": [
       "┏━━━━━━━━━━━━━━━━━━━━━━━━━━━━━━━━━┳━━━━━━━━━━━━━━━━━━━━━━━━┳━━━━━━━━━━━━━━━┓\n",
       "┃\u001b[1m \u001b[0m\u001b[1mLayer (type)                   \u001b[0m\u001b[1m \u001b[0m┃\u001b[1m \u001b[0m\u001b[1mOutput Shape          \u001b[0m\u001b[1m \u001b[0m┃\u001b[1m \u001b[0m\u001b[1m      Param #\u001b[0m\u001b[1m \u001b[0m┃\n",
       "┡━━━━━━━━━━━━━━━━━━━━━━━━━━━━━━━━━╇━━━━━━━━━━━━━━━━━━━━━━━━╇━━━━━━━━━━━━━━━┩\n",
       "│ input_layer_15 (\u001b[38;5;33mInputLayer\u001b[0m)     │ (\u001b[38;5;45mNone\u001b[0m, \u001b[38;5;34m1\u001b[0m)              │             \u001b[38;5;34m0\u001b[0m │\n",
       "├─────────────────────────────────┼────────────────────────┼───────────────┤\n",
       "│ text_vectorization_1            │ (\u001b[38;5;45mNone\u001b[0m, \u001b[38;5;34m15\u001b[0m)             │             \u001b[38;5;34m0\u001b[0m │\n",
       "│ (\u001b[38;5;33mTextVectorization\u001b[0m)             │                        │               │\n",
       "├─────────────────────────────────┼────────────────────────┼───────────────┤\n",
       "│ embedding_1 (\u001b[38;5;33mEmbedding\u001b[0m)         │ (\u001b[38;5;45mNone\u001b[0m, \u001b[38;5;34m15\u001b[0m, \u001b[38;5;34m128\u001b[0m)        │     \u001b[38;5;34m1,280,000\u001b[0m │\n",
       "├─────────────────────────────────┼────────────────────────┼───────────────┤\n",
       "│ lstm_6 (\u001b[38;5;33mLSTM\u001b[0m)                   │ (\u001b[38;5;45mNone\u001b[0m, \u001b[38;5;34m64\u001b[0m)             │        \u001b[38;5;34m49,408\u001b[0m │\n",
       "├─────────────────────────────────┼────────────────────────┼───────────────┤\n",
       "│ dense_13 (\u001b[38;5;33mDense\u001b[0m)                │ (\u001b[38;5;45mNone\u001b[0m, \u001b[38;5;34m1\u001b[0m)              │            \u001b[38;5;34m65\u001b[0m │\n",
       "└─────────────────────────────────┴────────────────────────┴───────────────┘\n"
      ]
     },
     "metadata": {},
     "output_type": "display_data"
    },
    {
     "data": {
      "text/html": [
       "<pre style=\"white-space:pre;overflow-x:auto;line-height:normal;font-family:Menlo,'DejaVu Sans Mono',consolas,'Courier New',monospace\"><span style=\"font-weight: bold\"> Total params: </span><span style=\"color: #00af00; text-decoration-color: #00af00\">1,329,473</span> (5.07 MB)\n",
       "</pre>\n"
      ],
      "text/plain": [
       "\u001b[1m Total params: \u001b[0m\u001b[38;5;34m1,329,473\u001b[0m (5.07 MB)\n"
      ]
     },
     "metadata": {},
     "output_type": "display_data"
    },
    {
     "data": {
      "text/html": [
       "<pre style=\"white-space:pre;overflow-x:auto;line-height:normal;font-family:Menlo,'DejaVu Sans Mono',consolas,'Courier New',monospace\"><span style=\"font-weight: bold\"> Trainable params: </span><span style=\"color: #00af00; text-decoration-color: #00af00\">1,329,473</span> (5.07 MB)\n",
       "</pre>\n"
      ],
      "text/plain": [
       "\u001b[1m Trainable params: \u001b[0m\u001b[38;5;34m1,329,473\u001b[0m (5.07 MB)\n"
      ]
     },
     "metadata": {},
     "output_type": "display_data"
    },
    {
     "data": {
      "text/html": [
       "<pre style=\"white-space:pre;overflow-x:auto;line-height:normal;font-family:Menlo,'DejaVu Sans Mono',consolas,'Courier New',monospace\"><span style=\"font-weight: bold\"> Non-trainable params: </span><span style=\"color: #00af00; text-decoration-color: #00af00\">0</span> (0.00 B)\n",
       "</pre>\n"
      ],
      "text/plain": [
       "\u001b[1m Non-trainable params: \u001b[0m\u001b[38;5;34m0\u001b[0m (0.00 B)\n"
      ]
     },
     "metadata": {},
     "output_type": "display_data"
    }
   ],
   "source": [
    "model_2.summary()"
   ]
  },
  {
   "cell_type": "code",
   "execution_count": 182,
   "metadata": {},
   "outputs": [],
   "source": [
    "model_2.compile(loss=\"binary_crossentropy\",\n",
    "                optimizer=tf.keras.optimizers.Adam(),\n",
    "                metrics=[\"accuracy\"])"
   ]
  },
  {
   "cell_type": "code",
   "execution_count": 183,
   "metadata": {},
   "outputs": [
    {
     "name": "stdout",
     "output_type": "stream",
     "text": [
      "Saving TensorBoard log files to: model_logs/model_2_LTSM/20240912-111401\n",
      "Epoch 1/5\n",
      "\u001b[1m215/215\u001b[0m \u001b[32m━━━━━━━━━━━━━━━━━━━━\u001b[0m\u001b[37m\u001b[0m \u001b[1m8s\u001b[0m 22ms/step - accuracy: 0.9175 - loss: 0.2891 - val_accuracy: 0.7769 - val_loss: 0.5404\n",
      "Epoch 2/5\n",
      "\u001b[1m215/215\u001b[0m \u001b[32m━━━━━━━━━━━━━━━━━━━━\u001b[0m\u001b[37m\u001b[0m \u001b[1m5s\u001b[0m 21ms/step - accuracy: 0.9361 - loss: 0.1692 - val_accuracy: 0.7782 - val_loss: 0.5967\n",
      "Epoch 3/5\n",
      "\u001b[1m215/215\u001b[0m \u001b[32m━━━━━━━━━━━━━━━━━━━━\u001b[0m\u001b[37m\u001b[0m \u001b[1m5s\u001b[0m 23ms/step - accuracy: 0.9478 - loss: 0.1382 - val_accuracy: 0.7717 - val_loss: 0.6859\n",
      "Epoch 4/5\n",
      "\u001b[1m215/215\u001b[0m \u001b[32m━━━━━━━━━━━━━━━━━━━━\u001b[0m\u001b[37m\u001b[0m \u001b[1m5s\u001b[0m 24ms/step - accuracy: 0.9581 - loss: 0.1139 - val_accuracy: 0.7690 - val_loss: 0.7747\n",
      "Epoch 5/5\n",
      "\u001b[1m215/215\u001b[0m \u001b[32m━━━━━━━━━━━━━━━━━━━━\u001b[0m\u001b[37m\u001b[0m \u001b[1m5s\u001b[0m 21ms/step - accuracy: 0.9669 - loss: 0.0925 - val_accuracy: 0.7638 - val_loss: 0.8806\n"
     ]
    },
    {
     "data": {
      "text/plain": [
       "<keras.src.callbacks.history.History at 0x795cdd952900>"
      ]
     },
     "execution_count": 183,
     "metadata": {},
     "output_type": "execute_result"
    }
   ],
   "source": [
    "model_2.fit(train_sentences,train_labels,epochs=5,validation_data=(val_sentences,val_labels),callbacks=[create_tensorboard_callback(SAVE_DIR,\"model_2_LTSM\")])"
   ]
  },
  {
   "cell_type": "code",
   "execution_count": 184,
   "metadata": {},
   "outputs": [
    {
     "name": "stdout",
     "output_type": "stream",
     "text": [
      "\u001b[1m24/24\u001b[0m \u001b[32m━━━━━━━━━━━━━━━━━━━━\u001b[0m\u001b[37m\u001b[0m \u001b[1m1s\u001b[0m 14ms/step\n"
     ]
    }
   ],
   "source": [
    "model_2_pred_probs = model_2.predict(val_sentences)"
   ]
  },
  {
   "cell_type": "code",
   "execution_count": 185,
   "metadata": {},
   "outputs": [
    {
     "data": {
      "text/plain": [
       "array([[0.3369913 ],\n",
       "       [0.7340245 ],\n",
       "       [0.9975741 ],\n",
       "       [0.18833424],\n",
       "       [0.10387814],\n",
       "       [0.9415571 ],\n",
       "       [0.88698274],\n",
       "       [0.9942876 ],\n",
       "       [0.9621754 ],\n",
       "       [0.3895134 ]], dtype=float32)"
      ]
     },
     "execution_count": 185,
     "metadata": {},
     "output_type": "execute_result"
    }
   ],
   "source": [
    "model_1_pred_probs[:10]"
   ]
  },
  {
   "cell_type": "code",
   "execution_count": 186,
   "metadata": {},
   "outputs": [
    {
     "data": {
      "text/plain": [
       "<tf.Tensor: shape=(10,), dtype=float32, numpy=array([0., 1., 1., 0., 0., 1., 1., 1., 1., 0.], dtype=float32)>"
      ]
     },
     "execution_count": 186,
     "metadata": {},
     "output_type": "execute_result"
    }
   ],
   "source": [
    "model_2_preds = tf.squeeze(tf.round(model_2_pred_probs))\n",
    "model_2_preds[:10]"
   ]
  },
  {
   "cell_type": "code",
   "execution_count": 187,
   "metadata": {},
   "outputs": [],
   "source": [
    "model_2_results = calculate_results(val_labels,model_2_preds)"
   ]
  },
  {
   "cell_type": "code",
   "execution_count": 188,
   "metadata": {},
   "outputs": [
    {
     "data": {
      "text/plain": [
       "{'accuracy': 76.37795275590551,\n",
       " 'precision': 0.7654647714490235,\n",
       " 'recall': 0.7637795275590551,\n",
       " 'f1': 0.7615024149378589}"
      ]
     },
     "execution_count": 188,
     "metadata": {},
     "output_type": "execute_result"
    }
   ],
   "source": [
    "model_2_results"
   ]
  },
  {
   "cell_type": "code",
   "execution_count": 189,
   "metadata": {},
   "outputs": [
    {
     "data": {
      "text/plain": [
       "{'accuracy': 79.26509186351706,\n",
       " 'precision': 0.8111390004213173,\n",
       " 'recall': 0.7926509186351706,\n",
       " 'f1': 0.7862189758049549}"
      ]
     },
     "execution_count": 189,
     "metadata": {},
     "output_type": "execute_result"
    }
   ],
   "source": [
    "baseline_results"
   ]
  },
  {
   "cell_type": "code",
   "execution_count": 190,
   "metadata": {},
   "outputs": [],
   "source": [
    "inputs = layers.Input(shape=(1,),dtype=tf.string)\n",
    "x=text_vectorizer(inputs)\n",
    "x=embeddings(x)\n",
    "# x=layers.GRU(64,return_sequences=True)(x)\n",
    "# x=layers.LSTM(64,return_sequences=True)(x)\n",
    "# x=layers.GRU(64)(x)\n",
    "# x=layers.GlobalAveragePooling1D()(x)\n",
    "x=layers.GRU(64)(x)\n",
    "x=layers.Dense(64,activation=\"relu\")(x)\n",
    "outputs = layers.Dense(1,activation=\"sigmoid\")(x)\n",
    "model_3=tf.keras.Model(inputs,outputs,name=\"model_3_GRU\")\n",
    "\n",
    "\n"
   ]
  },
  {
   "cell_type": "code",
   "execution_count": 191,
   "metadata": {},
   "outputs": [
    {
     "data": {
      "text/html": [
       "<pre style=\"white-space:pre;overflow-x:auto;line-height:normal;font-family:Menlo,'DejaVu Sans Mono',consolas,'Courier New',monospace\"><span style=\"font-weight: bold\">Model: \"model_3_GRU\"</span>\n",
       "</pre>\n"
      ],
      "text/plain": [
       "\u001b[1mModel: \"model_3_GRU\"\u001b[0m\n"
      ]
     },
     "metadata": {},
     "output_type": "display_data"
    },
    {
     "data": {
      "text/html": [
       "<pre style=\"white-space:pre;overflow-x:auto;line-height:normal;font-family:Menlo,'DejaVu Sans Mono',consolas,'Courier New',monospace\">┏━━━━━━━━━━━━━━━━━━━━━━━━━━━━━━━━━┳━━━━━━━━━━━━━━━━━━━━━━━━┳━━━━━━━━━━━━━━━┓\n",
       "┃<span style=\"font-weight: bold\"> Layer (type)                    </span>┃<span style=\"font-weight: bold\"> Output Shape           </span>┃<span style=\"font-weight: bold\">       Param # </span>┃\n",
       "┡━━━━━━━━━━━━━━━━━━━━━━━━━━━━━━━━━╇━━━━━━━━━━━━━━━━━━━━━━━━╇━━━━━━━━━━━━━━━┩\n",
       "│ input_layer_16 (<span style=\"color: #0087ff; text-decoration-color: #0087ff\">InputLayer</span>)     │ (<span style=\"color: #00d7ff; text-decoration-color: #00d7ff\">None</span>, <span style=\"color: #00af00; text-decoration-color: #00af00\">1</span>)              │             <span style=\"color: #00af00; text-decoration-color: #00af00\">0</span> │\n",
       "├─────────────────────────────────┼────────────────────────┼───────────────┤\n",
       "│ text_vectorization_1            │ (<span style=\"color: #00d7ff; text-decoration-color: #00d7ff\">None</span>, <span style=\"color: #00af00; text-decoration-color: #00af00\">15</span>)             │             <span style=\"color: #00af00; text-decoration-color: #00af00\">0</span> │\n",
       "│ (<span style=\"color: #0087ff; text-decoration-color: #0087ff\">TextVectorization</span>)             │                        │               │\n",
       "├─────────────────────────────────┼────────────────────────┼───────────────┤\n",
       "│ embedding_1 (<span style=\"color: #0087ff; text-decoration-color: #0087ff\">Embedding</span>)         │ (<span style=\"color: #00d7ff; text-decoration-color: #00d7ff\">None</span>, <span style=\"color: #00af00; text-decoration-color: #00af00\">15</span>, <span style=\"color: #00af00; text-decoration-color: #00af00\">128</span>)        │     <span style=\"color: #00af00; text-decoration-color: #00af00\">1,280,000</span> │\n",
       "├─────────────────────────────────┼────────────────────────┼───────────────┤\n",
       "│ gru_12 (<span style=\"color: #0087ff; text-decoration-color: #0087ff\">GRU</span>)                    │ (<span style=\"color: #00d7ff; text-decoration-color: #00d7ff\">None</span>, <span style=\"color: #00af00; text-decoration-color: #00af00\">64</span>)             │        <span style=\"color: #00af00; text-decoration-color: #00af00\">37,248</span> │\n",
       "├─────────────────────────────────┼────────────────────────┼───────────────┤\n",
       "│ dense_14 (<span style=\"color: #0087ff; text-decoration-color: #0087ff\">Dense</span>)                │ (<span style=\"color: #00d7ff; text-decoration-color: #00d7ff\">None</span>, <span style=\"color: #00af00; text-decoration-color: #00af00\">64</span>)             │         <span style=\"color: #00af00; text-decoration-color: #00af00\">4,160</span> │\n",
       "├─────────────────────────────────┼────────────────────────┼───────────────┤\n",
       "│ dense_15 (<span style=\"color: #0087ff; text-decoration-color: #0087ff\">Dense</span>)                │ (<span style=\"color: #00d7ff; text-decoration-color: #00d7ff\">None</span>, <span style=\"color: #00af00; text-decoration-color: #00af00\">1</span>)              │            <span style=\"color: #00af00; text-decoration-color: #00af00\">65</span> │\n",
       "└─────────────────────────────────┴────────────────────────┴───────────────┘\n",
       "</pre>\n"
      ],
      "text/plain": [
       "┏━━━━━━━━━━━━━━━━━━━━━━━━━━━━━━━━━┳━━━━━━━━━━━━━━━━━━━━━━━━┳━━━━━━━━━━━━━━━┓\n",
       "┃\u001b[1m \u001b[0m\u001b[1mLayer (type)                   \u001b[0m\u001b[1m \u001b[0m┃\u001b[1m \u001b[0m\u001b[1mOutput Shape          \u001b[0m\u001b[1m \u001b[0m┃\u001b[1m \u001b[0m\u001b[1m      Param #\u001b[0m\u001b[1m \u001b[0m┃\n",
       "┡━━━━━━━━━━━━━━━━━━━━━━━━━━━━━━━━━╇━━━━━━━━━━━━━━━━━━━━━━━━╇━━━━━━━━━━━━━━━┩\n",
       "│ input_layer_16 (\u001b[38;5;33mInputLayer\u001b[0m)     │ (\u001b[38;5;45mNone\u001b[0m, \u001b[38;5;34m1\u001b[0m)              │             \u001b[38;5;34m0\u001b[0m │\n",
       "├─────────────────────────────────┼────────────────────────┼───────────────┤\n",
       "│ text_vectorization_1            │ (\u001b[38;5;45mNone\u001b[0m, \u001b[38;5;34m15\u001b[0m)             │             \u001b[38;5;34m0\u001b[0m │\n",
       "│ (\u001b[38;5;33mTextVectorization\u001b[0m)             │                        │               │\n",
       "├─────────────────────────────────┼────────────────────────┼───────────────┤\n",
       "│ embedding_1 (\u001b[38;5;33mEmbedding\u001b[0m)         │ (\u001b[38;5;45mNone\u001b[0m, \u001b[38;5;34m15\u001b[0m, \u001b[38;5;34m128\u001b[0m)        │     \u001b[38;5;34m1,280,000\u001b[0m │\n",
       "├─────────────────────────────────┼────────────────────────┼───────────────┤\n",
       "│ gru_12 (\u001b[38;5;33mGRU\u001b[0m)                    │ (\u001b[38;5;45mNone\u001b[0m, \u001b[38;5;34m64\u001b[0m)             │        \u001b[38;5;34m37,248\u001b[0m │\n",
       "├─────────────────────────────────┼────────────────────────┼───────────────┤\n",
       "│ dense_14 (\u001b[38;5;33mDense\u001b[0m)                │ (\u001b[38;5;45mNone\u001b[0m, \u001b[38;5;34m64\u001b[0m)             │         \u001b[38;5;34m4,160\u001b[0m │\n",
       "├─────────────────────────────────┼────────────────────────┼───────────────┤\n",
       "│ dense_15 (\u001b[38;5;33mDense\u001b[0m)                │ (\u001b[38;5;45mNone\u001b[0m, \u001b[38;5;34m1\u001b[0m)              │            \u001b[38;5;34m65\u001b[0m │\n",
       "└─────────────────────────────────┴────────────────────────┴───────────────┘\n"
      ]
     },
     "metadata": {},
     "output_type": "display_data"
    },
    {
     "data": {
      "text/html": [
       "<pre style=\"white-space:pre;overflow-x:auto;line-height:normal;font-family:Menlo,'DejaVu Sans Mono',consolas,'Courier New',monospace\"><span style=\"font-weight: bold\"> Total params: </span><span style=\"color: #00af00; text-decoration-color: #00af00\">1,321,473</span> (5.04 MB)\n",
       "</pre>\n"
      ],
      "text/plain": [
       "\u001b[1m Total params: \u001b[0m\u001b[38;5;34m1,321,473\u001b[0m (5.04 MB)\n"
      ]
     },
     "metadata": {},
     "output_type": "display_data"
    },
    {
     "data": {
      "text/html": [
       "<pre style=\"white-space:pre;overflow-x:auto;line-height:normal;font-family:Menlo,'DejaVu Sans Mono',consolas,'Courier New',monospace\"><span style=\"font-weight: bold\"> Trainable params: </span><span style=\"color: #00af00; text-decoration-color: #00af00\">1,321,473</span> (5.04 MB)\n",
       "</pre>\n"
      ],
      "text/plain": [
       "\u001b[1m Trainable params: \u001b[0m\u001b[38;5;34m1,321,473\u001b[0m (5.04 MB)\n"
      ]
     },
     "metadata": {},
     "output_type": "display_data"
    },
    {
     "data": {
      "text/html": [
       "<pre style=\"white-space:pre;overflow-x:auto;line-height:normal;font-family:Menlo,'DejaVu Sans Mono',consolas,'Courier New',monospace\"><span style=\"font-weight: bold\"> Non-trainable params: </span><span style=\"color: #00af00; text-decoration-color: #00af00\">0</span> (0.00 B)\n",
       "</pre>\n"
      ],
      "text/plain": [
       "\u001b[1m Non-trainable params: \u001b[0m\u001b[38;5;34m0\u001b[0m (0.00 B)\n"
      ]
     },
     "metadata": {},
     "output_type": "display_data"
    }
   ],
   "source": [
    "model_3.summary()"
   ]
  },
  {
   "cell_type": "code",
   "execution_count": 192,
   "metadata": {},
   "outputs": [],
   "source": [
    "model_3.compile(loss='binary_crossentropy',\n",
    "                optimizer=tf.keras.optimizers.Adam(),\n",
    "                metrics=['accuracy'])"
   ]
  },
  {
   "cell_type": "code",
   "execution_count": 193,
   "metadata": {},
   "outputs": [
    {
     "name": "stdout",
     "output_type": "stream",
     "text": [
      "Saving TensorBoard log files to: model_logs/model_3_gru/20240912-111429\n",
      "Epoch 1/5\n",
      "\u001b[1m215/215\u001b[0m \u001b[32m━━━━━━━━━━━━━━━━━━━━\u001b[0m\u001b[37m\u001b[0m \u001b[1m9s\u001b[0m 26ms/step - accuracy: 0.8806 - loss: 0.2783 - val_accuracy: 0.7625 - val_loss: 0.7148\n",
      "Epoch 2/5\n",
      "\u001b[1m215/215\u001b[0m \u001b[32m━━━━━━━━━━━━━━━━━━━━\u001b[0m\u001b[37m\u001b[0m \u001b[1m5s\u001b[0m 22ms/step - accuracy: 0.9681 - loss: 0.0943 - val_accuracy: 0.7717 - val_loss: 0.8209\n",
      "Epoch 3/5\n",
      "\u001b[1m215/215\u001b[0m \u001b[32m━━━━━━━━━━━━━━━━━━━━\u001b[0m\u001b[37m\u001b[0m \u001b[1m5s\u001b[0m 22ms/step - accuracy: 0.9757 - loss: 0.0789 - val_accuracy: 0.7690 - val_loss: 0.9460\n",
      "Epoch 4/5\n",
      "\u001b[1m215/215\u001b[0m \u001b[32m━━━━━━━━━━━━━━━━━━━━\u001b[0m\u001b[37m\u001b[0m \u001b[1m5s\u001b[0m 24ms/step - accuracy: 0.9715 - loss: 0.0756 - val_accuracy: 0.7717 - val_loss: 1.0731\n",
      "Epoch 5/5\n",
      "\u001b[1m215/215\u001b[0m \u001b[32m━━━━━━━━━━━━━━━━━━━━\u001b[0m\u001b[37m\u001b[0m \u001b[1m5s\u001b[0m 22ms/step - accuracy: 0.9752 - loss: 0.0679 - val_accuracy: 0.7625 - val_loss: 1.1095\n"
     ]
    }
   ],
   "source": [
    "model_3_history = model_3.fit(train_sentences,train_labels,epochs=5,validation_data=(val_sentences,val_labels),callbacks=[create_tensorboard_callback(SAVE_DIR,\"model_3_gru\")])"
   ]
  },
  {
   "cell_type": "code",
   "execution_count": 194,
   "metadata": {},
   "outputs": [
    {
     "name": "stdout",
     "output_type": "stream",
     "text": [
      "\u001b[1m24/24\u001b[0m \u001b[32m━━━━━━━━━━━━━━━━━━━━\u001b[0m\u001b[37m\u001b[0m \u001b[1m1s\u001b[0m 23ms/step\n"
     ]
    },
    {
     "data": {
      "text/plain": [
       "array([[3.36991310e-01],\n",
       "       [7.34024525e-01],\n",
       "       [9.97574091e-01],\n",
       "       [1.88334242e-01],\n",
       "       [1.03878140e-01],\n",
       "       [9.41557109e-01],\n",
       "       [8.86982739e-01],\n",
       "       [9.94287610e-01],\n",
       "       [9.62175429e-01],\n",
       "       [3.89513403e-01],\n",
       "       [1.18733764e-01],\n",
       "       [7.18412817e-01],\n",
       "       [3.77492942e-02],\n",
       "       [2.47215092e-01],\n",
       "       [4.55935858e-03],\n",
       "       [1.51755691e-01],\n",
       "       [2.17685066e-02],\n",
       "       [7.59515017e-02],\n",
       "       [2.67087579e-01],\n",
       "       [5.31628609e-01],\n",
       "       [8.98761272e-01],\n",
       "       [4.28090654e-02],\n",
       "       [3.66759896e-01],\n",
       "       [1.06901385e-01],\n",
       "       [9.44217622e-01],\n",
       "       [9.98816550e-01],\n",
       "       [4.39224839e-02],\n",
       "       [6.29978105e-02],\n",
       "       [2.41327807e-02],\n",
       "       [1.84399903e-01],\n",
       "       [6.05541468e-01],\n",
       "       [3.32586139e-01],\n",
       "       [5.21996021e-01],\n",
       "       [1.56354606e-01],\n",
       "       [4.27458912e-01],\n",
       "       [6.39995411e-02],\n",
       "       [9.96223450e-01],\n",
       "       [2.14407921e-01],\n",
       "       [3.45602781e-02],\n",
       "       [9.98741031e-01],\n",
       "       [2.30663851e-01],\n",
       "       [1.87558811e-02],\n",
       "       [3.47099453e-01],\n",
       "       [5.36145903e-02],\n",
       "       [6.69644713e-01],\n",
       "       [9.85808015e-01],\n",
       "       [3.94944370e-01],\n",
       "       [9.02913511e-01],\n",
       "       [2.52739221e-01],\n",
       "       [5.90061009e-01],\n",
       "       [5.36610819e-02],\n",
       "       [6.29536211e-01],\n",
       "       [4.74785089e-01],\n",
       "       [3.18327434e-02],\n",
       "       [1.30540580e-01],\n",
       "       [3.29995230e-02],\n",
       "       [2.10789531e-01],\n",
       "       [9.55716312e-01],\n",
       "       [1.00170709e-01],\n",
       "       [3.26437433e-03],\n",
       "       [2.21330523e-01],\n",
       "       [9.66668904e-01],\n",
       "       [9.00176346e-01],\n",
       "       [1.64430782e-01],\n",
       "       [9.28141952e-01],\n",
       "       [9.76512134e-01],\n",
       "       [7.12854803e-01],\n",
       "       [3.50687474e-01],\n",
       "       [1.25033841e-01],\n",
       "       [1.86380327e-01],\n",
       "       [1.05935097e-01],\n",
       "       [3.94186676e-02],\n",
       "       [9.31459546e-01],\n",
       "       [1.99881703e-01],\n",
       "       [1.33199975e-01],\n",
       "       [4.55311835e-01],\n",
       "       [4.91363913e-01],\n",
       "       [8.19152534e-01],\n",
       "       [3.12153131e-01],\n",
       "       [5.39919555e-01],\n",
       "       [5.36216378e-01],\n",
       "       [3.47056031e-01],\n",
       "       [9.96652484e-01],\n",
       "       [1.22451000e-01],\n",
       "       [1.99922666e-01],\n",
       "       [9.37427729e-02],\n",
       "       [3.04730181e-02],\n",
       "       [9.75798368e-02],\n",
       "       [6.65804148e-01],\n",
       "       [8.73960555e-01],\n",
       "       [9.93656754e-01],\n",
       "       [7.55539862e-03],\n",
       "       [5.27792454e-01],\n",
       "       [2.32353136e-02],\n",
       "       [9.82516706e-01],\n",
       "       [7.36200035e-01],\n",
       "       [8.46715868e-01],\n",
       "       [9.69417572e-01],\n",
       "       [9.11103070e-01],\n",
       "       [9.48234677e-01],\n",
       "       [9.99273658e-01],\n",
       "       [2.12949678e-01],\n",
       "       [1.68677997e-02],\n",
       "       [9.07647550e-01],\n",
       "       [9.21718657e-01],\n",
       "       [9.69537944e-02],\n",
       "       [8.57260406e-01],\n",
       "       [9.82153893e-01],\n",
       "       [6.62158877e-02],\n",
       "       [4.20402706e-01],\n",
       "       [6.60135925e-01],\n",
       "       [3.96037661e-02],\n",
       "       [3.12663108e-01],\n",
       "       [1.59127548e-01],\n",
       "       [1.40977517e-01],\n",
       "       [4.26990300e-01],\n",
       "       [4.88513678e-01],\n",
       "       [6.82232082e-01],\n",
       "       [7.58724928e-01],\n",
       "       [8.13547224e-02],\n",
       "       [9.99790668e-01],\n",
       "       [8.70978534e-02],\n",
       "       [1.05166592e-01],\n",
       "       [7.78336823e-01],\n",
       "       [4.27950561e-01],\n",
       "       [3.63822281e-01],\n",
       "       [8.36934447e-01],\n",
       "       [1.05940308e-02],\n",
       "       [9.61680487e-02],\n",
       "       [8.75855982e-01],\n",
       "       [1.21853888e-01],\n",
       "       [9.99790668e-01],\n",
       "       [9.99752760e-01],\n",
       "       [9.98816550e-01],\n",
       "       [9.87082422e-01],\n",
       "       [7.37825260e-02],\n",
       "       [9.76815164e-01],\n",
       "       [2.06462070e-01],\n",
       "       [3.37314606e-01],\n",
       "       [8.01744983e-02],\n",
       "       [9.97227132e-01],\n",
       "       [4.33033615e-01],\n",
       "       [2.47215092e-01],\n",
       "       [9.64967251e-01],\n",
       "       [3.65145832e-01],\n",
       "       [5.62859297e-01],\n",
       "       [3.50293331e-02],\n",
       "       [9.08272527e-03],\n",
       "       [1.89449847e-01],\n",
       "       [9.78277385e-01],\n",
       "       [2.87282228e-01],\n",
       "       [7.92903602e-02],\n",
       "       [4.92037386e-01],\n",
       "       [1.89674616e-01],\n",
       "       [2.66062409e-01],\n",
       "       [9.91722226e-01],\n",
       "       [7.32921422e-01],\n",
       "       [3.90349895e-01],\n",
       "       [9.90260422e-01],\n",
       "       [2.26786137e-02],\n",
       "       [9.75567222e-01],\n",
       "       [4.22944911e-02],\n",
       "       [2.68938512e-01],\n",
       "       [9.93577421e-01],\n",
       "       [3.02427918e-01],\n",
       "       [6.46945164e-02],\n",
       "       [9.98634934e-01],\n",
       "       [4.39191639e-01],\n",
       "       [9.85295355e-01],\n",
       "       [2.85604745e-01],\n",
       "       [9.93757725e-01],\n",
       "       [8.49667907e-01],\n",
       "       [8.30331326e-01],\n",
       "       [2.16175839e-02],\n",
       "       [9.98172760e-01],\n",
       "       [1.05014890e-01],\n",
       "       [3.57124001e-01],\n",
       "       [4.61980641e-01],\n",
       "       [8.01434398e-01],\n",
       "       [9.93618667e-01],\n",
       "       [1.77767240e-02],\n",
       "       [7.45274782e-01],\n",
       "       [7.03817964e-01],\n",
       "       [9.62218344e-01],\n",
       "       [9.69552755e-01],\n",
       "       [3.82014543e-01],\n",
       "       [1.38751611e-01],\n",
       "       [9.99804497e-01],\n",
       "       [1.71426758e-02],\n",
       "       [2.60344036e-02],\n",
       "       [9.44283158e-02],\n",
       "       [9.41630185e-01],\n",
       "       [6.73362836e-02],\n",
       "       [2.78226376e-01],\n",
       "       [1.51945008e-02],\n",
       "       [7.55892694e-02],\n",
       "       [5.50083965e-02],\n",
       "       [2.67761022e-01],\n",
       "       [7.38443077e-01],\n",
       "       [6.36465922e-02],\n",
       "       [3.65899086e-01],\n",
       "       [8.74909759e-01],\n",
       "       [9.70143437e-01],\n",
       "       [3.22343886e-01],\n",
       "       [1.11184523e-01],\n",
       "       [9.99865353e-01],\n",
       "       [5.33720374e-01],\n",
       "       [9.20800149e-01],\n",
       "       [6.79239154e-01],\n",
       "       [8.35747242e-01],\n",
       "       [3.79743516e-01],\n",
       "       [9.86572683e-01],\n",
       "       [1.82582699e-02],\n",
       "       [1.68467656e-01],\n",
       "       [7.11678481e-03],\n",
       "       [5.72990905e-03],\n",
       "       [9.41297591e-01],\n",
       "       [8.19493413e-01],\n",
       "       [8.97694349e-01],\n",
       "       [2.00666785e-01],\n",
       "       [6.79352045e-01],\n",
       "       [8.02582204e-02],\n",
       "       [2.41164938e-02],\n",
       "       [1.51723579e-01],\n",
       "       [9.85143781e-01],\n",
       "       [1.55978084e-01],\n",
       "       [5.14108062e-01],\n",
       "       [9.95383680e-01],\n",
       "       [6.44561350e-01],\n",
       "       [5.56541741e-01],\n",
       "       [1.03323378e-01],\n",
       "       [1.86762825e-01],\n",
       "       [8.52043211e-01],\n",
       "       [3.29782277e-01],\n",
       "       [6.57710314e-01],\n",
       "       [2.05153301e-01],\n",
       "       [5.60227633e-01],\n",
       "       [3.47193867e-01],\n",
       "       [1.27820626e-01],\n",
       "       [8.78403485e-02],\n",
       "       [4.35328335e-01],\n",
       "       [2.19113395e-01],\n",
       "       [9.99882281e-01],\n",
       "       [9.89901841e-01],\n",
       "       [9.32246670e-02],\n",
       "       [2.13926658e-02],\n",
       "       [8.77901614e-01],\n",
       "       [1.02800816e-01],\n",
       "       [9.66096371e-02],\n",
       "       [3.94262016e-01],\n",
       "       [5.34947589e-02],\n",
       "       [6.02370441e-01],\n",
       "       [7.61517673e-04],\n",
       "       [4.09683198e-01],\n",
       "       [9.20609295e-01],\n",
       "       [3.42219412e-01],\n",
       "       [9.74731624e-01],\n",
       "       [9.98794138e-01],\n",
       "       [3.02424133e-01],\n",
       "       [1.47975191e-01],\n",
       "       [3.07580739e-01],\n",
       "       [4.08941656e-02],\n",
       "       [4.66346880e-03],\n",
       "       [9.82794762e-01],\n",
       "       [9.64282095e-01],\n",
       "       [6.49337173e-01],\n",
       "       [9.67448890e-01],\n",
       "       [6.68826401e-02],\n",
       "       [1.75093412e-01],\n",
       "       [8.62270407e-03],\n",
       "       [1.51834205e-01],\n",
       "       [2.61382535e-02],\n",
       "       [9.65793252e-01],\n",
       "       [8.60758647e-02],\n",
       "       [9.02267173e-03],\n",
       "       [9.82951939e-01],\n",
       "       [7.36026419e-03],\n",
       "       [9.98448059e-02],\n",
       "       [9.88262951e-01],\n",
       "       [4.09460217e-02],\n",
       "       [1.14305146e-01],\n",
       "       [5.91062801e-03],\n",
       "       [9.71583307e-01],\n",
       "       [6.17487073e-01],\n",
       "       [7.91903079e-01],\n",
       "       [7.11809516e-01],\n",
       "       [4.66639042e-01],\n",
       "       [7.10651800e-02],\n",
       "       [9.32876647e-01],\n",
       "       [5.04660644e-02],\n",
       "       [7.76968241e-01],\n",
       "       [4.35229033e-01],\n",
       "       [4.02995706e-01],\n",
       "       [3.52958471e-01],\n",
       "       [1.68255985e-01],\n",
       "       [7.62212336e-01],\n",
       "       [2.23086596e-01],\n",
       "       [7.17666864e-01],\n",
       "       [1.25596970e-01],\n",
       "       [7.63729036e-01],\n",
       "       [3.10200099e-02],\n",
       "       [7.96268061e-02],\n",
       "       [2.34816149e-01],\n",
       "       [9.85831320e-01],\n",
       "       [2.02657849e-01],\n",
       "       [1.24707960e-01],\n",
       "       [2.95745045e-01],\n",
       "       [3.08417052e-01],\n",
       "       [1.07948050e-01],\n",
       "       [3.97650488e-02],\n",
       "       [3.41387466e-02],\n",
       "       [9.82104242e-01],\n",
       "       [4.43799704e-01],\n",
       "       [2.75691479e-01],\n",
       "       [9.99812126e-01],\n",
       "       [4.74374592e-02],\n",
       "       [6.73474014e-01],\n",
       "       [2.76983410e-01],\n",
       "       [4.06732857e-02],\n",
       "       [2.38814801e-01],\n",
       "       [1.86510995e-01],\n",
       "       [1.61427766e-01],\n",
       "       [9.38193142e-01],\n",
       "       [2.94330120e-01],\n",
       "       [9.88919795e-01],\n",
       "       [1.19181752e-01],\n",
       "       [3.44438441e-02],\n",
       "       [9.96659815e-01],\n",
       "       [1.87667459e-02],\n",
       "       [9.96183097e-01],\n",
       "       [1.35436550e-01],\n",
       "       [4.76790555e-02],\n",
       "       [9.66877043e-01],\n",
       "       [4.82398085e-02],\n",
       "       [3.45270224e-02],\n",
       "       [9.80114937e-01],\n",
       "       [7.95879401e-03],\n",
       "       [2.11457759e-01],\n",
       "       [7.11870790e-01],\n",
       "       [9.12492573e-01],\n",
       "       [5.81208523e-03],\n",
       "       [1.67896658e-01],\n",
       "       [9.82817113e-01],\n",
       "       [9.68505621e-01],\n",
       "       [7.62188017e-01],\n",
       "       [4.72037047e-01],\n",
       "       [5.11997044e-01],\n",
       "       [4.07781214e-01],\n",
       "       [6.85999990e-02],\n",
       "       [9.07048807e-02],\n",
       "       [1.54023468e-01],\n",
       "       [7.98472941e-01],\n",
       "       [3.40613239e-02],\n",
       "       [3.94326746e-01],\n",
       "       [3.77444983e-01],\n",
       "       [1.40919657e-02],\n",
       "       [9.80147123e-01],\n",
       "       [9.98816550e-01],\n",
       "       [9.92713213e-01],\n",
       "       [3.51801291e-02],\n",
       "       [2.82268792e-01],\n",
       "       [1.25463337e-01],\n",
       "       [3.77516806e-01],\n",
       "       [7.72825181e-01],\n",
       "       [2.19773918e-01],\n",
       "       [2.19669510e-02],\n",
       "       [1.05241604e-01],\n",
       "       [3.74833904e-02],\n",
       "       [5.37855089e-01],\n",
       "       [1.03493063e-02],\n",
       "       [1.84807852e-01],\n",
       "       [4.44314256e-02],\n",
       "       [3.26960564e-01],\n",
       "       [3.03285897e-01],\n",
       "       [4.63863283e-01],\n",
       "       [2.71357447e-01],\n",
       "       [5.46418466e-02],\n",
       "       [3.06839049e-01],\n",
       "       [6.82346225e-02],\n",
       "       [9.97253418e-01],\n",
       "       [9.20355499e-01],\n",
       "       [5.41461110e-01],\n",
       "       [7.31264532e-01],\n",
       "       [2.25123763e-02],\n",
       "       [5.37456751e-01],\n",
       "       [9.91575360e-01],\n",
       "       [7.03084886e-01],\n",
       "       [2.57488877e-01],\n",
       "       [9.87055659e-01],\n",
       "       [1.82429284e-01],\n",
       "       [9.47509706e-01],\n",
       "       [2.89158881e-01],\n",
       "       [2.94174906e-02],\n",
       "       [5.06690443e-01],\n",
       "       [5.00378847e-01],\n",
       "       [9.96202290e-01],\n",
       "       [1.47028059e-01],\n",
       "       [4.95794155e-02],\n",
       "       [7.14882836e-02],\n",
       "       [2.19773918e-01],\n",
       "       [9.99230027e-01],\n",
       "       [2.35450082e-02],\n",
       "       [7.53039837e-01],\n",
       "       [9.72846985e-01],\n",
       "       [7.38955736e-02],\n",
       "       [9.99790668e-01],\n",
       "       [3.28210928e-02],\n",
       "       [4.09705311e-01],\n",
       "       [5.85440174e-02],\n",
       "       [7.53375828e-01],\n",
       "       [8.99118304e-01],\n",
       "       [7.64209479e-02],\n",
       "       [1.52940780e-03],\n",
       "       [2.55249977e-01],\n",
       "       [9.90014017e-01],\n",
       "       [9.07522261e-01],\n",
       "       [1.37008801e-01],\n",
       "       [3.82809609e-01],\n",
       "       [6.54828846e-01],\n",
       "       [3.90179530e-02],\n",
       "       [9.89630520e-01],\n",
       "       [4.60893750e-01],\n",
       "       [9.98903215e-01],\n",
       "       [9.19456482e-01],\n",
       "       [9.63299647e-02],\n",
       "       [3.24117273e-01],\n",
       "       [9.59178731e-02],\n",
       "       [9.46077764e-01],\n",
       "       [7.63055325e-01],\n",
       "       [3.62994552e-01],\n",
       "       [4.96084727e-02],\n",
       "       [3.14636230e-01],\n",
       "       [4.42762934e-02],\n",
       "       [8.33656192e-02],\n",
       "       [1.27500489e-01],\n",
       "       [3.74739766e-01],\n",
       "       [5.32965124e-01],\n",
       "       [1.82233527e-01],\n",
       "       [9.99026299e-01],\n",
       "       [9.85569596e-01],\n",
       "       [2.78044254e-01],\n",
       "       [7.34024525e-01],\n",
       "       [1.95787281e-01],\n",
       "       [3.38801704e-02],\n",
       "       [3.96002263e-01],\n",
       "       [6.21809185e-01],\n",
       "       [9.34115574e-02],\n",
       "       [2.50777364e-01],\n",
       "       [2.21252162e-02],\n",
       "       [4.98040020e-01],\n",
       "       [1.74374413e-03],\n",
       "       [9.41185415e-01],\n",
       "       [9.73013461e-01],\n",
       "       [9.95110035e-01],\n",
       "       [9.74768996e-01],\n",
       "       [8.36619139e-01],\n",
       "       [1.24561988e-01],\n",
       "       [5.80146238e-02],\n",
       "       [6.89386547e-01],\n",
       "       [9.02605534e-01],\n",
       "       [9.98527288e-01],\n",
       "       [3.21718864e-03],\n",
       "       [1.37192324e-01],\n",
       "       [1.57065198e-01],\n",
       "       [9.99146879e-01],\n",
       "       [9.99499261e-01],\n",
       "       [3.11875850e-01],\n",
       "       [1.29843399e-01],\n",
       "       [9.96996880e-01],\n",
       "       [6.92839399e-02],\n",
       "       [4.31502581e-01],\n",
       "       [9.85189199e-01],\n",
       "       [1.60365105e-01],\n",
       "       [8.47996101e-02],\n",
       "       [9.46466386e-01],\n",
       "       [3.36813927e-01],\n",
       "       [4.47378933e-01],\n",
       "       [9.72580552e-01],\n",
       "       [1.38200633e-02],\n",
       "       [5.94700426e-02],\n",
       "       [1.08535802e-02],\n",
       "       [2.13731695e-02],\n",
       "       [8.81945193e-02],\n",
       "       [9.71661866e-01],\n",
       "       [2.88449395e-02],\n",
       "       [4.30949956e-01],\n",
       "       [5.08249760e-01],\n",
       "       [1.00604013e-01],\n",
       "       [3.03684562e-01],\n",
       "       [8.81979391e-02],\n",
       "       [3.21235925e-01],\n",
       "       [9.97172236e-01],\n",
       "       [6.38984144e-01],\n",
       "       [1.17773987e-01],\n",
       "       [1.44810975e-01],\n",
       "       [1.37389049e-01],\n",
       "       [8.65059197e-02],\n",
       "       [7.18496203e-01],\n",
       "       [1.69181731e-02],\n",
       "       [9.20952022e-01],\n",
       "       [7.71444798e-01],\n",
       "       [6.01459682e-01],\n",
       "       [6.75031960e-01],\n",
       "       [7.56630480e-01],\n",
       "       [1.08130559e-01],\n",
       "       [3.96801770e-01],\n",
       "       [4.23793286e-01],\n",
       "       [8.84910405e-01],\n",
       "       [2.29663253e-01],\n",
       "       [3.29886764e-01],\n",
       "       [3.82676035e-01],\n",
       "       [1.62332263e-02],\n",
       "       [1.45948336e-01],\n",
       "       [4.36777055e-01],\n",
       "       [7.59850979e-01],\n",
       "       [1.90370813e-01],\n",
       "       [9.87993658e-01],\n",
       "       [9.19493496e-01],\n",
       "       [7.36200035e-01],\n",
       "       [9.86590743e-01],\n",
       "       [1.71311975e-01],\n",
       "       [1.08948387e-01],\n",
       "       [8.99999082e-01],\n",
       "       [1.90056279e-01],\n",
       "       [2.51888670e-02],\n",
       "       [5.28541245e-02],\n",
       "       [9.72769335e-02],\n",
       "       [1.22022326e-03],\n",
       "       [8.49726260e-01],\n",
       "       [8.21050167e-01],\n",
       "       [8.41548324e-01],\n",
       "       [9.42291856e-01],\n",
       "       [6.73142597e-02],\n",
       "       [2.00624898e-01],\n",
       "       [7.38797545e-01],\n",
       "       [1.35335624e-02],\n",
       "       [3.10028553e-01],\n",
       "       [1.70310557e-01],\n",
       "       [6.23744130e-01],\n",
       "       [5.36473215e-01],\n",
       "       [5.39232641e-02],\n",
       "       [6.59742579e-02],\n",
       "       [6.20971143e-01],\n",
       "       [1.47844508e-01],\n",
       "       [1.57543987e-01],\n",
       "       [1.24207638e-01],\n",
       "       [2.24522844e-01],\n",
       "       [9.98974919e-01],\n",
       "       [9.77977455e-01],\n",
       "       [3.19847882e-01],\n",
       "       [8.57776105e-01],\n",
       "       [9.91732419e-01],\n",
       "       [1.02944544e-03],\n",
       "       [9.66739178e-01],\n",
       "       [2.73830593e-01],\n",
       "       [4.52751756e-01],\n",
       "       [3.33094239e-01],\n",
       "       [1.20998569e-01],\n",
       "       [1.33142710e-01],\n",
       "       [3.14639583e-02],\n",
       "       [8.31522271e-02],\n",
       "       [6.41315952e-02],\n",
       "       [7.01228559e-01],\n",
       "       [2.38377497e-01],\n",
       "       [9.95199561e-01],\n",
       "       [6.76062107e-02],\n",
       "       [6.18110597e-01],\n",
       "       [5.68381190e-01],\n",
       "       [1.74212083e-02],\n",
       "       [5.53343296e-02],\n",
       "       [9.66881633e-01],\n",
       "       [7.36547351e-01],\n",
       "       [9.67668831e-01],\n",
       "       [1.49004981e-01],\n",
       "       [7.83301592e-02],\n",
       "       [3.89763296e-01],\n",
       "       [3.28684717e-01],\n",
       "       [3.93423676e-01],\n",
       "       [9.91732419e-01],\n",
       "       [1.52750872e-02],\n",
       "       [4.93246242e-02],\n",
       "       [1.62003458e-01],\n",
       "       [9.97488618e-01],\n",
       "       [1.80204719e-01],\n",
       "       [6.28748909e-02],\n",
       "       [8.14345241e-01],\n",
       "       [6.36793599e-02],\n",
       "       [3.20504308e-02],\n",
       "       [1.69346273e-01],\n",
       "       [2.56861538e-01],\n",
       "       [1.59502864e-01],\n",
       "       [3.46006811e-01],\n",
       "       [3.37275505e-01],\n",
       "       [2.10916981e-01],\n",
       "       [9.92455557e-02],\n",
       "       [4.24481332e-01],\n",
       "       [1.43048503e-02],\n",
       "       [9.39890265e-01],\n",
       "       [8.20692658e-01],\n",
       "       [5.59321165e-01],\n",
       "       [3.85727547e-02],\n",
       "       [2.34882422e-02],\n",
       "       [9.81036365e-01],\n",
       "       [5.42877972e-01],\n",
       "       [9.99529183e-01],\n",
       "       [3.35676253e-01],\n",
       "       [8.92845273e-01],\n",
       "       [1.66145727e-01],\n",
       "       [5.75001717e-01],\n",
       "       [7.72791564e-01],\n",
       "       [2.27962453e-02],\n",
       "       [9.78438735e-01],\n",
       "       [1.48920059e-01],\n",
       "       [5.32485723e-01],\n",
       "       [9.98396337e-01],\n",
       "       [1.59273848e-01],\n",
       "       [3.11844647e-02],\n",
       "       [3.11101586e-01],\n",
       "       [1.56875700e-02],\n",
       "       [5.01009643e-01],\n",
       "       [9.99865353e-01],\n",
       "       [3.48469019e-01],\n",
       "       [9.39480960e-01],\n",
       "       [2.87368357e-01],\n",
       "       [8.04894865e-01],\n",
       "       [2.89736480e-01],\n",
       "       [3.75080913e-01],\n",
       "       [2.25188266e-02],\n",
       "       [5.70804536e-01],\n",
       "       [1.65294185e-02],\n",
       "       [2.62531400e-01],\n",
       "       [9.54611182e-01],\n",
       "       [9.63040888e-01],\n",
       "       [9.96134996e-01],\n",
       "       [7.64636219e-01],\n",
       "       [4.07767557e-02],\n",
       "       [3.71055990e-01],\n",
       "       [2.42479593e-02],\n",
       "       [5.51947117e-01],\n",
       "       [3.64001811e-01],\n",
       "       [9.29730058e-01],\n",
       "       [3.31174321e-02],\n",
       "       [8.05344820e-01],\n",
       "       [8.48462224e-01],\n",
       "       [2.76526988e-01],\n",
       "       [2.66147941e-01],\n",
       "       [3.29886764e-01],\n",
       "       [2.06153452e-01],\n",
       "       [5.26446581e-01],\n",
       "       [6.32768631e-01],\n",
       "       [9.98828232e-01],\n",
       "       [9.05079693e-02],\n",
       "       [8.03759694e-03],\n",
       "       [1.64149590e-02],\n",
       "       [2.93786287e-01],\n",
       "       [2.29330927e-01],\n",
       "       [2.74802092e-02],\n",
       "       [8.54943573e-01],\n",
       "       [9.91577134e-02],\n",
       "       [2.33826682e-01],\n",
       "       [2.22235814e-01],\n",
       "       [2.72547692e-01],\n",
       "       [9.32695568e-01],\n",
       "       [1.66329414e-01],\n",
       "       [4.84018803e-01],\n",
       "       [3.09745073e-01],\n",
       "       [1.18490197e-02],\n",
       "       [1.04905166e-01],\n",
       "       [9.99688089e-01],\n",
       "       [8.31214964e-01],\n",
       "       [4.22876142e-03],\n",
       "       [3.31293583e-01],\n",
       "       [2.10956886e-01],\n",
       "       [6.18070029e-02],\n",
       "       [8.87546957e-01],\n",
       "       [4.98211056e-01],\n",
       "       [6.57720387e-01],\n",
       "       [3.49165678e-01],\n",
       "       [2.08374947e-01],\n",
       "       [6.63629353e-01],\n",
       "       [2.09457576e-01],\n",
       "       [5.15863784e-02],\n",
       "       [8.82571340e-01],\n",
       "       [1.94065571e-01],\n",
       "       [4.00734901e-01],\n",
       "       [9.88632739e-01],\n",
       "       [3.30215067e-01],\n",
       "       [5.08525372e-01],\n",
       "       [1.22022326e-03],\n",
       "       [3.80392849e-01],\n",
       "       [8.28115821e-01],\n",
       "       [9.99790668e-01],\n",
       "       [7.12010562e-01],\n",
       "       [4.78111245e-02],\n",
       "       [9.93537605e-01],\n",
       "       [3.86676967e-01],\n",
       "       [8.76610637e-01],\n",
       "       [3.86676967e-01],\n",
       "       [9.92851436e-01],\n",
       "       [1.06194429e-02],\n",
       "       [4.78266090e-01],\n",
       "       [1.10018708e-01],\n",
       "       [9.68562365e-01],\n",
       "       [2.39855185e-01],\n",
       "       [4.07806873e-01],\n",
       "       [6.15665093e-02],\n",
       "       [3.33292693e-01],\n",
       "       [1.18091114e-01],\n",
       "       [1.64493192e-02],\n",
       "       [2.55655557e-01],\n",
       "       [5.73573187e-02],\n",
       "       [1.52773768e-01],\n",
       "       [7.91361630e-01],\n",
       "       [3.14693637e-02],\n",
       "       [1.74957708e-01],\n",
       "       [3.86068299e-02],\n",
       "       [1.15157105e-02],\n",
       "       [1.15285002e-01],\n",
       "       [6.09008729e-01],\n",
       "       [7.19815418e-02],\n",
       "       [5.83427548e-01],\n",
       "       [1.22678138e-01],\n",
       "       [2.01522753e-01],\n",
       "       [9.03606951e-01],\n",
       "       [1.58219889e-01],\n",
       "       [4.14255634e-02],\n",
       "       [5.59794270e-02],\n",
       "       [4.57080780e-03],\n",
       "       [9.88000631e-01],\n",
       "       [1.15157105e-02],\n",
       "       [3.24678272e-01],\n",
       "       [9.93776560e-01],\n",
       "       [9.94909585e-01],\n",
       "       [9.97886837e-01],\n",
       "       [9.99897242e-01],\n",
       "       [9.99449492e-01],\n",
       "       [2.30198056e-01],\n",
       "       [1.01597697e-01],\n",
       "       [3.12746167e-01],\n",
       "       [5.56499481e-01],\n",
       "       [9.97375250e-01],\n",
       "       [5.21122336e-01],\n",
       "       [2.59252876e-01],\n",
       "       [5.15893936e-01],\n",
       "       [7.16666937e-01],\n",
       "       [2.86655426e-02],\n",
       "       [8.14756379e-03],\n",
       "       [1.14380248e-01],\n",
       "       [3.73602778e-01],\n",
       "       [7.56179588e-03],\n",
       "       [9.97617617e-02],\n",
       "       [3.55534971e-01],\n",
       "       [9.89301860e-01],\n",
       "       [2.78900713e-02],\n",
       "       [8.84462655e-01],\n",
       "       [7.91093111e-01],\n",
       "       [8.87086466e-02],\n",
       "       [3.41198683e-01],\n",
       "       [1.18464731e-01],\n",
       "       [7.60779977e-01],\n",
       "       [4.26133573e-01],\n",
       "       [1.02618197e-02]], dtype=float32)"
      ]
     },
     "execution_count": 194,
     "metadata": {},
     "output_type": "execute_result"
    }
   ],
   "source": [
    "model_3_pred_probs=model_3.predict(val_sentences)\n",
    "model_1_pred_probs"
   ]
  },
  {
   "cell_type": "code",
   "execution_count": 195,
   "metadata": {},
   "outputs": [],
   "source": [
    "model_3_preds = tf.squeeze(tf.round(model_1_pred_probs))"
   ]
  },
  {
   "cell_type": "code",
   "execution_count": 196,
   "metadata": {},
   "outputs": [
    {
     "data": {
      "text/plain": [
       "<tf.Tensor: shape=(762,), dtype=float32, numpy=\n",
       "array([0., 1., 1., 0., 0., 1., 1., 1., 1., 0., 0., 1., 0., 0., 0., 0., 0.,\n",
       "       0., 0., 1., 1., 0., 0., 0., 1., 1., 0., 0., 0., 0., 1., 0., 1., 0.,\n",
       "       0., 0., 1., 0., 0., 1., 0., 0., 0., 0., 1., 1., 0., 1., 0., 1., 0.,\n",
       "       1., 0., 0., 0., 0., 0., 1., 0., 0., 0., 1., 1., 0., 1., 1., 1., 0.,\n",
       "       0., 0., 0., 0., 1., 0., 0., 0., 0., 1., 0., 1., 1., 0., 1., 0., 0.,\n",
       "       0., 0., 0., 1., 1., 1., 0., 1., 0., 1., 1., 1., 1., 1., 1., 1., 0.,\n",
       "       0., 1., 1., 0., 1., 1., 0., 0., 1., 0., 0., 0., 0., 0., 0., 1., 1.,\n",
       "       0., 1., 0., 0., 1., 0., 0., 1., 0., 0., 1., 0., 1., 1., 1., 1., 0.,\n",
       "       1., 0., 0., 0., 1., 0., 0., 1., 0., 1., 0., 0., 0., 1., 0., 0., 0.,\n",
       "       0., 0., 1., 1., 0., 1., 0., 1., 0., 0., 1., 0., 0., 1., 0., 1., 0.,\n",
       "       1., 1., 1., 0., 1., 0., 0., 0., 1., 1., 0., 1., 1., 1., 1., 0., 0.,\n",
       "       1., 0., 0., 0., 1., 0., 0., 0., 0., 0., 0., 1., 0., 0., 1., 1., 0.,\n",
       "       0., 1., 1., 1., 1., 1., 0., 1., 0., 0., 0., 0., 1., 1., 1., 0., 1.,\n",
       "       0., 0., 0., 1., 0., 1., 1., 1., 1., 0., 0., 1., 0., 1., 0., 1., 0.,\n",
       "       0., 0., 0., 0., 1., 1., 0., 0., 1., 0., 0., 0., 0., 1., 0., 0., 1.,\n",
       "       0., 1., 1., 0., 0., 0., 0., 0., 1., 1., 1., 1., 0., 0., 0., 0., 0.,\n",
       "       1., 0., 0., 1., 0., 0., 1., 0., 0., 0., 1., 1., 1., 1., 0., 0., 1.,\n",
       "       0., 1., 0., 0., 0., 0., 1., 0., 1., 0., 1., 0., 0., 0., 1., 0., 0.,\n",
       "       0., 0., 0., 0., 0., 1., 0., 0., 1., 0., 1., 0., 0., 0., 0., 0., 1.,\n",
       "       0., 1., 0., 0., 1., 0., 1., 0., 0., 1., 0., 0., 1., 0., 0., 1., 1.,\n",
       "       0., 0., 1., 1., 1., 0., 1., 0., 0., 0., 0., 1., 0., 0., 0., 0., 1.,\n",
       "       1., 1., 0., 0., 0., 0., 1., 0., 0., 0., 0., 1., 0., 0., 0., 0., 0.,\n",
       "       0., 0., 0., 0., 0., 1., 1., 1., 1., 0., 1., 1., 1., 0., 1., 0., 1.,\n",
       "       0., 0., 1., 1., 1., 0., 0., 0., 0., 1., 0., 1., 1., 0., 1., 0., 0.,\n",
       "       0., 1., 1., 0., 0., 0., 1., 1., 0., 0., 1., 0., 1., 0., 1., 1., 0.,\n",
       "       0., 0., 1., 1., 0., 0., 0., 0., 0., 0., 0., 1., 0., 1., 1., 0., 1.,\n",
       "       0., 0., 0., 1., 0., 0., 0., 0., 0., 1., 1., 1., 1., 1., 0., 0., 1.,\n",
       "       1., 1., 0., 0., 0., 1., 1., 0., 0., 1., 0., 0., 1., 0., 0., 1., 0.,\n",
       "       0., 1., 0., 0., 0., 0., 0., 1., 0., 0., 1., 0., 0., 0., 0., 1., 1.,\n",
       "       0., 0., 0., 0., 1., 0., 1., 1., 1., 1., 1., 0., 0., 0., 1., 0., 0.,\n",
       "       0., 0., 0., 0., 1., 0., 1., 1., 1., 1., 0., 0., 1., 0., 0., 0., 0.,\n",
       "       0., 1., 1., 1., 1., 0., 0., 1., 0., 0., 0., 1., 1., 0., 0., 1., 0.,\n",
       "       0., 0., 0., 1., 1., 0., 1., 1., 0., 1., 0., 0., 0., 0., 0., 0., 0.,\n",
       "       0., 1., 0., 1., 0., 1., 1., 0., 0., 1., 1., 1., 0., 0., 0., 0., 0.,\n",
       "       1., 0., 0., 0., 1., 0., 0., 1., 0., 0., 0., 0., 0., 0., 0., 0., 0.,\n",
       "       0., 0., 1., 1., 1., 0., 0., 1., 1., 1., 0., 1., 0., 1., 1., 0., 1.,\n",
       "       0., 1., 1., 0., 0., 0., 0., 1., 1., 0., 1., 0., 1., 0., 0., 0., 1.,\n",
       "       0., 0., 1., 1., 1., 1., 0., 0., 0., 1., 0., 1., 0., 1., 1., 0., 0.,\n",
       "       0., 0., 1., 1., 1., 0., 0., 0., 0., 0., 0., 1., 0., 0., 0., 0., 1.,\n",
       "       0., 0., 0., 0., 0., 1., 1., 0., 0., 0., 0., 1., 0., 1., 0., 0., 1.,\n",
       "       0., 0., 1., 0., 0., 1., 0., 1., 0., 0., 1., 1., 1., 0., 1., 0., 1.,\n",
       "       0., 1., 0., 0., 0., 1., 0., 0., 0., 0., 0., 0., 0., 0., 0., 1., 0.,\n",
       "       0., 0., 0., 0., 1., 0., 1., 0., 0., 1., 0., 0., 0., 0., 1., 0., 0.,\n",
       "       1., 1., 1., 1., 1., 0., 0., 0., 1., 1., 1., 0., 1., 1., 0., 0., 0.,\n",
       "       0., 0., 0., 0., 1., 0., 1., 1., 0., 0., 0., 1., 0., 0.],\n",
       "      dtype=float32)>"
      ]
     },
     "execution_count": 196,
     "metadata": {},
     "output_type": "execute_result"
    }
   ],
   "source": [
    "model_3_preds"
   ]
  },
  {
   "cell_type": "code",
   "execution_count": 197,
   "metadata": {},
   "outputs": [],
   "source": [
    "model_3_results=calculate_results(val_labels,model_3_preds)"
   ]
  },
  {
   "cell_type": "code",
   "execution_count": 198,
   "metadata": {},
   "outputs": [
    {
     "data": {
      "text/plain": [
       "{'accuracy': 78.21522309711287,\n",
       " 'precision': 0.7849731976577976,\n",
       " 'recall': 0.7821522309711286,\n",
       " 'f1': 0.7797935460636591}"
      ]
     },
     "execution_count": 198,
     "metadata": {},
     "output_type": "execute_result"
    }
   ],
   "source": [
    "model_3_results"
   ]
  },
  {
   "cell_type": "code",
   "execution_count": 199,
   "metadata": {},
   "outputs": [],
   "source": [
    "inputs = layers.Input(shape=(1,),dtype=tf.string)\n",
    "x=text_vectorizer(inputs)\n",
    "x=embeddings(x)\n",
    "# x=layers.Bidirectional(layers.LSTM(64,return_sequences=True))(x)\n",
    "x=layers.Bidirectional(layers.LSTM(64))(x)\n",
    "# x=layers.Dense(64,activation=\"relu\")(x)\n",
    "outputs = layers.Dense(1,activation=\"sigmoid\")(x)\n",
    "model_4=tf.keras.Model(inputs,outputs,name=\"model_4_bidirectional\")"
   ]
  },
  {
   "cell_type": "code",
   "execution_count": 200,
   "metadata": {},
   "outputs": [
    {
     "data": {
      "text/html": [
       "<pre style=\"white-space:pre;overflow-x:auto;line-height:normal;font-family:Menlo,'DejaVu Sans Mono',consolas,'Courier New',monospace\"><span style=\"font-weight: bold\">Model: \"model_4_bidirectional\"</span>\n",
       "</pre>\n"
      ],
      "text/plain": [
       "\u001b[1mModel: \"model_4_bidirectional\"\u001b[0m\n"
      ]
     },
     "metadata": {},
     "output_type": "display_data"
    },
    {
     "data": {
      "text/html": [
       "<pre style=\"white-space:pre;overflow-x:auto;line-height:normal;font-family:Menlo,'DejaVu Sans Mono',consolas,'Courier New',monospace\">┏━━━━━━━━━━━━━━━━━━━━━━━━━━━━━━━━━┳━━━━━━━━━━━━━━━━━━━━━━━━┳━━━━━━━━━━━━━━━┓\n",
       "┃<span style=\"font-weight: bold\"> Layer (type)                    </span>┃<span style=\"font-weight: bold\"> Output Shape           </span>┃<span style=\"font-weight: bold\">       Param # </span>┃\n",
       "┡━━━━━━━━━━━━━━━━━━━━━━━━━━━━━━━━━╇━━━━━━━━━━━━━━━━━━━━━━━━╇━━━━━━━━━━━━━━━┩\n",
       "│ input_layer_17 (<span style=\"color: #0087ff; text-decoration-color: #0087ff\">InputLayer</span>)     │ (<span style=\"color: #00d7ff; text-decoration-color: #00d7ff\">None</span>, <span style=\"color: #00af00; text-decoration-color: #00af00\">1</span>)              │             <span style=\"color: #00af00; text-decoration-color: #00af00\">0</span> │\n",
       "├─────────────────────────────────┼────────────────────────┼───────────────┤\n",
       "│ text_vectorization_1            │ (<span style=\"color: #00d7ff; text-decoration-color: #00d7ff\">None</span>, <span style=\"color: #00af00; text-decoration-color: #00af00\">15</span>)             │             <span style=\"color: #00af00; text-decoration-color: #00af00\">0</span> │\n",
       "│ (<span style=\"color: #0087ff; text-decoration-color: #0087ff\">TextVectorization</span>)             │                        │               │\n",
       "├─────────────────────────────────┼────────────────────────┼───────────────┤\n",
       "│ embedding_1 (<span style=\"color: #0087ff; text-decoration-color: #0087ff\">Embedding</span>)         │ (<span style=\"color: #00d7ff; text-decoration-color: #00d7ff\">None</span>, <span style=\"color: #00af00; text-decoration-color: #00af00\">15</span>, <span style=\"color: #00af00; text-decoration-color: #00af00\">128</span>)        │     <span style=\"color: #00af00; text-decoration-color: #00af00\">1,280,000</span> │\n",
       "├─────────────────────────────────┼────────────────────────┼───────────────┤\n",
       "│ bidirectional (<span style=\"color: #0087ff; text-decoration-color: #0087ff\">Bidirectional</span>)   │ (<span style=\"color: #00d7ff; text-decoration-color: #00d7ff\">None</span>, <span style=\"color: #00af00; text-decoration-color: #00af00\">128</span>)            │        <span style=\"color: #00af00; text-decoration-color: #00af00\">98,816</span> │\n",
       "├─────────────────────────────────┼────────────────────────┼───────────────┤\n",
       "│ dense_16 (<span style=\"color: #0087ff; text-decoration-color: #0087ff\">Dense</span>)                │ (<span style=\"color: #00d7ff; text-decoration-color: #00d7ff\">None</span>, <span style=\"color: #00af00; text-decoration-color: #00af00\">1</span>)              │           <span style=\"color: #00af00; text-decoration-color: #00af00\">129</span> │\n",
       "└─────────────────────────────────┴────────────────────────┴───────────────┘\n",
       "</pre>\n"
      ],
      "text/plain": [
       "┏━━━━━━━━━━━━━━━━━━━━━━━━━━━━━━━━━┳━━━━━━━━━━━━━━━━━━━━━━━━┳━━━━━━━━━━━━━━━┓\n",
       "┃\u001b[1m \u001b[0m\u001b[1mLayer (type)                   \u001b[0m\u001b[1m \u001b[0m┃\u001b[1m \u001b[0m\u001b[1mOutput Shape          \u001b[0m\u001b[1m \u001b[0m┃\u001b[1m \u001b[0m\u001b[1m      Param #\u001b[0m\u001b[1m \u001b[0m┃\n",
       "┡━━━━━━━━━━━━━━━━━━━━━━━━━━━━━━━━━╇━━━━━━━━━━━━━━━━━━━━━━━━╇━━━━━━━━━━━━━━━┩\n",
       "│ input_layer_17 (\u001b[38;5;33mInputLayer\u001b[0m)     │ (\u001b[38;5;45mNone\u001b[0m, \u001b[38;5;34m1\u001b[0m)              │             \u001b[38;5;34m0\u001b[0m │\n",
       "├─────────────────────────────────┼────────────────────────┼───────────────┤\n",
       "│ text_vectorization_1            │ (\u001b[38;5;45mNone\u001b[0m, \u001b[38;5;34m15\u001b[0m)             │             \u001b[38;5;34m0\u001b[0m │\n",
       "│ (\u001b[38;5;33mTextVectorization\u001b[0m)             │                        │               │\n",
       "├─────────────────────────────────┼────────────────────────┼───────────────┤\n",
       "│ embedding_1 (\u001b[38;5;33mEmbedding\u001b[0m)         │ (\u001b[38;5;45mNone\u001b[0m, \u001b[38;5;34m15\u001b[0m, \u001b[38;5;34m128\u001b[0m)        │     \u001b[38;5;34m1,280,000\u001b[0m │\n",
       "├─────────────────────────────────┼────────────────────────┼───────────────┤\n",
       "│ bidirectional (\u001b[38;5;33mBidirectional\u001b[0m)   │ (\u001b[38;5;45mNone\u001b[0m, \u001b[38;5;34m128\u001b[0m)            │        \u001b[38;5;34m98,816\u001b[0m │\n",
       "├─────────────────────────────────┼────────────────────────┼───────────────┤\n",
       "│ dense_16 (\u001b[38;5;33mDense\u001b[0m)                │ (\u001b[38;5;45mNone\u001b[0m, \u001b[38;5;34m1\u001b[0m)              │           \u001b[38;5;34m129\u001b[0m │\n",
       "└─────────────────────────────────┴────────────────────────┴───────────────┘\n"
      ]
     },
     "metadata": {},
     "output_type": "display_data"
    },
    {
     "data": {
      "text/html": [
       "<pre style=\"white-space:pre;overflow-x:auto;line-height:normal;font-family:Menlo,'DejaVu Sans Mono',consolas,'Courier New',monospace\"><span style=\"font-weight: bold\"> Total params: </span><span style=\"color: #00af00; text-decoration-color: #00af00\">1,378,945</span> (5.26 MB)\n",
       "</pre>\n"
      ],
      "text/plain": [
       "\u001b[1m Total params: \u001b[0m\u001b[38;5;34m1,378,945\u001b[0m (5.26 MB)\n"
      ]
     },
     "metadata": {},
     "output_type": "display_data"
    },
    {
     "data": {
      "text/html": [
       "<pre style=\"white-space:pre;overflow-x:auto;line-height:normal;font-family:Menlo,'DejaVu Sans Mono',consolas,'Courier New',monospace\"><span style=\"font-weight: bold\"> Trainable params: </span><span style=\"color: #00af00; text-decoration-color: #00af00\">1,378,945</span> (5.26 MB)\n",
       "</pre>\n"
      ],
      "text/plain": [
       "\u001b[1m Trainable params: \u001b[0m\u001b[38;5;34m1,378,945\u001b[0m (5.26 MB)\n"
      ]
     },
     "metadata": {},
     "output_type": "display_data"
    },
    {
     "data": {
      "text/html": [
       "<pre style=\"white-space:pre;overflow-x:auto;line-height:normal;font-family:Menlo,'DejaVu Sans Mono',consolas,'Courier New',monospace\"><span style=\"font-weight: bold\"> Non-trainable params: </span><span style=\"color: #00af00; text-decoration-color: #00af00\">0</span> (0.00 B)\n",
       "</pre>\n"
      ],
      "text/plain": [
       "\u001b[1m Non-trainable params: \u001b[0m\u001b[38;5;34m0\u001b[0m (0.00 B)\n"
      ]
     },
     "metadata": {},
     "output_type": "display_data"
    }
   ],
   "source": [
    "model_4.summary()"
   ]
  },
  {
   "cell_type": "code",
   "execution_count": 201,
   "metadata": {},
   "outputs": [],
   "source": [
    "model_4.compile(loss='binary_crossentropy',\n",
    "                optimizer=tf.keras.optimizers.Adam(),\n",
    "                metrics=['accuracy'])"
   ]
  },
  {
   "cell_type": "code",
   "execution_count": 202,
   "metadata": {},
   "outputs": [
    {
     "name": "stdout",
     "output_type": "stream",
     "text": [
      "Saving TensorBoard log files to: model_logs/model_3_gru/20240912-111500\n",
      "Epoch 1/5\n",
      "\u001b[1m215/215\u001b[0m \u001b[32m━━━━━━━━━━━━━━━━━━━━\u001b[0m\u001b[37m\u001b[0m \u001b[1m11s\u001b[0m 29ms/step - accuracy: 0.9537 - loss: 0.1944 - val_accuracy: 0.7572 - val_loss: 1.0467\n",
      "Epoch 2/5\n",
      "\u001b[1m215/215\u001b[0m \u001b[32m━━━━━━━━━━━━━━━━━━━━\u001b[0m\u001b[37m\u001b[0m \u001b[1m5s\u001b[0m 24ms/step - accuracy: 0.9771 - loss: 0.0626 - val_accuracy: 0.7480 - val_loss: 1.2492\n",
      "Epoch 3/5\n",
      "\u001b[1m215/215\u001b[0m \u001b[32m━━━━━━━━━━━━━━━━━━━━\u001b[0m\u001b[37m\u001b[0m \u001b[1m5s\u001b[0m 23ms/step - accuracy: 0.9797 - loss: 0.0521 - val_accuracy: 0.7677 - val_loss: 1.0873\n",
      "Epoch 4/5\n",
      "\u001b[1m215/215\u001b[0m \u001b[32m━━━━━━━━━━━━━━━━━━━━\u001b[0m\u001b[37m\u001b[0m \u001b[1m5s\u001b[0m 23ms/step - accuracy: 0.9793 - loss: 0.0501 - val_accuracy: 0.7625 - val_loss: 1.1234\n",
      "Epoch 5/5\n",
      "\u001b[1m215/215\u001b[0m \u001b[32m━━━━━━━━━━━━━━━━━━━━\u001b[0m\u001b[37m\u001b[0m \u001b[1m5s\u001b[0m 25ms/step - accuracy: 0.9819 - loss: 0.0411 - val_accuracy: 0.7572 - val_loss: 1.1703\n"
     ]
    }
   ],
   "source": [
    "model_4_history = model_4.fit(train_sentences,train_labels,epochs=5,validation_data=(val_sentences,val_labels),callbacks=[create_tensorboard_callback(SAVE_DIR,\"model_3_gru\")])"
   ]
  },
  {
   "cell_type": "code",
   "execution_count": 203,
   "metadata": {},
   "outputs": [
    {
     "name": "stdout",
     "output_type": "stream",
     "text": [
      "\u001b[1m24/24\u001b[0m \u001b[32m━━━━━━━━━━━━━━━━━━━━\u001b[0m\u001b[37m\u001b[0m \u001b[1m1s\u001b[0m 21ms/step\n"
     ]
    }
   ],
   "source": [
    "model_4_pred_probs=model_4.predict(val_sentences)"
   ]
  },
  {
   "cell_type": "code",
   "execution_count": 204,
   "metadata": {},
   "outputs": [],
   "source": [
    "model_4_preds=tf.squeeze(tf.round(model_4_pred_probs))"
   ]
  },
  {
   "cell_type": "code",
   "execution_count": 205,
   "metadata": {},
   "outputs": [
    {
     "data": {
      "text/plain": [
       "<tf.Tensor: shape=(762,), dtype=float32, numpy=\n",
       "array([0., 0., 1., 0., 0., 1., 1., 1., 1., 1., 0., 1., 0., 0., 0., 0., 0.,\n",
       "       0., 0., 1., 1., 0., 1., 0., 1., 1., 0., 0., 0., 0., 1., 0., 0., 0.,\n",
       "       0., 0., 1., 0., 0., 1., 1., 0., 0., 0., 1., 1., 1., 1., 0., 1., 0.,\n",
       "       0., 0., 0., 0., 0., 0., 1., 0., 0., 0., 1., 1., 0., 1., 1., 1., 0.,\n",
       "       1., 0., 0., 0., 1., 0., 1., 1., 0., 1., 0., 0., 0., 0., 1., 0., 0.,\n",
       "       0., 0., 0., 0., 1., 1., 0., 1., 0., 1., 0., 1., 1., 1., 1., 1., 0.,\n",
       "       0., 1., 1., 0., 1., 1., 0., 1., 1., 0., 1., 0., 0., 0., 1., 1., 0.,\n",
       "       0., 1., 0., 0., 1., 0., 0., 1., 0., 0., 1., 0., 1., 1., 1., 1., 0.,\n",
       "       1., 0., 0., 0., 1., 1., 0., 1., 0., 0., 0., 0., 0., 1., 0., 0., 0.,\n",
       "       0., 0., 1., 1., 0., 1., 0., 1., 0., 0., 1., 0., 0., 1., 0., 1., 1.,\n",
       "       1., 1., 1., 0., 1., 0., 0., 0., 1., 1., 0., 1., 1., 1., 1., 0., 0.,\n",
       "       1., 0., 0., 0., 1., 0., 0., 0., 0., 0., 0., 1., 0., 0., 1., 1., 0.,\n",
       "       0., 1., 1., 1., 1., 1., 0., 1., 0., 0., 0., 0., 1., 1., 1., 0., 0.,\n",
       "       0., 0., 0., 1., 0., 0., 1., 1., 1., 0., 0., 1., 0., 0., 0., 1., 0.,\n",
       "       0., 0., 1., 0., 1., 1., 0., 0., 1., 0., 0., 0., 0., 1., 0., 0., 1.,\n",
       "       0., 1., 1., 0., 0., 0., 0., 0., 1., 1., 0., 1., 0., 0., 0., 0., 0.,\n",
       "       1., 0., 0., 1., 0., 0., 1., 0., 0., 0., 1., 1., 0., 1., 1., 0., 1.,\n",
       "       0., 1., 1., 1., 0., 0., 0., 0., 0., 0., 0., 0., 0., 0., 1., 0., 0.,\n",
       "       0., 0., 0., 0., 0., 1., 0., 0., 1., 0., 1., 0., 0., 0., 0., 0., 1.,\n",
       "       0., 1., 0., 0., 1., 0., 1., 0., 0., 1., 0., 0., 1., 0., 0., 1., 1.,\n",
       "       0., 0., 1., 1., 1., 0., 1., 1., 0., 0., 0., 0., 0., 0., 0., 0., 1.,\n",
       "       1., 1., 0., 0., 0., 0., 1., 0., 0., 0., 0., 1., 0., 0., 0., 0., 0.,\n",
       "       1., 0., 0., 0., 0., 1., 1., 0., 1., 0., 1., 1., 1., 1., 1., 0., 1.,\n",
       "       1., 0., 0., 0., 1., 0., 0., 0., 0., 1., 0., 0., 1., 0., 1., 0., 0.,\n",
       "       0., 1., 1., 0., 0., 1., 1., 1., 0., 0., 0., 0., 1., 0., 1., 1., 0.,\n",
       "       0., 0., 1., 1., 1., 0., 0., 0., 0., 0., 0., 1., 0., 1., 1., 0., 0.,\n",
       "       0., 0., 0., 1., 0., 0., 0., 0., 0., 1., 1., 1., 1., 1., 0., 0., 1.,\n",
       "       1., 1., 0., 0., 0., 1., 1., 0., 0., 1., 0., 0., 1., 0., 0., 1., 0.,\n",
       "       0., 1., 0., 0., 0., 0., 0., 1., 0., 0., 1., 0., 0., 0., 0., 1., 1.,\n",
       "       0., 0., 0., 0., 1., 0., 1., 1., 1., 1., 0., 0., 0., 1., 1., 1., 0.,\n",
       "       1., 0., 0., 0., 0., 0., 1., 1., 0., 1., 0., 0., 1., 0., 0., 0., 1.,\n",
       "       0., 1., 1., 1., 1., 1., 0., 1., 0., 0., 0., 1., 1., 0., 0., 1., 0.,\n",
       "       0., 0., 0., 1., 1., 0., 1., 1., 0., 1., 0., 1., 0., 0., 0., 0., 0.,\n",
       "       0., 1., 0., 1., 0., 1., 0., 0., 0., 1., 0., 1., 0., 0., 1., 0., 0.,\n",
       "       1., 0., 0., 0., 1., 0., 0., 1., 0., 0., 0., 0., 0., 0., 0., 0., 0.,\n",
       "       0., 0., 1., 1., 0., 0., 0., 1., 1., 1., 0., 1., 0., 1., 1., 0., 1.,\n",
       "       0., 1., 1., 0., 0., 0., 0., 0., 1., 0., 1., 1., 1., 1., 0., 0., 1.,\n",
       "       0., 0., 1., 1., 1., 1., 0., 1., 0., 0., 1., 1., 0., 1., 1., 0., 0.,\n",
       "       0., 0., 1., 1., 1., 0., 0., 0., 0., 1., 0., 1., 0., 0., 0., 0., 1.,\n",
       "       0., 1., 0., 0., 0., 1., 1., 0., 0., 0., 0., 1., 0., 0., 1., 0., 1.,\n",
       "       0., 0., 1., 0., 1., 1., 0., 0., 0., 0., 0., 1., 0., 0., 1., 0., 1.,\n",
       "       0., 1., 0., 0., 0., 1., 0., 0., 0., 0., 0., 0., 0., 0., 0., 1., 0.,\n",
       "       0., 0., 0., 0., 1., 0., 0., 0., 1., 1., 0., 0., 0., 0., 1., 0., 0.,\n",
       "       1., 1., 1., 1., 1., 0., 0., 0., 1., 1., 1., 0., 1., 1., 0., 0., 0.,\n",
       "       0., 0., 0., 1., 1., 0., 1., 1., 0., 0., 0., 1., 1., 0.],\n",
       "      dtype=float32)>"
      ]
     },
     "execution_count": 205,
     "metadata": {},
     "output_type": "execute_result"
    }
   ],
   "source": [
    "model_4_preds"
   ]
  },
  {
   "cell_type": "code",
   "execution_count": 206,
   "metadata": {},
   "outputs": [],
   "source": [
    "model_4_results=calculate_results(val_labels,model_4_preds)"
   ]
  },
  {
   "cell_type": "code",
   "execution_count": 207,
   "metadata": {},
   "outputs": [
    {
     "data": {
      "text/plain": [
       "{'accuracy': 75.7217847769029,\n",
       " 'precision': 0.7588431452858484,\n",
       " 'recall': 0.7572178477690289,\n",
       " 'f1': 0.7548067945124027}"
      ]
     },
     "execution_count": 207,
     "metadata": {},
     "output_type": "execute_result"
    }
   ],
   "source": [
    "model_4_results"
   ]
  },
  {
   "cell_type": "code",
   "execution_count": 208,
   "metadata": {},
   "outputs": [
    {
     "data": {
      "text/plain": [
       "(TensorShape([1, 15, 128]), TensorShape([1, 12, 32]), TensorShape([1, 32]))"
      ]
     },
     "execution_count": 208,
     "metadata": {},
     "output_type": "execute_result"
    }
   ],
   "source": [
    "embedding_test=embeddings(text_vectorizer([\"This is a demo text \"]))\n",
    "conv_1d=layers.Conv1D(\n",
    "    filters=32,\n",
    "    kernel_size=4,\n",
    "    activation=\"relu\",\n",
    "    padding=\"valid\"\n",
    ")\n",
    "conv_1d_output = conv_1d(embedding_test)\n",
    "max_pool = layers.GlobalMaxPooling1D()\n",
    "max_pool_output = max_pool(conv_1d_output)\n",
    "\n",
    "embedding_test.shape , conv_1d_output.shape,max_pool_output.shape"
   ]
  },
  {
   "cell_type": "code",
   "execution_count": 209,
   "metadata": {},
   "outputs": [
    {
     "data": {
      "text/plain": [
       "<tf.Tensor: shape=(1, 15, 128), dtype=float32, numpy=\n",
       "array([[[ 0.07104586,  0.01411878, -0.12570226, ...,  0.04970275,\n",
       "         -0.07513319, -0.04949557],\n",
       "        [-0.03420844, -0.01214469,  0.01346048, ..., -0.06237122,\n",
       "         -0.01953427, -0.02775047],\n",
       "        [-0.01851438,  0.0469859 , -0.01279371, ...,  0.04232066,\n",
       "         -0.0289881 , -0.01233918],\n",
       "        ...,\n",
       "        [-0.08741628, -0.03199571,  0.01591121, ..., -0.05436816,\n",
       "         -0.02905676, -0.02282028],\n",
       "        [-0.08741628, -0.03199571,  0.01591121, ..., -0.05436816,\n",
       "         -0.02905676, -0.02282028],\n",
       "        [-0.08741628, -0.03199571,  0.01591121, ..., -0.05436816,\n",
       "         -0.02905676, -0.02282028]]], dtype=float32)>"
      ]
     },
     "execution_count": 209,
     "metadata": {},
     "output_type": "execute_result"
    }
   ],
   "source": [
    "embedding_test"
   ]
  },
  {
   "cell_type": "code",
   "execution_count": 210,
   "metadata": {},
   "outputs": [
    {
     "data": {
      "text/plain": [
       "<tf.Tensor: shape=(1, 12, 32), dtype=float32, numpy=\n",
       "array([[[0.        , 0.01503853, 0.06598306, 0.        , 0.        ,\n",
       "         0.08113127, 0.        , 0.02692751, 0.03649754, 0.0232619 ,\n",
       "         0.        , 0.        , 0.03088134, 0.        , 0.02830677,\n",
       "         0.        , 0.        , 0.01690107, 0.03852435, 0.        ,\n",
       "         0.03530596, 0.        , 0.05738579, 0.        , 0.        ,\n",
       "         0.        , 0.06006774, 0.        , 0.        , 0.04769559,\n",
       "         0.03011015, 0.05315686],\n",
       "        [0.38669005, 0.        , 0.03343203, 0.        , 0.        ,\n",
       "         0.19305927, 0.        , 0.        , 0.0108165 , 0.        ,\n",
       "         0.4088841 , 0.        , 0.        , 0.        , 0.22577417,\n",
       "         0.        , 0.        , 0.42523557, 0.        , 0.        ,\n",
       "         0.        , 0.        , 0.        , 0.11671312, 0.        ,\n",
       "         0.        , 0.        , 0.        , 0.18408018, 0.04266049,\n",
       "         0.08453108, 0.1444122 ],\n",
       "        [0.        , 0.        , 0.10127957, 0.        , 0.        ,\n",
       "         0.        , 0.        , 0.        , 0.16702092, 0.        ,\n",
       "         0.        , 0.09213449, 0.        , 0.05609889, 0.12470607,\n",
       "         0.        , 0.02838399, 0.21560617, 0.        , 0.03623012,\n",
       "         0.        , 0.01061064, 0.        , 0.05035459, 0.01973047,\n",
       "         0.        , 0.        , 0.14772479, 0.12138595, 0.5352297 ,\n",
       "         0.        , 0.        ],\n",
       "        [0.47505572, 0.15432888, 0.11103676, 0.        , 0.26802993,\n",
       "         0.        , 0.12097746, 0.51865077, 0.        , 0.        ,\n",
       "         0.31224334, 0.1556235 , 0.        , 0.        , 0.07418145,\n",
       "         0.        , 0.        , 0.5310577 , 0.        , 0.08352908,\n",
       "         0.        , 0.        , 0.09780671, 0.03232881, 0.22623636,\n",
       "         0.        , 0.        , 0.        , 0.        , 0.11589774,\n",
       "         0.2437019 , 0.02506465],\n",
       "        [0.1517629 , 0.        , 0.41657996, 0.11264381, 0.        ,\n",
       "         0.14243013, 0.00381961, 0.14992964, 0.06471099, 0.        ,\n",
       "         0.1101543 , 0.11791427, 0.11547093, 0.        , 0.        ,\n",
       "         0.        , 0.        , 0.20033363, 0.        , 0.00521498,\n",
       "         0.08235662, 0.        , 0.23147577, 0.        , 0.        ,\n",
       "         0.32982314, 0.06630836, 0.04187141, 0.        , 0.2581715 ,\n",
       "         0.        , 0.        ],\n",
       "        [0.0041607 , 0.        , 0.12470517, 0.        , 0.        ,\n",
       "         0.        , 0.02736764, 0.07158865, 0.        , 0.02922338,\n",
       "         0.03745018, 0.00294656, 0.11085711, 0.        , 0.03994874,\n",
       "         0.06848514, 0.05917262, 0.02395442, 0.        , 0.06611741,\n",
       "         0.        , 0.        , 0.        , 0.02939256, 0.04584927,\n",
       "         0.        , 0.        , 0.02638946, 0.03263105, 0.09280555,\n",
       "         0.        , 0.        ],\n",
       "        [0.0041607 , 0.        , 0.12470517, 0.        , 0.        ,\n",
       "         0.        , 0.02736764, 0.07158865, 0.        , 0.02922338,\n",
       "         0.03745018, 0.00294656, 0.11085711, 0.        , 0.03994874,\n",
       "         0.06848514, 0.05917262, 0.02395442, 0.        , 0.06611741,\n",
       "         0.        , 0.        , 0.        , 0.02939256, 0.04584927,\n",
       "         0.        , 0.        , 0.02638946, 0.03263105, 0.09280555,\n",
       "         0.        , 0.        ],\n",
       "        [0.0041607 , 0.        , 0.12470517, 0.        , 0.        ,\n",
       "         0.        , 0.02736764, 0.07158865, 0.        , 0.02922338,\n",
       "         0.03745018, 0.00294656, 0.11085711, 0.        , 0.03994874,\n",
       "         0.06848514, 0.05917262, 0.02395442, 0.        , 0.06611741,\n",
       "         0.        , 0.        , 0.        , 0.02939256, 0.04584927,\n",
       "         0.        , 0.        , 0.02638946, 0.03263105, 0.09280555,\n",
       "         0.        , 0.        ],\n",
       "        [0.0041607 , 0.        , 0.12470517, 0.        , 0.        ,\n",
       "         0.        , 0.02736764, 0.07158865, 0.        , 0.02922338,\n",
       "         0.03745018, 0.00294656, 0.11085711, 0.        , 0.03994874,\n",
       "         0.06848514, 0.05917262, 0.02395442, 0.        , 0.06611741,\n",
       "         0.        , 0.        , 0.        , 0.02939256, 0.04584927,\n",
       "         0.        , 0.        , 0.02638946, 0.03263105, 0.09280555,\n",
       "         0.        , 0.        ],\n",
       "        [0.0041607 , 0.        , 0.12470517, 0.        , 0.        ,\n",
       "         0.        , 0.02736764, 0.07158865, 0.        , 0.02922338,\n",
       "         0.03745018, 0.00294656, 0.11085711, 0.        , 0.03994874,\n",
       "         0.06848514, 0.05917262, 0.02395442, 0.        , 0.06611741,\n",
       "         0.        , 0.        , 0.        , 0.02939256, 0.04584927,\n",
       "         0.        , 0.        , 0.02638946, 0.03263105, 0.09280555,\n",
       "         0.        , 0.        ],\n",
       "        [0.0041607 , 0.        , 0.12470517, 0.        , 0.        ,\n",
       "         0.        , 0.02736764, 0.07158865, 0.        , 0.02922338,\n",
       "         0.03745018, 0.00294656, 0.11085711, 0.        , 0.03994874,\n",
       "         0.06848514, 0.05917262, 0.02395442, 0.        , 0.06611741,\n",
       "         0.        , 0.        , 0.        , 0.02939256, 0.04584927,\n",
       "         0.        , 0.        , 0.02638946, 0.03263105, 0.09280555,\n",
       "         0.        , 0.        ],\n",
       "        [0.0041607 , 0.        , 0.12470517, 0.        , 0.        ,\n",
       "         0.        , 0.02736764, 0.07158865, 0.        , 0.02922338,\n",
       "         0.03745018, 0.00294656, 0.11085711, 0.        , 0.03994874,\n",
       "         0.06848514, 0.05917262, 0.02395442, 0.        , 0.06611741,\n",
       "         0.        , 0.        , 0.        , 0.02939256, 0.04584927,\n",
       "         0.        , 0.        , 0.02638946, 0.03263105, 0.09280555,\n",
       "         0.        , 0.        ]]], dtype=float32)>"
      ]
     },
     "execution_count": 210,
     "metadata": {},
     "output_type": "execute_result"
    }
   ],
   "source": [
    "conv_1d_output"
   ]
  },
  {
   "cell_type": "code",
   "execution_count": 211,
   "metadata": {},
   "outputs": [],
   "source": [
    "inputs = layers.Input(shape=(1,),dtype=tf.string)\n",
    "x=text_vectorizer(inputs)\n",
    "x=embeddings(x)\n",
    "x=layers.Conv1D(filters=32,\n",
    "                kernel_size=5,\n",
    "                strides=1,\n",
    "                activation=\"relu\",\n",
    "                padding=\"valid\")(x)\n",
    "x=layers.GlobalMaxPool1D()(x)\n",
    "outputs = layers.Dense(1,activation=\"sigmoid\")(x)\n",
    "model_5=tf.keras.Model(inputs,outputs,name=\"model_5_Conv1D\")"
   ]
  },
  {
   "cell_type": "code",
   "execution_count": 212,
   "metadata": {},
   "outputs": [],
   "source": [
    "model_5.compile(loss='binary_crossentropy',\n",
    "                optimizer=tf.keras.optimizers.Adam(),\n",
    "                metrics=['accuracy'])"
   ]
  },
  {
   "cell_type": "code",
   "execution_count": 213,
   "metadata": {},
   "outputs": [
    {
     "name": "stdout",
     "output_type": "stream",
     "text": [
      "Saving TensorBoard log files to: model_logs/model_3_gru/20240912-111533\n",
      "Epoch 1/5\n",
      "\u001b[1m215/215\u001b[0m \u001b[32m━━━━━━━━━━━━━━━━━━━━\u001b[0m\u001b[37m\u001b[0m \u001b[1m5s\u001b[0m 23ms/step - accuracy: 0.9836 - loss: 0.0370 - val_accuracy: 0.7612 - val_loss: 1.2506\n",
      "Epoch 2/5\n",
      "\u001b[1m215/215\u001b[0m \u001b[32m━━━━━━━━━━━━━━━━━━━━\u001b[0m\u001b[37m\u001b[0m \u001b[1m5s\u001b[0m 25ms/step - accuracy: 0.9816 - loss: 0.0437 - val_accuracy: 0.7585 - val_loss: 1.2701\n",
      "Epoch 3/5\n",
      "\u001b[1m215/215\u001b[0m \u001b[32m━━━━━━━━━━━━━━━━━━━━\u001b[0m\u001b[37m\u001b[0m \u001b[1m6s\u001b[0m 26ms/step - accuracy: 0.9820 - loss: 0.0393 - val_accuracy: 0.7612 - val_loss: 1.3970\n",
      "Epoch 4/5\n",
      "\u001b[1m215/215\u001b[0m \u001b[32m━━━━━━━━━━━━━━━━━━━━\u001b[0m\u001b[37m\u001b[0m \u001b[1m6s\u001b[0m 27ms/step - accuracy: 0.9826 - loss: 0.0376 - val_accuracy: 0.7690 - val_loss: 1.2351\n",
      "Epoch 5/5\n",
      "\u001b[1m215/215\u001b[0m \u001b[32m━━━━━━━━━━━━━━━━━━━━\u001b[0m\u001b[37m\u001b[0m \u001b[1m5s\u001b[0m 24ms/step - accuracy: 0.9836 - loss: 0.0361 - val_accuracy: 0.7454 - val_loss: 1.5618\n"
     ]
    }
   ],
   "source": [
    "model_5_history = model_4.fit(train_sentences,train_labels,epochs=5,validation_data=(val_sentences,val_labels),callbacks=[create_tensorboard_callback(SAVE_DIR,\"model_3_gru\")])\n"
   ]
  },
  {
   "cell_type": "code",
   "execution_count": 214,
   "metadata": {},
   "outputs": [
    {
     "name": "stdout",
     "output_type": "stream",
     "text": [
      "\u001b[1m24/24\u001b[0m \u001b[32m━━━━━━━━━━━━━━━━━━━━\u001b[0m\u001b[37m\u001b[0m \u001b[1m0s\u001b[0m 8ms/step\n"
     ]
    }
   ],
   "source": [
    "model_5_pred_probs = model_5.predict(val_sentences)"
   ]
  },
  {
   "cell_type": "code",
   "execution_count": 215,
   "metadata": {},
   "outputs": [],
   "source": [
    "model_5_preds=tf.squeeze(tf.round(model_5_pred_probs))"
   ]
  },
  {
   "cell_type": "code",
   "execution_count": 216,
   "metadata": {},
   "outputs": [],
   "source": [
    "model_5_results = calculate_results(val_labels,model_5_preds)"
   ]
  },
  {
   "cell_type": "code",
   "execution_count": 217,
   "metadata": {},
   "outputs": [
    {
     "data": {
      "text/plain": [
       "{'accuracy': 56.69291338582677,\n",
       " 'precision': 0.5887107350896034,\n",
       " 'recall': 0.5669291338582677,\n",
       " 'f1': 0.48017415607172753}"
      ]
     },
     "execution_count": 217,
     "metadata": {},
     "output_type": "execute_result"
    }
   ],
   "source": [
    "model_5_results"
   ]
  },
  {
   "cell_type": "code",
   "execution_count": 222,
   "metadata": {},
   "outputs": [
    {
     "name": "stderr",
     "output_type": "stream",
     "text": [
      "2024-09-12 13:50:36.855802: W external/local_tsl/tsl/framework/cpu_allocator_impl.cc:83] Allocation of 34133760 exceeds 10% of free system memory.\n",
      "2024-09-12 13:50:36.894493: W external/local_tsl/tsl/framework/cpu_allocator_impl.cc:83] Allocation of 34133760 exceeds 10% of free system memory.\n",
      "2024-09-12 13:50:36.930176: W external/local_tsl/tsl/framework/cpu_allocator_impl.cc:83] Allocation of 34133760 exceeds 10% of free system memory.\n",
      "2024-09-12 13:50:36.964884: W external/local_tsl/tsl/framework/cpu_allocator_impl.cc:83] Allocation of 34133760 exceeds 10% of free system memory.\n",
      "2024-09-12 13:50:36.995900: W external/local_tsl/tsl/framework/cpu_allocator_impl.cc:83] Allocation of 34133760 exceeds 10% of free system memory.\n"
     ]
    },
    {
     "name": "stdout",
     "output_type": "stream",
     "text": [
      "tf.Tensor(\n",
      "[-0.02607422 -0.08460002 -0.02678661  0.05678423  0.06197045  0.03822602\n",
      "  0.02011494  0.02740877  0.0869832   0.03079179  0.04104117  0.02551835\n",
      "  0.00096512  0.05892798  0.04009536  0.04670895 -0.03312796  0.04070418\n",
      " -0.01199297 -0.04761707 -0.00829665  0.07054674  0.00484351  0.08098248\n",
      " -0.05701774 -0.06435516  0.06971473 -0.06988385  0.02646064 -0.02352202\n",
      "  0.05523751  0.04913642  0.05698972 -0.06107194  0.03608509  0.02324465\n",
      "  0.05601753 -0.01095515  0.04213083 -0.01769539  0.00712432  0.02047029\n",
      " -0.07101265 -0.08455775  0.04360583  0.04793973 -0.0901802  -0.06873439\n",
      "  0.01279598  0.01624986], shape=(50,), dtype=float32)\n"
     ]
    }
   ],
   "source": [
    "import  tensorflow_hub as hub\n",
    "embed=hub.load('https://tfhub.dev/google/universal-sentence-encoder/4')\n",
    "embed_samples=embed([sample_sentence,\"When you can the universal sentence encoder on a sentence ,  it turns it into numbers.\"])\n",
    "\n",
    "print(embed_samples[0][:50])\n"
   ]
  },
  {
   "cell_type": "code",
   "execution_count": 224,
   "metadata": {},
   "outputs": [
    {
     "ename": "ModuleNotFoundError",
     "evalue": "No module named 'google.colab'",
     "output_type": "error",
     "traceback": [
      "\u001b[0;31m---------------------------------------------------------------------------\u001b[0m",
      "\u001b[0;31mModuleNotFoundError\u001b[0m                       Traceback (most recent call last)",
      "Cell \u001b[0;32mIn[224], line 1\u001b[0m\n\u001b[0;32m----> 1\u001b[0m \u001b[38;5;28;01mfrom\u001b[39;00m \u001b[38;5;21;01mgoogle\u001b[39;00m\u001b[38;5;21;01m.\u001b[39;00m\u001b[38;5;21;01mcolab\u001b[39;00m \u001b[38;5;28;01mimport\u001b[39;00m files\n",
      "\u001b[0;31mModuleNotFoundError\u001b[0m: No module named 'google.colab'"
     ]
    }
   ],
   "source": [
    "from google.colab import files\n"
   ]
  },
  {
   "cell_type": "code",
   "execution_count": null,
   "metadata": {},
   "outputs": [],
   "source": []
  }
 ],
 "metadata": {
  "kernelspec": {
   "display_name": "Python 3 (ipykernel)",
   "language": "python",
   "name": "python3"
  },
  "language_info": {
   "codemirror_mode": {
    "name": "ipython",
    "version": 3
   },
   "file_extension": ".py",
   "mimetype": "text/x-python",
   "name": "python",
   "nbconvert_exporter": "python",
   "pygments_lexer": "ipython3",
   "version": "3.12.3"
  }
 },
 "nbformat": 4,
 "nbformat_minor": 2
}
