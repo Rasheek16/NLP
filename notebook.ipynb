{
 "cells": [
  {
   "cell_type": "code",
   "execution_count": 1,
   "metadata": {},
   "outputs": [
    {
     "name": "stdout",
     "output_type": "stream",
     "text": [
      "Wed Sep 11 23:51:41 2024       \n",
      "+-----------------------------------------------------------------------------------------+\n",
      "| NVIDIA-SMI 560.81                 Driver Version: 560.81         CUDA Version: 12.6     |\n",
      "|-----------------------------------------+------------------------+----------------------+\n",
      "| GPU  Name                  Driver-Model | Bus-Id          Disp.A | Volatile Uncorr. ECC |\n",
      "| Fan  Temp   Perf          Pwr:Usage/Cap |           Memory-Usage | GPU-Util  Compute M. |\n",
      "|                                         |                        |               MIG M. |\n",
      "|=========================================+========================+======================|\n",
      "|   0  NVIDIA GeForce RTX 4070      WDDM  |   00000000:01:00.0  On |                  N/A |\n",
      "| 56%   38C    P0             30W /  215W |    1222MiB /  12282MiB |      4%      Default |\n",
      "|                                         |                        |                  N/A |\n",
      "+-----------------------------------------+------------------------+----------------------+\n",
      "                                                                                         \n",
      "+-----------------------------------------------------------------------------------------+\n",
      "| Processes:                                                                              |\n",
      "|  GPU   GI   CI        PID   Type   Process name                              GPU Memory |\n",
      "|        ID   ID                                                               Usage      |\n",
      "|=========================================================================================|\n",
      "|    0   N/A  N/A      2256    C+G   ... Live Wallpaper\\GXLiveWallpaper.exe      N/A      |\n",
      "|    0   N/A  N/A      2440    C+G   ...ekyb3d8bbwe\\PhoneExperienceHost.exe      N/A      |\n",
      "|    0   N/A  N/A      6220    C+G   ...x64__97hta09mmv6hy\\Build\\Lively.exe      N/A      |\n",
      "|    0   N/A  N/A     10920    C+G   ...n\\NVIDIA app\\CEF\\NVIDIA Overlay.exe      N/A      |\n",
      "|    0   N/A  N/A     11912    C+G   C:\\Windows\\explorer.exe                     N/A      |\n",
      "|    0   N/A  N/A     12096    C+G   ...n\\NVIDIA app\\CEF\\NVIDIA Overlay.exe      N/A      |\n",
      "|    0   N/A  N/A     14520    C+G   ...nt.CBS_cw5n1h2txyewy\\SearchHost.exe      N/A      |\n",
      "|    0   N/A  N/A     14544    C+G   ...2txyewy\\StartMenuExperienceHost.exe      N/A      |\n",
      "|    0   N/A  N/A     15348    C+G   ...crosoft\\Edge\\Application\\msedge.exe      N/A      |\n",
      "|    0   N/A  N/A     16940    C+G   ...t.LockApp_cw5n1h2txyewy\\LockApp.exe      N/A      |\n",
      "|    0   N/A  N/A     17964    C+G   ...4.0_x64__cv1g1gvanyjgm\\WhatsApp.exe      N/A      |\n",
      "|    0   N/A  N/A     17988    C+G   ...CBS_cw5n1h2txyewy\\TextInputHost.exe      N/A      |\n",
      "|    0   N/A  N/A     18540    C+G   ...US\\ArmouryDevice\\asus_framework.exe      N/A      |\n",
      "|    0   N/A  N/A     21748    C+G   ...les\\Microsoft OneDrive\\OneDrive.exe      N/A      |\n",
      "|    0   N/A  N/A     22556    C+G   C:\\VsCode\\Code.exe                          N/A      |\n",
      "|    0   N/A  N/A     23316    C+G   ...inaries\\Win64\\EpicGamesLauncher.exe      N/A      |\n",
      "|    0   N/A  N/A     24092    C+G   ...ne\\Binaries\\Win64\\EpicWebHelper.exe      N/A      |\n",
      "|    0   N/A  N/A     24888    C+G   ...al\\Discord\\app-1.0.9162\\Discord.exe      N/A      |\n",
      "|    0   N/A  N/A     25104    C+G   ...B\\system_tray\\lghub_system_tray.exe      N/A      |\n",
      "|    0   N/A  N/A     26308    C+G   ...siveControlPanel\\SystemSettings.exe      N/A      |\n",
      "|    0   N/A  N/A     27988    C+G   ...54.0_x64__zpdnekdrzrea0\\Spotify.exe      N/A      |\n",
      "|    0   N/A  N/A     28444    C+G   ...5n1h2txyewy\\ShellExperienceHost.exe      N/A      |\n",
      "|    0   N/A  N/A     29692    C+G   ...__8wekyb3d8bbwe\\WindowsTerminal.exe      N/A      |\n",
      "+-----------------------------------------------------------------------------------------+\n"
     ]
    }
   ],
   "source": [
    "!nvidia-smi"
   ]
  },
  {
   "cell_type": "code",
   "execution_count": 2,
   "metadata": {},
   "outputs": [],
   "source": [
    "import tensorflow as tf\n",
    "from helper_functions import unzip_data, create_tensorboard_callback,plot_loss_curves,compare_historys"
   ]
  },
  {
   "cell_type": "code",
   "execution_count": 3,
   "metadata": {},
   "outputs": [],
   "source": [
    "unzip_data('nlp-getting-started.zip')"
   ]
  },
  {
   "cell_type": "code",
   "execution_count": 4,
   "metadata": {},
   "outputs": [],
   "source": [
    "import pandas as pd"
   ]
  },
  {
   "cell_type": "code",
   "execution_count": 5,
   "metadata": {},
   "outputs": [
    {
     "data": {
      "text/plain": [
       "'Forest fire near La Ronge Sask. Canada'"
      ]
     },
     "execution_count": 5,
     "metadata": {},
     "output_type": "execute_result"
    }
   ],
   "source": [
    "train_df = pd.read_csv('train.csv')\n",
    "test_df = pd.read_csv('test.csv')\n",
    "train_df.head()\n",
    "train_df[\"text\"][1]\n"
   ]
  },
  {
   "cell_type": "code",
   "execution_count": 6,
   "metadata": {},
   "outputs": [],
   "source": [
    "train_df_shuffled = train_df.sample(frac=1,random_state=42)"
   ]
  },
  {
   "cell_type": "code",
   "execution_count": 7,
   "metadata": {},
   "outputs": [
    {
     "data": {
      "text/html": [
       "<div>\n",
       "<style scoped>\n",
       "    .dataframe tbody tr th:only-of-type {\n",
       "        vertical-align: middle;\n",
       "    }\n",
       "\n",
       "    .dataframe tbody tr th {\n",
       "        vertical-align: top;\n",
       "    }\n",
       "\n",
       "    .dataframe thead th {\n",
       "        text-align: right;\n",
       "    }\n",
       "</style>\n",
       "<table border=\"1\" class=\"dataframe\">\n",
       "  <thead>\n",
       "    <tr style=\"text-align: right;\">\n",
       "      <th></th>\n",
       "      <th>id</th>\n",
       "      <th>keyword</th>\n",
       "      <th>location</th>\n",
       "      <th>text</th>\n",
       "    </tr>\n",
       "  </thead>\n",
       "  <tbody>\n",
       "    <tr>\n",
       "      <th>0</th>\n",
       "      <td>0</td>\n",
       "      <td>NaN</td>\n",
       "      <td>NaN</td>\n",
       "      <td>Just happened a terrible car crash</td>\n",
       "    </tr>\n",
       "    <tr>\n",
       "      <th>1</th>\n",
       "      <td>2</td>\n",
       "      <td>NaN</td>\n",
       "      <td>NaN</td>\n",
       "      <td>Heard about #earthquake is different cities, s...</td>\n",
       "    </tr>\n",
       "    <tr>\n",
       "      <th>2</th>\n",
       "      <td>3</td>\n",
       "      <td>NaN</td>\n",
       "      <td>NaN</td>\n",
       "      <td>there is a forest fire at spot pond, geese are...</td>\n",
       "    </tr>\n",
       "    <tr>\n",
       "      <th>3</th>\n",
       "      <td>9</td>\n",
       "      <td>NaN</td>\n",
       "      <td>NaN</td>\n",
       "      <td>Apocalypse lighting. #Spokane #wildfires</td>\n",
       "    </tr>\n",
       "    <tr>\n",
       "      <th>4</th>\n",
       "      <td>11</td>\n",
       "      <td>NaN</td>\n",
       "      <td>NaN</td>\n",
       "      <td>Typhoon Soudelor kills 28 in China and Taiwan</td>\n",
       "    </tr>\n",
       "  </tbody>\n",
       "</table>\n",
       "</div>"
      ],
      "text/plain": [
       "   id keyword location                                               text\n",
       "0   0     NaN      NaN                 Just happened a terrible car crash\n",
       "1   2     NaN      NaN  Heard about #earthquake is different cities, s...\n",
       "2   3     NaN      NaN  there is a forest fire at spot pond, geese are...\n",
       "3   9     NaN      NaN           Apocalypse lighting. #Spokane #wildfires\n",
       "4  11     NaN      NaN      Typhoon Soudelor kills 28 in China and Taiwan"
      ]
     },
     "execution_count": 7,
     "metadata": {},
     "output_type": "execute_result"
    }
   ],
   "source": [
    "test_df.head()"
   ]
  },
  {
   "cell_type": "code",
   "execution_count": 8,
   "metadata": {},
   "outputs": [
    {
     "data": {
      "text/plain": [
       "target\n",
       "0    4342\n",
       "1    3271\n",
       "Name: count, dtype: int64"
      ]
     },
     "execution_count": 8,
     "metadata": {},
     "output_type": "execute_result"
    }
   ],
   "source": [
    "train_df.target.value_counts()"
   ]
  },
  {
   "cell_type": "code",
   "execution_count": 9,
   "metadata": {},
   "outputs": [
    {
     "data": {
      "text/plain": [
       "(7613, 3263)"
      ]
     },
     "execution_count": 9,
     "metadata": {},
     "output_type": "execute_result"
    }
   ],
   "source": [
    "len(train_df),len(test_df)"
   ]
  },
  {
   "cell_type": "code",
   "execution_count": 10,
   "metadata": {},
   "outputs": [
    {
     "name": "stdout",
     "output_type": "stream",
     "text": [
      "Target:0 (not rela disaster)\n",
      "Text :@ArianaGrande @justinbieber OMGGGG IM SCREAMING\n",
      "\n",
      "\n",
      "Target:0 (not rela disaster)\n",
      "Text :#Kick Hendrixonfire  @'=BLACKCATS= | BIG NOOB CONQUEST | MIXED MAPS | ALL WEAPONS' for violated K/DR  Limit /Server  max 3\n",
      "\n",
      "\n",
      "Target:0 (not rela disaster)\n",
      "Text :@brookesddl I am traumatised the lil shit nearly hopped in the bloody shower with me\n",
      "\n",
      "\n",
      "Target:1 (real disaster)\n",
      "Text :Aircraft debris found on island is from MH370 Malaysia confirms http://t.co/X3RccHKagO\n",
      "\n",
      "\n",
      "Target:1 (real disaster)\n",
      "Text :This is one violent and belligerent storm. I'm enjoying watching it unfold\n",
      "\n",
      "\n"
     ]
    }
   ],
   "source": [
    "import random\n",
    "random_index = random.randint(0,len(train_df)-5)\n",
    "for row in train_df_shuffled[[\"text\",\"target\"]][random_index:random_index+5].itertuples():\n",
    "    _,text,target = row\n",
    "    print(f\"Target:{target}\",\"(real disaster)\" if target>0 else \"(not rela disaster)\")\n",
    "    print(f\"Text :{text}\")\n",
    "    print('\\n')\n",
    "    "
   ]
  },
  {
   "cell_type": "code",
   "execution_count": 11,
   "metadata": {},
   "outputs": [],
   "source": [
    "from sklearn.model_selection import train_test_split\n",
    "\n",
    "train_sentences,val_sentences,train_labels,val_labels=train_test_split(train_df_shuffled[\"text\"].to_numpy(),\n",
    "                                                                       train_df_shuffled[\"target\"].to_numpy(),\n",
    "                                                                       test_size = 0.1,\n",
    "                                                                       random_state=42)\n"
   ]
  },
  {
   "cell_type": "code",
   "execution_count": 12,
   "metadata": {},
   "outputs": [
    {
     "data": {
      "text/plain": [
       "(array(['@mogacola @zamtriossu i screamed after hitting tweet',\n",
       "        'Imagine getting flattened by Kurt Zouma',\n",
       "        '@Gurmeetramrahim #MSGDoing111WelfareWorks Green S welfare force ke appx 65000 members har time disaster victim ki help ke liye tyar hai....',\n",
       "        \"@shakjn @C7 @Magnums im shaking in fear he's gonna hack the planet\",\n",
       "        'Somehow find you and I collide http://t.co/Ee8RpOahPk',\n",
       "        '@EvaHanderek @MarleyKnysh great times until the bus driver held us hostage in the mall parking lot lmfao',\n",
       "        'destroy the free fandom honestly',\n",
       "        'Weapons stolen from National Guard Armory in New Albany still missing #Gunsense http://t.co/lKNU8902JE',\n",
       "        '@wfaaweather Pete when will the heat wave pass? Is it really going to be mid month? Frisco Boy Scouts have a canoe trip in Okla.',\n",
       "        'Patient-reported outcomes in long-term survivors of metastatic colorectal cancer - British Journal of Surgery http://t.co/5Yl4DC1Tqt'],\n",
       "       dtype=object),\n",
       " array([0, 0, 1, 0, 0, 1, 1, 0, 1, 1], dtype=int64))"
      ]
     },
     "execution_count": 12,
     "metadata": {},
     "output_type": "execute_result"
    }
   ],
   "source": [
    "train_sentences[:10],train_labels[:10]"
   ]
  },
  {
   "cell_type": "code",
   "execution_count": 13,
   "metadata": {},
   "outputs": [
    {
     "data": {
      "text/plain": [
       "array(['@mogacola @zamtriossu i screamed after hitting tweet',\n",
       "       'Imagine getting flattened by Kurt Zouma',\n",
       "       '@Gurmeetramrahim #MSGDoing111WelfareWorks Green S welfare force ke appx 65000 members har time disaster victim ki help ke liye tyar hai....',\n",
       "       ...,\n",
       "       'Near them on the sand half sunk a shattered visage lies... http://t.co/0kCCG1BT06',\n",
       "       \"kesabaran membuahkan hasil indah pada saat tepat! life isn't about waiting for the storm to pass it's about learning to dance in the rain.\",\n",
       "       \"@ScottDPierce @billharris_tv @HarrisGle @Beezersun I'm forfeiting this years fantasy football pool out of fear I may win n get my ass kicked\"],\n",
       "      dtype=object)"
      ]
     },
     "execution_count": 13,
     "metadata": {},
     "output_type": "execute_result"
    }
   ],
   "source": [
    "train_sentences"
   ]
  },
  {
   "cell_type": "code",
   "execution_count": 14,
   "metadata": {},
   "outputs": [],
   "source": [
    "from tensorflow.keras.layers import TextVectorization"
   ]
  },
  {
   "cell_type": "code",
   "execution_count": 15,
   "metadata": {},
   "outputs": [
    {
     "data": {
      "text/plain": [
       "15"
      ]
     },
     "execution_count": 15,
     "metadata": {},
     "output_type": "execute_result"
    }
   ],
   "source": [
    "round(sum([len(i.split()) for i in train_sentences])/len(train_sentences))"
   ]
  },
  {
   "cell_type": "code",
   "execution_count": 16,
   "metadata": {},
   "outputs": [],
   "source": [
    "max_vocab_length = 10000\n",
    "max_length = 15\n",
    "\n",
    "text_vectorizer = TextVectorization(\n",
    "    max_tokens=max_vocab_length,\n",
    "    standardize=\"lower_and_strip_punctuation\",\n",
    "    split = \"whitespace\",\n",
    "    ngrams= None,\n",
    "    output_mode = 'int',\n",
    "    output_sequence_length = max_length,\n",
    "    pad_to_max_tokens = True,\n",
    ")\n"
   ]
  },
  {
   "cell_type": "code",
   "execution_count": 17,
   "metadata": {},
   "outputs": [],
   "source": [
    "text_vectorizer.adapt(train_sentences)"
   ]
  },
  {
   "cell_type": "code",
   "execution_count": 18,
   "metadata": {},
   "outputs": [
    {
     "data": {
      "text/plain": [
       "<tf.Tensor: shape=(1, 15), dtype=int64, numpy=\n",
       "array([[1400,  107,    0,    0,    0,    0,    0,    0,    0,    0,    0,\n",
       "           0,    0,    0,    0]], dtype=int64)>"
      ]
     },
     "execution_count": 18,
     "metadata": {},
     "output_type": "execute_result"
    }
   ],
   "source": [
    "sample_sentence = \"hello world\"\n",
    "text_vectorizer([sample_sentence])"
   ]
  },
  {
   "cell_type": "code",
   "execution_count": 19,
   "metadata": {},
   "outputs": [
    {
     "name": "stdout",
     "output_type": "stream",
     "text": [
      "Drunk Meals 101: What To Cook When You're Totally Obliterated http://t.co/m19iVWrdkk\n"
     ]
    },
    {
     "data": {
      "text/plain": [
       "<tf.Tensor: shape=(15,), dtype=int64, numpy=\n",
       "array([1301, 2870, 2584,   55,    5, 1537,   45,  172,  802,  479,    1,\n",
       "          0,    0,    0,    0], dtype=int64)>"
      ]
     },
     "execution_count": 19,
     "metadata": {},
     "output_type": "execute_result"
    }
   ],
   "source": [
    "random_sentence = random.choice(train_sentences)\n",
    "print(random_sentence)\n",
    "text_vectorizer(random_sentence)"
   ]
  },
  {
   "cell_type": "code",
   "execution_count": 20,
   "metadata": {},
   "outputs": [
    {
     "data": {
      "text/plain": [
       "(10000,\n",
       " ['', '[UNK]', 'the', 'a', 'in'],\n",
       " ['pages', 'paeds', 'pads', 'padres', 'paddytomlinson1'])"
      ]
     },
     "execution_count": 20,
     "metadata": {},
     "output_type": "execute_result"
    }
   ],
   "source": [
    "words_in_vocabulary =  text_vectorizer.get_vocabulary()\n",
    "top_5_words = words_in_vocabulary[:5]\n",
    "bottom_5_words = words_in_vocabulary[-5:]\n",
    "len(words_in_vocabulary),top_5_words,bottom_5_words"
   ]
  },
  {
   "cell_type": "code",
   "execution_count": 21,
   "metadata": {},
   "outputs": [
    {
     "data": {
      "text/plain": [
       "<keras.layers.core.embedding.Embedding at 0x163c4f7b760>"
      ]
     },
     "execution_count": 21,
     "metadata": {},
     "output_type": "execute_result"
    }
   ],
   "source": [
    "# from tensorflow.keras import layers\n",
    "\n",
    "tf.random.set_seed(42)\n",
    "from tensorflow.keras import layers\n",
    "\n",
    "embeddings = layers.Embedding(input_dim=max_vocab_length, # set input shape\n",
    "                             output_dim=128, # set size of embedding vector\n",
    "                             embeddings_initializer=\"uniform\", # default, intialize randomly\n",
    "                             input_length=max_length, # how long is each input\n",
    "                             name=\"embedding_1\") \n",
    "\n",
    "embeddings"
   ]
  },
  {
   "cell_type": "code",
   "execution_count": 22,
   "metadata": {},
   "outputs": [
    {
     "name": "stdout",
     "output_type": "stream",
     "text": [
      "Iranian warship points weapon at U.S. helicopter official says http://t.co/SnqfHpYm3O #tcot\n",
      "\n",
      "\n",
      "embedded version\n"
     ]
    },
    {
     "data": {
      "text/plain": [
       "<tf.Tensor: shape=(1, 15, 128), dtype=float32, numpy=\n",
       "array([[[ 2.09682062e-03,  2.20003016e-02,  1.07688904e-02, ...,\n",
       "          2.97054648e-05, -1.31887794e-02,  3.45082991e-02],\n",
       "        [-3.50671411e-02, -4.49152365e-02,  3.86092402e-02, ...,\n",
       "          2.16876753e-02, -1.10107884e-02, -2.97651645e-02],\n",
       "        [-3.61347198e-03,  3.27032804e-03, -8.00719112e-03, ...,\n",
       "         -3.24841887e-02,  1.05396025e-02,  4.81896736e-02],\n",
       "        ...,\n",
       "        [ 1.01605766e-02, -3.60591300e-02,  3.03506851e-04, ...,\n",
       "          1.97404139e-02,  6.34486601e-03,  3.76640595e-02],\n",
       "        [ 1.01605766e-02, -3.60591300e-02,  3.03506851e-04, ...,\n",
       "          1.97404139e-02,  6.34486601e-03,  3.76640595e-02],\n",
       "        [ 1.01605766e-02, -3.60591300e-02,  3.03506851e-04, ...,\n",
       "          1.97404139e-02,  6.34486601e-03,  3.76640595e-02]]],\n",
       "      dtype=float32)>"
      ]
     },
     "execution_count": 22,
     "metadata": {},
     "output_type": "execute_result"
    }
   ],
   "source": [
    "random_sentence = random.choice(train_sentences)\n",
    "print(random_sentence)\n",
    "print(\"\\n\")\n",
    "print(\"embedded version\")\n",
    "embeddings(text_vectorizer([random_sentence]))"
   ]
  },
  {
   "cell_type": "code",
   "execution_count": 23,
   "metadata": {},
   "outputs": [
    {
     "data": {
      "text/html": [
       "<style>#sk-container-id-1 {color: black;}#sk-container-id-1 pre{padding: 0;}#sk-container-id-1 div.sk-toggleable {background-color: white;}#sk-container-id-1 label.sk-toggleable__label {cursor: pointer;display: block;width: 100%;margin-bottom: 0;padding: 0.3em;box-sizing: border-box;text-align: center;}#sk-container-id-1 label.sk-toggleable__label-arrow:before {content: \"▸\";float: left;margin-right: 0.25em;color: #696969;}#sk-container-id-1 label.sk-toggleable__label-arrow:hover:before {color: black;}#sk-container-id-1 div.sk-estimator:hover label.sk-toggleable__label-arrow:before {color: black;}#sk-container-id-1 div.sk-toggleable__content {max-height: 0;max-width: 0;overflow: hidden;text-align: left;background-color: #f0f8ff;}#sk-container-id-1 div.sk-toggleable__content pre {margin: 0.2em;color: black;border-radius: 0.25em;background-color: #f0f8ff;}#sk-container-id-1 input.sk-toggleable__control:checked~div.sk-toggleable__content {max-height: 200px;max-width: 100%;overflow: auto;}#sk-container-id-1 input.sk-toggleable__control:checked~label.sk-toggleable__label-arrow:before {content: \"▾\";}#sk-container-id-1 div.sk-estimator input.sk-toggleable__control:checked~label.sk-toggleable__label {background-color: #d4ebff;}#sk-container-id-1 div.sk-label input.sk-toggleable__control:checked~label.sk-toggleable__label {background-color: #d4ebff;}#sk-container-id-1 input.sk-hidden--visually {border: 0;clip: rect(1px 1px 1px 1px);clip: rect(1px, 1px, 1px, 1px);height: 1px;margin: -1px;overflow: hidden;padding: 0;position: absolute;width: 1px;}#sk-container-id-1 div.sk-estimator {font-family: monospace;background-color: #f0f8ff;border: 1px dotted black;border-radius: 0.25em;box-sizing: border-box;margin-bottom: 0.5em;}#sk-container-id-1 div.sk-estimator:hover {background-color: #d4ebff;}#sk-container-id-1 div.sk-parallel-item::after {content: \"\";width: 100%;border-bottom: 1px solid gray;flex-grow: 1;}#sk-container-id-1 div.sk-label:hover label.sk-toggleable__label {background-color: #d4ebff;}#sk-container-id-1 div.sk-serial::before {content: \"\";position: absolute;border-left: 1px solid gray;box-sizing: border-box;top: 0;bottom: 0;left: 50%;z-index: 0;}#sk-container-id-1 div.sk-serial {display: flex;flex-direction: column;align-items: center;background-color: white;padding-right: 0.2em;padding-left: 0.2em;position: relative;}#sk-container-id-1 div.sk-item {position: relative;z-index: 1;}#sk-container-id-1 div.sk-parallel {display: flex;align-items: stretch;justify-content: center;background-color: white;position: relative;}#sk-container-id-1 div.sk-item::before, #sk-container-id-1 div.sk-parallel-item::before {content: \"\";position: absolute;border-left: 1px solid gray;box-sizing: border-box;top: 0;bottom: 0;left: 50%;z-index: -1;}#sk-container-id-1 div.sk-parallel-item {display: flex;flex-direction: column;z-index: 1;position: relative;background-color: white;}#sk-container-id-1 div.sk-parallel-item:first-child::after {align-self: flex-end;width: 50%;}#sk-container-id-1 div.sk-parallel-item:last-child::after {align-self: flex-start;width: 50%;}#sk-container-id-1 div.sk-parallel-item:only-child::after {width: 0;}#sk-container-id-1 div.sk-dashed-wrapped {border: 1px dashed gray;margin: 0 0.4em 0.5em 0.4em;box-sizing: border-box;padding-bottom: 0.4em;background-color: white;}#sk-container-id-1 div.sk-label label {font-family: monospace;font-weight: bold;display: inline-block;line-height: 1.2em;}#sk-container-id-1 div.sk-label-container {text-align: center;}#sk-container-id-1 div.sk-container {/* jupyter's `normalize.less` sets `[hidden] { display: none; }` but bootstrap.min.css set `[hidden] { display: none !important; }` so we also need the `!important` here to be able to override the default hidden behavior on the sphinx rendered scikit-learn.org. See: https://github.com/scikit-learn/scikit-learn/issues/21755 */display: inline-block !important;position: relative;}#sk-container-id-1 div.sk-text-repr-fallback {display: none;}</style><div id=\"sk-container-id-1\" class=\"sk-top-container\"><div class=\"sk-text-repr-fallback\"><pre>Pipeline(steps=[(&#x27;tfidf&#x27;, TfidfVectorizer()), (&#x27;clf&#x27;, MultinomialNB())])</pre><b>In a Jupyter environment, please rerun this cell to show the HTML representation or trust the notebook. <br />On GitHub, the HTML representation is unable to render, please try loading this page with nbviewer.org.</b></div><div class=\"sk-container\" hidden><div class=\"sk-item sk-dashed-wrapped\"><div class=\"sk-label-container\"><div class=\"sk-label sk-toggleable\"><input class=\"sk-toggleable__control sk-hidden--visually\" id=\"sk-estimator-id-1\" type=\"checkbox\" ><label for=\"sk-estimator-id-1\" class=\"sk-toggleable__label sk-toggleable__label-arrow\">Pipeline</label><div class=\"sk-toggleable__content\"><pre>Pipeline(steps=[(&#x27;tfidf&#x27;, TfidfVectorizer()), (&#x27;clf&#x27;, MultinomialNB())])</pre></div></div></div><div class=\"sk-serial\"><div class=\"sk-item\"><div class=\"sk-estimator sk-toggleable\"><input class=\"sk-toggleable__control sk-hidden--visually\" id=\"sk-estimator-id-2\" type=\"checkbox\" ><label for=\"sk-estimator-id-2\" class=\"sk-toggleable__label sk-toggleable__label-arrow\">TfidfVectorizer</label><div class=\"sk-toggleable__content\"><pre>TfidfVectorizer()</pre></div></div></div><div class=\"sk-item\"><div class=\"sk-estimator sk-toggleable\"><input class=\"sk-toggleable__control sk-hidden--visually\" id=\"sk-estimator-id-3\" type=\"checkbox\" ><label for=\"sk-estimator-id-3\" class=\"sk-toggleable__label sk-toggleable__label-arrow\">MultinomialNB</label><div class=\"sk-toggleable__content\"><pre>MultinomialNB()</pre></div></div></div></div></div></div></div>"
      ],
      "text/plain": [
       "Pipeline(steps=[('tfidf', TfidfVectorizer()), ('clf', MultinomialNB())])"
      ]
     },
     "execution_count": 23,
     "metadata": {},
     "output_type": "execute_result"
    }
   ],
   "source": [
    "from sklearn.feature_extraction.text import TfidfVectorizer\n",
    "from sklearn.naive_bayes import MultinomialNB\n",
    "from sklearn.pipeline import Pipeline\n",
    "\n",
    "model_0 = Pipeline([\n",
    "    (\"tfidf\",TfidfVectorizer()),\n",
    "    (\"clf\",MultinomialNB()),\n",
    "])\n",
    "\n",
    "model_0.fit(train_sentences,train_labels)"
   ]
  },
  {
   "cell_type": "code",
   "execution_count": 24,
   "metadata": {},
   "outputs": [
    {
     "data": {
      "text/plain": [
       "0.7926509186351706"
      ]
     },
     "execution_count": 24,
     "metadata": {},
     "output_type": "execute_result"
    }
   ],
   "source": [
    "baseline_score=model_0.score(val_sentences,val_labels)\n",
    "baseline_score"
   ]
  },
  {
   "cell_type": "code",
   "execution_count": 25,
   "metadata": {},
   "outputs": [],
   "source": [
    "baseline_preds=model_0.predict(val_sentences)"
   ]
  },
  {
   "cell_type": "code",
   "execution_count": 26,
   "metadata": {},
   "outputs": [
    {
     "data": {
      "text/plain": [
       "array([1, 1, 1, 0, 0, 1, 1, 1, 1, 0, 0, 1, 0, 0, 0, 0, 0, 0, 0, 1],\n",
       "      dtype=int64)"
      ]
     },
     "execution_count": 26,
     "metadata": {},
     "output_type": "execute_result"
    }
   ],
   "source": [
    "baseline_preds[:20]"
   ]
  },
  {
   "cell_type": "code",
   "execution_count": 27,
   "metadata": {},
   "outputs": [],
   "source": [
    "from sklearn.metrics import accuracy_score,precision_recall_fscore_support"
   ]
  },
  {
   "cell_type": "code",
   "execution_count": 28,
   "metadata": {},
   "outputs": [],
   "source": [
    "def calculate_results(y_true,y_pred):\n",
    "    model_accuaracy = accuracy_score(y_true,y_pred) *100\n",
    "    model_precision,model_recall,model_f1,_=precision_recall_fscore_support(y_true,y_pred,average=\"weighted\")\n",
    "    model_results={\n",
    "        \"accuracy\":model_accuaracy,\n",
    "        \"precision\":model_precision,\n",
    "        \"recall\":model_recall,\n",
    "        \"f1\":model_f1\n",
    "    }\n",
    "    return model_results"
   ]
  },
  {
   "cell_type": "code",
   "execution_count": 29,
   "metadata": {},
   "outputs": [
    {
     "data": {
      "text/plain": [
       "{'accuracy': 79.26509186351706,\n",
       " 'precision': 0.8111390004213173,\n",
       " 'recall': 0.7926509186351706,\n",
       " 'f1': 0.7862189758049549}"
      ]
     },
     "execution_count": 29,
     "metadata": {},
     "output_type": "execute_result"
    }
   ],
   "source": [
    "baseline_results=calculate_results(val_labels,baseline_preds)\n",
    "baseline_results"
   ]
  },
  {
   "cell_type": "code",
   "execution_count": 30,
   "metadata": {},
   "outputs": [],
   "source": [
    "from helper_functions import create_tensorboard_callback"
   ]
  },
  {
   "cell_type": "code",
   "execution_count": 31,
   "metadata": {},
   "outputs": [],
   "source": [
    "SAVE_DIR='model_logs'"
   ]
  },
  {
   "cell_type": "code",
   "execution_count": 32,
   "metadata": {},
   "outputs": [],
   "source": [
    "from tensorflow.keras import  layers\n",
    "inputs=layers.Input(shape=(1,),dtype=tf.string)\n",
    "x=text_vectorizer(inputs)\n",
    "x=embeddings(x)\n",
    "x = layers.GlobalAveragePooling1D()(x) # lower the dimensionality of the embedding (try running the model without this layer and see what happens)\n",
    "outputs = layers.Dense(1,activation=\"sigmoid\")(x)\n",
    "model_1 = tf.keras.Model(inputs,outputs,name=\"model_1_dense\")"
   ]
  },
  {
   "cell_type": "code",
   "execution_count": 33,
   "metadata": {},
   "outputs": [
    {
     "name": "stdout",
     "output_type": "stream",
     "text": [
      "Model: \"model_1_dense\"\n",
      "_________________________________________________________________\n",
      " Layer (type)                Output Shape              Param #   \n",
      "=================================================================\n",
      " input_1 (InputLayer)        [(None, 1)]               0         \n",
      "                                                                 \n",
      " text_vectorization (TextVec  (None, 15)               0         \n",
      " torization)                                                     \n",
      "                                                                 \n",
      " embedding_1 (Embedding)     (None, 15, 128)           1280000   \n",
      "                                                                 \n",
      " global_average_pooling1d (G  (None, 128)              0         \n",
      " lobalAveragePooling1D)                                          \n",
      "                                                                 \n",
      " dense (Dense)               (None, 1)                 129       \n",
      "                                                                 \n",
      "=================================================================\n",
      "Total params: 1,280,129\n",
      "Trainable params: 1,280,129\n",
      "Non-trainable params: 0\n",
      "_________________________________________________________________\n"
     ]
    }
   ],
   "source": [
    "model_1.summary()"
   ]
  },
  {
   "cell_type": "code",
   "execution_count": 34,
   "metadata": {},
   "outputs": [],
   "source": [
    "model_1.compile(\n",
    "    loss='binary_crossentropy',\n",
    "    optimizer=tf.keras.optimizers.Adam(),\n",
    "    metrics=['accuracy']\n",
    ")"
   ]
  },
  {
   "cell_type": "code",
   "execution_count": 35,
   "metadata": {},
   "outputs": [
    {
     "name": "stdout",
     "output_type": "stream",
     "text": [
      "Saving TensorBoard log files to: model_logs/model_1_dense/20240911-235149\n",
      "Epoch 1/5\n",
      "215/215 [==============================] - 3s 7ms/step - loss: 0.6091 - accuracy: 0.6920 - val_loss: 0.5356 - val_accuracy: 0.7546\n",
      "Epoch 2/5\n",
      "215/215 [==============================] - 1s 5ms/step - loss: 0.4407 - accuracy: 0.8180 - val_loss: 0.4693 - val_accuracy: 0.7874\n",
      "Epoch 3/5\n",
      "215/215 [==============================] - 1s 5ms/step - loss: 0.3461 - accuracy: 0.8608 - val_loss: 0.4593 - val_accuracy: 0.7927\n",
      "Epoch 4/5\n",
      "215/215 [==============================] - 1s 6ms/step - loss: 0.2846 - accuracy: 0.8927 - val_loss: 0.4646 - val_accuracy: 0.7900\n",
      "Epoch 5/5\n",
      "215/215 [==============================] - 1s 5ms/step - loss: 0.2378 - accuracy: 0.9123 - val_loss: 0.4770 - val_accuracy: 0.7861\n"
     ]
    }
   ],
   "source": [
    "model_1.history = model_1.fit(x=train_sentences,\n",
    "                              y=train_labels,\n",
    "                              epochs=5,\n",
    "                              validation_data=(val_sentences,val_labels),callbacks=[create_tensorboard_callback(SAVE_DIR,'model_1_dense')])"
   ]
  },
  {
   "cell_type": "code",
   "execution_count": 36,
   "metadata": {},
   "outputs": [
    {
     "data": {
      "text/plain": [
       "{'accuracy': 79.26509186351706,\n",
       " 'precision': 0.8111390004213173,\n",
       " 'recall': 0.7926509186351706,\n",
       " 'f1': 0.7862189758049549}"
      ]
     },
     "execution_count": 36,
     "metadata": {},
     "output_type": "execute_result"
    }
   ],
   "source": [
    "baseline_results"
   ]
  },
  {
   "cell_type": "code",
   "execution_count": 37,
   "metadata": {},
   "outputs": [
    {
     "name": "stdout",
     "output_type": "stream",
     "text": [
      "24/24 [==============================] - 0s 3ms/step - loss: 0.4770 - accuracy: 0.7861\n"
     ]
    },
    {
     "data": {
      "text/plain": [
       "[0.4770491421222687, 0.7860892415046692]"
      ]
     },
     "execution_count": 37,
     "metadata": {},
     "output_type": "execute_result"
    }
   ],
   "source": [
    "model_1.evaluate(val_sentences,val_labels)"
   ]
  },
  {
   "cell_type": "code",
   "execution_count": 38,
   "metadata": {},
   "outputs": [
    {
     "name": "stdout",
     "output_type": "stream",
     "text": [
      "24/24 [==============================] - 0s 3ms/step\n"
     ]
    },
    {
     "data": {
      "text/plain": [
       "(762, 1)"
      ]
     },
     "execution_count": 38,
     "metadata": {},
     "output_type": "execute_result"
    }
   ],
   "source": [
    "model_1_pred_probs=model_1.predict(val_sentences)\n",
    "model_1_pred_probs.shape"
   ]
  },
  {
   "cell_type": "code",
   "execution_count": 39,
   "metadata": {},
   "outputs": [
    {
     "data": {
      "text/plain": [
       "array([0.40672264], dtype=float32)"
      ]
     },
     "execution_count": 39,
     "metadata": {},
     "output_type": "execute_result"
    }
   ],
   "source": [
    "model_1_pred_probs[0]"
   ]
  },
  {
   "cell_type": "code",
   "execution_count": 40,
   "metadata": {},
   "outputs": [
    {
     "data": {
      "text/plain": [
       "array([[4.06722635e-01],\n",
       "       [7.45447576e-01],\n",
       "       [9.98010457e-01],\n",
       "       [1.08101368e-01],\n",
       "       [1.13053359e-01],\n",
       "       [9.34729457e-01],\n",
       "       [9.16833639e-01],\n",
       "       [9.93083596e-01],\n",
       "       [9.70149040e-01],\n",
       "       [2.65630931e-01],\n",
       "       [1.20250702e-01],\n",
       "       [7.04488277e-01],\n",
       "       [5.23457527e-02],\n",
       "       [2.19779238e-01],\n",
       "       [5.21695195e-03],\n",
       "       [1.58112988e-01],\n",
       "       [2.73795165e-02],\n",
       "       [1.03364982e-01],\n",
       "       [2.41125345e-01],\n",
       "       [5.54777324e-01],\n",
       "       [9.10140157e-01],\n",
       "       [4.29593064e-02],\n",
       "       [4.42966551e-01],\n",
       "       [1.02871120e-01],\n",
       "       [9.57128942e-01],\n",
       "       [9.98998225e-01],\n",
       "       [3.32367122e-02],\n",
       "       [7.00706020e-02],\n",
       "       [2.62654107e-02],\n",
       "       [2.11718783e-01],\n",
       "       [5.83187044e-01],\n",
       "       [2.35835567e-01],\n",
       "       [5.09473264e-01],\n",
       "       [2.06295684e-01],\n",
       "       [5.28980076e-01],\n",
       "       [5.51430732e-02],\n",
       "       [9.94448185e-01],\n",
       "       [1.41781196e-01],\n",
       "       [3.55752483e-02],\n",
       "       [9.98508394e-01],\n",
       "       [1.80753082e-01],\n",
       "       [2.20139381e-02],\n",
       "       [3.56200099e-01],\n",
       "       [5.58475889e-02],\n",
       "       [6.51257455e-01],\n",
       "       [9.79786515e-01],\n",
       "       [3.16790700e-01],\n",
       "       [9.20518517e-01],\n",
       "       [1.92537516e-01],\n",
       "       [6.08748138e-01],\n",
       "       [7.12789372e-02],\n",
       "       [5.19291222e-01],\n",
       "       [4.46012706e-01],\n",
       "       [2.93122120e-02],\n",
       "       [1.29561782e-01],\n",
       "       [3.38201337e-02],\n",
       "       [2.29630053e-01],\n",
       "       [9.64265585e-01],\n",
       "       [1.26593038e-01],\n",
       "       [2.71436060e-03],\n",
       "       [1.36667967e-01],\n",
       "       [9.61247504e-01],\n",
       "       [9.19361651e-01],\n",
       "       [1.50621906e-01],\n",
       "       [9.28423285e-01],\n",
       "       [9.80234861e-01],\n",
       "       [7.22436905e-01],\n",
       "       [4.43515897e-01],\n",
       "       [1.17895685e-01],\n",
       "       [1.39524981e-01],\n",
       "       [9.80221778e-02],\n",
       "       [3.37359160e-02],\n",
       "       [9.31270301e-01],\n",
       "       [1.25109896e-01],\n",
       "       [1.37125060e-01],\n",
       "       [4.46454465e-01],\n",
       "       [3.48550379e-01],\n",
       "       [8.14390421e-01],\n",
       "       [2.48959720e-01],\n",
       "       [5.93993008e-01],\n",
       "       [4.72102672e-01],\n",
       "       [2.51822144e-01],\n",
       "       [9.96168792e-01],\n",
       "       [1.13874614e-01],\n",
       "       [1.76457077e-01],\n",
       "       [1.04572527e-01],\n",
       "       [2.10406762e-02],\n",
       "       [1.05032362e-01],\n",
       "       [6.63430870e-01],\n",
       "       [8.89100850e-01],\n",
       "       [9.92516220e-01],\n",
       "       [1.06303263e-02],\n",
       "       [5.06761968e-01],\n",
       "       [2.87703816e-02],\n",
       "       [9.79731143e-01],\n",
       "       [7.32077241e-01],\n",
       "       [8.39627206e-01],\n",
       "       [9.80804026e-01],\n",
       "       [8.79628658e-01],\n",
       "       [9.48157489e-01],\n",
       "       [9.99334753e-01],\n",
       "       [1.61035657e-01],\n",
       "       [1.32787228e-02],\n",
       "       [9.16941106e-01],\n",
       "       [8.92815530e-01],\n",
       "       [8.50567147e-02],\n",
       "       [8.66495609e-01],\n",
       "       [9.76905823e-01],\n",
       "       [7.27238804e-02],\n",
       "       [4.74218160e-01],\n",
       "       [7.31621742e-01],\n",
       "       [3.48544568e-02],\n",
       "       [2.43245363e-01],\n",
       "       [1.87621027e-01],\n",
       "       [1.42708704e-01],\n",
       "       [4.66204673e-01],\n",
       "       [5.26915073e-01],\n",
       "       [7.59422779e-01],\n",
       "       [7.43792892e-01],\n",
       "       [1.04286060e-01],\n",
       "       [9.99732554e-01],\n",
       "       [9.82613340e-02],\n",
       "       [1.35409743e-01],\n",
       "       [8.15503180e-01],\n",
       "       [4.96919423e-01],\n",
       "       [2.70109683e-01],\n",
       "       [8.56355727e-01],\n",
       "       [1.08824261e-02],\n",
       "       [6.43371046e-02],\n",
       "       [7.87464261e-01],\n",
       "       [9.20233577e-02],\n",
       "       [9.99732554e-01],\n",
       "       [9.99829054e-01],\n",
       "       [9.98998225e-01],\n",
       "       [9.85590816e-01],\n",
       "       [9.01860669e-02],\n",
       "       [9.72459197e-01],\n",
       "       [1.82269633e-01],\n",
       "       [2.93974727e-01],\n",
       "       [9.01301354e-02],\n",
       "       [9.96339440e-01],\n",
       "       [3.39709312e-01],\n",
       "       [2.19779238e-01],\n",
       "       [9.54362214e-01],\n",
       "       [2.21862391e-01],\n",
       "       [6.23501718e-01],\n",
       "       [4.20436598e-02],\n",
       "       [7.57535547e-03],\n",
       "       [2.37506226e-01],\n",
       "       [9.81465697e-01],\n",
       "       [2.73750573e-01],\n",
       "       [6.20309487e-02],\n",
       "       [4.39182967e-01],\n",
       "       [1.86549738e-01],\n",
       "       [2.58471489e-01],\n",
       "       [9.92563903e-01],\n",
       "       [8.03406954e-01],\n",
       "       [4.63375241e-01],\n",
       "       [9.88651812e-01],\n",
       "       [2.22237948e-02],\n",
       "       [9.70590591e-01],\n",
       "       [5.74454553e-02],\n",
       "       [2.72771955e-01],\n",
       "       [9.92156029e-01],\n",
       "       [2.46399909e-01],\n",
       "       [9.27574337e-02],\n",
       "       [9.98599946e-01],\n",
       "       [3.00816745e-01],\n",
       "       [9.84907866e-01],\n",
       "       [2.21999034e-01],\n",
       "       [9.93779123e-01],\n",
       "       [8.72834921e-01],\n",
       "       [8.04508090e-01],\n",
       "       [3.08058225e-02],\n",
       "       [9.97920096e-01],\n",
       "       [6.15960918e-02],\n",
       "       [3.85341555e-01],\n",
       "       [4.52009231e-01],\n",
       "       [7.68838823e-01],\n",
       "       [9.94606555e-01],\n",
       "       [1.70123521e-02],\n",
       "       [7.93314278e-01],\n",
       "       [8.13448668e-01],\n",
       "       [9.74971414e-01],\n",
       "       [9.74707663e-01],\n",
       "       [4.66060907e-01],\n",
       "       [8.95795971e-02],\n",
       "       [9.99457538e-01],\n",
       "       [1.46858972e-02],\n",
       "       [3.29729058e-02],\n",
       "       [1.15373425e-01],\n",
       "       [9.17305589e-01],\n",
       "       [9.45310146e-02],\n",
       "       [2.60524064e-01],\n",
       "       [1.54472422e-02],\n",
       "       [9.80169773e-02],\n",
       "       [4.57749292e-02],\n",
       "       [2.13880658e-01],\n",
       "       [7.79229760e-01],\n",
       "       [7.33302757e-02],\n",
       "       [2.91660488e-01],\n",
       "       [8.75637114e-01],\n",
       "       [9.76129949e-01],\n",
       "       [3.75457346e-01],\n",
       "       [1.33853883e-01],\n",
       "       [9.99840021e-01],\n",
       "       [5.79877675e-01],\n",
       "       [9.23776031e-01],\n",
       "       [6.73500061e-01],\n",
       "       [8.42122674e-01],\n",
       "       [3.24567437e-01],\n",
       "       [9.81386721e-01],\n",
       "       [2.16617435e-02],\n",
       "       [2.06045002e-01],\n",
       "       [6.79745479e-03],\n",
       "       [6.06438983e-03],\n",
       "       [9.57456291e-01],\n",
       "       [8.19577456e-01],\n",
       "       [9.07396853e-01],\n",
       "       [1.55467838e-01],\n",
       "       [7.39348769e-01],\n",
       "       [9.15687755e-02],\n",
       "       [2.80090701e-02],\n",
       "       [1.82279825e-01],\n",
       "       [9.77743745e-01],\n",
       "       [1.94300175e-01],\n",
       "       [5.29166341e-01],\n",
       "       [9.93414640e-01],\n",
       "       [5.88113129e-01],\n",
       "       [6.06638014e-01],\n",
       "       [9.63784158e-02],\n",
       "       [2.46468648e-01],\n",
       "       [7.96482146e-01],\n",
       "       [2.67985523e-01],\n",
       "       [4.92669344e-01],\n",
       "       [1.33783475e-01],\n",
       "       [6.09169185e-01],\n",
       "       [3.36053461e-01],\n",
       "       [1.82897702e-01],\n",
       "       [1.00682661e-01],\n",
       "       [4.63930011e-01],\n",
       "       [2.47510150e-01],\n",
       "       [9.99849796e-01],\n",
       "       [9.85530734e-01],\n",
       "       [7.25235566e-02],\n",
       "       [2.41892748e-02],\n",
       "       [8.74686301e-01],\n",
       "       [1.06274039e-01],\n",
       "       [7.23496377e-02],\n",
       "       [4.91818517e-01],\n",
       "       [4.07567360e-02],\n",
       "       [5.85301816e-01],\n",
       "       [9.47291730e-04],\n",
       "       [4.40731198e-01],\n",
       "       [9.18055594e-01],\n",
       "       [1.85666457e-01],\n",
       "       [9.70841110e-01],\n",
       "       [9.99004781e-01],\n",
       "       [2.74952620e-01],\n",
       "       [1.79461122e-01],\n",
       "       [3.75001103e-01],\n",
       "       [2.94396989e-02],\n",
       "       [4.55093523e-03],\n",
       "       [9.82369125e-01],\n",
       "       [9.69715118e-01],\n",
       "       [7.15148449e-01],\n",
       "       [9.51649547e-01],\n",
       "       [5.06079420e-02],\n",
       "       [1.76518321e-01],\n",
       "       [7.86421448e-03],\n",
       "       [1.76667169e-01],\n",
       "       [3.18754129e-02],\n",
       "       [9.59269106e-01],\n",
       "       [1.12894446e-01],\n",
       "       [9.86656174e-03],\n",
       "       [9.72228587e-01],\n",
       "       [1.19819324e-02],\n",
       "       [8.57465416e-02],\n",
       "       [9.82465088e-01],\n",
       "       [4.96176071e-02],\n",
       "       [7.56394789e-02],\n",
       "       [7.95825198e-03],\n",
       "       [9.69212651e-01],\n",
       "       [6.04889333e-01],\n",
       "       [7.76355326e-01],\n",
       "       [7.17589200e-01],\n",
       "       [5.55014551e-01],\n",
       "       [7.69648850e-02],\n",
       "       [9.33705270e-01],\n",
       "       [4.39119712e-02],\n",
       "       [7.31377065e-01],\n",
       "       [4.06805605e-01],\n",
       "       [3.60185504e-01],\n",
       "       [3.88401985e-01],\n",
       "       [1.88363284e-01],\n",
       "       [7.60824502e-01],\n",
       "       [2.41178483e-01],\n",
       "       [6.48978174e-01],\n",
       "       [1.60108581e-01],\n",
       "       [8.29024196e-01],\n",
       "       [4.22585867e-02],\n",
       "       [8.30456391e-02],\n",
       "       [2.40839124e-01],\n",
       "       [9.83570695e-01],\n",
       "       [1.55990630e-01],\n",
       "       [7.88031593e-02],\n",
       "       [3.34700972e-01],\n",
       "       [2.03321859e-01],\n",
       "       [1.27489552e-01],\n",
       "       [2.73304861e-02],\n",
       "       [3.28042246e-02],\n",
       "       [9.81252491e-01],\n",
       "       [3.36625129e-01],\n",
       "       [1.85987130e-01],\n",
       "       [9.99769628e-01],\n",
       "       [4.27869819e-02],\n",
       "       [6.42629206e-01],\n",
       "       [2.30467200e-01],\n",
       "       [5.05137034e-02],\n",
       "       [1.39877349e-01],\n",
       "       [1.89211383e-01],\n",
       "       [1.06950626e-01],\n",
       "       [9.22270894e-01],\n",
       "       [2.64216274e-01],\n",
       "       [9.86497700e-01],\n",
       "       [8.07175785e-02],\n",
       "       [2.43526064e-02],\n",
       "       [9.94634509e-01],\n",
       "       [2.40266863e-02],\n",
       "       [9.96666014e-01],\n",
       "       [1.41825989e-01],\n",
       "       [3.31799462e-02],\n",
       "       [9.60135758e-01],\n",
       "       [4.89256084e-02],\n",
       "       [3.88195105e-02],\n",
       "       [9.77923930e-01],\n",
       "       [5.55029325e-03],\n",
       "       [1.73382789e-01],\n",
       "       [7.90072024e-01],\n",
       "       [9.24235284e-01],\n",
       "       [4.97161038e-03],\n",
       "       [1.82088882e-01],\n",
       "       [9.83976007e-01],\n",
       "       [9.69731152e-01],\n",
       "       [7.61120081e-01],\n",
       "       [4.20960426e-01],\n",
       "       [5.78209758e-01],\n",
       "       [4.29662108e-01],\n",
       "       [4.67157736e-02],\n",
       "       [9.92142558e-02],\n",
       "       [8.34747180e-02],\n",
       "       [7.05648363e-01],\n",
       "       [3.63245420e-02],\n",
       "       [4.29111332e-01],\n",
       "       [3.76876414e-01],\n",
       "       [1.20258275e-02],\n",
       "       [9.60223436e-01],\n",
       "       [9.98998225e-01],\n",
       "       [9.93222833e-01],\n",
       "       [3.32402736e-02],\n",
       "       [3.60318691e-01],\n",
       "       [1.49297282e-01],\n",
       "       [4.48512495e-01],\n",
       "       [8.09545279e-01],\n",
       "       [1.66655198e-01],\n",
       "       [2.05640923e-02],\n",
       "       [6.60265908e-02],\n",
       "       [4.68474180e-02],\n",
       "       [5.72266102e-01],\n",
       "       [1.11211995e-02],\n",
       "       [2.67480314e-01],\n",
       "       [3.93304564e-02],\n",
       "       [4.28917468e-01],\n",
       "       [4.39361602e-01],\n",
       "       [3.36628467e-01],\n",
       "       [1.71998605e-01],\n",
       "       [5.50569035e-02],\n",
       "       [3.60123903e-01],\n",
       "       [8.34302902e-02],\n",
       "       [9.96676803e-01],\n",
       "       [9.09552217e-01],\n",
       "       [4.14323300e-01],\n",
       "       [6.50390029e-01],\n",
       "       [1.96773242e-02],\n",
       "       [4.90303248e-01],\n",
       "       [9.90284622e-01],\n",
       "       [7.17913210e-01],\n",
       "       [1.95837215e-01],\n",
       "       [9.83775198e-01],\n",
       "       [1.80755675e-01],\n",
       "       [9.47508454e-01],\n",
       "       [3.08211207e-01],\n",
       "       [2.94862576e-02],\n",
       "       [5.50776184e-01],\n",
       "       [4.33443815e-01],\n",
       "       [9.96213853e-01],\n",
       "       [1.09871201e-01],\n",
       "       [4.22228537e-02],\n",
       "       [7.29372874e-02],\n",
       "       [1.66655198e-01],\n",
       "       [9.99032378e-01],\n",
       "       [2.61074379e-02],\n",
       "       [5.78417242e-01],\n",
       "       [9.72237170e-01],\n",
       "       [9.34120566e-02],\n",
       "       [9.99732554e-01],\n",
       "       [3.75246480e-02],\n",
       "       [3.25052559e-01],\n",
       "       [5.99080585e-02],\n",
       "       [7.77392805e-01],\n",
       "       [9.23556268e-01],\n",
       "       [6.75611272e-02],\n",
       "       [1.84727577e-03],\n",
       "       [2.60005772e-01],\n",
       "       [9.90306020e-01],\n",
       "       [8.23520184e-01],\n",
       "       [1.08924605e-01],\n",
       "       [4.53766108e-01],\n",
       "       [7.48807251e-01],\n",
       "       [2.34651752e-02],\n",
       "       [9.93504524e-01],\n",
       "       [5.50919533e-01],\n",
       "       [9.98848796e-01],\n",
       "       [9.19630587e-01],\n",
       "       [1.01067849e-01],\n",
       "       [3.96774411e-01],\n",
       "       [1.23013392e-01],\n",
       "       [9.32476580e-01],\n",
       "       [7.66210139e-01],\n",
       "       [3.94236773e-01],\n",
       "       [3.09406165e-02],\n",
       "       [3.07596207e-01],\n",
       "       [5.16362749e-02],\n",
       "       [7.07899258e-02],\n",
       "       [1.29167497e-01],\n",
       "       [4.01250780e-01],\n",
       "       [4.76512551e-01],\n",
       "       [1.45488560e-01],\n",
       "       [9.99085546e-01],\n",
       "       [9.84884977e-01],\n",
       "       [2.85298198e-01],\n",
       "       [7.45447576e-01],\n",
       "       [2.58745283e-01],\n",
       "       [4.71598171e-02],\n",
       "       [2.90663838e-01],\n",
       "       [7.02050447e-01],\n",
       "       [9.63855609e-02],\n",
       "       [2.00045407e-01],\n",
       "       [2.09256224e-02],\n",
       "       [4.77548331e-01],\n",
       "       [1.83505972e-03],\n",
       "       [9.54296947e-01],\n",
       "       [9.78026867e-01],\n",
       "       [9.93005455e-01],\n",
       "       [9.77757990e-01],\n",
       "       [8.01634431e-01],\n",
       "       [1.92205936e-01],\n",
       "       [5.40194735e-02],\n",
       "       [6.87139571e-01],\n",
       "       [9.26165998e-01],\n",
       "       [9.98196542e-01],\n",
       "       [2.96621723e-03],\n",
       "       [1.63213879e-01],\n",
       "       [1.60999089e-01],\n",
       "       [9.98895526e-01],\n",
       "       [9.99296069e-01],\n",
       "       [2.33877689e-01],\n",
       "       [1.35985836e-01],\n",
       "       [9.96662676e-01],\n",
       "       [4.71549779e-02],\n",
       "       [3.29775274e-01],\n",
       "       [9.86309528e-01],\n",
       "       [1.17958046e-01],\n",
       "       [4.28679995e-02],\n",
       "       [9.27431941e-01],\n",
       "       [3.47992480e-01],\n",
       "       [3.89993161e-01],\n",
       "       [9.69178498e-01],\n",
       "       [2.25264914e-02],\n",
       "       [5.75942993e-02],\n",
       "       [9.72746965e-03],\n",
       "       [1.71657167e-02],\n",
       "       [1.06599577e-01],\n",
       "       [9.71376598e-01],\n",
       "       [2.21359544e-02],\n",
       "       [4.36758071e-01],\n",
       "       [4.69726980e-01],\n",
       "       [6.39111102e-02],\n",
       "       [2.57979870e-01],\n",
       "       [7.82978982e-02],\n",
       "       [3.72739613e-01],\n",
       "       [9.97852564e-01],\n",
       "       [6.13723695e-01],\n",
       "       [1.27395689e-01],\n",
       "       [1.33373663e-01],\n",
       "       [1.33810341e-01],\n",
       "       [6.47501871e-02],\n",
       "       [6.94468379e-01],\n",
       "       [2.25247331e-02],\n",
       "       [8.88597548e-01],\n",
       "       [7.97887206e-01],\n",
       "       [5.81632674e-01],\n",
       "       [6.47100568e-01],\n",
       "       [7.88458049e-01],\n",
       "       [8.10996816e-02],\n",
       "       [2.67001390e-01],\n",
       "       [4.15800959e-01],\n",
       "       [9.10103798e-01],\n",
       "       [2.71884173e-01],\n",
       "       [2.06298366e-01],\n",
       "       [3.88520628e-01],\n",
       "       [1.57676805e-02],\n",
       "       [1.14785440e-01],\n",
       "       [3.56931955e-01],\n",
       "       [7.83508718e-01],\n",
       "       [1.07846014e-01],\n",
       "       [9.92638946e-01],\n",
       "       [8.93332243e-01],\n",
       "       [7.32077241e-01],\n",
       "       [9.85624552e-01],\n",
       "       [1.27735838e-01],\n",
       "       [6.19670376e-02],\n",
       "       [8.88407648e-01],\n",
       "       [2.00829744e-01],\n",
       "       [1.77007113e-02],\n",
       "       [6.42193854e-02],\n",
       "       [1.39510065e-01],\n",
       "       [1.32520788e-03],\n",
       "       [8.48314762e-01],\n",
       "       [7.77014971e-01],\n",
       "       [8.33463788e-01],\n",
       "       [9.34870481e-01],\n",
       "       [9.98675078e-02],\n",
       "       [1.25380412e-01],\n",
       "       [6.80881560e-01],\n",
       "       [1.42406411e-02],\n",
       "       [2.82850593e-01],\n",
       "       [1.37249723e-01],\n",
       "       [5.70312917e-01],\n",
       "       [5.59567332e-01],\n",
       "       [6.23397790e-02],\n",
       "       [7.07985908e-02],\n",
       "       [4.69174385e-01],\n",
       "       [1.12038605e-01],\n",
       "       [1.07839450e-01],\n",
       "       [1.85361519e-01],\n",
       "       [2.54191399e-01],\n",
       "       [9.98579144e-01],\n",
       "       [9.81358945e-01],\n",
       "       [3.72458011e-01],\n",
       "       [8.40979636e-01],\n",
       "       [9.90885079e-01],\n",
       "       [1.56092190e-03],\n",
       "       [9.66202199e-01],\n",
       "       [2.24363387e-01],\n",
       "       [4.60398853e-01],\n",
       "       [2.30780572e-01],\n",
       "       [1.07690178e-01],\n",
       "       [1.18657164e-01],\n",
       "       [2.18762942e-02],\n",
       "       [9.76661146e-02],\n",
       "       [6.83681294e-02],\n",
       "       [7.29713559e-01],\n",
       "       [2.47073561e-01],\n",
       "       [9.92391884e-01],\n",
       "       [4.14784327e-02],\n",
       "       [7.07733631e-01],\n",
       "       [5.99438548e-01],\n",
       "       [1.93595048e-02],\n",
       "       [6.27485886e-02],\n",
       "       [9.73498225e-01],\n",
       "       [7.20029235e-01],\n",
       "       [9.53562438e-01],\n",
       "       [1.45922959e-01],\n",
       "       [8.89171064e-02],\n",
       "       [4.64606673e-01],\n",
       "       [3.47474307e-01],\n",
       "       [2.74284780e-01],\n",
       "       [9.90885079e-01],\n",
       "       [1.21274507e-02],\n",
       "       [4.00403067e-02],\n",
       "       [1.19489931e-01],\n",
       "       [9.96429145e-01],\n",
       "       [2.12046474e-01],\n",
       "       [6.02654628e-02],\n",
       "       [8.19595337e-01],\n",
       "       [5.74461408e-02],\n",
       "       [3.56579274e-02],\n",
       "       [1.58552051e-01],\n",
       "       [2.03961924e-01],\n",
       "       [1.11434415e-01],\n",
       "       [3.67446214e-01],\n",
       "       [3.80147696e-01],\n",
       "       [1.98512033e-01],\n",
       "       [8.99499506e-02],\n",
       "       [3.50491524e-01],\n",
       "       [1.74959134e-02],\n",
       "       [9.45478022e-01],\n",
       "       [8.38028729e-01],\n",
       "       [4.41882074e-01],\n",
       "       [3.74476984e-02],\n",
       "       [1.90870184e-02],\n",
       "       [9.87150431e-01],\n",
       "       [7.12683320e-01],\n",
       "       [9.99545395e-01],\n",
       "       [2.51569957e-01],\n",
       "       [8.81132066e-01],\n",
       "       [1.01658203e-01],\n",
       "       [5.92463672e-01],\n",
       "       [6.91998363e-01],\n",
       "       [2.07271539e-02],\n",
       "       [9.78581011e-01],\n",
       "       [8.84858742e-02],\n",
       "       [5.52274227e-01],\n",
       "       [9.98233438e-01],\n",
       "       [1.61366880e-01],\n",
       "       [3.99999358e-02],\n",
       "       [2.94356018e-01],\n",
       "       [1.02895694e-02],\n",
       "       [4.62705165e-01],\n",
       "       [9.99840021e-01],\n",
       "       [2.23595187e-01],\n",
       "       [9.41475213e-01],\n",
       "       [2.35762790e-01],\n",
       "       [7.47595906e-01],\n",
       "       [2.15447485e-01],\n",
       "       [2.53637463e-01],\n",
       "       [1.67481806e-02],\n",
       "       [6.34952247e-01],\n",
       "       [1.49698490e-02],\n",
       "       [1.86856359e-01],\n",
       "       [9.48861778e-01],\n",
       "       [9.46015835e-01],\n",
       "       [9.95080471e-01],\n",
       "       [7.53917515e-01],\n",
       "       [4.42617685e-02],\n",
       "       [2.91563153e-01],\n",
       "       [1.09017100e-02],\n",
       "       [4.56810325e-01],\n",
       "       [4.15176660e-01],\n",
       "       [8.71925056e-01],\n",
       "       [3.55969630e-02],\n",
       "       [7.59119451e-01],\n",
       "       [8.21401715e-01],\n",
       "       [2.70921618e-01],\n",
       "       [1.91452518e-01],\n",
       "       [2.06298366e-01],\n",
       "       [2.06123352e-01],\n",
       "       [3.67575169e-01],\n",
       "       [6.69534028e-01],\n",
       "       [9.98737395e-01],\n",
       "       [5.61514758e-02],\n",
       "       [8.02487414e-03],\n",
       "       [1.86264850e-02],\n",
       "       [2.19919145e-01],\n",
       "       [2.18125731e-01],\n",
       "       [2.37802379e-02],\n",
       "       [7.96288967e-01],\n",
       "       [1.15053378e-01],\n",
       "       [2.01259911e-01],\n",
       "       [2.13040397e-01],\n",
       "       [2.07557097e-01],\n",
       "       [9.30606604e-01],\n",
       "       [1.66959152e-01],\n",
       "       [5.34332395e-01],\n",
       "       [3.16523790e-01],\n",
       "       [1.31780384e-02],\n",
       "       [1.26954079e-01],\n",
       "       [9.99707043e-01],\n",
       "       [7.77898610e-01],\n",
       "       [4.54675080e-03],\n",
       "       [3.35407466e-01],\n",
       "       [1.32362545e-01],\n",
       "       [7.63116181e-02],\n",
       "       [8.72350156e-01],\n",
       "       [5.32906473e-01],\n",
       "       [6.29283845e-01],\n",
       "       [3.82687986e-01],\n",
       "       [2.05861554e-01],\n",
       "       [6.66426957e-01],\n",
       "       [1.46144375e-01],\n",
       "       [5.48791252e-02],\n",
       "       [9.19532478e-01],\n",
       "       [1.59866259e-01],\n",
       "       [3.72581542e-01],\n",
       "       [9.79587138e-01],\n",
       "       [3.27453107e-01],\n",
       "       [3.53183240e-01],\n",
       "       [1.32520788e-03],\n",
       "       [2.44822159e-01],\n",
       "       [8.43149304e-01],\n",
       "       [9.99732554e-01],\n",
       "       [6.97278261e-01],\n",
       "       [4.71106470e-02],\n",
       "       [9.88716602e-01],\n",
       "       [4.24421608e-01],\n",
       "       [8.66416097e-01],\n",
       "       [4.24421608e-01],\n",
       "       [9.92073894e-01],\n",
       "       [1.23009318e-02],\n",
       "       [4.34048533e-01],\n",
       "       [8.95712078e-02],\n",
       "       [9.76997495e-01],\n",
       "       [2.38957092e-01],\n",
       "       [4.87582982e-01],\n",
       "       [6.66260719e-02],\n",
       "       [3.36293906e-01],\n",
       "       [1.10687897e-01],\n",
       "       [2.04058327e-02],\n",
       "       [2.31792718e-01],\n",
       "       [5.20317815e-02],\n",
       "       [8.61791894e-02],\n",
       "       [8.49435866e-01],\n",
       "       [2.24204771e-02],\n",
       "       [9.44046900e-02],\n",
       "       [3.87509353e-02],\n",
       "       [1.61500778e-02],\n",
       "       [1.21091910e-01],\n",
       "       [6.33756995e-01],\n",
       "       [7.16713071e-02],\n",
       "       [6.44841135e-01],\n",
       "       [1.24293014e-01],\n",
       "       [2.35411838e-01],\n",
       "       [8.67907763e-01],\n",
       "       [1.80516884e-01],\n",
       "       [5.59585467e-02],\n",
       "       [6.04920089e-02],\n",
       "       [6.34840736e-03],\n",
       "       [9.86196578e-01],\n",
       "       [1.61500778e-02],\n",
       "       [3.48776460e-01],\n",
       "       [9.93038237e-01],\n",
       "       [9.93388176e-01],\n",
       "       [9.97393131e-01],\n",
       "       [9.99898076e-01],\n",
       "       [9.99470294e-01],\n",
       "       [2.17260122e-01],\n",
       "       [6.00842685e-02],\n",
       "       [2.29001269e-01],\n",
       "       [5.33318758e-01],\n",
       "       [9.96457517e-01],\n",
       "       [5.13829052e-01],\n",
       "       [2.74630278e-01],\n",
       "       [5.25126159e-01],\n",
       "       [7.09380686e-01],\n",
       "       [2.94990391e-02],\n",
       "       [4.21161857e-03],\n",
       "       [9.54004973e-02],\n",
       "       [3.78608912e-01],\n",
       "       [9.65073612e-03],\n",
       "       [5.98454475e-02],\n",
       "       [4.06216890e-01],\n",
       "       [9.88553286e-01],\n",
       "       [2.55759209e-02],\n",
       "       [9.01393533e-01],\n",
       "       [7.25198150e-01],\n",
       "       [6.94805980e-02],\n",
       "       [2.70310760e-01],\n",
       "       [1.34052917e-01],\n",
       "       [7.23095655e-01],\n",
       "       [4.57760513e-01],\n",
       "       [1.10312440e-02]], dtype=float32)"
      ]
     },
     "execution_count": 40,
     "metadata": {},
     "output_type": "execute_result"
    }
   ],
   "source": [
    "model_1_pred_probs"
   ]
  },
  {
   "cell_type": "code",
   "execution_count": 41,
   "metadata": {},
   "outputs": [
    {
     "data": {
      "text/plain": [
       "array([[0.40672264],\n",
       "       [0.7454476 ],\n",
       "       [0.99801046],\n",
       "       [0.10810137],\n",
       "       [0.11305336],\n",
       "       [0.93472946],\n",
       "       [0.91683364],\n",
       "       [0.9930836 ],\n",
       "       [0.97014904],\n",
       "       [0.26563093]], dtype=float32)"
      ]
     },
     "execution_count": 41,
     "metadata": {},
     "output_type": "execute_result"
    }
   ],
   "source": [
    "model_1_pred_probs[:10] "
   ]
  },
  {
   "cell_type": "code",
   "execution_count": 42,
   "metadata": {},
   "outputs": [],
   "source": [
    "model_1_preds=tf.squeeze(tf.round(model_1_pred_probs))"
   ]
  },
  {
   "cell_type": "code",
   "execution_count": 43,
   "metadata": {},
   "outputs": [
    {
     "data": {
      "text/plain": [
       "<tf.Tensor: shape=(20,), dtype=float32, numpy=\n",
       "array([0., 1., 1., 0., 0., 1., 1., 1., 1., 0., 0., 1., 0., 0., 0., 0., 0.,\n",
       "       0., 0., 1.], dtype=float32)>"
      ]
     },
     "execution_count": 43,
     "metadata": {},
     "output_type": "execute_result"
    }
   ],
   "source": [
    "model_1_preds[:20]"
   ]
  },
  {
   "cell_type": "code",
   "execution_count": 44,
   "metadata": {},
   "outputs": [],
   "source": [
    "model_1_results = calculate_results(val_labels,model_1_preds)"
   ]
  },
  {
   "cell_type": "code",
   "execution_count": 45,
   "metadata": {},
   "outputs": [
    {
     "data": {
      "text/plain": [
       "{'accuracy': 78.60892388451444,\n",
       " 'precision': 0.7903277546022673,\n",
       " 'recall': 0.7860892388451444,\n",
       " 'f1': 0.7832971347503846}"
      ]
     },
     "execution_count": 45,
     "metadata": {},
     "output_type": "execute_result"
    }
   ],
   "source": [
    "model_1_results"
   ]
  },
  {
   "cell_type": "code",
   "execution_count": 46,
   "metadata": {},
   "outputs": [
    {
     "data": {
      "text/plain": [
       "{'accuracy': 79.26509186351706,\n",
       " 'precision': 0.8111390004213173,\n",
       " 'recall': 0.7926509186351706,\n",
       " 'f1': 0.7862189758049549}"
      ]
     },
     "execution_count": 46,
     "metadata": {},
     "output_type": "execute_result"
    }
   ],
   "source": [
    "baseline_results"
   ]
  },
  {
   "cell_type": "code",
   "execution_count": 47,
   "metadata": {},
   "outputs": [
    {
     "data": {
      "text/plain": [
       "array([False, False, False, False])"
      ]
     },
     "execution_count": 47,
     "metadata": {},
     "output_type": "execute_result"
    }
   ],
   "source": [
    "import numpy as np \n",
    "np.array(list(model_1_results.values())) > np.array(list(baseline_results.values()))"
   ]
  },
  {
   "cell_type": "code",
   "execution_count": 48,
   "metadata": {},
   "outputs": [
    {
     "data": {
      "text/plain": [
       "(10000, ['', '[UNK]', 'the', 'a', 'in', 'to', 'of', 'and', 'i', 'is'])"
      ]
     },
     "execution_count": 48,
     "metadata": {},
     "output_type": "execute_result"
    }
   ],
   "source": [
    "words_in_vocab = text_vectorizer.get_vocabulary()\n",
    "len(words_in_vocab),words_in_vocab[:10]"
   ]
  },
  {
   "cell_type": "code",
   "execution_count": 49,
   "metadata": {},
   "outputs": [
    {
     "name": "stdout",
     "output_type": "stream",
     "text": [
      "Model: \"model_1_dense\"\n",
      "_________________________________________________________________\n",
      " Layer (type)                Output Shape              Param #   \n",
      "=================================================================\n",
      " input_1 (InputLayer)        [(None, 1)]               0         \n",
      "                                                                 \n",
      " text_vectorization (TextVec  (None, 15)               0         \n",
      " torization)                                                     \n",
      "                                                                 \n",
      " embedding_1 (Embedding)     (None, 15, 128)           1280000   \n",
      "                                                                 \n",
      " global_average_pooling1d (G  (None, 128)              0         \n",
      " lobalAveragePooling1D)                                          \n",
      "                                                                 \n",
      " dense (Dense)               (None, 1)                 129       \n",
      "                                                                 \n",
      "=================================================================\n",
      "Total params: 1,280,129\n",
      "Trainable params: 1,280,129\n",
      "Non-trainable params: 0\n",
      "_________________________________________________________________\n"
     ]
    }
   ],
   "source": [
    "model_1.summary()"
   ]
  },
  {
   "cell_type": "code",
   "execution_count": 50,
   "metadata": {},
   "outputs": [],
   "source": [
    "embed_weights = model_1.get_layer(\"embedding_1\").get_weights()[0]"
   ]
  },
  {
   "cell_type": "code",
   "execution_count": 51,
   "metadata": {},
   "outputs": [
    {
     "data": {
      "text/plain": [
       "array([[ 0.02537496, -0.02235664,  0.01426724, ...,  0.03417593,\n",
       "         0.02083804,  0.05248006],\n",
       "       [ 0.04635455,  0.03081604, -0.00414347, ..., -0.04626253,\n",
       "         0.03793519, -0.03401703],\n",
       "       [-0.00978814,  0.05545923,  0.05595186, ..., -0.00938332,\n",
       "         0.0477787 ,  0.02449379],\n",
       "       ...,\n",
       "       [-0.00880691,  0.00455992,  0.0274366 , ..., -0.04172378,\n",
       "        -0.0253644 , -0.03372788],\n",
       "       [ 0.00634911,  0.01384877,  0.09206314, ...,  0.02170778,\n",
       "         0.05075679,  0.07815135],\n",
       "       [ 0.05306496,  0.06554126,  0.08889391, ...,  0.11545217,\n",
       "         0.09476621,  0.02966497]], dtype=float32)"
      ]
     },
     "execution_count": 51,
     "metadata": {},
     "output_type": "execute_result"
    }
   ],
   "source": [
    "embed_weights"
   ]
  },
  {
   "cell_type": "code",
   "execution_count": 52,
   "metadata": {},
   "outputs": [
    {
     "data": {
      "text/plain": [
       "(10000, 128)"
      ]
     },
     "execution_count": 52,
     "metadata": {},
     "output_type": "execute_result"
    }
   ],
   "source": [
    "embed_weights.shape"
   ]
  },
  {
   "cell_type": "code",
   "execution_count": 53,
   "metadata": {},
   "outputs": [],
   "source": [
    "import io\n",
    "out_v = io.open('vectors.tsv', 'w', encoding='utf-8')\n",
    "out_m = io.open('metadata.tsv', 'w', encoding='utf-8')\n",
    "\n",
    "for index, word in enumerate(words_in_vocab):\n",
    "  if index == 0:\n",
    "    continue  # skip 0, it's padding.\n",
    "  vec = embed_weights[index]\n",
    "  out_v.write('\\t'.join([str(x) for x in vec]) + \"\\n\")\n",
    "  out_m.write(word + \"\\n\")\n",
    "out_v.close()\n",
    "out_m.close()"
   ]
  },
  {
   "cell_type": "code",
   "execution_count": 54,
   "metadata": {},
   "outputs": [],
   "source": [
    "from tensorflow.keras import  layers"
   ]
  },
  {
   "cell_type": "code",
   "execution_count": 55,
   "metadata": {},
   "outputs": [],
   "source": [
    "inputs = layers.Input(shape=(1,),dtype=tf.string)\n",
    "x=text_vectorizer(inputs)\n",
    "x=embeddings(x)\n",
    "# x=layers.LSTM(64,return_sequences=True)(x)\n",
    "x=layers.LSTM(64)(x)\n",
    "outputs=layers.Dense(1,activation=\"sigmoid\")(x)\n",
    "model_2=tf.keras.Model(inputs,outputs,name=\"model_2_LTSM\")\n",
    "\n",
    " "
   ]
  },
  {
   "cell_type": "code",
   "execution_count": 56,
   "metadata": {},
   "outputs": [
    {
     "name": "stdout",
     "output_type": "stream",
     "text": [
      "Model: \"model_2_LTSM\"\n",
      "_________________________________________________________________\n",
      " Layer (type)                Output Shape              Param #   \n",
      "=================================================================\n",
      " input_2 (InputLayer)        [(None, 1)]               0         \n",
      "                                                                 \n",
      " text_vectorization (TextVec  (None, 15)               0         \n",
      " torization)                                                     \n",
      "                                                                 \n",
      " embedding_1 (Embedding)     (None, 15, 128)           1280000   \n",
      "                                                                 \n",
      " lstm (LSTM)                 (None, 64)                49408     \n",
      "                                                                 \n",
      " dense_1 (Dense)             (None, 1)                 65        \n",
      "                                                                 \n",
      "=================================================================\n",
      "Total params: 1,329,473\n",
      "Trainable params: 1,329,473\n",
      "Non-trainable params: 0\n",
      "_________________________________________________________________\n"
     ]
    }
   ],
   "source": [
    "model_2.summary()"
   ]
  },
  {
   "cell_type": "code",
   "execution_count": 57,
   "metadata": {},
   "outputs": [],
   "source": [
    "model_2.compile(loss=\"binary_crossentropy\",\n",
    "                optimizer=tf.keras.optimizers.Adam(),\n",
    "                metrics=[\"accuracy\"])"
   ]
  },
  {
   "cell_type": "code",
   "execution_count": 58,
   "metadata": {},
   "outputs": [
    {
     "name": "stdout",
     "output_type": "stream",
     "text": [
      "Saving TensorBoard log files to: model_logs/model_2_LTSM/20240911-235159\n",
      "Epoch 1/5\n",
      "215/215 [==============================] - 8s 14ms/step - loss: 0.2190 - accuracy: 0.9242 - val_loss: 0.5372 - val_accuracy: 0.7769\n",
      "Epoch 2/5\n",
      "215/215 [==============================] - 2s 9ms/step - loss: 0.1608 - accuracy: 0.9418 - val_loss: 0.6074 - val_accuracy: 0.7756\n",
      "Epoch 3/5\n",
      "215/215 [==============================] - 2s 8ms/step - loss: 0.1265 - accuracy: 0.9518 - val_loss: 0.7453 - val_accuracy: 0.7822\n",
      "Epoch 4/5\n",
      "215/215 [==============================] - 2s 9ms/step - loss: 0.1049 - accuracy: 0.9604 - val_loss: 0.8508 - val_accuracy: 0.7861\n",
      "Epoch 5/5\n",
      "215/215 [==============================] - 2s 11ms/step - loss: 0.0781 - accuracy: 0.9672 - val_loss: 1.0004 - val_accuracy: 0.7822\n"
     ]
    },
    {
     "data": {
      "text/plain": [
       "<keras.callbacks.History at 0x163ceae64a0>"
      ]
     },
     "execution_count": 58,
     "metadata": {},
     "output_type": "execute_result"
    }
   ],
   "source": [
    "model_2.fit(train_sentences,train_labels,epochs=5,validation_data=(val_sentences,val_labels),callbacks=[create_tensorboard_callback(SAVE_DIR,\"model_2_LTSM\")])"
   ]
  },
  {
   "cell_type": "code",
   "execution_count": 59,
   "metadata": {},
   "outputs": [
    {
     "name": "stdout",
     "output_type": "stream",
     "text": [
      "24/24 [==============================] - 1s 4ms/step\n"
     ]
    }
   ],
   "source": [
    "model_2_pred_probs = model_2.predict(val_sentences)"
   ]
  },
  {
   "cell_type": "code",
   "execution_count": 60,
   "metadata": {},
   "outputs": [
    {
     "data": {
      "text/plain": [
       "array([[0.40672264],\n",
       "       [0.7454476 ],\n",
       "       [0.99801046],\n",
       "       [0.10810137],\n",
       "       [0.11305336],\n",
       "       [0.93472946],\n",
       "       [0.91683364],\n",
       "       [0.9930836 ],\n",
       "       [0.97014904],\n",
       "       [0.26563093]], dtype=float32)"
      ]
     },
     "execution_count": 60,
     "metadata": {},
     "output_type": "execute_result"
    }
   ],
   "source": [
    "model_1_pred_probs[:10]"
   ]
  },
  {
   "cell_type": "code",
   "execution_count": 61,
   "metadata": {},
   "outputs": [
    {
     "data": {
      "text/plain": [
       "<tf.Tensor: shape=(10,), dtype=float32, numpy=array([0., 1., 1., 0., 0., 1., 1., 1., 1., 1.], dtype=float32)>"
      ]
     },
     "execution_count": 61,
     "metadata": {},
     "output_type": "execute_result"
    }
   ],
   "source": [
    "model_2_preds = tf.squeeze(tf.round(model_2_pred_probs))\n",
    "model_2_preds[:10]"
   ]
  },
  {
   "cell_type": "code",
   "execution_count": 62,
   "metadata": {},
   "outputs": [],
   "source": [
    "model_2_results = calculate_results(val_labels,model_2_preds)"
   ]
  },
  {
   "cell_type": "code",
   "execution_count": 63,
   "metadata": {},
   "outputs": [
    {
     "data": {
      "text/plain": [
       "{'accuracy': 78.21522309711287,\n",
       " 'precision': 0.7849731976577976,\n",
       " 'recall': 0.7821522309711286,\n",
       " 'f1': 0.7797935460636591}"
      ]
     },
     "execution_count": 63,
     "metadata": {},
     "output_type": "execute_result"
    }
   ],
   "source": [
    "model_2_results"
   ]
  },
  {
   "cell_type": "code",
   "execution_count": 64,
   "metadata": {},
   "outputs": [
    {
     "data": {
      "text/plain": [
       "{'accuracy': 79.26509186351706,\n",
       " 'precision': 0.8111390004213173,\n",
       " 'recall': 0.7926509186351706,\n",
       " 'f1': 0.7862189758049549}"
      ]
     },
     "execution_count": 64,
     "metadata": {},
     "output_type": "execute_result"
    }
   ],
   "source": [
    "baseline_results"
   ]
  },
  {
   "cell_type": "code",
   "execution_count": 68,
   "metadata": {},
   "outputs": [],
   "source": [
    "inputs = layers.Input(shape=(1,),dtype=tf.string)\n",
    "x=text_vectorizer(inputs)\n",
    "x=embeddings(x)\n",
    "# x=layers.GRU(64,return_sequences=True)(x)\n",
    "# x=layers.LSTM(64,return_sequences=True)(x)\n",
    "# x=layers.GRU(64)(x)\n",
    "# x=layers.GlobalAveragePooling1D()(x)\n",
    "x=layers.GRU(64)(x)\n",
    "x=layers.Dense(64,activation=\"relu\")(x)\n",
    "outputs = layers.Dense(1,activation=\"sigmoid\")(x)\n",
    "model_3=tf.keras.Model(inputs,outputs,name=\"model_3_GRU\")\n",
    "\n",
    "\n"
   ]
  },
  {
   "cell_type": "code",
   "execution_count": 69,
   "metadata": {},
   "outputs": [
    {
     "name": "stdout",
     "output_type": "stream",
     "text": [
      "Model: \"model_3_GRU\"\n",
      "_________________________________________________________________\n",
      " Layer (type)                Output Shape              Param #   \n",
      "=================================================================\n",
      " input_4 (InputLayer)        [(None, 1)]               0         \n",
      "                                                                 \n",
      " text_vectorization (TextVec  (None, 15)               0         \n",
      " torization)                                                     \n",
      "                                                                 \n",
      " embedding_1 (Embedding)     (None, 15, 128)           1280000   \n",
      "                                                                 \n",
      " gru (GRU)                   (None, 64)                37248     \n",
      "                                                                 \n",
      " dense_2 (Dense)             (None, 64)                4160      \n",
      "                                                                 \n",
      " dense_3 (Dense)             (None, 1)                 65        \n",
      "                                                                 \n",
      "=================================================================\n",
      "Total params: 1,321,473\n",
      "Trainable params: 1,321,473\n",
      "Non-trainable params: 0\n",
      "_________________________________________________________________\n"
     ]
    }
   ],
   "source": [
    "model_3.summary()"
   ]
  },
  {
   "cell_type": "code",
   "execution_count": 70,
   "metadata": {},
   "outputs": [],
   "source": [
    "model_3.compile(loss='binary_crossentropy',\n",
    "                optimizer=tf.keras.optimizers.Adam(),\n",
    "                metrics=['accuracy'])"
   ]
  },
  {
   "cell_type": "code",
   "execution_count": 71,
   "metadata": {},
   "outputs": [
    {
     "name": "stdout",
     "output_type": "stream",
     "text": [
      "Saving TensorBoard log files to: model_logs/model_3_gru/20240911-235333\n",
      "Epoch 1/5\n",
      "215/215 [==============================] - 5s 12ms/step - loss: 0.1589 - accuracy: 0.9453 - val_loss: 0.6743 - val_accuracy: 0.7822\n",
      "Epoch 2/5\n",
      "215/215 [==============================] - 2s 9ms/step - loss: 0.0847 - accuracy: 0.9695 - val_loss: 0.8445 - val_accuracy: 0.7822\n",
      "Epoch 3/5\n",
      "215/215 [==============================] - 2s 9ms/step - loss: 0.0667 - accuracy: 0.9742 - val_loss: 1.1905 - val_accuracy: 0.7677\n",
      "Epoch 4/5\n",
      "215/215 [==============================] - 2s 9ms/step - loss: 0.0566 - accuracy: 0.9759 - val_loss: 1.1522 - val_accuracy: 0.7743\n",
      "Epoch 5/5\n",
      "215/215 [==============================] - 2s 9ms/step - loss: 0.0503 - accuracy: 0.9772 - val_loss: 1.3907 - val_accuracy: 0.7730\n"
     ]
    }
   ],
   "source": [
    "model_3_history = model_3.fit(train_sentences,train_labels,epochs=5,validation_data=(val_sentences,val_labels),callbacks=[create_tensorboard_callback(SAVE_DIR,\"model_3_gru\")])"
   ]
  },
  {
   "cell_type": "code",
   "execution_count": 72,
   "metadata": {},
   "outputs": [
    {
     "name": "stdout",
     "output_type": "stream",
     "text": [
      "24/24 [==============================] - 1s 5ms/step\n"
     ]
    },
    {
     "data": {
      "text/plain": [
       "array([[4.06722635e-01],\n",
       "       [7.45447576e-01],\n",
       "       [9.98010457e-01],\n",
       "       [1.08101368e-01],\n",
       "       [1.13053359e-01],\n",
       "       [9.34729457e-01],\n",
       "       [9.16833639e-01],\n",
       "       [9.93083596e-01],\n",
       "       [9.70149040e-01],\n",
       "       [2.65630931e-01],\n",
       "       [1.20250702e-01],\n",
       "       [7.04488277e-01],\n",
       "       [5.23457527e-02],\n",
       "       [2.19779238e-01],\n",
       "       [5.21695195e-03],\n",
       "       [1.58112988e-01],\n",
       "       [2.73795165e-02],\n",
       "       [1.03364982e-01],\n",
       "       [2.41125345e-01],\n",
       "       [5.54777324e-01],\n",
       "       [9.10140157e-01],\n",
       "       [4.29593064e-02],\n",
       "       [4.42966551e-01],\n",
       "       [1.02871120e-01],\n",
       "       [9.57128942e-01],\n",
       "       [9.98998225e-01],\n",
       "       [3.32367122e-02],\n",
       "       [7.00706020e-02],\n",
       "       [2.62654107e-02],\n",
       "       [2.11718783e-01],\n",
       "       [5.83187044e-01],\n",
       "       [2.35835567e-01],\n",
       "       [5.09473264e-01],\n",
       "       [2.06295684e-01],\n",
       "       [5.28980076e-01],\n",
       "       [5.51430732e-02],\n",
       "       [9.94448185e-01],\n",
       "       [1.41781196e-01],\n",
       "       [3.55752483e-02],\n",
       "       [9.98508394e-01],\n",
       "       [1.80753082e-01],\n",
       "       [2.20139381e-02],\n",
       "       [3.56200099e-01],\n",
       "       [5.58475889e-02],\n",
       "       [6.51257455e-01],\n",
       "       [9.79786515e-01],\n",
       "       [3.16790700e-01],\n",
       "       [9.20518517e-01],\n",
       "       [1.92537516e-01],\n",
       "       [6.08748138e-01],\n",
       "       [7.12789372e-02],\n",
       "       [5.19291222e-01],\n",
       "       [4.46012706e-01],\n",
       "       [2.93122120e-02],\n",
       "       [1.29561782e-01],\n",
       "       [3.38201337e-02],\n",
       "       [2.29630053e-01],\n",
       "       [9.64265585e-01],\n",
       "       [1.26593038e-01],\n",
       "       [2.71436060e-03],\n",
       "       [1.36667967e-01],\n",
       "       [9.61247504e-01],\n",
       "       [9.19361651e-01],\n",
       "       [1.50621906e-01],\n",
       "       [9.28423285e-01],\n",
       "       [9.80234861e-01],\n",
       "       [7.22436905e-01],\n",
       "       [4.43515897e-01],\n",
       "       [1.17895685e-01],\n",
       "       [1.39524981e-01],\n",
       "       [9.80221778e-02],\n",
       "       [3.37359160e-02],\n",
       "       [9.31270301e-01],\n",
       "       [1.25109896e-01],\n",
       "       [1.37125060e-01],\n",
       "       [4.46454465e-01],\n",
       "       [3.48550379e-01],\n",
       "       [8.14390421e-01],\n",
       "       [2.48959720e-01],\n",
       "       [5.93993008e-01],\n",
       "       [4.72102672e-01],\n",
       "       [2.51822144e-01],\n",
       "       [9.96168792e-01],\n",
       "       [1.13874614e-01],\n",
       "       [1.76457077e-01],\n",
       "       [1.04572527e-01],\n",
       "       [2.10406762e-02],\n",
       "       [1.05032362e-01],\n",
       "       [6.63430870e-01],\n",
       "       [8.89100850e-01],\n",
       "       [9.92516220e-01],\n",
       "       [1.06303263e-02],\n",
       "       [5.06761968e-01],\n",
       "       [2.87703816e-02],\n",
       "       [9.79731143e-01],\n",
       "       [7.32077241e-01],\n",
       "       [8.39627206e-01],\n",
       "       [9.80804026e-01],\n",
       "       [8.79628658e-01],\n",
       "       [9.48157489e-01],\n",
       "       [9.99334753e-01],\n",
       "       [1.61035657e-01],\n",
       "       [1.32787228e-02],\n",
       "       [9.16941106e-01],\n",
       "       [8.92815530e-01],\n",
       "       [8.50567147e-02],\n",
       "       [8.66495609e-01],\n",
       "       [9.76905823e-01],\n",
       "       [7.27238804e-02],\n",
       "       [4.74218160e-01],\n",
       "       [7.31621742e-01],\n",
       "       [3.48544568e-02],\n",
       "       [2.43245363e-01],\n",
       "       [1.87621027e-01],\n",
       "       [1.42708704e-01],\n",
       "       [4.66204673e-01],\n",
       "       [5.26915073e-01],\n",
       "       [7.59422779e-01],\n",
       "       [7.43792892e-01],\n",
       "       [1.04286060e-01],\n",
       "       [9.99732554e-01],\n",
       "       [9.82613340e-02],\n",
       "       [1.35409743e-01],\n",
       "       [8.15503180e-01],\n",
       "       [4.96919423e-01],\n",
       "       [2.70109683e-01],\n",
       "       [8.56355727e-01],\n",
       "       [1.08824261e-02],\n",
       "       [6.43371046e-02],\n",
       "       [7.87464261e-01],\n",
       "       [9.20233577e-02],\n",
       "       [9.99732554e-01],\n",
       "       [9.99829054e-01],\n",
       "       [9.98998225e-01],\n",
       "       [9.85590816e-01],\n",
       "       [9.01860669e-02],\n",
       "       [9.72459197e-01],\n",
       "       [1.82269633e-01],\n",
       "       [2.93974727e-01],\n",
       "       [9.01301354e-02],\n",
       "       [9.96339440e-01],\n",
       "       [3.39709312e-01],\n",
       "       [2.19779238e-01],\n",
       "       [9.54362214e-01],\n",
       "       [2.21862391e-01],\n",
       "       [6.23501718e-01],\n",
       "       [4.20436598e-02],\n",
       "       [7.57535547e-03],\n",
       "       [2.37506226e-01],\n",
       "       [9.81465697e-01],\n",
       "       [2.73750573e-01],\n",
       "       [6.20309487e-02],\n",
       "       [4.39182967e-01],\n",
       "       [1.86549738e-01],\n",
       "       [2.58471489e-01],\n",
       "       [9.92563903e-01],\n",
       "       [8.03406954e-01],\n",
       "       [4.63375241e-01],\n",
       "       [9.88651812e-01],\n",
       "       [2.22237948e-02],\n",
       "       [9.70590591e-01],\n",
       "       [5.74454553e-02],\n",
       "       [2.72771955e-01],\n",
       "       [9.92156029e-01],\n",
       "       [2.46399909e-01],\n",
       "       [9.27574337e-02],\n",
       "       [9.98599946e-01],\n",
       "       [3.00816745e-01],\n",
       "       [9.84907866e-01],\n",
       "       [2.21999034e-01],\n",
       "       [9.93779123e-01],\n",
       "       [8.72834921e-01],\n",
       "       [8.04508090e-01],\n",
       "       [3.08058225e-02],\n",
       "       [9.97920096e-01],\n",
       "       [6.15960918e-02],\n",
       "       [3.85341555e-01],\n",
       "       [4.52009231e-01],\n",
       "       [7.68838823e-01],\n",
       "       [9.94606555e-01],\n",
       "       [1.70123521e-02],\n",
       "       [7.93314278e-01],\n",
       "       [8.13448668e-01],\n",
       "       [9.74971414e-01],\n",
       "       [9.74707663e-01],\n",
       "       [4.66060907e-01],\n",
       "       [8.95795971e-02],\n",
       "       [9.99457538e-01],\n",
       "       [1.46858972e-02],\n",
       "       [3.29729058e-02],\n",
       "       [1.15373425e-01],\n",
       "       [9.17305589e-01],\n",
       "       [9.45310146e-02],\n",
       "       [2.60524064e-01],\n",
       "       [1.54472422e-02],\n",
       "       [9.80169773e-02],\n",
       "       [4.57749292e-02],\n",
       "       [2.13880658e-01],\n",
       "       [7.79229760e-01],\n",
       "       [7.33302757e-02],\n",
       "       [2.91660488e-01],\n",
       "       [8.75637114e-01],\n",
       "       [9.76129949e-01],\n",
       "       [3.75457346e-01],\n",
       "       [1.33853883e-01],\n",
       "       [9.99840021e-01],\n",
       "       [5.79877675e-01],\n",
       "       [9.23776031e-01],\n",
       "       [6.73500061e-01],\n",
       "       [8.42122674e-01],\n",
       "       [3.24567437e-01],\n",
       "       [9.81386721e-01],\n",
       "       [2.16617435e-02],\n",
       "       [2.06045002e-01],\n",
       "       [6.79745479e-03],\n",
       "       [6.06438983e-03],\n",
       "       [9.57456291e-01],\n",
       "       [8.19577456e-01],\n",
       "       [9.07396853e-01],\n",
       "       [1.55467838e-01],\n",
       "       [7.39348769e-01],\n",
       "       [9.15687755e-02],\n",
       "       [2.80090701e-02],\n",
       "       [1.82279825e-01],\n",
       "       [9.77743745e-01],\n",
       "       [1.94300175e-01],\n",
       "       [5.29166341e-01],\n",
       "       [9.93414640e-01],\n",
       "       [5.88113129e-01],\n",
       "       [6.06638014e-01],\n",
       "       [9.63784158e-02],\n",
       "       [2.46468648e-01],\n",
       "       [7.96482146e-01],\n",
       "       [2.67985523e-01],\n",
       "       [4.92669344e-01],\n",
       "       [1.33783475e-01],\n",
       "       [6.09169185e-01],\n",
       "       [3.36053461e-01],\n",
       "       [1.82897702e-01],\n",
       "       [1.00682661e-01],\n",
       "       [4.63930011e-01],\n",
       "       [2.47510150e-01],\n",
       "       [9.99849796e-01],\n",
       "       [9.85530734e-01],\n",
       "       [7.25235566e-02],\n",
       "       [2.41892748e-02],\n",
       "       [8.74686301e-01],\n",
       "       [1.06274039e-01],\n",
       "       [7.23496377e-02],\n",
       "       [4.91818517e-01],\n",
       "       [4.07567360e-02],\n",
       "       [5.85301816e-01],\n",
       "       [9.47291730e-04],\n",
       "       [4.40731198e-01],\n",
       "       [9.18055594e-01],\n",
       "       [1.85666457e-01],\n",
       "       [9.70841110e-01],\n",
       "       [9.99004781e-01],\n",
       "       [2.74952620e-01],\n",
       "       [1.79461122e-01],\n",
       "       [3.75001103e-01],\n",
       "       [2.94396989e-02],\n",
       "       [4.55093523e-03],\n",
       "       [9.82369125e-01],\n",
       "       [9.69715118e-01],\n",
       "       [7.15148449e-01],\n",
       "       [9.51649547e-01],\n",
       "       [5.06079420e-02],\n",
       "       [1.76518321e-01],\n",
       "       [7.86421448e-03],\n",
       "       [1.76667169e-01],\n",
       "       [3.18754129e-02],\n",
       "       [9.59269106e-01],\n",
       "       [1.12894446e-01],\n",
       "       [9.86656174e-03],\n",
       "       [9.72228587e-01],\n",
       "       [1.19819324e-02],\n",
       "       [8.57465416e-02],\n",
       "       [9.82465088e-01],\n",
       "       [4.96176071e-02],\n",
       "       [7.56394789e-02],\n",
       "       [7.95825198e-03],\n",
       "       [9.69212651e-01],\n",
       "       [6.04889333e-01],\n",
       "       [7.76355326e-01],\n",
       "       [7.17589200e-01],\n",
       "       [5.55014551e-01],\n",
       "       [7.69648850e-02],\n",
       "       [9.33705270e-01],\n",
       "       [4.39119712e-02],\n",
       "       [7.31377065e-01],\n",
       "       [4.06805605e-01],\n",
       "       [3.60185504e-01],\n",
       "       [3.88401985e-01],\n",
       "       [1.88363284e-01],\n",
       "       [7.60824502e-01],\n",
       "       [2.41178483e-01],\n",
       "       [6.48978174e-01],\n",
       "       [1.60108581e-01],\n",
       "       [8.29024196e-01],\n",
       "       [4.22585867e-02],\n",
       "       [8.30456391e-02],\n",
       "       [2.40839124e-01],\n",
       "       [9.83570695e-01],\n",
       "       [1.55990630e-01],\n",
       "       [7.88031593e-02],\n",
       "       [3.34700972e-01],\n",
       "       [2.03321859e-01],\n",
       "       [1.27489552e-01],\n",
       "       [2.73304861e-02],\n",
       "       [3.28042246e-02],\n",
       "       [9.81252491e-01],\n",
       "       [3.36625129e-01],\n",
       "       [1.85987130e-01],\n",
       "       [9.99769628e-01],\n",
       "       [4.27869819e-02],\n",
       "       [6.42629206e-01],\n",
       "       [2.30467200e-01],\n",
       "       [5.05137034e-02],\n",
       "       [1.39877349e-01],\n",
       "       [1.89211383e-01],\n",
       "       [1.06950626e-01],\n",
       "       [9.22270894e-01],\n",
       "       [2.64216274e-01],\n",
       "       [9.86497700e-01],\n",
       "       [8.07175785e-02],\n",
       "       [2.43526064e-02],\n",
       "       [9.94634509e-01],\n",
       "       [2.40266863e-02],\n",
       "       [9.96666014e-01],\n",
       "       [1.41825989e-01],\n",
       "       [3.31799462e-02],\n",
       "       [9.60135758e-01],\n",
       "       [4.89256084e-02],\n",
       "       [3.88195105e-02],\n",
       "       [9.77923930e-01],\n",
       "       [5.55029325e-03],\n",
       "       [1.73382789e-01],\n",
       "       [7.90072024e-01],\n",
       "       [9.24235284e-01],\n",
       "       [4.97161038e-03],\n",
       "       [1.82088882e-01],\n",
       "       [9.83976007e-01],\n",
       "       [9.69731152e-01],\n",
       "       [7.61120081e-01],\n",
       "       [4.20960426e-01],\n",
       "       [5.78209758e-01],\n",
       "       [4.29662108e-01],\n",
       "       [4.67157736e-02],\n",
       "       [9.92142558e-02],\n",
       "       [8.34747180e-02],\n",
       "       [7.05648363e-01],\n",
       "       [3.63245420e-02],\n",
       "       [4.29111332e-01],\n",
       "       [3.76876414e-01],\n",
       "       [1.20258275e-02],\n",
       "       [9.60223436e-01],\n",
       "       [9.98998225e-01],\n",
       "       [9.93222833e-01],\n",
       "       [3.32402736e-02],\n",
       "       [3.60318691e-01],\n",
       "       [1.49297282e-01],\n",
       "       [4.48512495e-01],\n",
       "       [8.09545279e-01],\n",
       "       [1.66655198e-01],\n",
       "       [2.05640923e-02],\n",
       "       [6.60265908e-02],\n",
       "       [4.68474180e-02],\n",
       "       [5.72266102e-01],\n",
       "       [1.11211995e-02],\n",
       "       [2.67480314e-01],\n",
       "       [3.93304564e-02],\n",
       "       [4.28917468e-01],\n",
       "       [4.39361602e-01],\n",
       "       [3.36628467e-01],\n",
       "       [1.71998605e-01],\n",
       "       [5.50569035e-02],\n",
       "       [3.60123903e-01],\n",
       "       [8.34302902e-02],\n",
       "       [9.96676803e-01],\n",
       "       [9.09552217e-01],\n",
       "       [4.14323300e-01],\n",
       "       [6.50390029e-01],\n",
       "       [1.96773242e-02],\n",
       "       [4.90303248e-01],\n",
       "       [9.90284622e-01],\n",
       "       [7.17913210e-01],\n",
       "       [1.95837215e-01],\n",
       "       [9.83775198e-01],\n",
       "       [1.80755675e-01],\n",
       "       [9.47508454e-01],\n",
       "       [3.08211207e-01],\n",
       "       [2.94862576e-02],\n",
       "       [5.50776184e-01],\n",
       "       [4.33443815e-01],\n",
       "       [9.96213853e-01],\n",
       "       [1.09871201e-01],\n",
       "       [4.22228537e-02],\n",
       "       [7.29372874e-02],\n",
       "       [1.66655198e-01],\n",
       "       [9.99032378e-01],\n",
       "       [2.61074379e-02],\n",
       "       [5.78417242e-01],\n",
       "       [9.72237170e-01],\n",
       "       [9.34120566e-02],\n",
       "       [9.99732554e-01],\n",
       "       [3.75246480e-02],\n",
       "       [3.25052559e-01],\n",
       "       [5.99080585e-02],\n",
       "       [7.77392805e-01],\n",
       "       [9.23556268e-01],\n",
       "       [6.75611272e-02],\n",
       "       [1.84727577e-03],\n",
       "       [2.60005772e-01],\n",
       "       [9.90306020e-01],\n",
       "       [8.23520184e-01],\n",
       "       [1.08924605e-01],\n",
       "       [4.53766108e-01],\n",
       "       [7.48807251e-01],\n",
       "       [2.34651752e-02],\n",
       "       [9.93504524e-01],\n",
       "       [5.50919533e-01],\n",
       "       [9.98848796e-01],\n",
       "       [9.19630587e-01],\n",
       "       [1.01067849e-01],\n",
       "       [3.96774411e-01],\n",
       "       [1.23013392e-01],\n",
       "       [9.32476580e-01],\n",
       "       [7.66210139e-01],\n",
       "       [3.94236773e-01],\n",
       "       [3.09406165e-02],\n",
       "       [3.07596207e-01],\n",
       "       [5.16362749e-02],\n",
       "       [7.07899258e-02],\n",
       "       [1.29167497e-01],\n",
       "       [4.01250780e-01],\n",
       "       [4.76512551e-01],\n",
       "       [1.45488560e-01],\n",
       "       [9.99085546e-01],\n",
       "       [9.84884977e-01],\n",
       "       [2.85298198e-01],\n",
       "       [7.45447576e-01],\n",
       "       [2.58745283e-01],\n",
       "       [4.71598171e-02],\n",
       "       [2.90663838e-01],\n",
       "       [7.02050447e-01],\n",
       "       [9.63855609e-02],\n",
       "       [2.00045407e-01],\n",
       "       [2.09256224e-02],\n",
       "       [4.77548331e-01],\n",
       "       [1.83505972e-03],\n",
       "       [9.54296947e-01],\n",
       "       [9.78026867e-01],\n",
       "       [9.93005455e-01],\n",
       "       [9.77757990e-01],\n",
       "       [8.01634431e-01],\n",
       "       [1.92205936e-01],\n",
       "       [5.40194735e-02],\n",
       "       [6.87139571e-01],\n",
       "       [9.26165998e-01],\n",
       "       [9.98196542e-01],\n",
       "       [2.96621723e-03],\n",
       "       [1.63213879e-01],\n",
       "       [1.60999089e-01],\n",
       "       [9.98895526e-01],\n",
       "       [9.99296069e-01],\n",
       "       [2.33877689e-01],\n",
       "       [1.35985836e-01],\n",
       "       [9.96662676e-01],\n",
       "       [4.71549779e-02],\n",
       "       [3.29775274e-01],\n",
       "       [9.86309528e-01],\n",
       "       [1.17958046e-01],\n",
       "       [4.28679995e-02],\n",
       "       [9.27431941e-01],\n",
       "       [3.47992480e-01],\n",
       "       [3.89993161e-01],\n",
       "       [9.69178498e-01],\n",
       "       [2.25264914e-02],\n",
       "       [5.75942993e-02],\n",
       "       [9.72746965e-03],\n",
       "       [1.71657167e-02],\n",
       "       [1.06599577e-01],\n",
       "       [9.71376598e-01],\n",
       "       [2.21359544e-02],\n",
       "       [4.36758071e-01],\n",
       "       [4.69726980e-01],\n",
       "       [6.39111102e-02],\n",
       "       [2.57979870e-01],\n",
       "       [7.82978982e-02],\n",
       "       [3.72739613e-01],\n",
       "       [9.97852564e-01],\n",
       "       [6.13723695e-01],\n",
       "       [1.27395689e-01],\n",
       "       [1.33373663e-01],\n",
       "       [1.33810341e-01],\n",
       "       [6.47501871e-02],\n",
       "       [6.94468379e-01],\n",
       "       [2.25247331e-02],\n",
       "       [8.88597548e-01],\n",
       "       [7.97887206e-01],\n",
       "       [5.81632674e-01],\n",
       "       [6.47100568e-01],\n",
       "       [7.88458049e-01],\n",
       "       [8.10996816e-02],\n",
       "       [2.67001390e-01],\n",
       "       [4.15800959e-01],\n",
       "       [9.10103798e-01],\n",
       "       [2.71884173e-01],\n",
       "       [2.06298366e-01],\n",
       "       [3.88520628e-01],\n",
       "       [1.57676805e-02],\n",
       "       [1.14785440e-01],\n",
       "       [3.56931955e-01],\n",
       "       [7.83508718e-01],\n",
       "       [1.07846014e-01],\n",
       "       [9.92638946e-01],\n",
       "       [8.93332243e-01],\n",
       "       [7.32077241e-01],\n",
       "       [9.85624552e-01],\n",
       "       [1.27735838e-01],\n",
       "       [6.19670376e-02],\n",
       "       [8.88407648e-01],\n",
       "       [2.00829744e-01],\n",
       "       [1.77007113e-02],\n",
       "       [6.42193854e-02],\n",
       "       [1.39510065e-01],\n",
       "       [1.32520788e-03],\n",
       "       [8.48314762e-01],\n",
       "       [7.77014971e-01],\n",
       "       [8.33463788e-01],\n",
       "       [9.34870481e-01],\n",
       "       [9.98675078e-02],\n",
       "       [1.25380412e-01],\n",
       "       [6.80881560e-01],\n",
       "       [1.42406411e-02],\n",
       "       [2.82850593e-01],\n",
       "       [1.37249723e-01],\n",
       "       [5.70312917e-01],\n",
       "       [5.59567332e-01],\n",
       "       [6.23397790e-02],\n",
       "       [7.07985908e-02],\n",
       "       [4.69174385e-01],\n",
       "       [1.12038605e-01],\n",
       "       [1.07839450e-01],\n",
       "       [1.85361519e-01],\n",
       "       [2.54191399e-01],\n",
       "       [9.98579144e-01],\n",
       "       [9.81358945e-01],\n",
       "       [3.72458011e-01],\n",
       "       [8.40979636e-01],\n",
       "       [9.90885079e-01],\n",
       "       [1.56092190e-03],\n",
       "       [9.66202199e-01],\n",
       "       [2.24363387e-01],\n",
       "       [4.60398853e-01],\n",
       "       [2.30780572e-01],\n",
       "       [1.07690178e-01],\n",
       "       [1.18657164e-01],\n",
       "       [2.18762942e-02],\n",
       "       [9.76661146e-02],\n",
       "       [6.83681294e-02],\n",
       "       [7.29713559e-01],\n",
       "       [2.47073561e-01],\n",
       "       [9.92391884e-01],\n",
       "       [4.14784327e-02],\n",
       "       [7.07733631e-01],\n",
       "       [5.99438548e-01],\n",
       "       [1.93595048e-02],\n",
       "       [6.27485886e-02],\n",
       "       [9.73498225e-01],\n",
       "       [7.20029235e-01],\n",
       "       [9.53562438e-01],\n",
       "       [1.45922959e-01],\n",
       "       [8.89171064e-02],\n",
       "       [4.64606673e-01],\n",
       "       [3.47474307e-01],\n",
       "       [2.74284780e-01],\n",
       "       [9.90885079e-01],\n",
       "       [1.21274507e-02],\n",
       "       [4.00403067e-02],\n",
       "       [1.19489931e-01],\n",
       "       [9.96429145e-01],\n",
       "       [2.12046474e-01],\n",
       "       [6.02654628e-02],\n",
       "       [8.19595337e-01],\n",
       "       [5.74461408e-02],\n",
       "       [3.56579274e-02],\n",
       "       [1.58552051e-01],\n",
       "       [2.03961924e-01],\n",
       "       [1.11434415e-01],\n",
       "       [3.67446214e-01],\n",
       "       [3.80147696e-01],\n",
       "       [1.98512033e-01],\n",
       "       [8.99499506e-02],\n",
       "       [3.50491524e-01],\n",
       "       [1.74959134e-02],\n",
       "       [9.45478022e-01],\n",
       "       [8.38028729e-01],\n",
       "       [4.41882074e-01],\n",
       "       [3.74476984e-02],\n",
       "       [1.90870184e-02],\n",
       "       [9.87150431e-01],\n",
       "       [7.12683320e-01],\n",
       "       [9.99545395e-01],\n",
       "       [2.51569957e-01],\n",
       "       [8.81132066e-01],\n",
       "       [1.01658203e-01],\n",
       "       [5.92463672e-01],\n",
       "       [6.91998363e-01],\n",
       "       [2.07271539e-02],\n",
       "       [9.78581011e-01],\n",
       "       [8.84858742e-02],\n",
       "       [5.52274227e-01],\n",
       "       [9.98233438e-01],\n",
       "       [1.61366880e-01],\n",
       "       [3.99999358e-02],\n",
       "       [2.94356018e-01],\n",
       "       [1.02895694e-02],\n",
       "       [4.62705165e-01],\n",
       "       [9.99840021e-01],\n",
       "       [2.23595187e-01],\n",
       "       [9.41475213e-01],\n",
       "       [2.35762790e-01],\n",
       "       [7.47595906e-01],\n",
       "       [2.15447485e-01],\n",
       "       [2.53637463e-01],\n",
       "       [1.67481806e-02],\n",
       "       [6.34952247e-01],\n",
       "       [1.49698490e-02],\n",
       "       [1.86856359e-01],\n",
       "       [9.48861778e-01],\n",
       "       [9.46015835e-01],\n",
       "       [9.95080471e-01],\n",
       "       [7.53917515e-01],\n",
       "       [4.42617685e-02],\n",
       "       [2.91563153e-01],\n",
       "       [1.09017100e-02],\n",
       "       [4.56810325e-01],\n",
       "       [4.15176660e-01],\n",
       "       [8.71925056e-01],\n",
       "       [3.55969630e-02],\n",
       "       [7.59119451e-01],\n",
       "       [8.21401715e-01],\n",
       "       [2.70921618e-01],\n",
       "       [1.91452518e-01],\n",
       "       [2.06298366e-01],\n",
       "       [2.06123352e-01],\n",
       "       [3.67575169e-01],\n",
       "       [6.69534028e-01],\n",
       "       [9.98737395e-01],\n",
       "       [5.61514758e-02],\n",
       "       [8.02487414e-03],\n",
       "       [1.86264850e-02],\n",
       "       [2.19919145e-01],\n",
       "       [2.18125731e-01],\n",
       "       [2.37802379e-02],\n",
       "       [7.96288967e-01],\n",
       "       [1.15053378e-01],\n",
       "       [2.01259911e-01],\n",
       "       [2.13040397e-01],\n",
       "       [2.07557097e-01],\n",
       "       [9.30606604e-01],\n",
       "       [1.66959152e-01],\n",
       "       [5.34332395e-01],\n",
       "       [3.16523790e-01],\n",
       "       [1.31780384e-02],\n",
       "       [1.26954079e-01],\n",
       "       [9.99707043e-01],\n",
       "       [7.77898610e-01],\n",
       "       [4.54675080e-03],\n",
       "       [3.35407466e-01],\n",
       "       [1.32362545e-01],\n",
       "       [7.63116181e-02],\n",
       "       [8.72350156e-01],\n",
       "       [5.32906473e-01],\n",
       "       [6.29283845e-01],\n",
       "       [3.82687986e-01],\n",
       "       [2.05861554e-01],\n",
       "       [6.66426957e-01],\n",
       "       [1.46144375e-01],\n",
       "       [5.48791252e-02],\n",
       "       [9.19532478e-01],\n",
       "       [1.59866259e-01],\n",
       "       [3.72581542e-01],\n",
       "       [9.79587138e-01],\n",
       "       [3.27453107e-01],\n",
       "       [3.53183240e-01],\n",
       "       [1.32520788e-03],\n",
       "       [2.44822159e-01],\n",
       "       [8.43149304e-01],\n",
       "       [9.99732554e-01],\n",
       "       [6.97278261e-01],\n",
       "       [4.71106470e-02],\n",
       "       [9.88716602e-01],\n",
       "       [4.24421608e-01],\n",
       "       [8.66416097e-01],\n",
       "       [4.24421608e-01],\n",
       "       [9.92073894e-01],\n",
       "       [1.23009318e-02],\n",
       "       [4.34048533e-01],\n",
       "       [8.95712078e-02],\n",
       "       [9.76997495e-01],\n",
       "       [2.38957092e-01],\n",
       "       [4.87582982e-01],\n",
       "       [6.66260719e-02],\n",
       "       [3.36293906e-01],\n",
       "       [1.10687897e-01],\n",
       "       [2.04058327e-02],\n",
       "       [2.31792718e-01],\n",
       "       [5.20317815e-02],\n",
       "       [8.61791894e-02],\n",
       "       [8.49435866e-01],\n",
       "       [2.24204771e-02],\n",
       "       [9.44046900e-02],\n",
       "       [3.87509353e-02],\n",
       "       [1.61500778e-02],\n",
       "       [1.21091910e-01],\n",
       "       [6.33756995e-01],\n",
       "       [7.16713071e-02],\n",
       "       [6.44841135e-01],\n",
       "       [1.24293014e-01],\n",
       "       [2.35411838e-01],\n",
       "       [8.67907763e-01],\n",
       "       [1.80516884e-01],\n",
       "       [5.59585467e-02],\n",
       "       [6.04920089e-02],\n",
       "       [6.34840736e-03],\n",
       "       [9.86196578e-01],\n",
       "       [1.61500778e-02],\n",
       "       [3.48776460e-01],\n",
       "       [9.93038237e-01],\n",
       "       [9.93388176e-01],\n",
       "       [9.97393131e-01],\n",
       "       [9.99898076e-01],\n",
       "       [9.99470294e-01],\n",
       "       [2.17260122e-01],\n",
       "       [6.00842685e-02],\n",
       "       [2.29001269e-01],\n",
       "       [5.33318758e-01],\n",
       "       [9.96457517e-01],\n",
       "       [5.13829052e-01],\n",
       "       [2.74630278e-01],\n",
       "       [5.25126159e-01],\n",
       "       [7.09380686e-01],\n",
       "       [2.94990391e-02],\n",
       "       [4.21161857e-03],\n",
       "       [9.54004973e-02],\n",
       "       [3.78608912e-01],\n",
       "       [9.65073612e-03],\n",
       "       [5.98454475e-02],\n",
       "       [4.06216890e-01],\n",
       "       [9.88553286e-01],\n",
       "       [2.55759209e-02],\n",
       "       [9.01393533e-01],\n",
       "       [7.25198150e-01],\n",
       "       [6.94805980e-02],\n",
       "       [2.70310760e-01],\n",
       "       [1.34052917e-01],\n",
       "       [7.23095655e-01],\n",
       "       [4.57760513e-01],\n",
       "       [1.10312440e-02]], dtype=float32)"
      ]
     },
     "execution_count": 72,
     "metadata": {},
     "output_type": "execute_result"
    }
   ],
   "source": [
    "model_3_pred_probs=model_3.predict(val_sentences)\n",
    "model_1_pred_probs"
   ]
  },
  {
   "cell_type": "code",
   "execution_count": 89,
   "metadata": {},
   "outputs": [],
   "source": [
    "model_3_preds = tf.squeeze(tf.round(model_1_pred_probs))"
   ]
  },
  {
   "cell_type": "code",
   "execution_count": 90,
   "metadata": {},
   "outputs": [
    {
     "data": {
      "text/plain": [
       "<tf.Tensor: shape=(762,), dtype=float32, numpy=\n",
       "array([0., 1., 1., 0., 0., 1., 1., 1., 1., 0., 0., 1., 0., 0., 0., 0., 0.,\n",
       "       0., 0., 1., 1., 0., 0., 0., 1., 1., 0., 0., 0., 0., 1., 0., 1., 0.,\n",
       "       1., 0., 1., 0., 0., 1., 0., 0., 0., 0., 1., 1., 0., 1., 0., 1., 0.,\n",
       "       1., 0., 0., 0., 0., 0., 1., 0., 0., 0., 1., 1., 0., 1., 1., 1., 0.,\n",
       "       0., 0., 0., 0., 1., 0., 0., 0., 0., 1., 0., 1., 0., 0., 1., 0., 0.,\n",
       "       0., 0., 0., 1., 1., 1., 0., 1., 0., 1., 1., 1., 1., 1., 1., 1., 0.,\n",
       "       0., 1., 1., 0., 1., 1., 0., 0., 1., 0., 0., 0., 0., 0., 1., 1., 1.,\n",
       "       0., 1., 0., 0., 1., 0., 0., 1., 0., 0., 1., 0., 1., 1., 1., 1., 0.,\n",
       "       1., 0., 0., 0., 1., 0., 0., 1., 0., 1., 0., 0., 0., 1., 0., 0., 0.,\n",
       "       0., 0., 1., 1., 0., 1., 0., 1., 0., 0., 1., 0., 0., 1., 0., 1., 0.,\n",
       "       1., 1., 1., 0., 1., 0., 0., 0., 1., 1., 0., 1., 1., 1., 1., 0., 0.,\n",
       "       1., 0., 0., 0., 1., 0., 0., 0., 0., 0., 0., 1., 0., 0., 1., 1., 0.,\n",
       "       0., 1., 1., 1., 1., 1., 0., 1., 0., 0., 0., 0., 1., 1., 1., 0., 1.,\n",
       "       0., 0., 0., 1., 0., 1., 1., 1., 1., 0., 0., 1., 0., 0., 0., 1., 0.,\n",
       "       0., 0., 0., 0., 1., 1., 0., 0., 1., 0., 0., 0., 0., 1., 0., 0., 1.,\n",
       "       0., 1., 1., 0., 0., 0., 0., 0., 1., 1., 1., 1., 0., 0., 0., 0., 0.,\n",
       "       1., 0., 0., 1., 0., 0., 1., 0., 0., 0., 1., 1., 1., 1., 1., 0., 1.,\n",
       "       0., 1., 0., 0., 0., 0., 1., 0., 1., 0., 1., 0., 0., 0., 1., 0., 0.,\n",
       "       0., 0., 0., 0., 0., 1., 0., 0., 1., 0., 1., 0., 0., 0., 0., 0., 1.,\n",
       "       0., 1., 0., 0., 1., 0., 1., 0., 0., 1., 0., 0., 1., 0., 0., 1., 1.,\n",
       "       0., 0., 1., 1., 1., 0., 1., 0., 0., 0., 0., 1., 0., 0., 0., 0., 1.,\n",
       "       1., 1., 0., 0., 0., 0., 1., 0., 0., 0., 0., 1., 0., 0., 0., 0., 0.,\n",
       "       0., 0., 0., 0., 0., 1., 1., 0., 1., 0., 0., 1., 1., 0., 1., 0., 1.,\n",
       "       0., 0., 1., 0., 1., 0., 0., 0., 0., 1., 0., 1., 1., 0., 1., 0., 0.,\n",
       "       0., 1., 1., 0., 0., 0., 1., 1., 0., 0., 1., 0., 1., 1., 1., 1., 0.,\n",
       "       0., 0., 1., 1., 0., 0., 0., 0., 0., 0., 0., 0., 0., 1., 1., 0., 1.,\n",
       "       0., 0., 0., 1., 0., 0., 0., 0., 0., 1., 1., 1., 1., 1., 0., 0., 1.,\n",
       "       1., 1., 0., 0., 0., 1., 1., 0., 0., 1., 0., 0., 1., 0., 0., 1., 0.,\n",
       "       0., 1., 0., 0., 0., 0., 0., 1., 0., 0., 0., 0., 0., 0., 0., 1., 1.,\n",
       "       0., 0., 0., 0., 1., 0., 1., 1., 1., 1., 1., 0., 0., 0., 1., 0., 0.,\n",
       "       0., 0., 0., 0., 1., 0., 1., 1., 1., 1., 0., 0., 1., 0., 0., 0., 0.,\n",
       "       0., 1., 1., 1., 1., 0., 0., 1., 0., 0., 0., 1., 1., 0., 0., 0., 0.,\n",
       "       0., 0., 0., 1., 1., 0., 1., 1., 0., 1., 0., 0., 0., 0., 0., 0., 0.,\n",
       "       0., 1., 0., 1., 0., 1., 1., 0., 0., 1., 1., 1., 0., 0., 0., 0., 0.,\n",
       "       1., 0., 0., 0., 1., 0., 0., 1., 0., 0., 0., 0., 0., 0., 0., 0., 0.,\n",
       "       0., 0., 1., 1., 0., 0., 0., 1., 1., 1., 0., 1., 0., 1., 1., 0., 1.,\n",
       "       0., 1., 1., 0., 0., 0., 0., 0., 1., 0., 1., 0., 1., 0., 0., 0., 1.,\n",
       "       0., 0., 1., 1., 1., 1., 0., 0., 0., 0., 0., 1., 0., 1., 1., 0., 0.,\n",
       "       0., 0., 0., 1., 1., 0., 0., 0., 0., 0., 0., 1., 0., 0., 0., 0., 1.,\n",
       "       0., 1., 0., 0., 0., 1., 1., 0., 0., 0., 0., 1., 1., 1., 0., 0., 1.,\n",
       "       0., 0., 1., 0., 0., 1., 0., 0., 0., 0., 1., 1., 1., 0., 1., 0., 1.,\n",
       "       0., 1., 0., 0., 0., 1., 0., 0., 0., 0., 0., 0., 0., 0., 0., 1., 0.,\n",
       "       0., 0., 0., 0., 1., 0., 1., 0., 0., 1., 0., 0., 0., 0., 1., 0., 0.,\n",
       "       1., 1., 1., 1., 1., 0., 0., 0., 1., 1., 1., 0., 1., 1., 0., 0., 0.,\n",
       "       0., 0., 0., 0., 1., 0., 1., 1., 0., 0., 0., 1., 0., 0.],\n",
       "      dtype=float32)>"
      ]
     },
     "execution_count": 90,
     "metadata": {},
     "output_type": "execute_result"
    }
   ],
   "source": [
    "model_3_preds"
   ]
  },
  {
   "cell_type": "code",
   "execution_count": 91,
   "metadata": {},
   "outputs": [],
   "source": [
    "model_3_results=calculate_results(val_labels,model_3_preds)"
   ]
  },
  {
   "cell_type": "code",
   "execution_count": 92,
   "metadata": {},
   "outputs": [
    {
     "data": {
      "text/plain": [
       "{'accuracy': 78.60892388451444,\n",
       " 'precision': 0.7903277546022673,\n",
       " 'recall': 0.7860892388451444,\n",
       " 'f1': 0.7832971347503846}"
      ]
     },
     "execution_count": 92,
     "metadata": {},
     "output_type": "execute_result"
    }
   ],
   "source": [
    "model_3_results"
   ]
  },
  {
   "cell_type": "code",
   "execution_count": 81,
   "metadata": {},
   "outputs": [],
   "source": [
    "inputs = layers.Input(shape=(1,),dtype=tf.string)\n",
    "x=text_vectorizer(inputs)\n",
    "x=embeddings(x)\n",
    "# x=layers.Bidirectional(layers.LSTM(64,return_sequences=True))(x)\n",
    "x=layers.Bidirectional(layers.LSTM(64))(x)\n",
    "# x=layers.Dense(64,activation=\"relu\")(x)\n",
    "outputs = layers.Dense(1,activation=\"sigmoid\")(x)\n",
    "model_4=tf.keras.Model(inputs,outputs,name=\"model_4_bidirectional\")"
   ]
  },
  {
   "cell_type": "code",
   "execution_count": 82,
   "metadata": {},
   "outputs": [
    {
     "name": "stdout",
     "output_type": "stream",
     "text": [
      "Model: \"model_4_bidirectional\"\n",
      "_________________________________________________________________\n",
      " Layer (type)                Output Shape              Param #   \n",
      "=================================================================\n",
      " input_7 (InputLayer)        [(None, 1)]               0         \n",
      "                                                                 \n",
      " text_vectorization (TextVec  (None, 15)               0         \n",
      " torization)                                                     \n",
      "                                                                 \n",
      " embedding_1 (Embedding)     (None, 15, 128)           1280000   \n",
      "                                                                 \n",
      " bidirectional_2 (Bidirectio  (None, 128)              98816     \n",
      " nal)                                                            \n",
      "                                                                 \n",
      " dense_5 (Dense)             (None, 1)                 129       \n",
      "                                                                 \n",
      "=================================================================\n",
      "Total params: 1,378,945\n",
      "Trainable params: 1,378,945\n",
      "Non-trainable params: 0\n",
      "_________________________________________________________________\n"
     ]
    }
   ],
   "source": [
    "model_4.summary()"
   ]
  },
  {
   "cell_type": "code",
   "execution_count": 83,
   "metadata": {},
   "outputs": [],
   "source": [
    "model_4.compile(loss='binary_crossentropy',\n",
    "                optimizer=tf.keras.optimizers.Adam(),\n",
    "                metrics=['accuracy'])"
   ]
  },
  {
   "cell_type": "code",
   "execution_count": 84,
   "metadata": {},
   "outputs": [
    {
     "name": "stdout",
     "output_type": "stream",
     "text": [
      "Saving TensorBoard log files to: model_logs/model_3_gru/20240912-000912\n",
      "Epoch 1/5\n",
      "215/215 [==============================] - 9s 19ms/step - loss: 0.1146 - accuracy: 0.9685 - val_loss: 0.9431 - val_accuracy: 0.7717\n",
      "Epoch 2/5\n",
      "215/215 [==============================] - 3s 13ms/step - loss: 0.0543 - accuracy: 0.9758 - val_loss: 1.1775 - val_accuracy: 0.7835\n",
      "Epoch 3/5\n",
      "215/215 [==============================] - 3s 13ms/step - loss: 0.0467 - accuracy: 0.9784 - val_loss: 1.3116 - val_accuracy: 0.7664\n",
      "Epoch 4/5\n",
      "215/215 [==============================] - 3s 12ms/step - loss: 0.0421 - accuracy: 0.9788 - val_loss: 1.3369 - val_accuracy: 0.7703\n",
      "Epoch 5/5\n",
      "215/215 [==============================] - 3s 12ms/step - loss: 0.0418 - accuracy: 0.9801 - val_loss: 1.3705 - val_accuracy: 0.7677\n"
     ]
    }
   ],
   "source": [
    "model_4_history = model_4.fit(train_sentences,train_labels,epochs=5,validation_data=(val_sentences,val_labels),callbacks=[create_tensorboard_callback(SAVE_DIR,\"model_3_gru\")])"
   ]
  },
  {
   "cell_type": "code",
   "execution_count": 85,
   "metadata": {},
   "outputs": [
    {
     "name": "stdout",
     "output_type": "stream",
     "text": [
      "24/24 [==============================] - 1s 5ms/step\n"
     ]
    }
   ],
   "source": [
    "model_4_pred_probs=model_4.predict(val_sentences)"
   ]
  },
  {
   "cell_type": "code",
   "execution_count": 86,
   "metadata": {},
   "outputs": [],
   "source": [
    "model_4_preds=tf.squeeze(tf.round(model_4_pred_probs))"
   ]
  },
  {
   "cell_type": "code",
   "execution_count": 87,
   "metadata": {},
   "outputs": [
    {
     "data": {
      "text/plain": [
       "<tf.Tensor: shape=(762,), dtype=float32, numpy=\n",
       "array([0., 1., 1., 0., 0., 1., 1., 1., 1., 1., 0., 1., 0., 0., 0., 0., 0.,\n",
       "       0., 0., 1., 1., 0., 1., 0., 1., 1., 0., 0., 0., 0., 1., 0., 0., 0.,\n",
       "       0., 0., 1., 0., 0., 1., 1., 0., 0., 0., 1., 1., 1., 1., 0., 0., 0.,\n",
       "       0., 0., 0., 0., 0., 0., 1., 0., 0., 0., 1., 1., 0., 1., 1., 1., 0.,\n",
       "       1., 0., 0., 0., 1., 0., 1., 1., 0., 1., 1., 0., 0., 0., 1., 0., 0.,\n",
       "       0., 0., 0., 0., 1., 1., 0., 1., 0., 1., 1., 1., 1., 1., 1., 1., 0.,\n",
       "       0., 1., 1., 0., 1., 1., 0., 1., 1., 0., 1., 0., 0., 0., 1., 1., 0.,\n",
       "       0., 1., 0., 0., 1., 0., 0., 1., 0., 0., 1., 0., 1., 1., 1., 1., 0.,\n",
       "       1., 1., 0., 0., 1., 1., 0., 1., 0., 0., 0., 0., 0., 1., 0., 0., 0.,\n",
       "       0., 0., 1., 1., 0., 1., 0., 1., 0., 1., 1., 0., 0., 1., 0., 1., 1.,\n",
       "       1., 1., 1., 0., 1., 0., 0., 0., 1., 1., 0., 1., 1., 1., 1., 0., 0.,\n",
       "       1., 0., 0., 0., 1., 0., 0., 0., 0., 0., 0., 1., 0., 0., 1., 1., 0.,\n",
       "       0., 1., 1., 1., 1., 1., 1., 1., 0., 0., 0., 0., 1., 1., 1., 0., 0.,\n",
       "       0., 0., 0., 1., 1., 0., 1., 1., 1., 0., 0., 1., 0., 0., 0., 1., 0.,\n",
       "       0., 0., 1., 0., 1., 1., 0., 0., 1., 0., 0., 1., 0., 1., 0., 0., 1.,\n",
       "       0., 1., 1., 0., 0., 0., 0., 0., 1., 1., 1., 1., 0., 0., 0., 0., 0.,\n",
       "       1., 0., 0., 1., 0., 0., 1., 0., 0., 0., 1., 1., 1., 1., 1., 0., 1.,\n",
       "       0., 1., 1., 1., 0., 0., 0., 0., 0., 0., 0., 0., 0., 0., 1., 0., 0.,\n",
       "       0., 0., 0., 0., 0., 1., 0., 0., 1., 0., 1., 0., 0., 0., 0., 0., 1.,\n",
       "       0., 1., 0., 0., 1., 0., 1., 0., 0., 1., 0., 0., 1., 0., 0., 1., 1.,\n",
       "       0., 0., 1., 1., 1., 0., 1., 1., 0., 0., 0., 0., 0., 1., 1., 0., 1.,\n",
       "       1., 1., 0., 0., 0., 0., 1., 0., 0., 0., 0., 1., 0., 0., 0., 0., 0.,\n",
       "       1., 0., 0., 0., 0., 1., 1., 1., 1., 0., 1., 1., 1., 0., 1., 0., 1.,\n",
       "       0., 0., 1., 0., 1., 0., 0., 0., 0., 1., 0., 0., 1., 0., 1., 0., 0.,\n",
       "       0., 1., 1., 0., 0., 1., 1., 1., 0., 0., 1., 0., 1., 1., 1., 1., 0.,\n",
       "       1., 0., 1., 1., 1., 0., 0., 0., 0., 0., 0., 1., 0., 1., 1., 0., 1.,\n",
       "       0., 0., 0., 1., 0., 0., 0., 1., 0., 1., 1., 1., 1., 1., 0., 0., 1.,\n",
       "       1., 1., 0., 0., 0., 1., 1., 0., 0., 1., 0., 0., 1., 0., 0., 1., 0.,\n",
       "       1., 1., 0., 0., 0., 0., 0., 1., 0., 1., 1., 0., 0., 0., 0., 1., 1.,\n",
       "       0., 0., 0., 0., 1., 0., 1., 1., 1., 1., 1., 1., 0., 0., 1., 1., 0.,\n",
       "       0., 0., 0., 0., 0., 0., 1., 1., 1., 1., 0., 0., 1., 0., 0., 0., 1.,\n",
       "       0., 1., 1., 1., 1., 0., 0., 1., 0., 0., 0., 1., 1., 0., 0., 1., 0.,\n",
       "       0., 0., 0., 1., 1., 0., 1., 1., 0., 1., 0., 1., 0., 0., 0., 0., 0.,\n",
       "       0., 1., 0., 1., 0., 1., 1., 0., 0., 1., 0., 1., 0., 0., 1., 0., 0.,\n",
       "       1., 0., 0., 0., 1., 0., 0., 1., 0., 0., 0., 0., 0., 0., 1., 0., 0.,\n",
       "       1., 0., 1., 1., 0., 0., 0., 1., 1., 1., 0., 1., 0., 1., 1., 0., 1.,\n",
       "       0., 1., 1., 0., 0., 1., 0., 1., 1., 0., 1., 0., 1., 1., 0., 0., 1.,\n",
       "       0., 0., 1., 1., 1., 1., 0., 1., 0., 1., 1., 1., 0., 1., 1., 0., 0.,\n",
       "       0., 0., 1., 1., 1., 0., 0., 0., 0., 1., 0., 1., 0., 0., 0., 0., 1.,\n",
       "       0., 1., 0., 0., 0., 1., 1., 0., 1., 1., 0., 1., 0., 1., 1., 0., 0.,\n",
       "       0., 0., 1., 0., 1., 1., 0., 0., 0., 0., 0., 1., 0., 0., 1., 0., 1.,\n",
       "       0., 1., 0., 0., 0., 1., 0., 0., 0., 0., 0., 0., 0., 0., 0., 1., 0.,\n",
       "       0., 0., 0., 0., 1., 0., 0., 0., 1., 1., 0., 0., 0., 0., 1., 0., 0.,\n",
       "       1., 1., 1., 1., 1., 0., 0., 0., 1., 1., 1., 0., 1., 1., 0., 0., 0.,\n",
       "       0., 0., 0., 1., 1., 0., 1., 1., 0., 0., 0., 1., 0., 0.],\n",
       "      dtype=float32)>"
      ]
     },
     "execution_count": 87,
     "metadata": {},
     "output_type": "execute_result"
    }
   ],
   "source": [
    "model_4_preds"
   ]
  },
  {
   "cell_type": "code",
   "execution_count": 93,
   "metadata": {},
   "outputs": [],
   "source": [
    "model_4_results=calculate_results(val_labels,model_4_preds)"
   ]
  },
  {
   "cell_type": "code",
   "execution_count": 94,
   "metadata": {},
   "outputs": [
    {
     "data": {
      "text/plain": [
       "{'accuracy': 76.77165354330708,\n",
       " 'precision': 0.7675450859410361,\n",
       " 'recall': 0.7677165354330708,\n",
       " 'f1': 0.7667932666650168}"
      ]
     },
     "execution_count": 94,
     "metadata": {},
     "output_type": "execute_result"
    }
   ],
   "source": [
    "model_4_results"
   ]
  },
  {
   "cell_type": "code",
   "execution_count": 97,
   "metadata": {},
   "outputs": [
    {
     "data": {
      "text/plain": [
       "(TensorShape([1, 15, 128]), TensorShape([1, 12, 32]), TensorShape([1, 32]))"
      ]
     },
     "execution_count": 97,
     "metadata": {},
     "output_type": "execute_result"
    }
   ],
   "source": [
    "embedding_test=embeddings(text_vectorizer([\"This is a demo text \"]))\n",
    "conv_1d=layers.Conv1D(\n",
    "    filters=32,\n",
    "    kernel_size=4,\n",
    "    activation=\"relu\",\n",
    "    padding=\"valid\"\n",
    ")\n",
    "conv_1d_output = conv_1d(embedding_test)\n",
    "max_pool = layers.GlobalMaxPooling1D()\n",
    "max_pool_output = max_pool(conv_1d_output)\n",
    "\n",
    "embedding_test.shape , conv_1d_output.shape,max_pool_output.shape"
   ]
  },
  {
   "cell_type": "code",
   "execution_count": 98,
   "metadata": {},
   "outputs": [
    {
     "data": {
      "text/plain": [
       "<tf.Tensor: shape=(1, 15, 128), dtype=float32, numpy=\n",
       "array([[[-0.00974727,  0.0704824 ,  0.04858844, ..., -0.07390584,\n",
       "          0.00191417,  0.01954197],\n",
       "        [ 0.02099935,  0.01786441,  0.00832643, ..., -0.00743995,\n",
       "          0.04569955,  0.01522546],\n",
       "        [-0.02758015,  0.07832696, -0.00952926, ..., -0.01533029,\n",
       "          0.05373053, -0.02491544],\n",
       "        ...,\n",
       "        [ 0.01894247,  0.01172048,  0.02119346, ..., -0.00971636,\n",
       "          0.0254826 ,  0.03159623],\n",
       "        [ 0.01894247,  0.01172048,  0.02119346, ..., -0.00971636,\n",
       "          0.0254826 ,  0.03159623],\n",
       "        [ 0.01894247,  0.01172048,  0.02119346, ..., -0.00971636,\n",
       "          0.0254826 ,  0.03159623]]], dtype=float32)>"
      ]
     },
     "execution_count": 98,
     "metadata": {},
     "output_type": "execute_result"
    }
   ],
   "source": [
    "embedding_test"
   ]
  },
  {
   "cell_type": "code",
   "execution_count": 99,
   "metadata": {},
   "outputs": [
    {
     "data": {
      "text/plain": [
       "<tf.Tensor: shape=(1, 12, 32), dtype=float32, numpy=\n",
       "array([[[0.        , 0.        , 0.02724525, 0.0423285 , 0.05742417,\n",
       "         0.0174136 , 0.01026981, 0.00342176, 0.        , 0.00638254,\n",
       "         0.        , 0.06769368, 0.08513728, 0.        , 0.        ,\n",
       "         0.04336627, 0.        , 0.0519232 , 0.        , 0.0313793 ,\n",
       "         0.00116136, 0.01897326, 0.03719107, 0.        , 0.0018488 ,\n",
       "         0.        , 0.01484968, 0.        , 0.        , 0.01007323,\n",
       "         0.02106364, 0.        ],\n",
       "        [0.27845946, 0.18563843, 0.33847827, 0.30999577, 0.        ,\n",
       "         0.06571174, 0.        , 0.        , 0.        , 0.        ,\n",
       "         0.        , 0.        , 0.        , 0.        , 0.        ,\n",
       "         0.        , 0.        , 0.13089968, 0.1822504 , 0.16441081,\n",
       "         0.04530699, 0.        , 0.        , 0.        , 0.11117437,\n",
       "         0.        , 0.        , 0.        , 0.40344852, 0.3018574 ,\n",
       "         0.01187279, 0.35401466],\n",
       "        [0.        , 0.15626651, 0.16895331, 0.        , 0.        ,\n",
       "         0.        , 0.08593685, 0.        , 0.        , 0.01750772,\n",
       "         0.        , 0.        , 0.22371545, 0.        , 0.18301141,\n",
       "         0.38762388, 0.        , 0.        , 0.13266622, 0.0214172 ,\n",
       "         0.39113367, 0.22153696, 0.        , 0.        , 0.        ,\n",
       "         0.        , 0.01470676, 0.        , 0.        , 0.        ,\n",
       "         0.        , 0.04175753],\n",
       "        [0.        , 0.        , 0.        , 0.        , 0.33908743,\n",
       "         0.47123134, 0.        , 0.        , 0.0611601 , 0.        ,\n",
       "         0.        , 0.13926122, 0.12153667, 0.18924354, 0.        ,\n",
       "         0.30256906, 0.        , 0.        , 0.        , 0.38402617,\n",
       "         0.36788893, 0.        , 0.        , 0.14677565, 0.        ,\n",
       "         0.        , 0.24159336, 0.        , 0.22780758, 0.        ,\n",
       "         0.        , 0.05681363],\n",
       "        [0.        , 0.2038633 , 0.        , 0.        , 0.        ,\n",
       "         0.        , 0.        , 0.        , 0.08394048, 0.11331453,\n",
       "         0.11493582, 0.        , 0.17584382, 0.        , 0.        ,\n",
       "         0.28378636, 0.        , 0.02460082, 0.        , 0.        ,\n",
       "         0.        , 0.        , 0.34415805, 0.        , 0.10171703,\n",
       "         0.        , 0.        , 0.        , 0.01527378, 0.05616643,\n",
       "         0.13470973, 0.24672191],\n",
       "        [0.01230293, 0.00457253, 0.02482316, 0.00670856, 0.01319191,\n",
       "         0.03507903, 0.02365261, 0.        , 0.        , 0.        ,\n",
       "         0.        , 0.01454566, 0.00934977, 0.01252393, 0.        ,\n",
       "         0.        , 0.        , 0.01543763, 0.        , 0.04376397,\n",
       "         0.06077713, 0.01072926, 0.        , 0.        , 0.02223955,\n",
       "         0.        , 0.01219682, 0.        , 0.03531077, 0.04429837,\n",
       "         0.        , 0.01394845],\n",
       "        [0.01230293, 0.00457253, 0.02482316, 0.00670856, 0.01319191,\n",
       "         0.03507903, 0.02365261, 0.        , 0.        , 0.        ,\n",
       "         0.        , 0.01454566, 0.00934977, 0.01252393, 0.        ,\n",
       "         0.        , 0.        , 0.01543763, 0.        , 0.04376397,\n",
       "         0.06077713, 0.01072926, 0.        , 0.        , 0.02223955,\n",
       "         0.        , 0.01219682, 0.        , 0.03531077, 0.04429837,\n",
       "         0.        , 0.01394845],\n",
       "        [0.01230293, 0.00457253, 0.02482316, 0.00670856, 0.01319191,\n",
       "         0.03507903, 0.02365261, 0.        , 0.        , 0.        ,\n",
       "         0.        , 0.01454566, 0.00934977, 0.01252393, 0.        ,\n",
       "         0.        , 0.        , 0.01543763, 0.        , 0.04376397,\n",
       "         0.06077713, 0.01072926, 0.        , 0.        , 0.02223955,\n",
       "         0.        , 0.01219682, 0.        , 0.03531077, 0.04429837,\n",
       "         0.        , 0.01394845],\n",
       "        [0.01230293, 0.00457253, 0.02482316, 0.00670856, 0.01319191,\n",
       "         0.03507903, 0.02365261, 0.        , 0.        , 0.        ,\n",
       "         0.        , 0.01454566, 0.00934977, 0.01252393, 0.        ,\n",
       "         0.        , 0.        , 0.01543763, 0.        , 0.04376397,\n",
       "         0.06077713, 0.01072926, 0.        , 0.        , 0.02223955,\n",
       "         0.        , 0.01219682, 0.        , 0.03531077, 0.04429837,\n",
       "         0.        , 0.01394845],\n",
       "        [0.01230293, 0.00457253, 0.02482316, 0.00670856, 0.01319191,\n",
       "         0.03507903, 0.02365261, 0.        , 0.        , 0.        ,\n",
       "         0.        , 0.01454566, 0.00934977, 0.01252393, 0.        ,\n",
       "         0.        , 0.        , 0.01543763, 0.        , 0.04376397,\n",
       "         0.06077713, 0.01072926, 0.        , 0.        , 0.02223955,\n",
       "         0.        , 0.01219682, 0.        , 0.03531077, 0.04429837,\n",
       "         0.        , 0.01394845],\n",
       "        [0.01230293, 0.00457253, 0.02482316, 0.00670856, 0.01319191,\n",
       "         0.03507903, 0.02365261, 0.        , 0.        , 0.        ,\n",
       "         0.        , 0.01454566, 0.00934977, 0.01252393, 0.        ,\n",
       "         0.        , 0.        , 0.01543763, 0.        , 0.04376397,\n",
       "         0.06077713, 0.01072926, 0.        , 0.        , 0.02223955,\n",
       "         0.        , 0.01219682, 0.        , 0.03531077, 0.04429837,\n",
       "         0.        , 0.01394845],\n",
       "        [0.01230293, 0.00457253, 0.02482316, 0.00670856, 0.01319191,\n",
       "         0.03507903, 0.02365261, 0.        , 0.        , 0.        ,\n",
       "         0.        , 0.01454566, 0.00934977, 0.01252393, 0.        ,\n",
       "         0.        , 0.        , 0.01543763, 0.        , 0.04376397,\n",
       "         0.06077713, 0.01072926, 0.        , 0.        , 0.02223955,\n",
       "         0.        , 0.01219682, 0.        , 0.03531077, 0.04429837,\n",
       "         0.        , 0.01394845]]], dtype=float32)>"
      ]
     },
     "execution_count": 99,
     "metadata": {},
     "output_type": "execute_result"
    }
   ],
   "source": [
    "conv_1d_output"
   ]
  },
  {
   "cell_type": "code",
   "execution_count": 103,
   "metadata": {},
   "outputs": [],
   "source": [
    "inputs = layers.Input(shape=(1,),dtype=tf.string)\n",
    "x=text_vectorizer(inputs)\n",
    "x=embeddings(x)\n",
    "x=layers.Conv1D(filters=32,\n",
    "                kernel_size=5,\n",
    "                strides=1,\n",
    "                activation=\"relu\",\n",
    "                padding=\"valid\")(x)\n",
    "x=layers.GlobalMaxPool1D()(x)\n",
    "outputs = layers.Dense(1,activation=\"sigmoid\")(x)\n",
    "model_5=tf.keras.Model(inputs,outputs,name=\"model_5_Conv1D\")"
   ]
  },
  {
   "cell_type": "code",
   "execution_count": 104,
   "metadata": {},
   "outputs": [],
   "source": [
    "model_5.compile(loss='binary_crossentropy',\n",
    "                optimizer=tf.keras.optimizers.Adam(),\n",
    "                metrics=['accuracy'])"
   ]
  },
  {
   "cell_type": "code",
   "execution_count": 105,
   "metadata": {},
   "outputs": [
    {
     "name": "stdout",
     "output_type": "stream",
     "text": [
      "Saving TensorBoard log files to: model_logs/model_3_gru/20240912-003256\n",
      "Epoch 1/5\n",
      "215/215 [==============================] - 4s 12ms/step - loss: 0.0407 - accuracy: 0.9809 - val_loss: 1.4318 - val_accuracy: 0.7677\n",
      "Epoch 2/5\n",
      "215/215 [==============================] - 3s 12ms/step - loss: 0.0340 - accuracy: 0.9812 - val_loss: 1.5700 - val_accuracy: 0.7743\n",
      "Epoch 3/5\n",
      "215/215 [==============================] - 2s 11ms/step - loss: 0.0336 - accuracy: 0.9823 - val_loss: 1.7908 - val_accuracy: 0.7625\n",
      "Epoch 4/5\n",
      "215/215 [==============================] - 3s 13ms/step - loss: 0.0379 - accuracy: 0.9806 - val_loss: 1.3345 - val_accuracy: 0.7703\n",
      "Epoch 5/5\n",
      "215/215 [==============================] - 2s 11ms/step - loss: 0.0326 - accuracy: 0.9831 - val_loss: 1.7164 - val_accuracy: 0.7717\n"
     ]
    }
   ],
   "source": [
    "model_5_history = model_4.fit(train_sentences,train_labels,epochs=5,validation_data=(val_sentences,val_labels),callbacks=[create_tensorboard_callback(SAVE_DIR,\"model_3_gru\")])\n"
   ]
  },
  {
   "cell_type": "code",
   "execution_count": 107,
   "metadata": {},
   "outputs": [
    {
     "name": "stdout",
     "output_type": "stream",
     "text": [
      "24/24 [==============================] - 0s 3ms/step\n"
     ]
    }
   ],
   "source": [
    "model_5_pred_probs = model_5.predict(val_sentences)"
   ]
  },
  {
   "cell_type": "code",
   "execution_count": 108,
   "metadata": {},
   "outputs": [],
   "source": [
    "model_5_preds=tf.squeeze(tf.round(model_5_pred_probs))"
   ]
  },
  {
   "cell_type": "code",
   "execution_count": 109,
   "metadata": {},
   "outputs": [],
   "source": [
    "model_5_results = calculate_results(val_labels,model_5_preds)"
   ]
  },
  {
   "cell_type": "code",
   "execution_count": 112,
   "metadata": {},
   "outputs": [
    {
     "data": {
      "text/plain": [
       "{'accuracy': 55.90551181102362,\n",
       " 'precision': 0.5547271951753044,\n",
       " 'recall': 0.5590551181102362,\n",
       " 'f1': 0.5542809125143942}"
      ]
     },
     "execution_count": 112,
     "metadata": {},
     "output_type": "execute_result"
    }
   ],
   "source": [
    "model_5_results"
   ]
  },
  {
   "cell_type": "code",
   "execution_count": null,
   "metadata": {},
   "outputs": [],
   "source": []
  }
 ],
 "metadata": {
  "kernelspec": {
   "display_name": "Python 3 (ipykernel)",
   "language": "python",
   "name": "python3"
  },
  "language_info": {
   "codemirror_mode": {
    "name": "ipython",
    "version": 3
   },
   "file_extension": ".py",
   "mimetype": "text/x-python",
   "name": "python",
   "nbconvert_exporter": "python",
   "pygments_lexer": "ipython3",
   "version": "3.10.14"
  }
 },
 "nbformat": 4,
 "nbformat_minor": 2
}
