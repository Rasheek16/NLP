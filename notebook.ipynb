{
 "cells": [
  {
   "cell_type": "code",
   "execution_count": 7,
   "metadata": {},
   "outputs": [
    {
     "name": "stdout",
     "output_type": "stream",
     "text": [
      "Wed Sep 11 12:32:17 2024       \n",
      "+---------------------------------------------------------------------------------------+\n",
      "| NVIDIA-SMI 535.183.01             Driver Version: 535.183.01   CUDA Version: 12.2     |\n",
      "|-----------------------------------------+----------------------+----------------------+\n",
      "| GPU  Name                 Persistence-M | Bus-Id        Disp.A | Volatile Uncorr. ECC |\n",
      "| Fan  Temp   Perf          Pwr:Usage/Cap |         Memory-Usage | GPU-Util  Compute M. |\n",
      "|                                         |                      |               MIG M. |\n",
      "|=========================================+======================+======================|\n",
      "|   0  NVIDIA GeForce GTX 1660 ...    Off | 00000000:01:00.0 Off |                  N/A |\n",
      "| N/A   56C    P8               6W /  60W |      6MiB /  6144MiB |      0%      Default |\n",
      "|                                         |                      |                  N/A |\n",
      "+-----------------------------------------+----------------------+----------------------+\n",
      "                                                                                         \n",
      "+---------------------------------------------------------------------------------------+\n",
      "| Processes:                                                                            |\n",
      "|  GPU   GI   CI        PID   Type   Process name                            GPU Memory |\n",
      "|        ID   ID                                                             Usage      |\n",
      "|=======================================================================================|\n",
      "|    0   N/A  N/A      2907      G   /usr/lib/xorg/Xorg                            4MiB |\n",
      "+---------------------------------------------------------------------------------------+\n"
     ]
    }
   ],
   "source": [
    "!nvidia-smi"
   ]
  },
  {
   "cell_type": "code",
   "execution_count": 8,
   "metadata": {},
   "outputs": [],
   "source": [
    "import tensorflow as tf\n",
    "from helper_functions import unzip_data, create_tensorboard_callback,plot_loss_curves,compare_historys"
   ]
  },
  {
   "cell_type": "code",
   "execution_count": 9,
   "metadata": {},
   "outputs": [],
   "source": [
    "unzip_data('nlp-getting-started.zip')"
   ]
  },
  {
   "cell_type": "code",
   "execution_count": 10,
   "metadata": {},
   "outputs": [],
   "source": [
    "import pandas as pd"
   ]
  },
  {
   "cell_type": "code",
   "execution_count": 11,
   "metadata": {},
   "outputs": [
    {
     "data": {
      "text/plain": [
       "'Forest fire near La Ronge Sask. Canada'"
      ]
     },
     "execution_count": 11,
     "metadata": {},
     "output_type": "execute_result"
    }
   ],
   "source": [
    "train_df = pd.read_csv('train.csv')\n",
    "test_df = pd.read_csv('test.csv')\n",
    "train_df.head()\n",
    "train_df[\"text\"][1]\n"
   ]
  },
  {
   "cell_type": "code",
   "execution_count": 12,
   "metadata": {},
   "outputs": [],
   "source": [
    "train_df_shuffled = train_df.sample(frac=1,random_state=42)"
   ]
  },
  {
   "cell_type": "code",
   "execution_count": 13,
   "metadata": {},
   "outputs": [
    {
     "data": {
      "text/html": [
       "<div>\n",
       "<style scoped>\n",
       "    .dataframe tbody tr th:only-of-type {\n",
       "        vertical-align: middle;\n",
       "    }\n",
       "\n",
       "    .dataframe tbody tr th {\n",
       "        vertical-align: top;\n",
       "    }\n",
       "\n",
       "    .dataframe thead th {\n",
       "        text-align: right;\n",
       "    }\n",
       "</style>\n",
       "<table border=\"1\" class=\"dataframe\">\n",
       "  <thead>\n",
       "    <tr style=\"text-align: right;\">\n",
       "      <th></th>\n",
       "      <th>id</th>\n",
       "      <th>keyword</th>\n",
       "      <th>location</th>\n",
       "      <th>text</th>\n",
       "    </tr>\n",
       "  </thead>\n",
       "  <tbody>\n",
       "    <tr>\n",
       "      <th>0</th>\n",
       "      <td>0</td>\n",
       "      <td>NaN</td>\n",
       "      <td>NaN</td>\n",
       "      <td>Just happened a terrible car crash</td>\n",
       "    </tr>\n",
       "    <tr>\n",
       "      <th>1</th>\n",
       "      <td>2</td>\n",
       "      <td>NaN</td>\n",
       "      <td>NaN</td>\n",
       "      <td>Heard about #earthquake is different cities, s...</td>\n",
       "    </tr>\n",
       "    <tr>\n",
       "      <th>2</th>\n",
       "      <td>3</td>\n",
       "      <td>NaN</td>\n",
       "      <td>NaN</td>\n",
       "      <td>there is a forest fire at spot pond, geese are...</td>\n",
       "    </tr>\n",
       "    <tr>\n",
       "      <th>3</th>\n",
       "      <td>9</td>\n",
       "      <td>NaN</td>\n",
       "      <td>NaN</td>\n",
       "      <td>Apocalypse lighting. #Spokane #wildfires</td>\n",
       "    </tr>\n",
       "    <tr>\n",
       "      <th>4</th>\n",
       "      <td>11</td>\n",
       "      <td>NaN</td>\n",
       "      <td>NaN</td>\n",
       "      <td>Typhoon Soudelor kills 28 in China and Taiwan</td>\n",
       "    </tr>\n",
       "  </tbody>\n",
       "</table>\n",
       "</div>"
      ],
      "text/plain": [
       "   id keyword location                                               text\n",
       "0   0     NaN      NaN                 Just happened a terrible car crash\n",
       "1   2     NaN      NaN  Heard about #earthquake is different cities, s...\n",
       "2   3     NaN      NaN  there is a forest fire at spot pond, geese are...\n",
       "3   9     NaN      NaN           Apocalypse lighting. #Spokane #wildfires\n",
       "4  11     NaN      NaN      Typhoon Soudelor kills 28 in China and Taiwan"
      ]
     },
     "execution_count": 13,
     "metadata": {},
     "output_type": "execute_result"
    }
   ],
   "source": [
    "test_df.head()"
   ]
  },
  {
   "cell_type": "code",
   "execution_count": 14,
   "metadata": {},
   "outputs": [
    {
     "data": {
      "text/plain": [
       "target\n",
       "0    4342\n",
       "1    3271\n",
       "Name: count, dtype: int64"
      ]
     },
     "execution_count": 14,
     "metadata": {},
     "output_type": "execute_result"
    }
   ],
   "source": [
    "train_df.target.value_counts()"
   ]
  },
  {
   "cell_type": "code",
   "execution_count": 15,
   "metadata": {},
   "outputs": [
    {
     "data": {
      "text/plain": [
       "(7613, 3263)"
      ]
     },
     "execution_count": 15,
     "metadata": {},
     "output_type": "execute_result"
    }
   ],
   "source": [
    "len(train_df),len(test_df)"
   ]
  },
  {
   "cell_type": "code",
   "execution_count": 16,
   "metadata": {},
   "outputs": [
    {
     "name": "stdout",
     "output_type": "stream",
     "text": [
      "Target:0 (not rela disaster)\n",
      "Text :Only had a crush on one girl in high school and she don't even realize it lol\n",
      "\n",
      "\n",
      "Target:1 (real disaster)\n",
      "Text :annihilating quarterstaff of annihilation\n",
      "\n",
      "\n",
      "Target:1 (real disaster)\n",
      "Text :#nar #phuket Ultimate #preparedness library: http://t.co/qYAeNDvDGC Prepare Yourself For Any Catastrophe. Over http://t.co/3Zp6Ahnsxn\n",
      "\n",
      "\n",
      "Target:0 (not rela disaster)\n",
      "Text :Wyrmwood: Road of the Dead (2014) was fucking awesome and it had an awesome ending too. Awesome one.\n",
      "\n",
      "\n",
      "Target:1 (real disaster)\n",
      "Text :New Documents Found Pointing To Japan's WWII Atomic Bomb Program http://t.co/M9mowCMVNj\n",
      "\n",
      "\n"
     ]
    }
   ],
   "source": [
    "import random\n",
    "random_index = random.randint(0,len(train_df)-5)\n",
    "for row in train_df_shuffled[[\"text\",\"target\"]][random_index:random_index+5].itertuples():\n",
    "    _,text,target = row\n",
    "    print(f\"Target:{target}\",\"(real disaster)\" if target>0 else \"(not rela disaster)\")\n",
    "    print(f\"Text :{text}\")\n",
    "    print('\\n')\n",
    "    "
   ]
  },
  {
   "cell_type": "code",
   "execution_count": 17,
   "metadata": {},
   "outputs": [],
   "source": [
    "from sklearn.model_selection import train_test_split\n",
    "\n",
    "train_sentences,val_sentences,train_labels,val_labels=train_test_split(train_df_shuffled[\"text\"].to_numpy(),\n",
    "                                                                       train_df_shuffled[\"target\"].to_numpy(),\n",
    "                                                                       test_size = 0.1,\n",
    "                                                                       random_state=42)\n"
   ]
  },
  {
   "cell_type": "code",
   "execution_count": 18,
   "metadata": {},
   "outputs": [
    {
     "data": {
      "text/plain": [
       "(array(['@mogacola @zamtriossu i screamed after hitting tweet',\n",
       "        'Imagine getting flattened by Kurt Zouma',\n",
       "        '@Gurmeetramrahim #MSGDoing111WelfareWorks Green S welfare force ke appx 65000 members har time disaster victim ki help ke liye tyar hai....',\n",
       "        \"@shakjn @C7 @Magnums im shaking in fear he's gonna hack the planet\",\n",
       "        'Somehow find you and I collide http://t.co/Ee8RpOahPk',\n",
       "        '@EvaHanderek @MarleyKnysh great times until the bus driver held us hostage in the mall parking lot lmfao',\n",
       "        'destroy the free fandom honestly',\n",
       "        'Weapons stolen from National Guard Armory in New Albany still missing #Gunsense http://t.co/lKNU8902JE',\n",
       "        '@wfaaweather Pete when will the heat wave pass? Is it really going to be mid month? Frisco Boy Scouts have a canoe trip in Okla.',\n",
       "        'Patient-reported outcomes in long-term survivors of metastatic colorectal cancer - British Journal of Surgery http://t.co/5Yl4DC1Tqt'],\n",
       "       dtype=object),\n",
       " array([0, 0, 1, 0, 0, 1, 1, 0, 1, 1]))"
      ]
     },
     "execution_count": 18,
     "metadata": {},
     "output_type": "execute_result"
    }
   ],
   "source": [
    "train_sentences[:10],train_labels[:10]"
   ]
  },
  {
   "cell_type": "code",
   "execution_count": 19,
   "metadata": {},
   "outputs": [
    {
     "data": {
      "text/plain": [
       "array(['@mogacola @zamtriossu i screamed after hitting tweet',\n",
       "       'Imagine getting flattened by Kurt Zouma',\n",
       "       '@Gurmeetramrahim #MSGDoing111WelfareWorks Green S welfare force ke appx 65000 members har time disaster victim ki help ke liye tyar hai....',\n",
       "       ...,\n",
       "       'Near them on the sand half sunk a shattered visage lies... http://t.co/0kCCG1BT06',\n",
       "       \"kesabaran membuahkan hasil indah pada saat tepat! life isn't about waiting for the storm to pass it's about learning to dance in the rain.\",\n",
       "       \"@ScottDPierce @billharris_tv @HarrisGle @Beezersun I'm forfeiting this years fantasy football pool out of fear I may win n get my ass kicked\"],\n",
       "      dtype=object)"
      ]
     },
     "execution_count": 19,
     "metadata": {},
     "output_type": "execute_result"
    }
   ],
   "source": [
    "train_sentences"
   ]
  },
  {
   "cell_type": "code",
   "execution_count": 20,
   "metadata": {},
   "outputs": [],
   "source": [
    "from tensorflow.keras.layers import TextVectorization"
   ]
  },
  {
   "cell_type": "code",
   "execution_count": 21,
   "metadata": {},
   "outputs": [
    {
     "data": {
      "text/plain": [
       "15"
      ]
     },
     "execution_count": 21,
     "metadata": {},
     "output_type": "execute_result"
    }
   ],
   "source": [
    "round(sum([len(i.split()) for i in train_sentences])/len(train_sentences))"
   ]
  },
  {
   "cell_type": "code",
   "execution_count": 22,
   "metadata": {},
   "outputs": [
    {
     "name": "stderr",
     "output_type": "stream",
     "text": [
      "WARNING: All log messages before absl::InitializeLog() is called are written to STDERR\n",
      "I0000 00:00:1726038139.050101  173716 cuda_executor.cc:1015] successful NUMA node read from SysFS had negative value (-1), but there must be at least one NUMA node, so returning NUMA node zero. See more at https://github.com/torvalds/linux/blob/v6.0/Documentation/ABI/testing/sysfs-bus-pci#L344-L355\n",
      "2024-09-11 12:32:19.051860: W tensorflow/core/common_runtime/gpu/gpu_device.cc:2343] Cannot dlopen some GPU libraries. Please make sure the missing libraries mentioned above are installed properly if you would like to use GPU. Follow the guide at https://www.tensorflow.org/install/gpu for how to download and setup the required libraries for your platform.\n",
      "Skipping registering GPU devices...\n"
     ]
    }
   ],
   "source": [
    "max_vocab_length = 10000\n",
    "max_length = 15\n",
    "\n",
    "text_vectorizer = TextVectorization(\n",
    "    max_tokens=max_vocab_length,\n",
    "    standardize=\"lower_and_strip_punctuation\",\n",
    "    split = \"whitespace\",\n",
    "    ngrams= None,\n",
    "    output_mode = 'int',\n",
    "    output_sequence_length = max_length,\n",
    "    pad_to_max_tokens = True,\n",
    ")\n"
   ]
  },
  {
   "cell_type": "code",
   "execution_count": 23,
   "metadata": {},
   "outputs": [],
   "source": [
    "text_vectorizer.adapt(train_sentences)"
   ]
  },
  {
   "cell_type": "code",
   "execution_count": 24,
   "metadata": {},
   "outputs": [
    {
     "data": {
      "text/plain": [
       "<tf.Tensor: shape=(1, 15), dtype=int64, numpy=\n",
       "array([[1400,  107,    0,    0,    0,    0,    0,    0,    0,    0,    0,\n",
       "           0,    0,    0,    0]])>"
      ]
     },
     "execution_count": 24,
     "metadata": {},
     "output_type": "execute_result"
    }
   ],
   "source": [
    "sample_sentence = \"hello world\"\n",
    "text_vectorizer([sample_sentence])"
   ]
  },
  {
   "cell_type": "code",
   "execution_count": 25,
   "metadata": {},
   "outputs": [
    {
     "name": "stdout",
     "output_type": "stream",
     "text": [
      "We The Free Hailstorm Maxi http://t.co/ERWs6IELdG\n"
     ]
    },
    {
     "data": {
      "text/plain": [
       "<tf.Tensor: shape=(15,), dtype=int64, numpy=\n",
       "array([ 46,   2, 268, 818,   1,   1,   0,   0,   0,   0,   0,   0,   0,\n",
       "         0,   0])>"
      ]
     },
     "execution_count": 25,
     "metadata": {},
     "output_type": "execute_result"
    }
   ],
   "source": [
    "random_sentence = random.choice(train_sentences)\n",
    "print(random_sentence)\n",
    "text_vectorizer(random_sentence)"
   ]
  },
  {
   "cell_type": "code",
   "execution_count": 26,
   "metadata": {},
   "outputs": [
    {
     "data": {
      "text/plain": [
       "(10000,\n",
       " ['', '[UNK]', 'the', 'a', 'in'],\n",
       " ['pages', 'paeds', 'pads', 'padres', 'paddytomlinson1'])"
      ]
     },
     "execution_count": 26,
     "metadata": {},
     "output_type": "execute_result"
    }
   ],
   "source": [
    "words_in_vocabulary =  text_vectorizer.get_vocabulary()\n",
    "top_5_words = words_in_vocabulary[:5]\n",
    "bottom_5_words = words_in_vocabulary[-5:]\n",
    "len(words_in_vocabulary),top_5_words,bottom_5_words"
   ]
  },
  {
   "cell_type": "code",
   "execution_count": 44,
   "metadata": {},
   "outputs": [
    {
     "name": "stderr",
     "output_type": "stream",
     "text": [
      "/home/rasheek/Desktop/Github/NLP/NLP_fundamentals/tf/lib/python3.12/site-packages/keras/src/layers/core/embedding.py:90: UserWarning: Argument `input_length` is deprecated. Just remove it.\n",
      "  warnings.warn(\n"
     ]
    },
    {
     "data": {
      "text/plain": [
       "<Embedding name=embedding_1, built=False>"
      ]
     },
     "execution_count": 44,
     "metadata": {},
     "output_type": "execute_result"
    }
   ],
   "source": [
    "# from tensorflow.keras import layers\n",
    "\n",
    "tf.random.set_seed(42)\n",
    "from tensorflow.keras import layers\n",
    "\n",
    "embeddings = layers.Embedding(input_dim=max_vocab_length, # set input shape\n",
    "                             output_dim=128, # set size of embedding vector\n",
    "                             embeddings_initializer=\"uniform\", # default, intialize randomly\n",
    "                             input_length=max_length, # how long is each input\n",
    "                             name=\"embedding_1\") \n",
    "\n",
    "embeddings"
   ]
  },
  {
   "cell_type": "code",
   "execution_count": 46,
   "metadata": {},
   "outputs": [
    {
     "name": "stdout",
     "output_type": "stream",
     "text": [
      "Why are you feeling desolate? Take the quiz: http://t.co/E9yfe3p7P1 http://t.co/8gZbGMMaa1\n",
      "\n",
      "\n",
      "embedded version\n"
     ]
    },
    {
     "data": {
      "text/plain": [
       "<tf.Tensor: shape=(1, 15, 128), dtype=float32, numpy=\n",
       "array([[[-0.01594301,  0.04556562,  0.04478407, ..., -0.02856034,\n",
       "          0.01770135, -0.03064688],\n",
       "        [ 0.01443347,  0.02204731,  0.00989039, ..., -0.02060523,\n",
       "          0.01328966, -0.01744287],\n",
       "        [-0.01198608, -0.01785332, -0.03472489, ..., -0.0351392 ,\n",
       "          0.02448305,  0.0156324 ],\n",
       "        ...,\n",
       "        [-0.04995975, -0.04704732,  0.02675643, ...,  0.01980003,\n",
       "          0.01404873,  0.00297469],\n",
       "        [-0.04995975, -0.04704732,  0.02675643, ...,  0.01980003,\n",
       "          0.01404873,  0.00297469],\n",
       "        [-0.04995975, -0.04704732,  0.02675643, ...,  0.01980003,\n",
       "          0.01404873,  0.00297469]]], dtype=float32)>"
      ]
     },
     "execution_count": 46,
     "metadata": {},
     "output_type": "execute_result"
    }
   ],
   "source": [
    "random_sentence = random.choice(train_sentences)\n",
    "print(random_sentence)\n",
    "print(\"\\n\")\n",
    "print(\"embedded version\")\n",
    "embeddings(text_vectorizer([random_sentence]))"
   ]
  },
  {
   "cell_type": "code",
   "execution_count": 47,
   "metadata": {},
   "outputs": [
    {
     "data": {
      "text/html": [
       "<style>#sk-container-id-2 {\n",
       "  /* Definition of color scheme common for light and dark mode */\n",
       "  --sklearn-color-text: black;\n",
       "  --sklearn-color-line: gray;\n",
       "  /* Definition of color scheme for unfitted estimators */\n",
       "  --sklearn-color-unfitted-level-0: #fff5e6;\n",
       "  --sklearn-color-unfitted-level-1: #f6e4d2;\n",
       "  --sklearn-color-unfitted-level-2: #ffe0b3;\n",
       "  --sklearn-color-unfitted-level-3: chocolate;\n",
       "  /* Definition of color scheme for fitted estimators */\n",
       "  --sklearn-color-fitted-level-0: #f0f8ff;\n",
       "  --sklearn-color-fitted-level-1: #d4ebff;\n",
       "  --sklearn-color-fitted-level-2: #b3dbfd;\n",
       "  --sklearn-color-fitted-level-3: cornflowerblue;\n",
       "\n",
       "  /* Specific color for light theme */\n",
       "  --sklearn-color-text-on-default-background: var(--sg-text-color, var(--theme-code-foreground, var(--jp-content-font-color1, black)));\n",
       "  --sklearn-color-background: var(--sg-background-color, var(--theme-background, var(--jp-layout-color0, white)));\n",
       "  --sklearn-color-border-box: var(--sg-text-color, var(--theme-code-foreground, var(--jp-content-font-color1, black)));\n",
       "  --sklearn-color-icon: #696969;\n",
       "\n",
       "  @media (prefers-color-scheme: dark) {\n",
       "    /* Redefinition of color scheme for dark theme */\n",
       "    --sklearn-color-text-on-default-background: var(--sg-text-color, var(--theme-code-foreground, var(--jp-content-font-color1, white)));\n",
       "    --sklearn-color-background: var(--sg-background-color, var(--theme-background, var(--jp-layout-color0, #111)));\n",
       "    --sklearn-color-border-box: var(--sg-text-color, var(--theme-code-foreground, var(--jp-content-font-color1, white)));\n",
       "    --sklearn-color-icon: #878787;\n",
       "  }\n",
       "}\n",
       "\n",
       "#sk-container-id-2 {\n",
       "  color: var(--sklearn-color-text);\n",
       "}\n",
       "\n",
       "#sk-container-id-2 pre {\n",
       "  padding: 0;\n",
       "}\n",
       "\n",
       "#sk-container-id-2 input.sk-hidden--visually {\n",
       "  border: 0;\n",
       "  clip: rect(1px 1px 1px 1px);\n",
       "  clip: rect(1px, 1px, 1px, 1px);\n",
       "  height: 1px;\n",
       "  margin: -1px;\n",
       "  overflow: hidden;\n",
       "  padding: 0;\n",
       "  position: absolute;\n",
       "  width: 1px;\n",
       "}\n",
       "\n",
       "#sk-container-id-2 div.sk-dashed-wrapped {\n",
       "  border: 1px dashed var(--sklearn-color-line);\n",
       "  margin: 0 0.4em 0.5em 0.4em;\n",
       "  box-sizing: border-box;\n",
       "  padding-bottom: 0.4em;\n",
       "  background-color: var(--sklearn-color-background);\n",
       "}\n",
       "\n",
       "#sk-container-id-2 div.sk-container {\n",
       "  /* jupyter's `normalize.less` sets `[hidden] { display: none; }`\n",
       "     but bootstrap.min.css set `[hidden] { display: none !important; }`\n",
       "     so we also need the `!important` here to be able to override the\n",
       "     default hidden behavior on the sphinx rendered scikit-learn.org.\n",
       "     See: https://github.com/scikit-learn/scikit-learn/issues/21755 */\n",
       "  display: inline-block !important;\n",
       "  position: relative;\n",
       "}\n",
       "\n",
       "#sk-container-id-2 div.sk-text-repr-fallback {\n",
       "  display: none;\n",
       "}\n",
       "\n",
       "div.sk-parallel-item,\n",
       "div.sk-serial,\n",
       "div.sk-item {\n",
       "  /* draw centered vertical line to link estimators */\n",
       "  background-image: linear-gradient(var(--sklearn-color-text-on-default-background), var(--sklearn-color-text-on-default-background));\n",
       "  background-size: 2px 100%;\n",
       "  background-repeat: no-repeat;\n",
       "  background-position: center center;\n",
       "}\n",
       "\n",
       "/* Parallel-specific style estimator block */\n",
       "\n",
       "#sk-container-id-2 div.sk-parallel-item::after {\n",
       "  content: \"\";\n",
       "  width: 100%;\n",
       "  border-bottom: 2px solid var(--sklearn-color-text-on-default-background);\n",
       "  flex-grow: 1;\n",
       "}\n",
       "\n",
       "#sk-container-id-2 div.sk-parallel {\n",
       "  display: flex;\n",
       "  align-items: stretch;\n",
       "  justify-content: center;\n",
       "  background-color: var(--sklearn-color-background);\n",
       "  position: relative;\n",
       "}\n",
       "\n",
       "#sk-container-id-2 div.sk-parallel-item {\n",
       "  display: flex;\n",
       "  flex-direction: column;\n",
       "}\n",
       "\n",
       "#sk-container-id-2 div.sk-parallel-item:first-child::after {\n",
       "  align-self: flex-end;\n",
       "  width: 50%;\n",
       "}\n",
       "\n",
       "#sk-container-id-2 div.sk-parallel-item:last-child::after {\n",
       "  align-self: flex-start;\n",
       "  width: 50%;\n",
       "}\n",
       "\n",
       "#sk-container-id-2 div.sk-parallel-item:only-child::after {\n",
       "  width: 0;\n",
       "}\n",
       "\n",
       "/* Serial-specific style estimator block */\n",
       "\n",
       "#sk-container-id-2 div.sk-serial {\n",
       "  display: flex;\n",
       "  flex-direction: column;\n",
       "  align-items: center;\n",
       "  background-color: var(--sklearn-color-background);\n",
       "  padding-right: 1em;\n",
       "  padding-left: 1em;\n",
       "}\n",
       "\n",
       "\n",
       "/* Toggleable style: style used for estimator/Pipeline/ColumnTransformer box that is\n",
       "clickable and can be expanded/collapsed.\n",
       "- Pipeline and ColumnTransformer use this feature and define the default style\n",
       "- Estimators will overwrite some part of the style using the `sk-estimator` class\n",
       "*/\n",
       "\n",
       "/* Pipeline and ColumnTransformer style (default) */\n",
       "\n",
       "#sk-container-id-2 div.sk-toggleable {\n",
       "  /* Default theme specific background. It is overwritten whether we have a\n",
       "  specific estimator or a Pipeline/ColumnTransformer */\n",
       "  background-color: var(--sklearn-color-background);\n",
       "}\n",
       "\n",
       "/* Toggleable label */\n",
       "#sk-container-id-2 label.sk-toggleable__label {\n",
       "  cursor: pointer;\n",
       "  display: block;\n",
       "  width: 100%;\n",
       "  margin-bottom: 0;\n",
       "  padding: 0.5em;\n",
       "  box-sizing: border-box;\n",
       "  text-align: center;\n",
       "}\n",
       "\n",
       "#sk-container-id-2 label.sk-toggleable__label-arrow:before {\n",
       "  /* Arrow on the left of the label */\n",
       "  content: \"▸\";\n",
       "  float: left;\n",
       "  margin-right: 0.25em;\n",
       "  color: var(--sklearn-color-icon);\n",
       "}\n",
       "\n",
       "#sk-container-id-2 label.sk-toggleable__label-arrow:hover:before {\n",
       "  color: var(--sklearn-color-text);\n",
       "}\n",
       "\n",
       "/* Toggleable content - dropdown */\n",
       "\n",
       "#sk-container-id-2 div.sk-toggleable__content {\n",
       "  max-height: 0;\n",
       "  max-width: 0;\n",
       "  overflow: hidden;\n",
       "  text-align: left;\n",
       "  /* unfitted */\n",
       "  background-color: var(--sklearn-color-unfitted-level-0);\n",
       "}\n",
       "\n",
       "#sk-container-id-2 div.sk-toggleable__content.fitted {\n",
       "  /* fitted */\n",
       "  background-color: var(--sklearn-color-fitted-level-0);\n",
       "}\n",
       "\n",
       "#sk-container-id-2 div.sk-toggleable__content pre {\n",
       "  margin: 0.2em;\n",
       "  border-radius: 0.25em;\n",
       "  color: var(--sklearn-color-text);\n",
       "  /* unfitted */\n",
       "  background-color: var(--sklearn-color-unfitted-level-0);\n",
       "}\n",
       "\n",
       "#sk-container-id-2 div.sk-toggleable__content.fitted pre {\n",
       "  /* unfitted */\n",
       "  background-color: var(--sklearn-color-fitted-level-0);\n",
       "}\n",
       "\n",
       "#sk-container-id-2 input.sk-toggleable__control:checked~div.sk-toggleable__content {\n",
       "  /* Expand drop-down */\n",
       "  max-height: 200px;\n",
       "  max-width: 100%;\n",
       "  overflow: auto;\n",
       "}\n",
       "\n",
       "#sk-container-id-2 input.sk-toggleable__control:checked~label.sk-toggleable__label-arrow:before {\n",
       "  content: \"▾\";\n",
       "}\n",
       "\n",
       "/* Pipeline/ColumnTransformer-specific style */\n",
       "\n",
       "#sk-container-id-2 div.sk-label input.sk-toggleable__control:checked~label.sk-toggleable__label {\n",
       "  color: var(--sklearn-color-text);\n",
       "  background-color: var(--sklearn-color-unfitted-level-2);\n",
       "}\n",
       "\n",
       "#sk-container-id-2 div.sk-label.fitted input.sk-toggleable__control:checked~label.sk-toggleable__label {\n",
       "  background-color: var(--sklearn-color-fitted-level-2);\n",
       "}\n",
       "\n",
       "/* Estimator-specific style */\n",
       "\n",
       "/* Colorize estimator box */\n",
       "#sk-container-id-2 div.sk-estimator input.sk-toggleable__control:checked~label.sk-toggleable__label {\n",
       "  /* unfitted */\n",
       "  background-color: var(--sklearn-color-unfitted-level-2);\n",
       "}\n",
       "\n",
       "#sk-container-id-2 div.sk-estimator.fitted input.sk-toggleable__control:checked~label.sk-toggleable__label {\n",
       "  /* fitted */\n",
       "  background-color: var(--sklearn-color-fitted-level-2);\n",
       "}\n",
       "\n",
       "#sk-container-id-2 div.sk-label label.sk-toggleable__label,\n",
       "#sk-container-id-2 div.sk-label label {\n",
       "  /* The background is the default theme color */\n",
       "  color: var(--sklearn-color-text-on-default-background);\n",
       "}\n",
       "\n",
       "/* On hover, darken the color of the background */\n",
       "#sk-container-id-2 div.sk-label:hover label.sk-toggleable__label {\n",
       "  color: var(--sklearn-color-text);\n",
       "  background-color: var(--sklearn-color-unfitted-level-2);\n",
       "}\n",
       "\n",
       "/* Label box, darken color on hover, fitted */\n",
       "#sk-container-id-2 div.sk-label.fitted:hover label.sk-toggleable__label.fitted {\n",
       "  color: var(--sklearn-color-text);\n",
       "  background-color: var(--sklearn-color-fitted-level-2);\n",
       "}\n",
       "\n",
       "/* Estimator label */\n",
       "\n",
       "#sk-container-id-2 div.sk-label label {\n",
       "  font-family: monospace;\n",
       "  font-weight: bold;\n",
       "  display: inline-block;\n",
       "  line-height: 1.2em;\n",
       "}\n",
       "\n",
       "#sk-container-id-2 div.sk-label-container {\n",
       "  text-align: center;\n",
       "}\n",
       "\n",
       "/* Estimator-specific */\n",
       "#sk-container-id-2 div.sk-estimator {\n",
       "  font-family: monospace;\n",
       "  border: 1px dotted var(--sklearn-color-border-box);\n",
       "  border-radius: 0.25em;\n",
       "  box-sizing: border-box;\n",
       "  margin-bottom: 0.5em;\n",
       "  /* unfitted */\n",
       "  background-color: var(--sklearn-color-unfitted-level-0);\n",
       "}\n",
       "\n",
       "#sk-container-id-2 div.sk-estimator.fitted {\n",
       "  /* fitted */\n",
       "  background-color: var(--sklearn-color-fitted-level-0);\n",
       "}\n",
       "\n",
       "/* on hover */\n",
       "#sk-container-id-2 div.sk-estimator:hover {\n",
       "  /* unfitted */\n",
       "  background-color: var(--sklearn-color-unfitted-level-2);\n",
       "}\n",
       "\n",
       "#sk-container-id-2 div.sk-estimator.fitted:hover {\n",
       "  /* fitted */\n",
       "  background-color: var(--sklearn-color-fitted-level-2);\n",
       "}\n",
       "\n",
       "/* Specification for estimator info (e.g. \"i\" and \"?\") */\n",
       "\n",
       "/* Common style for \"i\" and \"?\" */\n",
       "\n",
       ".sk-estimator-doc-link,\n",
       "a:link.sk-estimator-doc-link,\n",
       "a:visited.sk-estimator-doc-link {\n",
       "  float: right;\n",
       "  font-size: smaller;\n",
       "  line-height: 1em;\n",
       "  font-family: monospace;\n",
       "  background-color: var(--sklearn-color-background);\n",
       "  border-radius: 1em;\n",
       "  height: 1em;\n",
       "  width: 1em;\n",
       "  text-decoration: none !important;\n",
       "  margin-left: 1ex;\n",
       "  /* unfitted */\n",
       "  border: var(--sklearn-color-unfitted-level-1) 1pt solid;\n",
       "  color: var(--sklearn-color-unfitted-level-1);\n",
       "}\n",
       "\n",
       ".sk-estimator-doc-link.fitted,\n",
       "a:link.sk-estimator-doc-link.fitted,\n",
       "a:visited.sk-estimator-doc-link.fitted {\n",
       "  /* fitted */\n",
       "  border: var(--sklearn-color-fitted-level-1) 1pt solid;\n",
       "  color: var(--sklearn-color-fitted-level-1);\n",
       "}\n",
       "\n",
       "/* On hover */\n",
       "div.sk-estimator:hover .sk-estimator-doc-link:hover,\n",
       ".sk-estimator-doc-link:hover,\n",
       "div.sk-label-container:hover .sk-estimator-doc-link:hover,\n",
       ".sk-estimator-doc-link:hover {\n",
       "  /* unfitted */\n",
       "  background-color: var(--sklearn-color-unfitted-level-3);\n",
       "  color: var(--sklearn-color-background);\n",
       "  text-decoration: none;\n",
       "}\n",
       "\n",
       "div.sk-estimator.fitted:hover .sk-estimator-doc-link.fitted:hover,\n",
       ".sk-estimator-doc-link.fitted:hover,\n",
       "div.sk-label-container:hover .sk-estimator-doc-link.fitted:hover,\n",
       ".sk-estimator-doc-link.fitted:hover {\n",
       "  /* fitted */\n",
       "  background-color: var(--sklearn-color-fitted-level-3);\n",
       "  color: var(--sklearn-color-background);\n",
       "  text-decoration: none;\n",
       "}\n",
       "\n",
       "/* Span, style for the box shown on hovering the info icon */\n",
       ".sk-estimator-doc-link span {\n",
       "  display: none;\n",
       "  z-index: 9999;\n",
       "  position: relative;\n",
       "  font-weight: normal;\n",
       "  right: .2ex;\n",
       "  padding: .5ex;\n",
       "  margin: .5ex;\n",
       "  width: min-content;\n",
       "  min-width: 20ex;\n",
       "  max-width: 50ex;\n",
       "  color: var(--sklearn-color-text);\n",
       "  box-shadow: 2pt 2pt 4pt #999;\n",
       "  /* unfitted */\n",
       "  background: var(--sklearn-color-unfitted-level-0);\n",
       "  border: .5pt solid var(--sklearn-color-unfitted-level-3);\n",
       "}\n",
       "\n",
       ".sk-estimator-doc-link.fitted span {\n",
       "  /* fitted */\n",
       "  background: var(--sklearn-color-fitted-level-0);\n",
       "  border: var(--sklearn-color-fitted-level-3);\n",
       "}\n",
       "\n",
       ".sk-estimator-doc-link:hover span {\n",
       "  display: block;\n",
       "}\n",
       "\n",
       "/* \"?\"-specific style due to the `<a>` HTML tag */\n",
       "\n",
       "#sk-container-id-2 a.estimator_doc_link {\n",
       "  float: right;\n",
       "  font-size: 1rem;\n",
       "  line-height: 1em;\n",
       "  font-family: monospace;\n",
       "  background-color: var(--sklearn-color-background);\n",
       "  border-radius: 1rem;\n",
       "  height: 1rem;\n",
       "  width: 1rem;\n",
       "  text-decoration: none;\n",
       "  /* unfitted */\n",
       "  color: var(--sklearn-color-unfitted-level-1);\n",
       "  border: var(--sklearn-color-unfitted-level-1) 1pt solid;\n",
       "}\n",
       "\n",
       "#sk-container-id-2 a.estimator_doc_link.fitted {\n",
       "  /* fitted */\n",
       "  border: var(--sklearn-color-fitted-level-1) 1pt solid;\n",
       "  color: var(--sklearn-color-fitted-level-1);\n",
       "}\n",
       "\n",
       "/* On hover */\n",
       "#sk-container-id-2 a.estimator_doc_link:hover {\n",
       "  /* unfitted */\n",
       "  background-color: var(--sklearn-color-unfitted-level-3);\n",
       "  color: var(--sklearn-color-background);\n",
       "  text-decoration: none;\n",
       "}\n",
       "\n",
       "#sk-container-id-2 a.estimator_doc_link.fitted:hover {\n",
       "  /* fitted */\n",
       "  background-color: var(--sklearn-color-fitted-level-3);\n",
       "}\n",
       "</style><div id=\"sk-container-id-2\" class=\"sk-top-container\"><div class=\"sk-text-repr-fallback\"><pre>Pipeline(steps=[(&#x27;tfidf&#x27;, TfidfVectorizer()), (&#x27;clf&#x27;, MultinomialNB())])</pre><b>In a Jupyter environment, please rerun this cell to show the HTML representation or trust the notebook. <br />On GitHub, the HTML representation is unable to render, please try loading this page with nbviewer.org.</b></div><div class=\"sk-container\" hidden><div class=\"sk-item sk-dashed-wrapped\"><div class=\"sk-label-container\"><div class=\"sk-label fitted sk-toggleable\"><input class=\"sk-toggleable__control sk-hidden--visually\" id=\"sk-estimator-id-4\" type=\"checkbox\" ><label for=\"sk-estimator-id-4\" class=\"sk-toggleable__label fitted sk-toggleable__label-arrow fitted\">&nbsp;&nbsp;Pipeline<a class=\"sk-estimator-doc-link fitted\" rel=\"noreferrer\" target=\"_blank\" href=\"https://scikit-learn.org/1.5/modules/generated/sklearn.pipeline.Pipeline.html\">?<span>Documentation for Pipeline</span></a><span class=\"sk-estimator-doc-link fitted\">i<span>Fitted</span></span></label><div class=\"sk-toggleable__content fitted\"><pre>Pipeline(steps=[(&#x27;tfidf&#x27;, TfidfVectorizer()), (&#x27;clf&#x27;, MultinomialNB())])</pre></div> </div></div><div class=\"sk-serial\"><div class=\"sk-item\"><div class=\"sk-estimator fitted sk-toggleable\"><input class=\"sk-toggleable__control sk-hidden--visually\" id=\"sk-estimator-id-5\" type=\"checkbox\" ><label for=\"sk-estimator-id-5\" class=\"sk-toggleable__label fitted sk-toggleable__label-arrow fitted\">&nbsp;TfidfVectorizer<a class=\"sk-estimator-doc-link fitted\" rel=\"noreferrer\" target=\"_blank\" href=\"https://scikit-learn.org/1.5/modules/generated/sklearn.feature_extraction.text.TfidfVectorizer.html\">?<span>Documentation for TfidfVectorizer</span></a></label><div class=\"sk-toggleable__content fitted\"><pre>TfidfVectorizer()</pre></div> </div></div><div class=\"sk-item\"><div class=\"sk-estimator fitted sk-toggleable\"><input class=\"sk-toggleable__control sk-hidden--visually\" id=\"sk-estimator-id-6\" type=\"checkbox\" ><label for=\"sk-estimator-id-6\" class=\"sk-toggleable__label fitted sk-toggleable__label-arrow fitted\">&nbsp;MultinomialNB<a class=\"sk-estimator-doc-link fitted\" rel=\"noreferrer\" target=\"_blank\" href=\"https://scikit-learn.org/1.5/modules/generated/sklearn.naive_bayes.MultinomialNB.html\">?<span>Documentation for MultinomialNB</span></a></label><div class=\"sk-toggleable__content fitted\"><pre>MultinomialNB()</pre></div> </div></div></div></div></div></div>"
      ],
      "text/plain": [
       "Pipeline(steps=[('tfidf', TfidfVectorizer()), ('clf', MultinomialNB())])"
      ]
     },
     "execution_count": 47,
     "metadata": {},
     "output_type": "execute_result"
    }
   ],
   "source": [
    "from sklearn.feature_extraction.text import TfidfVectorizer\n",
    "from sklearn.naive_bayes import MultinomialNB\n",
    "from sklearn.pipeline import Pipeline\n",
    "\n",
    "model_0 = Pipeline([\n",
    "    (\"tfidf\",TfidfVectorizer()),\n",
    "    (\"clf\",MultinomialNB()),\n",
    "])\n",
    "\n",
    "model_0.fit(train_sentences,train_labels)"
   ]
  },
  {
   "cell_type": "code",
   "execution_count": 48,
   "metadata": {},
   "outputs": [
    {
     "data": {
      "text/plain": [
       "0.7926509186351706"
      ]
     },
     "execution_count": 48,
     "metadata": {},
     "output_type": "execute_result"
    }
   ],
   "source": [
    "baseline_score=model_0.score(val_sentences,val_labels)\n",
    "baseline_score"
   ]
  },
  {
   "cell_type": "code",
   "execution_count": 49,
   "metadata": {},
   "outputs": [],
   "source": [
    "baseline_preds=model_0.predict(val_sentences)"
   ]
  },
  {
   "cell_type": "code",
   "execution_count": 50,
   "metadata": {},
   "outputs": [
    {
     "data": {
      "text/plain": [
       "array([1, 1, 1, 0, 0, 1, 1, 1, 1, 0, 0, 1, 0, 0, 0, 0, 0, 0, 0, 1])"
      ]
     },
     "execution_count": 50,
     "metadata": {},
     "output_type": "execute_result"
    }
   ],
   "source": [
    "baseline_preds[:20]"
   ]
  },
  {
   "cell_type": "code",
   "execution_count": 51,
   "metadata": {},
   "outputs": [],
   "source": [
    "from sklearn.metrics import accuracy_score,precision_recall_fscore_support"
   ]
  },
  {
   "cell_type": "code",
   "execution_count": 52,
   "metadata": {},
   "outputs": [],
   "source": [
    "def calculate_results(y_true,y_pred):\n",
    "    model_accuaracy = accuracy_score(y_true,y_pred) *100\n",
    "    model_precision,model_recall,model_f1,_=precision_recall_fscore_support(y_true,y_pred,average=\"weighted\")\n",
    "    model_results={\n",
    "        \"accuracy\":model_accuaracy,\n",
    "        \"precision\":model_precision,\n",
    "        \"recall\":model_recall,\n",
    "        \"f1\":model_f1\n",
    "    }\n",
    "    return model_results"
   ]
  },
  {
   "cell_type": "code",
   "execution_count": 53,
   "metadata": {},
   "outputs": [
    {
     "data": {
      "text/plain": [
       "{'accuracy': 79.26509186351706,\n",
       " 'precision': 0.8111390004213173,\n",
       " 'recall': 0.7926509186351706,\n",
       " 'f1': 0.7862189758049549}"
      ]
     },
     "execution_count": 53,
     "metadata": {},
     "output_type": "execute_result"
    }
   ],
   "source": [
    "baseline_results=calculate_results(val_labels,baseline_preds)\n",
    "baseline_results"
   ]
  },
  {
   "cell_type": "code",
   "execution_count": 54,
   "metadata": {},
   "outputs": [],
   "source": [
    "from helper_functions import create_tensorboard_callback"
   ]
  },
  {
   "cell_type": "code",
   "execution_count": 55,
   "metadata": {},
   "outputs": [],
   "source": [
    "SAVE_DIR='model_logs'"
   ]
  },
  {
   "cell_type": "code",
   "execution_count": 56,
   "metadata": {},
   "outputs": [],
   "source": [
    "from tensorflow.keras import  layers\n",
    "inputs=layers.Input(shape=(1,),dtype=tf.string)\n",
    "x=text_vectorizer(inputs)\n",
    "x=embeddings(x)\n",
    "x = layers.GlobalAveragePooling1D()(x) # lower the dimensionality of the embedding (try running the model without this layer and see what happens)\n",
    "outputs = layers.Dense(1,activation=\"sigmoid\")(x)\n",
    "model_1 = tf.keras.Model(inputs,outputs,name=\"model_1_dense\")"
   ]
  },
  {
   "cell_type": "code",
   "execution_count": 57,
   "metadata": {},
   "outputs": [
    {
     "data": {
      "text/html": [
       "<pre style=\"white-space:pre;overflow-x:auto;line-height:normal;font-family:Menlo,'DejaVu Sans Mono',consolas,'Courier New',monospace\"><span style=\"font-weight: bold\">Model: \"model_1_dense\"</span>\n",
       "</pre>\n"
      ],
      "text/plain": [
       "\u001b[1mModel: \"model_1_dense\"\u001b[0m\n"
      ]
     },
     "metadata": {},
     "output_type": "display_data"
    },
    {
     "data": {
      "text/html": [
       "<pre style=\"white-space:pre;overflow-x:auto;line-height:normal;font-family:Menlo,'DejaVu Sans Mono',consolas,'Courier New',monospace\">┏━━━━━━━━━━━━━━━━━━━━━━━━━━━━━━━━━┳━━━━━━━━━━━━━━━━━━━━━━━━┳━━━━━━━━━━━━━━━┓\n",
       "┃<span style=\"font-weight: bold\"> Layer (type)                    </span>┃<span style=\"font-weight: bold\"> Output Shape           </span>┃<span style=\"font-weight: bold\">       Param # </span>┃\n",
       "┡━━━━━━━━━━━━━━━━━━━━━━━━━━━━━━━━━╇━━━━━━━━━━━━━━━━━━━━━━━━╇━━━━━━━━━━━━━━━┩\n",
       "│ input_layer_1 (<span style=\"color: #0087ff; text-decoration-color: #0087ff\">InputLayer</span>)      │ (<span style=\"color: #00d7ff; text-decoration-color: #00d7ff\">None</span>, <span style=\"color: #00af00; text-decoration-color: #00af00\">1</span>)              │             <span style=\"color: #00af00; text-decoration-color: #00af00\">0</span> │\n",
       "├─────────────────────────────────┼────────────────────────┼───────────────┤\n",
       "│ text_vectorization              │ (<span style=\"color: #00d7ff; text-decoration-color: #00d7ff\">None</span>, <span style=\"color: #00af00; text-decoration-color: #00af00\">15</span>)             │             <span style=\"color: #00af00; text-decoration-color: #00af00\">0</span> │\n",
       "│ (<span style=\"color: #0087ff; text-decoration-color: #0087ff\">TextVectorization</span>)             │                        │               │\n",
       "├─────────────────────────────────┼────────────────────────┼───────────────┤\n",
       "│ embedding_1 (<span style=\"color: #0087ff; text-decoration-color: #0087ff\">Embedding</span>)         │ (<span style=\"color: #00d7ff; text-decoration-color: #00d7ff\">None</span>, <span style=\"color: #00af00; text-decoration-color: #00af00\">15</span>, <span style=\"color: #00af00; text-decoration-color: #00af00\">128</span>)        │     <span style=\"color: #00af00; text-decoration-color: #00af00\">1,280,000</span> │\n",
       "├─────────────────────────────────┼────────────────────────┼───────────────┤\n",
       "│ global_average_pooling1d        │ (<span style=\"color: #00d7ff; text-decoration-color: #00d7ff\">None</span>, <span style=\"color: #00af00; text-decoration-color: #00af00\">128</span>)            │             <span style=\"color: #00af00; text-decoration-color: #00af00\">0</span> │\n",
       "│ (<span style=\"color: #0087ff; text-decoration-color: #0087ff\">GlobalAveragePooling1D</span>)        │                        │               │\n",
       "├─────────────────────────────────┼────────────────────────┼───────────────┤\n",
       "│ dense (<span style=\"color: #0087ff; text-decoration-color: #0087ff\">Dense</span>)                   │ (<span style=\"color: #00d7ff; text-decoration-color: #00d7ff\">None</span>, <span style=\"color: #00af00; text-decoration-color: #00af00\">1</span>)              │           <span style=\"color: #00af00; text-decoration-color: #00af00\">129</span> │\n",
       "└─────────────────────────────────┴────────────────────────┴───────────────┘\n",
       "</pre>\n"
      ],
      "text/plain": [
       "┏━━━━━━━━━━━━━━━━━━━━━━━━━━━━━━━━━┳━━━━━━━━━━━━━━━━━━━━━━━━┳━━━━━━━━━━━━━━━┓\n",
       "┃\u001b[1m \u001b[0m\u001b[1mLayer (type)                   \u001b[0m\u001b[1m \u001b[0m┃\u001b[1m \u001b[0m\u001b[1mOutput Shape          \u001b[0m\u001b[1m \u001b[0m┃\u001b[1m \u001b[0m\u001b[1m      Param #\u001b[0m\u001b[1m \u001b[0m┃\n",
       "┡━━━━━━━━━━━━━━━━━━━━━━━━━━━━━━━━━╇━━━━━━━━━━━━━━━━━━━━━━━━╇━━━━━━━━━━━━━━━┩\n",
       "│ input_layer_1 (\u001b[38;5;33mInputLayer\u001b[0m)      │ (\u001b[38;5;45mNone\u001b[0m, \u001b[38;5;34m1\u001b[0m)              │             \u001b[38;5;34m0\u001b[0m │\n",
       "├─────────────────────────────────┼────────────────────────┼───────────────┤\n",
       "│ text_vectorization              │ (\u001b[38;5;45mNone\u001b[0m, \u001b[38;5;34m15\u001b[0m)             │             \u001b[38;5;34m0\u001b[0m │\n",
       "│ (\u001b[38;5;33mTextVectorization\u001b[0m)             │                        │               │\n",
       "├─────────────────────────────────┼────────────────────────┼───────────────┤\n",
       "│ embedding_1 (\u001b[38;5;33mEmbedding\u001b[0m)         │ (\u001b[38;5;45mNone\u001b[0m, \u001b[38;5;34m15\u001b[0m, \u001b[38;5;34m128\u001b[0m)        │     \u001b[38;5;34m1,280,000\u001b[0m │\n",
       "├─────────────────────────────────┼────────────────────────┼───────────────┤\n",
       "│ global_average_pooling1d        │ (\u001b[38;5;45mNone\u001b[0m, \u001b[38;5;34m128\u001b[0m)            │             \u001b[38;5;34m0\u001b[0m │\n",
       "│ (\u001b[38;5;33mGlobalAveragePooling1D\u001b[0m)        │                        │               │\n",
       "├─────────────────────────────────┼────────────────────────┼───────────────┤\n",
       "│ dense (\u001b[38;5;33mDense\u001b[0m)                   │ (\u001b[38;5;45mNone\u001b[0m, \u001b[38;5;34m1\u001b[0m)              │           \u001b[38;5;34m129\u001b[0m │\n",
       "└─────────────────────────────────┴────────────────────────┴───────────────┘\n"
      ]
     },
     "metadata": {},
     "output_type": "display_data"
    },
    {
     "data": {
      "text/html": [
       "<pre style=\"white-space:pre;overflow-x:auto;line-height:normal;font-family:Menlo,'DejaVu Sans Mono',consolas,'Courier New',monospace\"><span style=\"font-weight: bold\"> Total params: </span><span style=\"color: #00af00; text-decoration-color: #00af00\">1,280,129</span> (4.88 MB)\n",
       "</pre>\n"
      ],
      "text/plain": [
       "\u001b[1m Total params: \u001b[0m\u001b[38;5;34m1,280,129\u001b[0m (4.88 MB)\n"
      ]
     },
     "metadata": {},
     "output_type": "display_data"
    },
    {
     "data": {
      "text/html": [
       "<pre style=\"white-space:pre;overflow-x:auto;line-height:normal;font-family:Menlo,'DejaVu Sans Mono',consolas,'Courier New',monospace\"><span style=\"font-weight: bold\"> Trainable params: </span><span style=\"color: #00af00; text-decoration-color: #00af00\">1,280,129</span> (4.88 MB)\n",
       "</pre>\n"
      ],
      "text/plain": [
       "\u001b[1m Trainable params: \u001b[0m\u001b[38;5;34m1,280,129\u001b[0m (4.88 MB)\n"
      ]
     },
     "metadata": {},
     "output_type": "display_data"
    },
    {
     "data": {
      "text/html": [
       "<pre style=\"white-space:pre;overflow-x:auto;line-height:normal;font-family:Menlo,'DejaVu Sans Mono',consolas,'Courier New',monospace\"><span style=\"font-weight: bold\"> Non-trainable params: </span><span style=\"color: #00af00; text-decoration-color: #00af00\">0</span> (0.00 B)\n",
       "</pre>\n"
      ],
      "text/plain": [
       "\u001b[1m Non-trainable params: \u001b[0m\u001b[38;5;34m0\u001b[0m (0.00 B)\n"
      ]
     },
     "metadata": {},
     "output_type": "display_data"
    }
   ],
   "source": [
    "model_1.summary()"
   ]
  },
  {
   "cell_type": "code",
   "execution_count": 58,
   "metadata": {},
   "outputs": [],
   "source": [
    "model_1.compile(\n",
    "    loss='binary_crossentropy',\n",
    "    optimizer=tf.keras.optimizers.Adam(),\n",
    "    metrics=['accuracy']\n",
    ")"
   ]
  },
  {
   "cell_type": "code",
   "execution_count": 59,
   "metadata": {},
   "outputs": [
    {
     "name": "stdout",
     "output_type": "stream",
     "text": [
      "Saving TensorBoard log files to: model_logs/model_1_dense/20240911-123348\n",
      "Epoch 1/5\n",
      "\u001b[1m215/215\u001b[0m \u001b[32m━━━━━━━━━━━━━━━━━━━━\u001b[0m\u001b[37m\u001b[0m \u001b[1m5s\u001b[0m 17ms/step - accuracy: 0.6377 - loss: 0.6498 - val_accuracy: 0.7585 - val_loss: 0.5345\n",
      "Epoch 2/5\n",
      "\u001b[1m215/215\u001b[0m \u001b[32m━━━━━━━━━━━━━━━━━━━━\u001b[0m\u001b[37m\u001b[0m \u001b[1m3s\u001b[0m 14ms/step - accuracy: 0.8102 - loss: 0.4667 - val_accuracy: 0.7913 - val_loss: 0.4744\n",
      "Epoch 3/5\n",
      "\u001b[1m215/215\u001b[0m \u001b[32m━━━━━━━━━━━━━━━━━━━━\u001b[0m\u001b[37m\u001b[0m \u001b[1m3s\u001b[0m 13ms/step - accuracy: 0.8529 - loss: 0.3625 - val_accuracy: 0.7927 - val_loss: 0.4623\n",
      "Epoch 4/5\n",
      "\u001b[1m215/215\u001b[0m \u001b[32m━━━━━━━━━━━━━━━━━━━━\u001b[0m\u001b[37m\u001b[0m \u001b[1m3s\u001b[0m 13ms/step - accuracy: 0.8876 - loss: 0.2963 - val_accuracy: 0.7861 - val_loss: 0.4684\n",
      "Epoch 5/5\n",
      "\u001b[1m215/215\u001b[0m \u001b[32m━━━━━━━━━━━━━━━━━━━━\u001b[0m\u001b[37m\u001b[0m \u001b[1m3s\u001b[0m 13ms/step - accuracy: 0.9057 - loss: 0.2476 - val_accuracy: 0.7769 - val_loss: 0.4839\n"
     ]
    }
   ],
   "source": [
    "model_1.history = model_1.fit(x=train_sentences,\n",
    "                              y=train_labels,\n",
    "                              epochs=5,\n",
    "                              validation_data=(val_sentences,val_labels),callbacks=[create_tensorboard_callback(SAVE_DIR,'model_1_dense')])"
   ]
  },
  {
   "cell_type": "code",
   "execution_count": 60,
   "metadata": {},
   "outputs": [
    {
     "data": {
      "text/plain": [
       "{'accuracy': 79.26509186351706,\n",
       " 'precision': 0.8111390004213173,\n",
       " 'recall': 0.7926509186351706,\n",
       " 'f1': 0.7862189758049549}"
      ]
     },
     "execution_count": 60,
     "metadata": {},
     "output_type": "execute_result"
    }
   ],
   "source": [
    "baseline_results"
   ]
  },
  {
   "cell_type": "code",
   "execution_count": 61,
   "metadata": {},
   "outputs": [
    {
     "name": "stdout",
     "output_type": "stream",
     "text": [
      "\u001b[1m24/24\u001b[0m \u001b[32m━━━━━━━━━━━━━━━━━━━━\u001b[0m\u001b[37m\u001b[0m \u001b[1m0s\u001b[0m 2ms/step - accuracy: 0.7670 - loss: 0.5161 \n"
     ]
    },
    {
     "data": {
      "text/plain": [
       "[0.48393240571022034, 0.7769029140472412]"
      ]
     },
     "execution_count": 61,
     "metadata": {},
     "output_type": "execute_result"
    }
   ],
   "source": [
    "model_1.evaluate(val_sentences,val_labels)"
   ]
  },
  {
   "cell_type": "code",
   "execution_count": 63,
   "metadata": {},
   "outputs": [
    {
     "name": "stdout",
     "output_type": "stream",
     "text": [
      "\u001b[1m24/24\u001b[0m \u001b[32m━━━━━━━━━━━━━━━━━━━━\u001b[0m\u001b[37m\u001b[0m \u001b[1m0s\u001b[0m 2ms/step \n"
     ]
    },
    {
     "data": {
      "text/plain": [
       "762"
      ]
     },
     "execution_count": 63,
     "metadata": {},
     "output_type": "execute_result"
    }
   ],
   "source": [
    "model_1_pred_probs=model_1.predict(val_sentences)\n",
    "model_1_pred_probs.shape"
   ]
  },
  {
   "cell_type": "code",
   "execution_count": 64,
   "metadata": {},
   "outputs": [
    {
     "data": {
      "text/plain": [
       "array([0.3226549], dtype=float32)"
      ]
     },
     "execution_count": 64,
     "metadata": {},
     "output_type": "execute_result"
    }
   ],
   "source": [
    "model_1_pred_probs[0]"
   ]
  },
  {
   "cell_type": "code",
   "execution_count": 65,
   "metadata": {},
   "outputs": [
    {
     "data": {
      "text/plain": [
       "array([[3.22654903e-01],\n",
       "       [7.35205233e-01],\n",
       "       [9.97719526e-01],\n",
       "       [1.92684174e-01],\n",
       "       [9.54333767e-02],\n",
       "       [9.42622304e-01],\n",
       "       [8.88863206e-01],\n",
       "       [9.94247437e-01],\n",
       "       [9.62057710e-01],\n",
       "       [3.86765271e-01],\n",
       "       [1.24990664e-01],\n",
       "       [7.00662494e-01],\n",
       "       [3.84656824e-02],\n",
       "       [2.45965883e-01],\n",
       "       [4.44994634e-03],\n",
       "       [1.52278557e-01],\n",
       "       [2.19577234e-02],\n",
       "       [7.96897635e-02],\n",
       "       [2.66841710e-01],\n",
       "       [5.49795270e-01],\n",
       "       [9.02879119e-01],\n",
       "       [4.20814455e-02],\n",
       "       [3.63316000e-01],\n",
       "       [1.03577942e-01],\n",
       "       [9.46989477e-01],\n",
       "       [9.98866737e-01],\n",
       "       [4.49176617e-02],\n",
       "       [6.51680231e-02],\n",
       "       [2.32563633e-02],\n",
       "       [2.00772062e-01],\n",
       "       [6.04766309e-01],\n",
       "       [3.28063369e-01],\n",
       "       [5.34305692e-01],\n",
       "       [1.61876470e-01],\n",
       "       [4.24877703e-01],\n",
       "       [6.36627823e-02],\n",
       "       [9.96055186e-01],\n",
       "       [2.06018955e-01],\n",
       "       [3.46896052e-02],\n",
       "       [9.98727500e-01],\n",
       "       [2.26227432e-01],\n",
       "       [1.79812163e-02],\n",
       "       [3.59294266e-01],\n",
       "       [5.19140214e-02],\n",
       "       [6.64951980e-01],\n",
       "       [9.86211479e-01],\n",
       "       [3.94278586e-01],\n",
       "       [9.01836872e-01],\n",
       "       [2.52788424e-01],\n",
       "       [5.99755287e-01],\n",
       "       [5.23114316e-02],\n",
       "       [6.27627671e-01],\n",
       "       [4.84818637e-01],\n",
       "       [3.40006016e-02],\n",
       "       [1.25932351e-01],\n",
       "       [3.28348354e-02],\n",
       "       [2.21058056e-01],\n",
       "       [9.53079879e-01],\n",
       "       [9.41792503e-02],\n",
       "       [2.99165305e-03],\n",
       "       [2.24903360e-01],\n",
       "       [9.67517316e-01],\n",
       "       [9.00680006e-01],\n",
       "       [1.66832834e-01],\n",
       "       [9.33983028e-01],\n",
       "       [9.79213357e-01],\n",
       "       [7.16467679e-01],\n",
       "       [3.43003005e-01],\n",
       "       [1.24919862e-01],\n",
       "       [1.88728020e-01],\n",
       "       [1.02859907e-01],\n",
       "       [3.90480757e-02],\n",
       "       [9.34369981e-01],\n",
       "       [2.05280438e-01],\n",
       "       [1.35891408e-01],\n",
       "       [4.53562289e-01],\n",
       "       [4.90002483e-01],\n",
       "       [8.36007059e-01],\n",
       "       [3.11823368e-01],\n",
       "       [5.53576648e-01],\n",
       "       [5.53601742e-01],\n",
       "       [3.40288848e-01],\n",
       "       [9.96768951e-01],\n",
       "       [1.17250390e-01],\n",
       "       [2.04905093e-01],\n",
       "       [9.36190784e-02],\n",
       "       [3.28718647e-02],\n",
       "       [9.03005600e-02],\n",
       "       [6.60659373e-01],\n",
       "       [8.71316791e-01],\n",
       "       [9.93974030e-01],\n",
       "       [8.58519040e-03],\n",
       "       [5.12786925e-01],\n",
       "       [2.32206266e-02],\n",
       "       [9.82082367e-01],\n",
       "       [7.37195492e-01],\n",
       "       [8.49552035e-01],\n",
       "       [9.69115496e-01],\n",
       "       [9.08862531e-01],\n",
       "       [9.50923920e-01],\n",
       "       [9.99298811e-01],\n",
       "       [2.07436681e-01],\n",
       "       [1.73569657e-02],\n",
       "       [9.10178602e-01],\n",
       "       [9.23952401e-01],\n",
       "       [9.64274332e-02],\n",
       "       [8.51755500e-01],\n",
       "       [9.81736779e-01],\n",
       "       [6.20389991e-02],\n",
       "       [4.16955262e-01],\n",
       "       [6.62258089e-01],\n",
       "       [4.06641290e-02],\n",
       "       [3.19206804e-01],\n",
       "       [1.56751037e-01],\n",
       "       [1.46008819e-01],\n",
       "       [4.19154197e-01],\n",
       "       [4.78242308e-01],\n",
       "       [6.99762523e-01],\n",
       "       [7.52559602e-01],\n",
       "       [8.27766061e-02],\n",
       "       [9.99790609e-01],\n",
       "       [7.97550976e-02],\n",
       "       [1.16669089e-01],\n",
       "       [7.77063191e-01],\n",
       "       [4.42635000e-01],\n",
       "       [3.52673322e-01],\n",
       "       [8.38883698e-01],\n",
       "       [1.05534289e-02],\n",
       "       [9.69545394e-02],\n",
       "       [8.77431273e-01],\n",
       "       [1.23630770e-01],\n",
       "       [9.99790609e-01],\n",
       "       [9.99759436e-01],\n",
       "       [9.98866737e-01],\n",
       "       [9.86823261e-01],\n",
       "       [7.38248527e-02],\n",
       "       [9.76163328e-01],\n",
       "       [2.06648588e-01],\n",
       "       [3.42208326e-01],\n",
       "       [7.86681548e-02],\n",
       "       [9.97253060e-01],\n",
       "       [4.19714808e-01],\n",
       "       [2.45965883e-01],\n",
       "       [9.63517845e-01],\n",
       "       [3.64894837e-01],\n",
       "       [5.54071784e-01],\n",
       "       [3.27210873e-02],\n",
       "       [7.54775200e-03],\n",
       "       [1.87674522e-01],\n",
       "       [9.77753282e-01],\n",
       "       [2.98864841e-01],\n",
       "       [7.99898058e-02],\n",
       "       [4.83166903e-01],\n",
       "       [1.76258534e-01],\n",
       "       [2.67369747e-01],\n",
       "       [9.91367221e-01],\n",
       "       [7.50886619e-01],\n",
       "       [4.06907201e-01],\n",
       "       [9.90375638e-01],\n",
       "       [2.44307313e-02],\n",
       "       [9.74014461e-01],\n",
       "       [4.48513739e-02],\n",
       "       [2.74300426e-01],\n",
       "       [9.93613064e-01],\n",
       "       [3.07916045e-01],\n",
       "       [6.73860461e-02],\n",
       "       [9.98622477e-01],\n",
       "       [4.44711149e-01],\n",
       "       [9.84649360e-01],\n",
       "       [2.77429074e-01],\n",
       "       [9.93766606e-01],\n",
       "       [8.47671807e-01],\n",
       "       [8.25266778e-01],\n",
       "       [2.25357041e-02],\n",
       "       [9.98203516e-01],\n",
       "       [1.04621537e-01],\n",
       "       [3.45596492e-01],\n",
       "       [4.77250963e-01],\n",
       "       [7.95791805e-01],\n",
       "       [9.93259966e-01],\n",
       "       [1.81986298e-02],\n",
       "       [7.75576234e-01],\n",
       "       [7.08789170e-01],\n",
       "       [9.65284646e-01],\n",
       "       [9.70055997e-01],\n",
       "       [3.82975847e-01],\n",
       "       [1.39962599e-01],\n",
       "       [9.99804676e-01],\n",
       "       [1.70077700e-02],\n",
       "       [2.78980620e-02],\n",
       "       [9.63934883e-02],\n",
       "       [9.40645099e-01],\n",
       "       [7.23995715e-02],\n",
       "       [2.81888187e-01],\n",
       "       [1.59567855e-02],\n",
       "       [7.94392154e-02],\n",
       "       [5.70346005e-02],\n",
       "       [2.65399814e-01],\n",
       "       [7.45320439e-01],\n",
       "       [6.45716786e-02],\n",
       "       [3.73856783e-01],\n",
       "       [8.62807095e-01],\n",
       "       [9.71066236e-01],\n",
       "       [3.23970586e-01],\n",
       "       [1.16418250e-01],\n",
       "       [9.99873817e-01],\n",
       "       [5.17477214e-01],\n",
       "       [9.19460058e-01],\n",
       "       [6.64057434e-01],\n",
       "       [8.41477334e-01],\n",
       "       [3.68002445e-01],\n",
       "       [9.85821724e-01],\n",
       "       [1.85936838e-02],\n",
       "       [1.72197431e-01],\n",
       "       [7.41943065e-03],\n",
       "       [5.60648832e-03],\n",
       "       [9.41877246e-01],\n",
       "       [8.23859036e-01],\n",
       "       [9.01513994e-01],\n",
       "       [2.02683032e-01],\n",
       "       [6.82290256e-01],\n",
       "       [8.11821148e-02],\n",
       "       [2.38358472e-02],\n",
       "       [1.49680853e-01],\n",
       "       [9.84450102e-01],\n",
       "       [1.66733250e-01],\n",
       "       [5.08346975e-01],\n",
       "       [9.95131671e-01],\n",
       "       [6.53726697e-01],\n",
       "       [5.55887282e-01],\n",
       "       [1.09754093e-01],\n",
       "       [1.84602886e-01],\n",
       "       [8.51727664e-01],\n",
       "       [3.20254326e-01],\n",
       "       [6.55402243e-01],\n",
       "       [2.03219086e-01],\n",
       "       [5.63035131e-01],\n",
       "       [3.52595717e-01],\n",
       "       [1.23209178e-01],\n",
       "       [9.02510211e-02],\n",
       "       [4.22864139e-01],\n",
       "       [2.21997797e-01],\n",
       "       [9.99884307e-01],\n",
       "       [9.89644408e-01],\n",
       "       [9.88743603e-02],\n",
       "       [2.14755237e-02],\n",
       "       [8.76325905e-01],\n",
       "       [1.10267356e-01],\n",
       "       [9.39791501e-02],\n",
       "       [4.01069701e-01],\n",
       "       [5.36801331e-02],\n",
       "       [5.99634409e-01],\n",
       "       [7.93955638e-04],\n",
       "       [4.15473431e-01],\n",
       "       [9.19884324e-01],\n",
       "       [3.36264908e-01],\n",
       "       [9.74901974e-01],\n",
       "       [9.98746216e-01],\n",
       "       [3.15495700e-01],\n",
       "       [1.39806330e-01],\n",
       "       [3.15237135e-01],\n",
       "       [4.27550562e-02],\n",
       "       [5.01747988e-03],\n",
       "       [9.83005226e-01],\n",
       "       [9.62235689e-01],\n",
       "       [6.49896204e-01],\n",
       "       [9.66691911e-01],\n",
       "       [6.69521466e-02],\n",
       "       [1.73495993e-01],\n",
       "       [8.76699854e-03],\n",
       "       [1.56322613e-01],\n",
       "       [2.58284248e-02],\n",
       "       [9.62953448e-01],\n",
       "       [8.83083493e-02],\n",
       "       [8.84937216e-03],\n",
       "       [9.82865512e-01],\n",
       "       [7.55486032e-03],\n",
       "       [9.87245813e-02],\n",
       "       [9.88102257e-01],\n",
       "       [4.02489714e-02],\n",
       "       [1.11883014e-01],\n",
       "       [5.98030537e-03],\n",
       "       [9.71333861e-01],\n",
       "       [6.06785536e-01],\n",
       "       [7.93509007e-01],\n",
       "       [7.17548311e-01],\n",
       "       [4.70502317e-01],\n",
       "       [6.92118779e-02],\n",
       "       [9.27245736e-01],\n",
       "       [5.08462302e-02],\n",
       "       [7.76509702e-01],\n",
       "       [4.24800158e-01],\n",
       "       [3.72759134e-01],\n",
       "       [3.44099462e-01],\n",
       "       [1.66358575e-01],\n",
       "       [7.63188541e-01],\n",
       "       [2.30161935e-01],\n",
       "       [7.20670760e-01],\n",
       "       [1.31342709e-01],\n",
       "       [7.69675016e-01],\n",
       "       [3.16344500e-02],\n",
       "       [7.60503188e-02],\n",
       "       [2.42519811e-01],\n",
       "       [9.85831797e-01],\n",
       "       [2.15536028e-01],\n",
       "       [1.22488402e-01],\n",
       "       [3.02752137e-01],\n",
       "       [3.09580207e-01],\n",
       "       [1.02134675e-01],\n",
       "       [4.19225916e-02],\n",
       "       [3.35423574e-02],\n",
       "       [9.82776642e-01],\n",
       "       [4.44545031e-01],\n",
       "       [2.75034547e-01],\n",
       "       [9.99820828e-01],\n",
       "       [4.60505113e-02],\n",
       "       [6.72771871e-01],\n",
       "       [2.82817394e-01],\n",
       "       [3.86696383e-02],\n",
       "       [2.37404063e-01],\n",
       "       [1.90148979e-01],\n",
       "       [1.63635135e-01],\n",
       "       [9.38403785e-01],\n",
       "       [2.94024318e-01],\n",
       "       [9.88216400e-01],\n",
       "       [1.19489707e-01],\n",
       "       [3.43229957e-02],\n",
       "       [9.96638715e-01],\n",
       "       [1.96193326e-02],\n",
       "       [9.95984733e-01],\n",
       "       [1.38158947e-01],\n",
       "       [4.77037989e-02],\n",
       "       [9.69946027e-01],\n",
       "       [4.98120077e-02],\n",
       "       [3.40363383e-02],\n",
       "       [9.80132163e-01],\n",
       "       [8.05684645e-03],\n",
       "       [2.13174909e-01],\n",
       "       [7.20855355e-01],\n",
       "       [9.18818653e-01],\n",
       "       [5.97019913e-03],\n",
       "       [1.63964942e-01],\n",
       "       [9.83513355e-01],\n",
       "       [9.67258215e-01],\n",
       "       [7.67295599e-01],\n",
       "       [4.75435853e-01],\n",
       "       [5.20619333e-01],\n",
       "       [4.21986103e-01],\n",
       "       [6.98369443e-02],\n",
       "       [9.60797966e-02],\n",
       "       [1.56440258e-01],\n",
       "       [8.03334415e-01],\n",
       "       [3.50624993e-02],\n",
       "       [4.04346824e-01],\n",
       "       [3.90701979e-01],\n",
       "       [1.36255752e-02],\n",
       "       [9.80377018e-01],\n",
       "       [9.98866737e-01],\n",
       "       [9.93338406e-01],\n",
       "       [3.63438316e-02],\n",
       "       [2.81743407e-01],\n",
       "       [1.29341230e-01],\n",
       "       [3.80320787e-01],\n",
       "       [7.72478878e-01],\n",
       "       [2.15077743e-01],\n",
       "       [2.23099813e-02],\n",
       "       [1.05926417e-01],\n",
       "       [4.10520434e-02],\n",
       "       [5.38432121e-01],\n",
       "       [9.27157514e-03],\n",
       "       [1.83477327e-01],\n",
       "       [4.11193334e-02],\n",
       "       [3.40054929e-01],\n",
       "       [3.27220470e-01],\n",
       "       [4.64325130e-01],\n",
       "       [2.72723883e-01],\n",
       "       [5.68334050e-02],\n",
       "       [3.06745201e-01],\n",
       "       [6.87361136e-02],\n",
       "       [9.97234404e-01],\n",
       "       [9.20015216e-01],\n",
       "       [5.44015586e-01],\n",
       "       [7.34958827e-01],\n",
       "       [2.40066182e-02],\n",
       "       [5.34674287e-01],\n",
       "       [9.91667747e-01],\n",
       "       [7.05352545e-01],\n",
       "       [2.58299887e-01],\n",
       "       [9.87451375e-01],\n",
       "       [1.84403867e-01],\n",
       "       [9.45956409e-01],\n",
       "       [2.92016596e-01],\n",
       "       [2.71352213e-02],\n",
       "       [5.01223266e-01],\n",
       "       [4.99172151e-01],\n",
       "       [9.96123731e-01],\n",
       "       [1.47092372e-01],\n",
       "       [5.31395264e-02],\n",
       "       [7.05844834e-02],\n",
       "       [2.15077743e-01],\n",
       "       [9.99242187e-01],\n",
       "       [2.28972919e-02],\n",
       "       [7.51823902e-01],\n",
       "       [9.70932961e-01],\n",
       "       [7.90641010e-02],\n",
       "       [9.99790609e-01],\n",
       "       [3.33632044e-02],\n",
       "       [3.97952348e-01],\n",
       "       [5.70696406e-02],\n",
       "       [7.57864058e-01],\n",
       "       [9.02601421e-01],\n",
       "       [6.74436316e-02],\n",
       "       [1.51669362e-03],\n",
       "       [2.40577623e-01],\n",
       "       [9.89899457e-01],\n",
       "       [9.07714427e-01],\n",
       "       [1.33963719e-01],\n",
       "       [3.96681935e-01],\n",
       "       [6.78437233e-01],\n",
       "       [3.81629430e-02],\n",
       "       [9.90342855e-01],\n",
       "       [4.58600491e-01],\n",
       "       [9.98926520e-01],\n",
       "       [9.20372903e-01],\n",
       "       [9.18588787e-02],\n",
       "       [3.15636188e-01],\n",
       "       [9.99657214e-02],\n",
       "       [9.46102321e-01],\n",
       "       [7.55134344e-01],\n",
       "       [3.54569793e-01],\n",
       "       [4.94404174e-02],\n",
       "       [3.09216708e-01],\n",
       "       [4.14460748e-02],\n",
       "       [8.08821172e-02],\n",
       "       [1.30212471e-01],\n",
       "       [3.54017645e-01],\n",
       "       [5.47807455e-01],\n",
       "       [1.91807553e-01],\n",
       "       [9.99033153e-01],\n",
       "       [9.85573888e-01],\n",
       "       [2.77473658e-01],\n",
       "       [7.35205233e-01],\n",
       "       [1.92933619e-01],\n",
       "       [3.54806781e-02],\n",
       "       [3.98284584e-01],\n",
       "       [6.30541265e-01],\n",
       "       [9.38281491e-02],\n",
       "       [2.54266024e-01],\n",
       "       [2.32424587e-02],\n",
       "       [5.02994180e-01],\n",
       "       [1.89406669e-03],\n",
       "       [9.38477457e-01],\n",
       "       [9.75267649e-01],\n",
       "       [9.95133936e-01],\n",
       "       [9.75460887e-01],\n",
       "       [8.41903210e-01],\n",
       "       [1.28477916e-01],\n",
       "       [6.11044765e-02],\n",
       "       [6.93585932e-01],\n",
       "       [8.99829030e-01],\n",
       "       [9.98476446e-01],\n",
       "       [3.36335646e-03],\n",
       "       [1.35920554e-01],\n",
       "       [1.70959443e-01],\n",
       "       [9.99134302e-01],\n",
       "       [9.99474108e-01],\n",
       "       [3.11768651e-01],\n",
       "       [1.26896635e-01],\n",
       "       [9.97120261e-01],\n",
       "       [6.98818415e-02],\n",
       "       [4.29115623e-01],\n",
       "       [9.85827506e-01],\n",
       "       [1.65440574e-01],\n",
       "       [8.13958645e-02],\n",
       "       [9.44863498e-01],\n",
       "       [3.37758273e-01],\n",
       "       [4.67083097e-01],\n",
       "       [9.73085463e-01],\n",
       "       [1.45360157e-02],\n",
       "       [5.90486303e-02],\n",
       "       [1.09110186e-02],\n",
       "       [2.18509790e-02],\n",
       "       [9.02263597e-02],\n",
       "       [9.70961273e-01],\n",
       "       [2.91839335e-02],\n",
       "       [4.18785423e-01],\n",
       "       [4.96131927e-01],\n",
       "       [9.79368165e-02],\n",
       "       [2.97277063e-01],\n",
       "       [8.99791121e-02],\n",
       "       [3.48323494e-01],\n",
       "       [9.97315764e-01],\n",
       "       [6.38135374e-01],\n",
       "       [1.10494070e-01],\n",
       "       [1.46968901e-01],\n",
       "       [1.27643988e-01],\n",
       "       [8.61893669e-02],\n",
       "       [7.20435977e-01],\n",
       "       [1.80069432e-02],\n",
       "       [9.18272018e-01],\n",
       "       [7.75793910e-01],\n",
       "       [6.03280962e-01],\n",
       "       [6.81797087e-01],\n",
       "       [7.71197677e-01],\n",
       "       [1.07015751e-01],\n",
       "       [3.94656032e-01],\n",
       "       [4.35856044e-01],\n",
       "       [8.84396374e-01],\n",
       "       [2.37233445e-01],\n",
       "       [3.31880748e-01],\n",
       "       [3.96987557e-01],\n",
       "       [1.58631671e-02],\n",
       "       [1.52942508e-01],\n",
       "       [4.43991363e-01],\n",
       "       [7.61763394e-01],\n",
       "       [1.92689449e-01],\n",
       "       [9.88220751e-01],\n",
       "       [9.17459905e-01],\n",
       "       [7.37195492e-01],\n",
       "       [9.85336125e-01],\n",
       "       [1.69000834e-01],\n",
       "       [1.10407963e-01],\n",
       "       [8.99766386e-01],\n",
       "       [1.89971879e-01],\n",
       "       [2.51496099e-02],\n",
       "       [5.26496805e-02],\n",
       "       [9.20377523e-02],\n",
       "       [1.20670046e-03],\n",
       "       [8.50618541e-01],\n",
       "       [8.23455274e-01],\n",
       "       [8.50210786e-01],\n",
       "       [9.43174183e-01],\n",
       "       [7.05249384e-02],\n",
       "       [2.06879020e-01],\n",
       "       [7.40454853e-01],\n",
       "       [1.52118672e-02],\n",
       "       [3.16620827e-01],\n",
       "       [1.71526387e-01],\n",
       "       [6.32080495e-01],\n",
       "       [5.47876000e-01],\n",
       "       [5.64033240e-02],\n",
       "       [6.33040518e-02],\n",
       "       [6.18684292e-01],\n",
       "       [1.40195116e-01],\n",
       "       [1.54092982e-01],\n",
       "       [1.30803242e-01],\n",
       "       [2.19423488e-01],\n",
       "       [9.98994887e-01],\n",
       "       [9.77661610e-01],\n",
       "       [3.30791771e-01],\n",
       "       [8.56322885e-01],\n",
       "       [9.91691887e-01],\n",
       "       [1.07061281e-03],\n",
       "       [9.66387570e-01],\n",
       "       [2.78985769e-01],\n",
       "       [4.53775883e-01],\n",
       "       [3.41092914e-01],\n",
       "       [1.22539721e-01],\n",
       "       [1.36690781e-01],\n",
       "       [3.20844725e-02],\n",
       "       [8.31674635e-02],\n",
       "       [6.62820190e-02],\n",
       "       [6.92089260e-01],\n",
       "       [2.47408286e-01],\n",
       "       [9.95221734e-01],\n",
       "       [7.05435202e-02],\n",
       "       [6.17216468e-01],\n",
       "       [5.76769114e-01],\n",
       "       [1.69809069e-02],\n",
       "       [5.25169149e-02],\n",
       "       [9.68403876e-01],\n",
       "       [7.36526132e-01],\n",
       "       [9.67609107e-01],\n",
       "       [1.49065062e-01],\n",
       "       [7.88360164e-02],\n",
       "       [3.75814170e-01],\n",
       "       [3.31000984e-01],\n",
       "       [3.95266831e-01],\n",
       "       [9.91691887e-01],\n",
       "       [1.49033954e-02],\n",
       "       [4.97500040e-02],\n",
       "       [1.62934914e-01],\n",
       "       [9.97541487e-01],\n",
       "       [1.85618892e-01],\n",
       "       [6.01071604e-02],\n",
       "       [8.05487216e-01],\n",
       "       [6.82043880e-02],\n",
       "       [3.11743766e-02],\n",
       "       [1.73453137e-01],\n",
       "       [2.58517861e-01],\n",
       "       [1.61562696e-01],\n",
       "       [3.44654381e-01],\n",
       "       [3.25037003e-01],\n",
       "       [2.13521555e-01],\n",
       "       [9.72132757e-02],\n",
       "       [4.27045345e-01],\n",
       "       [1.34869209e-02],\n",
       "       [9.39621508e-01],\n",
       "       [8.16708326e-01],\n",
       "       [5.65381527e-01],\n",
       "       [4.07734811e-02],\n",
       "       [2.19929777e-02],\n",
       "       [9.80733752e-01],\n",
       "       [5.47102332e-01],\n",
       "       [9.99555528e-01],\n",
       "       [3.21749866e-01],\n",
       "       [8.97557378e-01],\n",
       "       [1.65779099e-01],\n",
       "       [5.79180658e-01],\n",
       "       [7.75465012e-01],\n",
       "       [2.35588606e-02],\n",
       "       [9.77846026e-01],\n",
       "       [1.50625303e-01],\n",
       "       [5.49160242e-01],\n",
       "       [9.98290956e-01],\n",
       "       [1.62021637e-01],\n",
       "       [3.38125378e-02],\n",
       "       [3.11887950e-01],\n",
       "       [1.55600440e-02],\n",
       "       [5.19562006e-01],\n",
       "       [9.99873817e-01],\n",
       "       [3.49666595e-01],\n",
       "       [9.41670179e-01],\n",
       "       [2.86408305e-01],\n",
       "       [8.06079388e-01],\n",
       "       [2.86762893e-01],\n",
       "       [3.73263478e-01],\n",
       "       [2.21367087e-02],\n",
       "       [5.81447005e-01],\n",
       "       [1.66693442e-02],\n",
       "       [2.63054967e-01],\n",
       "       [9.52776134e-01],\n",
       "       [9.61928785e-01],\n",
       "       [9.95830476e-01],\n",
       "       [7.53516555e-01],\n",
       "       [3.97689976e-02],\n",
       "       [3.66618156e-01],\n",
       "       [2.37245858e-02],\n",
       "       [5.42432368e-01],\n",
       "       [3.53840262e-01],\n",
       "       [9.31780517e-01],\n",
       "       [3.17528211e-02],\n",
       "       [8.02227259e-01],\n",
       "       [8.42422009e-01],\n",
       "       [2.83181816e-01],\n",
       "       [2.71833777e-01],\n",
       "       [3.31880748e-01],\n",
       "       [2.06379935e-01],\n",
       "       [5.34020960e-01],\n",
       "       [6.24880731e-01],\n",
       "       [9.98930037e-01],\n",
       "       [8.22097510e-02],\n",
       "       [8.30734894e-03],\n",
       "       [1.55040286e-02],\n",
       "       [2.99977928e-01],\n",
       "       [2.40911096e-01],\n",
       "       [2.77033802e-02],\n",
       "       [8.54452133e-01],\n",
       "       [1.03075109e-01],\n",
       "       [2.30468050e-01],\n",
       "       [2.12807283e-01],\n",
       "       [2.89747030e-01],\n",
       "       [9.31511998e-01],\n",
       "       [1.66342452e-01],\n",
       "       [4.85373110e-01],\n",
       "       [3.11857849e-01],\n",
       "       [1.20919328e-02],\n",
       "       [1.07573926e-01],\n",
       "       [9.99705672e-01],\n",
       "       [8.32860827e-01],\n",
       "       [3.97125818e-03],\n",
       "       [3.37394089e-01],\n",
       "       [2.11752027e-01],\n",
       "       [6.33540824e-02],\n",
       "       [8.87423277e-01],\n",
       "       [5.02170205e-01],\n",
       "       [6.55628920e-01],\n",
       "       [3.48694235e-01],\n",
       "       [1.98535562e-01],\n",
       "       [6.73165262e-01],\n",
       "       [2.10215241e-01],\n",
       "       [5.18921800e-02],\n",
       "       [8.84791315e-01],\n",
       "       [1.97186485e-01],\n",
       "       [4.27610576e-01],\n",
       "       [9.88302588e-01],\n",
       "       [3.25744539e-01],\n",
       "       [5.04951000e-01],\n",
       "       [1.20670046e-03],\n",
       "       [3.83202612e-01],\n",
       "       [8.31858456e-01],\n",
       "       [9.99790609e-01],\n",
       "       [7.07172990e-01],\n",
       "       [4.75991517e-02],\n",
       "       [9.93776441e-01],\n",
       "       [3.81805301e-01],\n",
       "       [8.73368800e-01],\n",
       "       [3.81805301e-01],\n",
       "       [9.92497206e-01],\n",
       "       [1.02442335e-02],\n",
       "       [4.57590967e-01],\n",
       "       [1.06129952e-01],\n",
       "       [9.67313766e-01],\n",
       "       [2.40244150e-01],\n",
       "       [4.12647337e-01],\n",
       "       [6.45969510e-02],\n",
       "       [3.35203052e-01],\n",
       "       [1.17773719e-01],\n",
       "       [1.71376709e-02],\n",
       "       [2.55374759e-01],\n",
       "       [5.67261875e-02],\n",
       "       [1.53855309e-01],\n",
       "       [7.89093077e-01],\n",
       "       [3.20293345e-02],\n",
       "       [1.72239229e-01],\n",
       "       [3.93065326e-02],\n",
       "       [1.15995742e-02],\n",
       "       [1.11817054e-01],\n",
       "       [6.06784701e-01],\n",
       "       [7.36884475e-02],\n",
       "       [5.78353107e-01],\n",
       "       [1.23897247e-01],\n",
       "       [2.01051906e-01],\n",
       "       [8.99981558e-01],\n",
       "       [1.65041909e-01],\n",
       "       [4.32518013e-02],\n",
       "       [5.92750795e-02],\n",
       "       [4.59422264e-03],\n",
       "       [9.88234699e-01],\n",
       "       [1.15995742e-02],\n",
       "       [3.38818550e-01],\n",
       "       [9.93637025e-01],\n",
       "       [9.94850576e-01],\n",
       "       [9.97794032e-01],\n",
       "       [9.99891579e-01],\n",
       "       [9.99436557e-01],\n",
       "       [2.26142362e-01],\n",
       "       [9.78624299e-02],\n",
       "       [3.21084559e-01],\n",
       "       [5.63746452e-01],\n",
       "       [9.97415483e-01],\n",
       "       [5.10787904e-01],\n",
       "       [2.76056260e-01],\n",
       "       [5.16203165e-01],\n",
       "       [7.22271740e-01],\n",
       "       [2.93767452e-02],\n",
       "       [8.01798142e-03],\n",
       "       [1.13546163e-01],\n",
       "       [3.75936091e-01],\n",
       "       [7.53124710e-03],\n",
       "       [1.00526668e-01],\n",
       "       [3.81041646e-01],\n",
       "       [9.89937484e-01],\n",
       "       [3.09086535e-02],\n",
       "       [8.86380672e-01],\n",
       "       [7.76475966e-01],\n",
       "       [9.39989537e-02],\n",
       "       [3.59050393e-01],\n",
       "       [1.17255591e-01],\n",
       "       [7.65097678e-01],\n",
       "       [4.31264281e-01],\n",
       "       [1.07617043e-02]], dtype=float32)"
      ]
     },
     "execution_count": 65,
     "metadata": {},
     "output_type": "execute_result"
    }
   ],
   "source": [
    "model_1_pred_probs"
   ]
  },
  {
   "cell_type": "code",
   "execution_count": 67,
   "metadata": {},
   "outputs": [
    {
     "data": {
      "text/plain": [
       "array([[0.3226549 ],\n",
       "       [0.73520523],\n",
       "       [0.9977195 ],\n",
       "       [0.19268417],\n",
       "       [0.09543338],\n",
       "       [0.9426223 ],\n",
       "       [0.8888632 ],\n",
       "       [0.99424744],\n",
       "       [0.9620577 ],\n",
       "       [0.38676527]], dtype=float32)"
      ]
     },
     "execution_count": 67,
     "metadata": {},
     "output_type": "execute_result"
    }
   ],
   "source": [
    "model_1_pred_probs[:10] "
   ]
  },
  {
   "cell_type": "code",
   "execution_count": 69,
   "metadata": {},
   "outputs": [],
   "source": [
    "model_1_preds=tf.squeeze(tf.round(model_1_pred_probs))"
   ]
  },
  {
   "cell_type": "code",
   "execution_count": 70,
   "metadata": {},
   "outputs": [
    {
     "data": {
      "text/plain": [
       "<tf.Tensor: shape=(20,), dtype=float32, numpy=\n",
       "array([0., 1., 1., 0., 0., 1., 1., 1., 1., 0., 0., 1., 0., 0., 0., 0., 0.,\n",
       "       0., 0., 1.], dtype=float32)>"
      ]
     },
     "execution_count": 70,
     "metadata": {},
     "output_type": "execute_result"
    }
   ],
   "source": [
    "model_1_preds[:20]"
   ]
  },
  {
   "cell_type": "code",
   "execution_count": 71,
   "metadata": {},
   "outputs": [],
   "source": [
    "model_1_results = calculate_results(val_labels,model_1_preds)"
   ]
  },
  {
   "cell_type": "code",
   "execution_count": 72,
   "metadata": {},
   "outputs": [
    {
     "data": {
      "text/plain": [
       "{'accuracy': 77.69028871391076,\n",
       " 'precision': 0.7795556446582096,\n",
       " 'recall': 0.7769028871391076,\n",
       " 'f1': 0.7744873664507351}"
      ]
     },
     "execution_count": 72,
     "metadata": {},
     "output_type": "execute_result"
    }
   ],
   "source": [
    "model_1_results"
   ]
  },
  {
   "cell_type": "code",
   "execution_count": 73,
   "metadata": {},
   "outputs": [
    {
     "data": {
      "text/plain": [
       "{'accuracy': 79.26509186351706,\n",
       " 'precision': 0.8111390004213173,\n",
       " 'recall': 0.7926509186351706,\n",
       " 'f1': 0.7862189758049549}"
      ]
     },
     "execution_count": 73,
     "metadata": {},
     "output_type": "execute_result"
    }
   ],
   "source": [
    "baseline_results"
   ]
  },
  {
   "cell_type": "code",
   "execution_count": 75,
   "metadata": {},
   "outputs": [
    {
     "data": {
      "text/plain": [
       "array([False, False, False, False])"
      ]
     },
     "execution_count": 75,
     "metadata": {},
     "output_type": "execute_result"
    }
   ],
   "source": [
    "import numpy as np \n",
    "np.array(list(model_1_results.values())) > np.array(list(baseline_results.values()))"
   ]
  },
  {
   "cell_type": "code",
   "execution_count": 76,
   "metadata": {},
   "outputs": [
    {
     "data": {
      "text/plain": [
       "(10000, ['', '[UNK]', 'the', 'a', 'in', 'to', 'of', 'and', 'i', 'is'])"
      ]
     },
     "execution_count": 76,
     "metadata": {},
     "output_type": "execute_result"
    }
   ],
   "source": [
    "words_in_vocab = text_vectorizer.get_vocabulary()\n",
    "len(words_in_vocab),words_in_vocab[:10]"
   ]
  },
  {
   "cell_type": "code",
   "execution_count": 77,
   "metadata": {},
   "outputs": [
    {
     "data": {
      "text/html": [
       "<pre style=\"white-space:pre;overflow-x:auto;line-height:normal;font-family:Menlo,'DejaVu Sans Mono',consolas,'Courier New',monospace\"><span style=\"font-weight: bold\">Model: \"model_1_dense\"</span>\n",
       "</pre>\n"
      ],
      "text/plain": [
       "\u001b[1mModel: \"model_1_dense\"\u001b[0m\n"
      ]
     },
     "metadata": {},
     "output_type": "display_data"
    },
    {
     "data": {
      "text/html": [
       "<pre style=\"white-space:pre;overflow-x:auto;line-height:normal;font-family:Menlo,'DejaVu Sans Mono',consolas,'Courier New',monospace\">┏━━━━━━━━━━━━━━━━━━━━━━━━━━━━━━━━━┳━━━━━━━━━━━━━━━━━━━━━━━━┳━━━━━━━━━━━━━━━┓\n",
       "┃<span style=\"font-weight: bold\"> Layer (type)                    </span>┃<span style=\"font-weight: bold\"> Output Shape           </span>┃<span style=\"font-weight: bold\">       Param # </span>┃\n",
       "┡━━━━━━━━━━━━━━━━━━━━━━━━━━━━━━━━━╇━━━━━━━━━━━━━━━━━━━━━━━━╇━━━━━━━━━━━━━━━┩\n",
       "│ input_layer_1 (<span style=\"color: #0087ff; text-decoration-color: #0087ff\">InputLayer</span>)      │ (<span style=\"color: #00d7ff; text-decoration-color: #00d7ff\">None</span>, <span style=\"color: #00af00; text-decoration-color: #00af00\">1</span>)              │             <span style=\"color: #00af00; text-decoration-color: #00af00\">0</span> │\n",
       "├─────────────────────────────────┼────────────────────────┼───────────────┤\n",
       "│ text_vectorization              │ (<span style=\"color: #00d7ff; text-decoration-color: #00d7ff\">None</span>, <span style=\"color: #00af00; text-decoration-color: #00af00\">15</span>)             │             <span style=\"color: #00af00; text-decoration-color: #00af00\">0</span> │\n",
       "│ (<span style=\"color: #0087ff; text-decoration-color: #0087ff\">TextVectorization</span>)             │                        │               │\n",
       "├─────────────────────────────────┼────────────────────────┼───────────────┤\n",
       "│ embedding_1 (<span style=\"color: #0087ff; text-decoration-color: #0087ff\">Embedding</span>)         │ (<span style=\"color: #00d7ff; text-decoration-color: #00d7ff\">None</span>, <span style=\"color: #00af00; text-decoration-color: #00af00\">15</span>, <span style=\"color: #00af00; text-decoration-color: #00af00\">128</span>)        │     <span style=\"color: #00af00; text-decoration-color: #00af00\">1,280,000</span> │\n",
       "├─────────────────────────────────┼────────────────────────┼───────────────┤\n",
       "│ global_average_pooling1d        │ (<span style=\"color: #00d7ff; text-decoration-color: #00d7ff\">None</span>, <span style=\"color: #00af00; text-decoration-color: #00af00\">128</span>)            │             <span style=\"color: #00af00; text-decoration-color: #00af00\">0</span> │\n",
       "│ (<span style=\"color: #0087ff; text-decoration-color: #0087ff\">GlobalAveragePooling1D</span>)        │                        │               │\n",
       "├─────────────────────────────────┼────────────────────────┼───────────────┤\n",
       "│ dense (<span style=\"color: #0087ff; text-decoration-color: #0087ff\">Dense</span>)                   │ (<span style=\"color: #00d7ff; text-decoration-color: #00d7ff\">None</span>, <span style=\"color: #00af00; text-decoration-color: #00af00\">1</span>)              │           <span style=\"color: #00af00; text-decoration-color: #00af00\">129</span> │\n",
       "└─────────────────────────────────┴────────────────────────┴───────────────┘\n",
       "</pre>\n"
      ],
      "text/plain": [
       "┏━━━━━━━━━━━━━━━━━━━━━━━━━━━━━━━━━┳━━━━━━━━━━━━━━━━━━━━━━━━┳━━━━━━━━━━━━━━━┓\n",
       "┃\u001b[1m \u001b[0m\u001b[1mLayer (type)                   \u001b[0m\u001b[1m \u001b[0m┃\u001b[1m \u001b[0m\u001b[1mOutput Shape          \u001b[0m\u001b[1m \u001b[0m┃\u001b[1m \u001b[0m\u001b[1m      Param #\u001b[0m\u001b[1m \u001b[0m┃\n",
       "┡━━━━━━━━━━━━━━━━━━━━━━━━━━━━━━━━━╇━━━━━━━━━━━━━━━━━━━━━━━━╇━━━━━━━━━━━━━━━┩\n",
       "│ input_layer_1 (\u001b[38;5;33mInputLayer\u001b[0m)      │ (\u001b[38;5;45mNone\u001b[0m, \u001b[38;5;34m1\u001b[0m)              │             \u001b[38;5;34m0\u001b[0m │\n",
       "├─────────────────────────────────┼────────────────────────┼───────────────┤\n",
       "│ text_vectorization              │ (\u001b[38;5;45mNone\u001b[0m, \u001b[38;5;34m15\u001b[0m)             │             \u001b[38;5;34m0\u001b[0m │\n",
       "│ (\u001b[38;5;33mTextVectorization\u001b[0m)             │                        │               │\n",
       "├─────────────────────────────────┼────────────────────────┼───────────────┤\n",
       "│ embedding_1 (\u001b[38;5;33mEmbedding\u001b[0m)         │ (\u001b[38;5;45mNone\u001b[0m, \u001b[38;5;34m15\u001b[0m, \u001b[38;5;34m128\u001b[0m)        │     \u001b[38;5;34m1,280,000\u001b[0m │\n",
       "├─────────────────────────────────┼────────────────────────┼───────────────┤\n",
       "│ global_average_pooling1d        │ (\u001b[38;5;45mNone\u001b[0m, \u001b[38;5;34m128\u001b[0m)            │             \u001b[38;5;34m0\u001b[0m │\n",
       "│ (\u001b[38;5;33mGlobalAveragePooling1D\u001b[0m)        │                        │               │\n",
       "├─────────────────────────────────┼────────────────────────┼───────────────┤\n",
       "│ dense (\u001b[38;5;33mDense\u001b[0m)                   │ (\u001b[38;5;45mNone\u001b[0m, \u001b[38;5;34m1\u001b[0m)              │           \u001b[38;5;34m129\u001b[0m │\n",
       "└─────────────────────────────────┴────────────────────────┴───────────────┘\n"
      ]
     },
     "metadata": {},
     "output_type": "display_data"
    },
    {
     "data": {
      "text/html": [
       "<pre style=\"white-space:pre;overflow-x:auto;line-height:normal;font-family:Menlo,'DejaVu Sans Mono',consolas,'Courier New',monospace\"><span style=\"font-weight: bold\"> Total params: </span><span style=\"color: #00af00; text-decoration-color: #00af00\">3,840,389</span> (14.65 MB)\n",
       "</pre>\n"
      ],
      "text/plain": [
       "\u001b[1m Total params: \u001b[0m\u001b[38;5;34m3,840,389\u001b[0m (14.65 MB)\n"
      ]
     },
     "metadata": {},
     "output_type": "display_data"
    },
    {
     "data": {
      "text/html": [
       "<pre style=\"white-space:pre;overflow-x:auto;line-height:normal;font-family:Menlo,'DejaVu Sans Mono',consolas,'Courier New',monospace\"><span style=\"font-weight: bold\"> Trainable params: </span><span style=\"color: #00af00; text-decoration-color: #00af00\">1,280,129</span> (4.88 MB)\n",
       "</pre>\n"
      ],
      "text/plain": [
       "\u001b[1m Trainable params: \u001b[0m\u001b[38;5;34m1,280,129\u001b[0m (4.88 MB)\n"
      ]
     },
     "metadata": {},
     "output_type": "display_data"
    },
    {
     "data": {
      "text/html": [
       "<pre style=\"white-space:pre;overflow-x:auto;line-height:normal;font-family:Menlo,'DejaVu Sans Mono',consolas,'Courier New',monospace\"><span style=\"font-weight: bold\"> Non-trainable params: </span><span style=\"color: #00af00; text-decoration-color: #00af00\">0</span> (0.00 B)\n",
       "</pre>\n"
      ],
      "text/plain": [
       "\u001b[1m Non-trainable params: \u001b[0m\u001b[38;5;34m0\u001b[0m (0.00 B)\n"
      ]
     },
     "metadata": {},
     "output_type": "display_data"
    },
    {
     "data": {
      "text/html": [
       "<pre style=\"white-space:pre;overflow-x:auto;line-height:normal;font-family:Menlo,'DejaVu Sans Mono',consolas,'Courier New',monospace\"><span style=\"font-weight: bold\"> Optimizer params: </span><span style=\"color: #00af00; text-decoration-color: #00af00\">2,560,260</span> (9.77 MB)\n",
       "</pre>\n"
      ],
      "text/plain": [
       "\u001b[1m Optimizer params: \u001b[0m\u001b[38;5;34m2,560,260\u001b[0m (9.77 MB)\n"
      ]
     },
     "metadata": {},
     "output_type": "display_data"
    }
   ],
   "source": [
    "model_1.summary()"
   ]
  },
  {
   "cell_type": "code",
   "execution_count": 81,
   "metadata": {},
   "outputs": [],
   "source": [
    "embed_weights = model_1.get_layer(\"embedding_1\").get_weights()[0]"
   ]
  },
  {
   "cell_type": "code",
   "execution_count": 82,
   "metadata": {},
   "outputs": [
    {
     "data": {
      "text/plain": [
       "array([[-0.05287797, -0.054336  ,  0.01906222, ...,  0.0278998 ,\n",
       "         0.00638565,  0.00641907],\n",
       "       [-0.02926032,  0.03400706, -0.03001262, ...,  0.05747771,\n",
       "        -0.02869362, -0.00578914],\n",
       "       [-0.00966379, -0.03122672, -0.06225779, ...,  0.00447276,\n",
       "        -0.02495578, -0.01201153],\n",
       "       ...,\n",
       "       [-0.0244567 , -0.00760514,  0.02400932, ...,  0.01903648,\n",
       "         0.01111541,  0.0283663 ],\n",
       "       [-0.02431114, -0.0104709 , -0.0215583 , ...,  0.06559445,\n",
       "         0.00874398,  0.04094843],\n",
       "       [-0.08760236, -0.07568575, -0.05625628, ...,  0.10020986,\n",
       "        -0.0380353 ,  0.05622572]], dtype=float32)"
      ]
     },
     "execution_count": 82,
     "metadata": {},
     "output_type": "execute_result"
    }
   ],
   "source": [
    "embed_weights"
   ]
  },
  {
   "cell_type": "code",
   "execution_count": 83,
   "metadata": {},
   "outputs": [
    {
     "data": {
      "text/plain": [
       "(10000, 128)"
      ]
     },
     "execution_count": 83,
     "metadata": {},
     "output_type": "execute_result"
    }
   ],
   "source": [
    "embed_weights.shape"
   ]
  },
  {
   "cell_type": "code",
   "execution_count": 85,
   "metadata": {},
   "outputs": [],
   "source": [
    "import io\n",
    "out_v = io.open('vectors.tsv', 'w', encoding='utf-8')\n",
    "out_m = io.open('metadata.tsv', 'w', encoding='utf-8')\n",
    "\n",
    "for index, word in enumerate(words_in_vocab):\n",
    "  if index == 0:\n",
    "    continue  # skip 0, it's padding.\n",
    "  vec = embed_weights[index]\n",
    "  out_v.write('\\t'.join([str(x) for x in vec]) + \"\\n\")\n",
    "  out_m.write(word + \"\\n\")\n",
    "out_v.close()\n",
    "out_m.close()"
   ]
  },
  {
   "cell_type": "code",
   "execution_count": null,
   "metadata": {},
   "outputs": [],
   "source": []
  }
 ],
 "metadata": {
  "kernelspec": {
   "display_name": "Python 3 (ipykernel)",
   "language": "python",
   "name": "python3"
  },
  "language_info": {
   "codemirror_mode": {
    "name": "ipython",
    "version": 3
   },
   "file_extension": ".py",
   "mimetype": "text/x-python",
   "name": "python",
   "nbconvert_exporter": "python",
   "pygments_lexer": "ipython3",
   "version": "3.12.3"
  }
 },
 "nbformat": 4,
 "nbformat_minor": 2
}
